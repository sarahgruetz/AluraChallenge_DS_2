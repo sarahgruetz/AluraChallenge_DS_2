{
  "cells": [
    {
      "cell_type": "markdown",
      "metadata": {
        "id": "view-in-github",
        "colab_type": "text"
      },
      "source": [
        "<a href=\"https://colab.research.google.com/github/sarahgruetz/AluraChallenge_DS_2/blob/main/modelo_regressao.ipynb\" target=\"_parent\"><img src=\"https://colab.research.google.com/assets/colab-badge.svg\" alt=\"Open In Colab\"/></a>"
      ]
    },
    {
      "cell_type": "markdown",
      "source": [
        "### Setup do Spark"
      ],
      "metadata": {
        "id": "yIdPyvGRpsqK"
      }
    },
    {
      "cell_type": "code",
      "execution_count": 1,
      "metadata": {
        "id": "rXwu3TSUMiZT"
      },
      "outputs": [],
      "source": [
        "# instalar as dependências\n",
        "!apt-get update -qq \n",
        "!apt-get install openjdk-8-jdk-headless -qq > /dev/null # instalando java \n",
        "!wget -q https://archive.apache.org/dist/spark/spark-3.1.2/spark-3.1.2-bin-hadoop2.7.tgz # baixando spark\n",
        "!tar xf spark-3.1.2-bin-hadoop2.7.tgz # descompactando\n",
        "!pip install -q findspark # instalando"
      ]
    },
    {
      "cell_type": "code",
      "source": [
        "import os\n",
        "os.environ[\"JAVA_HOME\"] = \"/usr/lib/jvm/java-8-openjdk-amd64\"\n",
        "os.environ[\"SPARK_HOME\"] = \"/content/spark-3.1.2-bin-hadoop2.7\""
      ],
      "metadata": {
        "id": "Mse5jsP4paf8"
      },
      "execution_count": 2,
      "outputs": []
    },
    {
      "cell_type": "code",
      "source": [
        "import findspark\n",
        "findspark.init()"
      ],
      "metadata": {
        "id": "GzM-rBbppfMl"
      },
      "execution_count": 3,
      "outputs": []
    },
    {
      "cell_type": "markdown",
      "source": [
        "### Criando a SparkSession"
      ],
      "metadata": {
        "id": "T-5NGMsMph6v"
      }
    },
    {
      "cell_type": "code",
      "execution_count": 5,
      "metadata": {
        "id": "6YDplAklMmec"
      },
      "outputs": [],
      "source": [
        "from pyspark.sql import SparkSession\n",
        "\n",
        "spark = SparkSession.builder \\\n",
        "    .master('local[*]') \\\n",
        "    .appName(\"Modelo de regressão\") \\\n",
        "    .getOrCreate()"
      ]
    },
    {
      "cell_type": "markdown",
      "source": [
        "### Carregando e visualizando o dataset\n",
        "\n",
        "Dataset já com as transformações e filtros realizados na semana 1."
      ],
      "metadata": {
        "id": "GaxzkIiUp1F4"
      }
    },
    {
      "cell_type": "code",
      "execution_count": 6,
      "metadata": {
        "id": "H-7yZCDBNcNK"
      },
      "outputs": [],
      "source": [
        "import zipfile\n",
        "\n",
        "zipfile.ZipFile('/content/drive/MyDrive/curso-spark/ChallengeAlura/semana-2.zip','r')\\\n",
        "        .extractall('/content/drive/MyDrive/curso-spark/ChallengeAlura/dados')"
      ]
    },
    {
      "cell_type": "code",
      "execution_count": 7,
      "metadata": {
        "id": "YkoDFqOgOH5a"
      },
      "outputs": [],
      "source": [
        "dataset = spark.read.parquet('/content/drive/MyDrive/curso-spark/ChallengeAlura/dados/dataset_transformado_parquet')"
      ]
    },
    {
      "cell_type": "code",
      "execution_count": 8,
      "metadata": {
        "colab": {
          "base_uri": "https://localhost:8080/"
        },
        "id": "wNYeSUcSOVL6",
        "outputId": "fad4884a-ff4c-4f98-84a2-539f6a24a200"
      },
      "outputs": [
        {
          "output_type": "stream",
          "name": "stdout",
          "text": [
            "+--------------------+-----+----------+---------+---------+--------------------+-------+------+------------+------------+-----------+----+------------+------------+----------+----+-----+------+\n",
            "|                  id|andar|area_total|area_util|banheiros|     caracteristicas|quartos|suites|tipo_anuncio|tipo_unidade|   tipo_uso|vaga|      bairro|        zona|condominio|iptu| tipo| valor|\n",
            "+--------------------+-----+----------+---------+---------+--------------------+-------+------+------------+------------+-----------+----+------------+------------+----------+----+-----+------+\n",
            "|03a386b6-7ab8-4ef...|    0|        43|       43|        1|[Churrasqueira, A...|      2|  null|       Usado| Apartamento|Residencial|   1|    Realengo|  Zona Oeste|       285|null|Venda| 22999|\n",
            "|1fe78d41-b8e0-4d2...|    0|        44|       44|        1|                  []|      2|     0|       Usado| Apartamento|Residencial|   0|       Irajá|  Zona Norte|       170|   0|Venda|110000|\n",
            "|1fa1c1e5-e98c-433...|    4|      null|       55|        1|                  []|      2|     0|       Usado| Apartamento|Residencial|   1|      Cosmos|  Zona Oeste|      null|null|Venda|115000|\n",
            "|a6ab01ae-3d40-40e...|    2|      null|       55|        1|                  []|      2|     0|       Usado| Apartamento|Residencial|   0|Tomás Coelho|  Zona Norte|      null|null|Venda|115000|\n",
            "|1d8ff7a2-16bd-4e3...|    0|      null|       50|        1|                  []|      1|  null|       Usado| Apartamento|Residencial|   0|      Centro|Zona Central|      1300|2679|Venda|125000|\n",
            "+--------------------+-----+----------+---------+---------+--------------------+-------+------+------------+------------+-----------+----+------------+------------+----------+----+-----+------+\n",
            "only showing top 5 rows\n",
            "\n"
          ]
        }
      ],
      "source": [
        "dataset.show(5)"
      ]
    },
    {
      "cell_type": "code",
      "source": [
        "dataset.count()"
      ],
      "metadata": {
        "colab": {
          "base_uri": "https://localhost:8080/"
        },
        "id": "7mGooZGjp-EX",
        "outputId": "846cd501-823f-4f4d-ad74-464ee79a3aa7"
      },
      "execution_count": 9,
      "outputs": [
        {
          "output_type": "execute_result",
          "data": {
            "text/plain": [
              "66562"
            ]
          },
          "metadata": {},
          "execution_count": 9
        }
      ]
    },
    {
      "cell_type": "markdown",
      "metadata": {
        "id": "nxD55-VbOlrO"
      },
      "source": [
        "### Seleção de Features\n",
        "\n",
        "Selecionando as variáveis que serão utilizadas no modelo. Importante para redução da complexidade."
      ]
    },
    {
      "cell_type": "markdown",
      "source": [
        "As colunas `tipo_anuncio`, `tipo_unidade`, `tipo_uso` e `tipo` foram filtradas na semana 1 e devem conter apenas um valor. Confirmando isso:"
      ],
      "metadata": {
        "id": "5yX3fQmrqtdv"
      }
    },
    {
      "cell_type": "code",
      "execution_count": 10,
      "metadata": {
        "colab": {
          "base_uri": "https://localhost:8080/"
        },
        "id": "aCCRdbSAOYvI",
        "outputId": "f630867f-b85e-46e0-ef25-68503d4e2199"
      },
      "outputs": [
        {
          "output_type": "stream",
          "name": "stdout",
          "text": [
            "+------------+-----+\n",
            "|tipo_anuncio|count|\n",
            "+------------+-----+\n",
            "|       Usado|66562|\n",
            "+------------+-----+\n",
            "\n",
            "+------------+-----+\n",
            "|tipo_unidade|count|\n",
            "+------------+-----+\n",
            "| Apartamento|66562|\n",
            "+------------+-----+\n",
            "\n",
            "+-----------+-----+\n",
            "|   tipo_uso|count|\n",
            "+-----------+-----+\n",
            "|Residencial|66562|\n",
            "+-----------+-----+\n",
            "\n",
            "+-----+-----+\n",
            "| tipo|count|\n",
            "+-----+-----+\n",
            "|Venda|66562|\n",
            "+-----+-----+\n",
            "\n"
          ]
        }
      ],
      "source": [
        "valor_unico = ['tipo_anuncio','tipo_unidade','tipo_uso','tipo']\n",
        "for c in valor_unico:\n",
        "  dataset\\\n",
        "    .select(c)\\\n",
        "    .groupBy(c)\\\n",
        "    .count()\\\n",
        "    .show()"
      ]
    },
    {
      "cell_type": "markdown",
      "source": [
        "As variáveis `area_total` e `area_util` parecem ter muitos valores iguais."
      ],
      "metadata": {
        "id": "-m_39y1tq8Tn"
      }
    },
    {
      "cell_type": "code",
      "execution_count": 11,
      "metadata": {
        "id": "eMgco2zDkMIW"
      },
      "outputs": [],
      "source": [
        "from pyspark.sql import functions as f"
      ]
    },
    {
      "cell_type": "markdown",
      "source": [
        "Analisando quantos registros dos 66562 são iguais nas duas colunas."
      ],
      "metadata": {
        "id": "RoN-7STsrXdC"
      }
    },
    {
      "cell_type": "code",
      "execution_count": 12,
      "metadata": {
        "colab": {
          "base_uri": "https://localhost:8080/"
        },
        "id": "g6q8kYD-kXfC",
        "outputId": "bfd03230-65df-41e5-8edf-fa2ddae5f221"
      },
      "outputs": [
        {
          "output_type": "stream",
          "name": "stdout",
          "text": [
            "+-----------+\n",
            "|mesmo_valor|\n",
            "+-----------+\n",
            "|      55384|\n",
            "+-----------+\n",
            "\n"
          ]
        }
      ],
      "source": [
        "dataset\\\n",
        "  .select(f.count(f.when(dataset.area_total == dataset.area_util, True)).alias('mesmo_valor') )\\\n",
        "  .show()"
      ]
    },
    {
      "cell_type": "code",
      "source": [
        "print(f'Cerca de {round((55384/66562)*100,2)} % dos dados são iguais nas duas colunas.')"
      ],
      "metadata": {
        "colab": {
          "base_uri": "https://localhost:8080/"
        },
        "id": "myf4FBfCzZGM",
        "outputId": "a449ece1-9b0e-49d6-91f7-a7b43df14e7a"
      },
      "execution_count": 13,
      "outputs": [
        {
          "output_type": "stream",
          "name": "stdout",
          "text": [
            "Cerca de 83.21 % dos dados são iguais nas duas colunas.\n"
          ]
        }
      ]
    },
    {
      "cell_type": "markdown",
      "source": [
        "55384 dos 66562 registros são iguais nas duas colunas (mais de 83%).\n",
        "\n",
        "Verificando quantos dados faltantes cada coluna possui."
      ],
      "metadata": {
        "id": "SOHDv1_qy4Xq"
      }
    },
    {
      "cell_type": "code",
      "execution_count": 14,
      "metadata": {
        "colab": {
          "base_uri": "https://localhost:8080/"
        },
        "id": "BJt7uaYXj6Cg",
        "outputId": "e6163652-539f-49bb-af4d-604fc63d2018"
      },
      "outputs": [
        {
          "output_type": "stream",
          "name": "stdout",
          "text": [
            "+----------+\n",
            "|area_total|\n",
            "+----------+\n",
            "|      9194|\n",
            "+----------+\n",
            "\n"
          ]
        }
      ],
      "source": [
        "dataset\\\n",
        "  .select(f.count(f.when(f.isnan('area_total') | f.isnull('area_total'), True)).alias('area_total') )\\\n",
        "  .show()"
      ]
    },
    {
      "cell_type": "code",
      "execution_count": 15,
      "metadata": {
        "colab": {
          "base_uri": "https://localhost:8080/"
        },
        "id": "3Qd7xvNYjly0",
        "outputId": "6d79591d-aa82-4ee7-b8a1-738f4318ddaa"
      },
      "outputs": [
        {
          "output_type": "stream",
          "name": "stdout",
          "text": [
            "+---------+\n",
            "|area_util|\n",
            "+---------+\n",
            "|        0|\n",
            "+---------+\n",
            "\n"
          ]
        }
      ],
      "source": [
        "dataset\\\n",
        "  .select(f.count(f.when(f.isnan('area_util') | f.isnull('area_util'), True)).alias('area_util') )\\\n",
        "  .show()"
      ]
    },
    {
      "cell_type": "markdown",
      "source": [
        "A coluna `area_total` tem mais de 9 mil dados faltantes, enquanto a coluna `area_util` não tem nenhum."
      ],
      "metadata": {
        "id": "W46Fo7z0ztXl"
      }
    },
    {
      "cell_type": "code",
      "source": [
        "print(f'Apenas {66562 - 55384 - 9194} registros ({round(((66562 - 55384 - 9194)/66562)*100,2)} %) são diferentes entre as duas colunas.') # total registros - registros iguais - registros nulos"
      ],
      "metadata": {
        "colab": {
          "base_uri": "https://localhost:8080/"
        },
        "id": "7Z1MG0edz-fG",
        "outputId": "e725133a-265e-454a-d99f-1805bc986010"
      },
      "execution_count": 16,
      "outputs": [
        {
          "output_type": "stream",
          "name": "stdout",
          "text": [
            "Apenas 1984 registros (2.98 %) são diferentes entre as duas colunas.\n"
          ]
        }
      ]
    },
    {
      "cell_type": "markdown",
      "source": [
        "Analisando a quantidade de valores distintos na coluna `bairro` e a quantidade de registros para cada um dos valores"
      ],
      "metadata": {
        "id": "2q2YXjbK0uR-"
      }
    },
    {
      "cell_type": "code",
      "execution_count": 17,
      "metadata": {
        "colab": {
          "base_uri": "https://localhost:8080/"
        },
        "id": "dSv1lZ-Sm1WT",
        "outputId": "e2aeadeb-af56-4ad9-dc96-9b54b223677a"
      },
      "outputs": [
        {
          "output_type": "execute_result",
          "data": {
            "text/plain": [
              "154"
            ]
          },
          "metadata": {},
          "execution_count": 17
        }
      ],
      "source": [
        "dataset\\\n",
        "    .select('bairro')\\\n",
        "    .distinct()\\\n",
        "    .count()"
      ]
    },
    {
      "cell_type": "markdown",
      "source": [
        "Top 5 bairros com mais registros"
      ],
      "metadata": {
        "id": "VFBQkkBNrLTt"
      }
    },
    {
      "cell_type": "code",
      "execution_count": 18,
      "metadata": {
        "colab": {
          "base_uri": "https://localhost:8080/"
        },
        "id": "YDM0pi3Mjlw3",
        "outputId": "b9b5d6f8-de05-4409-f1ca-2fe485929572"
      },
      "outputs": [
        {
          "output_type": "stream",
          "name": "stdout",
          "text": [
            "+--------------------+-----+\n",
            "|              bairro|count|\n",
            "+--------------------+-----+\n",
            "|     Barra da Tijuca|12788|\n",
            "|Recreio dos Bande...| 7793|\n",
            "|          Copacabana| 6784|\n",
            "|         Jacarepaguá| 4437|\n",
            "|              Tijuca| 3638|\n",
            "+--------------------+-----+\n",
            "only showing top 5 rows\n",
            "\n"
          ]
        }
      ],
      "source": [
        "dataset\\\n",
        "  .select('bairro')\\\n",
        "  .groupBy('bairro')\\\n",
        "  .count()\\\n",
        "  .orderBy('count', ascending=False)\\\n",
        "  .show(5)"
      ]
    },
    {
      "cell_type": "markdown",
      "source": [
        "Top 5 bairros com menos registros"
      ],
      "metadata": {
        "id": "d-braq7qrQ3M"
      }
    },
    {
      "cell_type": "code",
      "source": [
        "dataset\\\n",
        "  .select('bairro')\\\n",
        "  .groupBy('bairro')\\\n",
        "  .count()\\\n",
        "  .orderBy('count')\\\n",
        "  .show(10)"
      ],
      "metadata": {
        "colab": {
          "base_uri": "https://localhost:8080/"
        },
        "id": "613oNDKY1hvC",
        "outputId": "c54ddd82-d74e-4ae9-8364-78b0a207a294"
      },
      "execution_count": 19,
      "outputs": [
        {
          "output_type": "stream",
          "name": "stdout",
          "text": [
            "+----------------+-----+\n",
            "|          bairro|count|\n",
            "+----------------+-----+\n",
            "|            Caju|    1|\n",
            "|   Vasco da Gama|    1|\n",
            "|         Deodoro|    1|\n",
            "|    Barros Filho|    1|\n",
            "|Engenho do Porto|    1|\n",
            "|      Grande Rio|    1|\n",
            "|Parque da Matriz|    1|\n",
            "|      Manguinhos|    1|\n",
            "|          Galeão|    1|\n",
            "| Parque Anchieta|    2|\n",
            "+----------------+-----+\n",
            "only showing top 10 rows\n",
            "\n"
          ]
        }
      ]
    },
    {
      "cell_type": "markdown",
      "metadata": {
        "id": "z7ZjrimMgBs0"
      },
      "source": [
        "#### Conclusões\n",
        "\n",
        "Colunas que serão removidas:\n",
        "\n",
        "`tipo_anuncio`, `tipo_unidade`, `tipo_uso`, `tipo` -> colunas que foram filtradas anteriormente e possuem apenas um registro distinto cada.\n",
        "\n",
        "`area_total` -> as colunas `area_total` e `area_util` quase sempre tem o mesmo valor, porém a coluna `area_total` tem diversos valores faltantes e a coluna `area_util` não tem nenhum.\n",
        "\n",
        "`bairro`-> a coluna possui uma quantidade muito grande de valores distintos, muitos deles com poucos registros."
      ]
    },
    {
      "cell_type": "code",
      "execution_count": 20,
      "metadata": {
        "id": "zujNZ4rHPICr"
      },
      "outputs": [],
      "source": [
        "dataset = dataset.drop('tipo_anuncio','tipo_unidade','tipo_uso','tipo','area_total', 'bairro')"
      ]
    },
    {
      "cell_type": "markdown",
      "metadata": {
        "id": "IdrT0DIZh4vB"
      },
      "source": [
        "## Convertendo tipo das colunas"
      ]
    },
    {
      "cell_type": "code",
      "execution_count": 21,
      "metadata": {
        "colab": {
          "base_uri": "https://localhost:8080/"
        },
        "id": "g3_w8pTnfMVZ",
        "outputId": "2c041214-00ba-44ef-ba27-6071de6722b9"
      },
      "outputs": [
        {
          "output_type": "stream",
          "name": "stdout",
          "text": [
            "root\n",
            " |-- id: string (nullable = true)\n",
            " |-- andar: long (nullable = true)\n",
            " |-- area_util: string (nullable = true)\n",
            " |-- banheiros: long (nullable = true)\n",
            " |-- caracteristicas: array (nullable = true)\n",
            " |    |-- element: string (containsNull = true)\n",
            " |-- quartos: long (nullable = true)\n",
            " |-- suites: long (nullable = true)\n",
            " |-- vaga: long (nullable = true)\n",
            " |-- zona: string (nullable = true)\n",
            " |-- condominio: string (nullable = true)\n",
            " |-- iptu: string (nullable = true)\n",
            " |-- valor: string (nullable = true)\n",
            "\n"
          ]
        }
      ],
      "source": [
        "dataset.printSchema()"
      ]
    },
    {
      "cell_type": "markdown",
      "source": [
        "As colunas `andar`,`banheiros`,`quartos`, `suites` e `vaga` são do tipo `Long` e podem ser convertidadas para tipo `Integer`.\n",
        "\n",
        "Já as colunas `area_util`,`condominio`,`iptu` e `valor` são do tipo `String` e devem ser convertidadas para tipo `Double`."
      ],
      "metadata": {
        "id": "_RiHa4r63Rrt"
      }
    },
    {
      "cell_type": "code",
      "execution_count": 22,
      "metadata": {
        "id": "H3zlThpqh9np"
      },
      "outputs": [],
      "source": [
        "from pyspark.sql.types import IntegerType,DoubleType"
      ]
    },
    {
      "cell_type": "code",
      "source": [
        "long2int = ['andar','banheiros','quartos','suites','vaga']\n",
        "string2double = ['area_util','condominio','iptu','valor']"
      ],
      "metadata": {
        "id": "K4usEwe2golB"
      },
      "execution_count": 23,
      "outputs": []
    },
    {
      "cell_type": "code",
      "execution_count": 24,
      "metadata": {
        "id": "cNx0y6ZGiH4C"
      },
      "outputs": [],
      "source": [
        "for c in long2int:\n",
        "    dataset = dataset.withColumn(c, dataset[c].cast(IntegerType()))\n",
        "\n",
        "for c in string2double:\n",
        "    dataset = dataset.withColumn(c, dataset[c].cast(DoubleType()))"
      ]
    },
    {
      "cell_type": "code",
      "execution_count": 25,
      "metadata": {
        "colab": {
          "base_uri": "https://localhost:8080/"
        },
        "id": "38E3RyPvivrC",
        "outputId": "ff458da7-777b-4f06-f002-4b5fbaeeb6f0"
      },
      "outputs": [
        {
          "output_type": "stream",
          "name": "stdout",
          "text": [
            "root\n",
            " |-- id: string (nullable = true)\n",
            " |-- andar: integer (nullable = true)\n",
            " |-- area_util: double (nullable = true)\n",
            " |-- banheiros: integer (nullable = true)\n",
            " |-- caracteristicas: array (nullable = true)\n",
            " |    |-- element: string (containsNull = true)\n",
            " |-- quartos: integer (nullable = true)\n",
            " |-- suites: integer (nullable = true)\n",
            " |-- vaga: integer (nullable = true)\n",
            " |-- zona: string (nullable = true)\n",
            " |-- condominio: double (nullable = true)\n",
            " |-- iptu: double (nullable = true)\n",
            " |-- valor: double (nullable = true)\n",
            "\n"
          ]
        }
      ],
      "source": [
        "dataset.printSchema()"
      ]
    },
    {
      "cell_type": "markdown",
      "metadata": {
        "id": "bUZ28_PCjXru"
      },
      "source": [
        "### Arrumando a coluna `caracteristicas`\n",
        "\n",
        "Essa coluna é composta por `arrays` de `Strings` que da forma como estão apresentadas não vão poder ser utilizadas no modelo.\n",
        "\n",
        "Primeiro passo: substituir os `arrays` sem elementos por valores nulos. "
      ]
    },
    {
      "cell_type": "code",
      "execution_count": 26,
      "metadata": {
        "id": "fvqBIGGWixSp"
      },
      "outputs": [],
      "source": [
        "from pyspark.sql import functions as f"
      ]
    },
    {
      "cell_type": "code",
      "execution_count": 27,
      "metadata": {
        "id": "uazo7-eFuG5J"
      },
      "outputs": [],
      "source": [
        "dataset = dataset.withColumn('caracteristicas',\n",
        "                   f.when((f.size(f.col('caracteristicas')) == 0), f.lit(None)).otherwise(f.col(\"caracteristicas\")))"
      ]
    },
    {
      "cell_type": "code",
      "execution_count": 28,
      "metadata": {
        "colab": {
          "base_uri": "https://localhost:8080/"
        },
        "id": "0FAQFPGwuDAJ",
        "outputId": "15b31704-0b76-401c-dd76-1df7956ad03a"
      },
      "outputs": [
        {
          "output_type": "stream",
          "name": "stdout",
          "text": [
            "+--------------------+\n",
            "|     caracteristicas|\n",
            "+--------------------+\n",
            "|[Churrasqueira, A...|\n",
            "|                null|\n",
            "|                null|\n",
            "|                null|\n",
            "|                null|\n",
            "+--------------------+\n",
            "only showing top 5 rows\n",
            "\n"
          ]
        }
      ],
      "source": [
        "dataset.select('caracteristicas').show(5)"
      ]
    },
    {
      "cell_type": "markdown",
      "source": [
        "Analisando quantos valores distintos existem dentro dos `arrays` dessa coluna."
      ],
      "metadata": {
        "id": "HSgB0ACy6PN0"
      }
    },
    {
      "cell_type": "code",
      "execution_count": 29,
      "metadata": {
        "colab": {
          "base_uri": "https://localhost:8080/"
        },
        "id": "IWXsTyWujC62",
        "outputId": "fe76104f-1ad0-40c6-91f7-8a836a195481"
      },
      "outputs": [
        {
          "output_type": "stream",
          "name": "stdout",
          "text": [
            "+------------------+\n",
            "|   caracteristicas|\n",
            "+------------------+\n",
            "|Condomínio fechado|\n",
            "|        Playground|\n",
            "| Portão eletrônico|\n",
            "|           Piscina|\n",
            "|Animais permitidos|\n",
            "|      Portaria 24h|\n",
            "|          Elevador|\n",
            "|          Academia|\n",
            "|   Salão de festas|\n",
            "|     Churrasqueira|\n",
            "+------------------+\n",
            "\n"
          ]
        }
      ],
      "source": [
        "caracteristicas = dataset.select(f.explode('caracteristicas').alias('caracteristicas')).distinct()\n",
        "caracteristicas.show()"
      ]
    },
    {
      "cell_type": "markdown",
      "source": [
        "Iterando por cada uma dessas caracteristicas para criar uma nova coluna para cada com valores `booleanos`. "
      ],
      "metadata": {
        "id": "XRwW5YXr6agO"
      }
    },
    {
      "cell_type": "code",
      "execution_count": 30,
      "metadata": {
        "colab": {
          "base_uri": "https://localhost:8080/"
        },
        "id": "AEE8S5EJnYhk",
        "outputId": "b268300b-167d-417b-c8ee-c142d52d162b"
      },
      "outputs": [
        {
          "output_type": "execute_result",
          "data": {
            "text/plain": [
              "['Condomínio fechado',\n",
              " 'Playground',\n",
              " 'Portão eletrônico',\n",
              " 'Piscina',\n",
              " 'Animais permitidos',\n",
              " 'Portaria 24h',\n",
              " 'Elevador',\n",
              " 'Academia',\n",
              " 'Salão de festas',\n",
              " 'Churrasqueira']"
            ]
          },
          "metadata": {},
          "execution_count": 30
        }
      ],
      "source": [
        "lista_caracteristicas = list(caracteristicas.toPandas()['caracteristicas'])\n",
        "lista_caracteristicas"
      ]
    },
    {
      "cell_type": "code",
      "execution_count": 31,
      "metadata": {
        "id": "uoFrPwlFj3-J"
      },
      "outputs": [],
      "source": [
        "for caract in lista_caracteristicas:\n",
        "  dataset = dataset.withColumn(caract, f.when(f.array_contains(dataset['caracteristicas'],caract),f.lit(1)).otherwise(f.lit(0)))"
      ]
    },
    {
      "cell_type": "code",
      "execution_count": 32,
      "metadata": {
        "colab": {
          "base_uri": "https://localhost:8080/"
        },
        "id": "ZNbqeHkPltla",
        "outputId": "01ee077f-840f-47b9-850f-678ac382cf48"
      },
      "outputs": [
        {
          "output_type": "stream",
          "name": "stdout",
          "text": [
            "+------------------+----------+-----------------+-------+------------------+------------+--------+--------+---------------+-------------+\n",
            "|Condomínio fechado|Playground|Portão eletrônico|Piscina|Animais permitidos|Portaria 24h|Elevador|Academia|Salão de festas|Churrasqueira|\n",
            "+------------------+----------+-----------------+-------+------------------+------------+--------+--------+---------------+-------------+\n",
            "|                 1|         1|                1|      0|                 1|           1|       0|       1|              1|            1|\n",
            "|                 0|         0|                0|      0|                 0|           0|       0|       0|              0|            0|\n",
            "|                 0|         0|                0|      0|                 0|           0|       0|       0|              0|            0|\n",
            "|                 0|         0|                0|      0|                 0|           0|       0|       0|              0|            0|\n",
            "|                 0|         0|                0|      0|                 0|           0|       0|       0|              0|            0|\n",
            "+------------------+----------+-----------------+-------+------------------+------------+--------+--------+---------------+-------------+\n",
            "only showing top 5 rows\n",
            "\n"
          ]
        }
      ],
      "source": [
        "dataset.select(lista_caracteristicas).show(5)"
      ]
    },
    {
      "cell_type": "code",
      "execution_count": 33,
      "metadata": {
        "id": "LAXgH0hrocIw"
      },
      "outputs": [],
      "source": [
        "dataset = dataset.drop('caracteristicas')"
      ]
    },
    {
      "cell_type": "code",
      "source": [
        "dataset.printSchema()"
      ],
      "metadata": {
        "colab": {
          "base_uri": "https://localhost:8080/"
        },
        "id": "_AAK4DuwsgV9",
        "outputId": "443d7aaa-c726-4a38-ad23-c09df8fa80fe"
      },
      "execution_count": 34,
      "outputs": [
        {
          "output_type": "stream",
          "name": "stdout",
          "text": [
            "root\n",
            " |-- id: string (nullable = true)\n",
            " |-- andar: integer (nullable = true)\n",
            " |-- area_util: double (nullable = true)\n",
            " |-- banheiros: integer (nullable = true)\n",
            " |-- quartos: integer (nullable = true)\n",
            " |-- suites: integer (nullable = true)\n",
            " |-- vaga: integer (nullable = true)\n",
            " |-- zona: string (nullable = true)\n",
            " |-- condominio: double (nullable = true)\n",
            " |-- iptu: double (nullable = true)\n",
            " |-- valor: double (nullable = true)\n",
            " |-- Condomínio fechado: integer (nullable = false)\n",
            " |-- Playground: integer (nullable = false)\n",
            " |-- Portão eletrônico: integer (nullable = false)\n",
            " |-- Piscina: integer (nullable = false)\n",
            " |-- Animais permitidos: integer (nullable = false)\n",
            " |-- Portaria 24h: integer (nullable = false)\n",
            " |-- Elevador: integer (nullable = false)\n",
            " |-- Academia: integer (nullable = false)\n",
            " |-- Salão de festas: integer (nullable = false)\n",
            " |-- Churrasqueira: integer (nullable = false)\n",
            "\n"
          ]
        }
      ]
    },
    {
      "cell_type": "markdown",
      "metadata": {
        "id": "-hJYK1tln2i6"
      },
      "source": [
        "## Lidando com os valores faltantes"
      ]
    },
    {
      "cell_type": "code",
      "execution_count": 35,
      "metadata": {
        "colab": {
          "base_uri": "https://localhost:8080/"
        },
        "id": "QRIgqpFpnoYq",
        "outputId": "bac06b46-5849-432b-da6e-a89794021e3e"
      },
      "outputs": [
        {
          "output_type": "stream",
          "name": "stdout",
          "text": [
            "-RECORD 0------------------\n",
            " id                 | 0    \n",
            " andar              | 0    \n",
            " area_util          | 0    \n",
            " banheiros          | 0    \n",
            " quartos            | 0    \n",
            " suites             | 5554 \n",
            " vaga               | 3017 \n",
            " zona               | 0    \n",
            " condominio         | 2371 \n",
            " iptu               | 7199 \n",
            " valor              | 0    \n",
            " Condomínio fechado | 0    \n",
            " Playground         | 0    \n",
            " Portão eletrônico  | 0    \n",
            " Piscina            | 0    \n",
            " Animais permitidos | 0    \n",
            " Portaria 24h       | 0    \n",
            " Elevador           | 0    \n",
            " Academia           | 0    \n",
            " Salão de festas    | 0    \n",
            " Churrasqueira      | 0    \n",
            "\n"
          ]
        }
      ],
      "source": [
        "dataset\\\n",
        "  .select([f.count(f.when(f.isnan(c) | f.isnull(c), True)).alias(c) for c in dataset.columns])\\\n",
        "  .show(vertical=True)"
      ]
    },
    {
      "cell_type": "markdown",
      "source": [
        "As colunas `suites`,`vaga`,`condominio` e `iptu` possuem valores faltantes. Os modelos não conseguem lidar com esse tipo de dado e eles precisam ser substituidos ou removidos.\n",
        "\n",
        "Para essas quatro colunas faz sentido substituir os valores faltantes por zero.\n",
        "\n",
        "Preenchendo com zero:"
      ],
      "metadata": {
        "id": "xc_TRYgz7HyV"
      }
    },
    {
      "cell_type": "code",
      "execution_count": 36,
      "metadata": {
        "id": "-vM4_OyDpAGO"
      },
      "outputs": [],
      "source": [
        "dataset = dataset\\\n",
        "    .select('*')\\\n",
        "    .na\\\n",
        "    .fill(0)"
      ]
    },
    {
      "cell_type": "markdown",
      "metadata": {
        "id": "yIm0bNmOr9Ix"
      },
      "source": [
        "### Arrumando a coluna `zona`\n",
        "\n"
      ]
    },
    {
      "cell_type": "code",
      "execution_count": 37,
      "metadata": {
        "colab": {
          "base_uri": "https://localhost:8080/"
        },
        "id": "qNiDaAFurtGI",
        "outputId": "4371e8d5-2865-47a7-dffd-46c12d6b7c9f"
      },
      "outputs": [
        {
          "output_type": "stream",
          "name": "stdout",
          "text": [
            "+------------+-----+\n",
            "|        zona|count|\n",
            "+------------+-----+\n",
            "|  Zona Norte|11897|\n",
            "|  Zona Oeste|32979|\n",
            "|Zona Central| 1144|\n",
            "|    Zona Sul|20531|\n",
            "|            |   11|\n",
            "+------------+-----+\n",
            "\n"
          ]
        }
      ],
      "source": [
        "dataset\\\n",
        "  .select('zona')\\\n",
        "  .groupBy('zona')\\\n",
        "  .count()\\\n",
        "  .show()"
      ]
    },
    {
      "cell_type": "markdown",
      "source": [
        "A coluna `zona` possui valores vazios. Vamos remover eles."
      ],
      "metadata": {
        "id": "S1r1VjMr8EFM"
      }
    },
    {
      "cell_type": "code",
      "execution_count": 38,
      "metadata": {
        "id": "WVzzjAG2sG64"
      },
      "outputs": [],
      "source": [
        "dataset = dataset\\\n",
        "              .where(f.col('zona')!='')"
      ]
    },
    {
      "cell_type": "code",
      "execution_count": 39,
      "metadata": {
        "colab": {
          "base_uri": "https://localhost:8080/"
        },
        "id": "IHLfxckSseGY",
        "outputId": "2393678a-a191-48a1-b718-be759020539b"
      },
      "outputs": [
        {
          "output_type": "stream",
          "name": "stdout",
          "text": [
            "+------------+-----+\n",
            "|        zona|count|\n",
            "+------------+-----+\n",
            "|  Zona Norte|11897|\n",
            "|  Zona Oeste|32979|\n",
            "|Zona Central| 1144|\n",
            "|    Zona Sul|20531|\n",
            "+------------+-----+\n",
            "\n"
          ]
        }
      ],
      "source": [
        "dataset\\\n",
        "  .select('zona')\\\n",
        "  .groupBy('zona')\\\n",
        "  .count()\\\n",
        "  .show()"
      ]
    },
    {
      "cell_type": "markdown",
      "source": [
        "A coluna `zona` é uma variável categorica do tipo `String`.\n",
        "\n",
        "Vamos criar variáveis dummy para cada uma das categorias."
      ],
      "metadata": {
        "id": "GrpDyAnr8Bhm"
      }
    },
    {
      "cell_type": "code",
      "execution_count": 40,
      "metadata": {
        "colab": {
          "base_uri": "https://localhost:8080/"
        },
        "id": "j8rMVnmQsf5h",
        "outputId": "eb05a3d8-4af9-40e8-b437-c190ddc0d71c"
      },
      "outputs": [
        {
          "output_type": "stream",
          "name": "stdout",
          "text": [
            "+--------------------+------------+----------+----------+--------+\n",
            "|                  id|Zona Central|Zona Norte|Zona Oeste|Zona Sul|\n",
            "+--------------------+------------+----------+----------+--------+\n",
            "|4e47e4d4-3326-4eb...|           0|         0|         0|       1|\n",
            "|02fba6ef-a691-442...|           0|         0|         1|       0|\n",
            "|fc03c1a9-8bbb-41a...|           0|         1|         0|       0|\n",
            "|3dd5d200-0a7f-43d...|           0|         0|         0|       1|\n",
            "|82707939-71bd-40c...|           0|         0|         0|       1|\n",
            "|ece1e671-cb4d-48a...|           1|         0|         0|       0|\n",
            "|3521e03b-0815-4aa...|           0|         0|         0|       1|\n",
            "|03a386b6-7ab8-4ef...|           0|         0|         1|       0|\n",
            "|107507e0-f075-47e...|           0|         0|         1|       0|\n",
            "|e5e00255-6408-4e6...|           0|         0|         1|       0|\n",
            "|c7e56e3a-a2b2-48a...|           0|         0|         1|       0|\n",
            "|b37a2a08-d3c6-489...|           0|         1|         0|       0|\n",
            "|a4b88c04-2655-414...|           0|         0|         1|       0|\n",
            "|3e9a8997-8071-4a4...|           0|         0|         1|       0|\n",
            "|efef38d2-12cf-428...|           0|         0|         1|       0|\n",
            "|9ab97f8d-0d2a-4a9...|           0|         0|         0|       1|\n",
            "|6179c8a4-1fd2-4f5...|           0|         0|         1|       0|\n",
            "|4c49bd8a-815f-496...|           0|         0|         0|       1|\n",
            "|af143cf5-1902-4fb...|           0|         0|         1|       0|\n",
            "|e4031c0d-5b72-493...|           0|         0|         1|       0|\n",
            "+--------------------+------------+----------+----------+--------+\n",
            "only showing top 20 rows\n",
            "\n"
          ]
        }
      ],
      "source": [
        "zona = dataset\\\n",
        "          .groupBy('id')\\\n",
        "          .pivot('zona')\\\n",
        "          .agg(f.lit(1))\\\n",
        "          .na\\\n",
        "          .fill(0)\n",
        "zona.show()"
      ]
    },
    {
      "cell_type": "markdown",
      "source": [
        "Por fim, juntamos essas novas variáveis ao dataset original e removemos as colunas `zona` original"
      ],
      "metadata": {
        "id": "LRiyyGyi8u7T"
      }
    },
    {
      "cell_type": "code",
      "execution_count": 41,
      "metadata": {
        "id": "y8KvjtMoylXT"
      },
      "outputs": [],
      "source": [
        "dataset = dataset\\\n",
        "              .join(zona,'id', how='inner')"
      ]
    },
    {
      "cell_type": "code",
      "execution_count": 42,
      "metadata": {
        "colab": {
          "base_uri": "https://localhost:8080/"
        },
        "id": "wYvCUs99zMKJ",
        "outputId": "5b26d53f-0a28-42b9-f853-6b8ecce88fc1"
      },
      "outputs": [
        {
          "output_type": "stream",
          "name": "stdout",
          "text": [
            "+--------------------+-----+---------+---------+-------+------+----+------------+----------+------+--------+------------------+----------+-----------------+-------+------------------+------------+--------+--------+---------------+-------------+------------+----------+----------+--------+\n",
            "|                  id|andar|area_util|banheiros|quartos|suites|vaga|        zona|condominio|  iptu|   valor|Condomínio fechado|Playground|Portão eletrônico|Piscina|Animais permitidos|Portaria 24h|Elevador|Academia|Salão de festas|Churrasqueira|Zona Central|Zona Norte|Zona Oeste|Zona Sul|\n",
            "+--------------------+-----+---------+---------+-------+------+----+------------+----------+------+--------+------------------+----------+-----------------+-------+------------------+------------+--------+--------+---------------+-------------+------------+----------+----------+--------+\n",
            "|03a386b6-7ab8-4ef...|    0|     43.0|        1|      2|     0|   1|  Zona Oeste|     285.0|   0.0| 22999.0|                 1|         1|                1|      0|                 1|           1|       0|       1|              1|            1|           0|         0|         1|       0|\n",
            "|1fe78d41-b8e0-4d2...|    0|     44.0|        1|      2|     0|   0|  Zona Norte|     170.0|   0.0|110000.0|                 0|         0|                0|      0|                 0|           0|       0|       0|              0|            0|           0|         1|         0|       0|\n",
            "|1fa1c1e5-e98c-433...|    4|     55.0|        1|      2|     0|   1|  Zona Oeste|       0.0|   0.0|115000.0|                 0|         0|                0|      0|                 0|           0|       0|       0|              0|            0|           0|         0|         1|       0|\n",
            "|a6ab01ae-3d40-40e...|    2|     55.0|        1|      2|     0|   0|  Zona Norte|       0.0|   0.0|115000.0|                 0|         0|                0|      0|                 0|           0|       0|       0|              0|            0|           0|         1|         0|       0|\n",
            "|1d8ff7a2-16bd-4e3...|    0|     50.0|        1|      1|     0|   0|Zona Central|    1300.0|2679.0|125000.0|                 0|         0|                0|      0|                 0|           0|       0|       0|              0|            0|           1|         0|         0|       0|\n",
            "+--------------------+-----+---------+---------+-------+------+----+------------+----------+------+--------+------------------+----------+-----------------+-------+------------------+------------+--------+--------+---------------+-------------+------------+----------+----------+--------+\n",
            "only showing top 5 rows\n",
            "\n"
          ]
        }
      ],
      "source": [
        "dataset.show(5)"
      ]
    },
    {
      "cell_type": "code",
      "execution_count": 43,
      "metadata": {
        "id": "mR1R3p1CzN-R"
      },
      "outputs": [],
      "source": [
        "dataset = dataset.drop('zona')"
      ]
    },
    {
      "cell_type": "markdown",
      "source": [
        "Verificando se todas as colunas são do tipo numérico."
      ],
      "metadata": {
        "id": "8qGjxzF39Ap8"
      }
    },
    {
      "cell_type": "code",
      "execution_count": 44,
      "metadata": {
        "colab": {
          "base_uri": "https://localhost:8080/"
        },
        "id": "vgAcZy4IzW7I",
        "outputId": "8a5e15b4-dd90-4ff2-beb3-b1d05d56810a"
      },
      "outputs": [
        {
          "output_type": "stream",
          "name": "stdout",
          "text": [
            "root\n",
            " |-- id: string (nullable = true)\n",
            " |-- andar: integer (nullable = true)\n",
            " |-- area_util: double (nullable = false)\n",
            " |-- banheiros: integer (nullable = true)\n",
            " |-- quartos: integer (nullable = true)\n",
            " |-- suites: integer (nullable = true)\n",
            " |-- vaga: integer (nullable = true)\n",
            " |-- condominio: double (nullable = false)\n",
            " |-- iptu: double (nullable = false)\n",
            " |-- valor: double (nullable = false)\n",
            " |-- Condomínio fechado: integer (nullable = false)\n",
            " |-- Playground: integer (nullable = false)\n",
            " |-- Portão eletrônico: integer (nullable = false)\n",
            " |-- Piscina: integer (nullable = false)\n",
            " |-- Animais permitidos: integer (nullable = false)\n",
            " |-- Portaria 24h: integer (nullable = false)\n",
            " |-- Elevador: integer (nullable = false)\n",
            " |-- Academia: integer (nullable = false)\n",
            " |-- Salão de festas: integer (nullable = false)\n",
            " |-- Churrasqueira: integer (nullable = false)\n",
            " |-- Zona Central: integer (nullable = true)\n",
            " |-- Zona Norte: integer (nullable = true)\n",
            " |-- Zona Oeste: integer (nullable = true)\n",
            " |-- Zona Sul: integer (nullable = true)\n",
            "\n"
          ]
        }
      ],
      "source": [
        "dataset.printSchema()"
      ]
    },
    {
      "cell_type": "markdown",
      "metadata": {
        "id": "jHTJG4kZ0F6Q"
      },
      "source": [
        "### Salvando dataset em parquet\n",
        "\n",
        "Esse dataset tratado será utilizado também no sistema de recomendação por isso vamos salvar ele antes davetorização."
      ]
    },
    {
      "cell_type": "markdown",
      "source": [
        "Renomeando colunas com acentos e espaços"
      ],
      "metadata": {
        "id": "ryWnLTE7WsEG"
      }
    },
    {
      "cell_type": "code",
      "source": [
        "dataset.columns"
      ],
      "metadata": {
        "colab": {
          "base_uri": "https://localhost:8080/"
        },
        "id": "B-6gSWolZr3G",
        "outputId": "71ab4284-f779-4cc3-c760-345db533ae2e"
      },
      "execution_count": 45,
      "outputs": [
        {
          "output_type": "execute_result",
          "data": {
            "text/plain": [
              "['id',\n",
              " 'andar',\n",
              " 'area_util',\n",
              " 'banheiros',\n",
              " 'quartos',\n",
              " 'suites',\n",
              " 'vaga',\n",
              " 'condominio',\n",
              " 'iptu',\n",
              " 'valor',\n",
              " 'Condomínio fechado',\n",
              " 'Playground',\n",
              " 'Portão eletrônico',\n",
              " 'Piscina',\n",
              " 'Animais permitidos',\n",
              " 'Portaria 24h',\n",
              " 'Elevador',\n",
              " 'Academia',\n",
              " 'Salão de festas',\n",
              " 'Churrasqueira',\n",
              " 'Zona Central',\n",
              " 'Zona Norte',\n",
              " 'Zona Oeste',\n",
              " 'Zona Sul']"
            ]
          },
          "metadata": {},
          "execution_count": 45
        }
      ]
    },
    {
      "cell_type": "code",
      "source": [
        "novos_nomes = [\n",
        "      'id',\n",
        "      'andar',\n",
        "      'area_util',\n",
        "      'banheiros',\n",
        "      'quartos',\n",
        "      'suites',\n",
        "      'vaga',\n",
        "      'condominio',\n",
        "      'iptu',\n",
        "      'valor',\n",
        "      'condominio_fechado',\n",
        "      'playground',\n",
        "      'portao_eletronico',\n",
        "      'piscina',\n",
        "      'animais_permitidos',\n",
        "      'portaria_24h',\n",
        "      'elevador',\n",
        "      'academia',\n",
        "      'salao_festas',\n",
        "      'churrasqueira',\n",
        "      'zona_central',\n",
        "      'zona_norte',\n",
        "      'zona_oeste',\n",
        "      'zona_sul'\n",
        "      ]"
      ],
      "metadata": {
        "id": "KxE1_hu6Wrpr"
      },
      "execution_count": 50,
      "outputs": []
    },
    {
      "cell_type": "code",
      "source": [
        "mapa_renomear = zip(dataset.columns,novos_nomes)"
      ],
      "metadata": {
        "id": "Yiw5Scj3amhm"
      },
      "execution_count": 51,
      "outputs": []
    },
    {
      "cell_type": "code",
      "source": [
        "for antigo, novo in mapa_renomear:\n",
        "  dataset = dataset.withColumnRenamed(antigo, novo)\n",
        "\n",
        "dataset.columns"
      ],
      "metadata": {
        "colab": {
          "base_uri": "https://localhost:8080/"
        },
        "id": "inl3NcRyusFZ",
        "outputId": "600218bd-ecae-4cf6-f0f7-14cfa85f3005"
      },
      "execution_count": 52,
      "outputs": [
        {
          "output_type": "execute_result",
          "data": {
            "text/plain": [
              "['id',\n",
              " 'andar',\n",
              " 'area_util',\n",
              " 'banheiros',\n",
              " 'quartos',\n",
              " 'suites',\n",
              " 'vaga',\n",
              " 'condominio',\n",
              " 'iptu',\n",
              " 'valor',\n",
              " 'condominio_fechado',\n",
              " 'playground',\n",
              " 'portao_eletronico',\n",
              " 'piscina',\n",
              " 'animais_permitidos',\n",
              " 'portaria_24h',\n",
              " 'elevador',\n",
              " 'academia',\n",
              " 'salao_festas',\n",
              " 'churrasqueira',\n",
              " 'zona_central',\n",
              " 'zona_norte',\n",
              " 'zona_oeste',\n",
              " 'zona_sul']"
            ]
          },
          "metadata": {},
          "execution_count": 52
        }
      ]
    },
    {
      "cell_type": "code",
      "execution_count": 53,
      "metadata": {
        "id": "xBsL5i-Lzi0R"
      },
      "outputs": [],
      "source": [
        "dataset.write.parquet(\n",
        "    path='/content/drive/MyDrive/curso-spark/ChallengeAlura/dados/parquet',\n",
        "    mode='overwrite'\n",
        ")"
      ]
    },
    {
      "cell_type": "markdown",
      "metadata": {
        "id": "tHvPRIyG0W7g"
      },
      "source": [
        "### Preparando os dados para os algoritmos do Spark MLib"
      ]
    },
    {
      "cell_type": "code",
      "execution_count": 54,
      "metadata": {
        "id": "wsRfmGeY0JiB"
      },
      "outputs": [],
      "source": [
        "from pyspark.ml.feature import VectorAssembler"
      ]
    },
    {
      "cell_type": "markdown",
      "source": [
        "Renomeando a coluna `valor` que é a variável target que queremos estimar."
      ],
      "metadata": {
        "id": "VHXGpAczNdQn"
      }
    },
    {
      "cell_type": "code",
      "execution_count": 55,
      "metadata": {
        "id": "F_nxXoUj0zwO"
      },
      "outputs": [],
      "source": [
        "dataset = dataset.withColumnRenamed('valor','label')"
      ]
    },
    {
      "cell_type": "code",
      "execution_count": 56,
      "metadata": {
        "colab": {
          "base_uri": "https://localhost:8080/"
        },
        "id": "nuUUyzHZ04Vb",
        "outputId": "43b8fb8b-26f7-41bf-9e8a-3518215b8b7f"
      },
      "outputs": [
        {
          "output_type": "execute_result",
          "data": {
            "text/plain": [
              "['id',\n",
              " 'andar',\n",
              " 'area_util',\n",
              " 'banheiros',\n",
              " 'quartos',\n",
              " 'suites',\n",
              " 'vaga',\n",
              " 'condominio',\n",
              " 'iptu',\n",
              " 'label',\n",
              " 'condominio_fechado',\n",
              " 'playground',\n",
              " 'portao_eletronico',\n",
              " 'piscina',\n",
              " 'animais_permitidos',\n",
              " 'portaria_24h',\n",
              " 'elevador',\n",
              " 'academia',\n",
              " 'salao_festas',\n",
              " 'churrasqueira',\n",
              " 'zona_central',\n",
              " 'zona_norte',\n",
              " 'zona_oeste',\n",
              " 'zona_sul']"
            ]
          },
          "metadata": {},
          "execution_count": 56
        }
      ],
      "source": [
        "dataset.columns"
      ]
    },
    {
      "cell_type": "markdown",
      "source": [
        "Selecionando as colunas para cálculo da correlação."
      ],
      "metadata": {
        "id": "VJp-JzM7iEL6"
      }
    },
    {
      "cell_type": "code",
      "source": [
        "X_corr = [\n",
        "    'andar',\n",
        "    'area_util',\n",
        "    'banheiros',\n",
        "    'quartos',\n",
        "    'suites',\n",
        "    'vaga',\n",
        "    'condominio',\n",
        "    'iptu',\n",
        "    'label'\n",
        "    ]"
      ],
      "metadata": {
        "id": "ebdx3HyDiDjW"
      },
      "execution_count": 57,
      "outputs": []
    },
    {
      "cell_type": "markdown",
      "source": [
        "Selecionando as colunas que serão usadas pelo modelo para fazer essas estimativas."
      ],
      "metadata": {
        "id": "uZeMyXtPNpla"
      }
    },
    {
      "cell_type": "code",
      "execution_count": 58,
      "metadata": {
        "id": "uXWhrNeJ08kt"
      },
      "outputs": [],
      "source": [
        "X = dataset.drop('id','label').columns"
      ]
    },
    {
      "cell_type": "markdown",
      "source": [
        "Fazendo a vetorização dos dados para o modelo"
      ],
      "metadata": {
        "id": "TjhTVRyqSCVk"
      }
    },
    {
      "cell_type": "code",
      "execution_count": 59,
      "metadata": {
        "id": "0rtqoqMH1L3I"
      },
      "outputs": [],
      "source": [
        "assembler = VectorAssembler(inputCols=X, outputCol='features')"
      ]
    },
    {
      "cell_type": "code",
      "execution_count": 60,
      "metadata": {
        "id": "_ZJVJ4C91SSR"
      },
      "outputs": [],
      "source": [
        "dataset_modelo = assembler.transform(dataset).select('features','label')"
      ]
    },
    {
      "cell_type": "markdown",
      "source": [
        "Matriz esparsa que será utilizada em todos os modelos testados"
      ],
      "metadata": {
        "id": "GqR2WnaiN8V1"
      }
    },
    {
      "cell_type": "code",
      "execution_count": 61,
      "metadata": {
        "colab": {
          "base_uri": "https://localhost:8080/"
        },
        "id": "lB8t6x-o1ZWA",
        "outputId": "2d06dc3d-2f52-4708-f4b9-26a1b0f175bb"
      },
      "outputs": [
        {
          "output_type": "stream",
          "name": "stdout",
          "text": [
            "+-----------------------------------------------------------------------------------------------+--------+\n",
            "|features                                                                                       |label   |\n",
            "+-----------------------------------------------------------------------------------------------+--------+\n",
            "|[0.0,43.0,1.0,2.0,0.0,1.0,285.0,0.0,1.0,1.0,1.0,0.0,1.0,1.0,0.0,1.0,1.0,1.0,0.0,0.0,1.0,0.0]   |22999.0 |\n",
            "|(22,[1,2,3,6,19],[44.0,1.0,2.0,170.0,1.0])                                                     |110000.0|\n",
            "|(22,[0,1,2,3,5,20],[4.0,55.0,1.0,2.0,1.0,1.0])                                                 |115000.0|\n",
            "|(22,[0,1,2,3,19],[2.0,55.0,1.0,2.0,1.0])                                                       |115000.0|\n",
            "|(22,[1,2,3,6,7,18],[50.0,1.0,1.0,1300.0,2679.0,1.0])                                           |125000.0|\n",
            "|(22,[0,1,2,3,5,6,8,11,12,13,16,17,20],[2.0,47.0,1.0,2.0,1.0,380.0,1.0,1.0,1.0,1.0,1.0,1.0,1.0])|138000.0|\n",
            "|(22,[1,2,3,5,6,8,11,17,20],[45.0,1.0,2.0,1.0,356.0,1.0,1.0,1.0,1.0])                           |140000.0|\n",
            "|[3.0,48.0,1.0,2.0,0.0,1.0,0.0,0.0,1.0,1.0,1.0,1.0,1.0,1.0,0.0,0.0,1.0,1.0,0.0,0.0,1.0,0.0]     |150000.0|\n",
            "|[9.0,55.0,1.0,2.0,0.0,1.0,780.0,660.0,1.0,0.0,1.0,0.0,1.0,1.0,1.0,0.0,1.0,1.0,0.0,0.0,1.0,0.0] |160000.0|\n",
            "|(22,[1,2,3,5,6,16,20],[70.0,2.0,2.0,1.0,420000.0,1.0,1.0])                                     |159000.0|\n",
            "+-----------------------------------------------------------------------------------------------+--------+\n",
            "only showing top 10 rows\n",
            "\n"
          ]
        }
      ],
      "source": [
        "dataset_modelo.show(10, truncate=False)"
      ]
    },
    {
      "cell_type": "markdown",
      "source": [
        "### Análise das correlações\n",
        "\n",
        "Principalmente para o modelo de regressão linear, a colinearidade entre as variáveis de entrada pode ser um problema. \n",
        "\n",
        "Vamos analisar a correlação entre as variáveis de entrada e também das variáveis de entrada com a variável de saída, para ter uma ideia de quais delas estão mais relacionadas com um valor de imóvel mais alto. \n",
        "\n",
        "Realizando primeiro a vetorizando os dados.\n",
        "\n",
        "\n",
        "\n",
        "\n",
        "\n"
      ],
      "metadata": {
        "id": "1VNCXYxCWGYk"
      }
    },
    {
      "cell_type": "code",
      "source": [
        "assembler = VectorAssembler(inputCols=X_corr, outputCol='features_corr')"
      ],
      "metadata": {
        "id": "0qeCciEQmdDM"
      },
      "execution_count": 62,
      "outputs": []
    },
    {
      "cell_type": "code",
      "source": [
        "dataset_corr = assembler.transform(dataset).select('features_corr')"
      ],
      "metadata": {
        "id": "ofwCwIbAmc2z"
      },
      "execution_count": 63,
      "outputs": []
    },
    {
      "cell_type": "code",
      "source": [
        "dataset_corr.show(5,False)"
      ],
      "metadata": {
        "colab": {
          "base_uri": "https://localhost:8080/"
        },
        "id": "14mIQEF6whB2",
        "outputId": "c67af101-d834-41d7-a2b8-e8ebf5733ea8"
      },
      "execution_count": 64,
      "outputs": [
        {
          "output_type": "stream",
          "name": "stdout",
          "text": [
            "+-------------------------------------------------+\n",
            "|features_corr                                    |\n",
            "+-------------------------------------------------+\n",
            "|[0.0,43.0,1.0,2.0,0.0,1.0,285.0,0.0,22999.0]     |\n",
            "|[0.0,44.0,1.0,2.0,0.0,0.0,170.0,0.0,110000.0]    |\n",
            "|[4.0,55.0,1.0,2.0,0.0,1.0,0.0,0.0,115000.0]      |\n",
            "|[2.0,55.0,1.0,2.0,0.0,0.0,0.0,0.0,115000.0]      |\n",
            "|[0.0,50.0,1.0,1.0,0.0,0.0,1300.0,2679.0,125000.0]|\n",
            "+-------------------------------------------------+\n",
            "only showing top 5 rows\n",
            "\n"
          ]
        }
      ]
    },
    {
      "cell_type": "code",
      "source": [
        "from pyspark.ml.stat import Correlation\n",
        "import pandas as pd"
      ],
      "metadata": {
        "id": "vbvU6T3TWFS1"
      },
      "execution_count": 65,
      "outputs": []
    },
    {
      "cell_type": "code",
      "source": [
        "corr = Correlation.corr(dataset_corr,'features_corr').collect()[0][0]"
      ],
      "metadata": {
        "id": "vyjx_yiJWLEA"
      },
      "execution_count": 66,
      "outputs": []
    },
    {
      "cell_type": "code",
      "source": [
        "df_corr = pd.DataFrame(corr.toArray(),columns=X_corr,index=X_corr)"
      ],
      "metadata": {
        "id": "kBN1Oo0iWK2P"
      },
      "execution_count": 67,
      "outputs": []
    },
    {
      "cell_type": "code",
      "source": [
        "import matplotlib.pyplot as plt\n",
        "import seaborn as sns\n",
        "import numpy as np"
      ],
      "metadata": {
        "id": "NkrRT38hWKzU"
      },
      "execution_count": 68,
      "outputs": []
    },
    {
      "cell_type": "code",
      "source": [
        "plt.figure(figsize=(12,10))\n",
        "paleta = sns.color_palette(\"coolwarm\", as_cmap=True)\n",
        "mask = np.triu(np.ones_like(df_corr, dtype=bool))\n",
        "sns.heatmap(df_corr.round(1),annot=True,cmap=paleta,vmin=-1,vmax=1,mask=mask)\n",
        "plt.show()"
      ],
      "metadata": {
        "colab": {
          "base_uri": "https://localhost:8080/",
          "height": 596
        },
        "id": "ewPNXGOyWKp3",
        "outputId": "edd24241-6c5b-41e0-e38a-f541cd6ce1f9"
      },
      "execution_count": 69,
      "outputs": [
        {
          "output_type": "display_data",
          "data": {
            "text/plain": [
              "<Figure size 864x720 with 2 Axes>"
            ],
            "image/png": "[encoded data removed]"
          },
          "metadata": {
            "needs_background": "light"
          }
        }
      ]
    },
    {
      "cell_type": "markdown",
      "source": [
        "Maiores correlações entre as variáveis de entrada são positivas (0.7):\n",
        "\n",
        "- `area_util` e `banheiros`\n",
        "\n",
        "- `area_util` e `quartos`\n",
        "\n",
        "- `suites` e `banheiros`\n",
        "\n",
        "Essas correlações não são altas o suficiente para causarem algum problema. Portanto nenhuma variável precisa ser removida do modelo.\n",
        "\n",
        "Maior correlação da variável de saída é com a variável `area_util` (0.8). Portanto a variável `area_util` parece ser um bom preditor para o preço do imóvel."
      ],
      "metadata": {
        "id": "UWSME2Q7Xsjs"
      }
    },
    {
      "cell_type": "markdown",
      "metadata": {
        "id": "W6vHk4G12XEE"
      },
      "source": [
        "### Separando dataset de treino e de teste\n",
        "\n",
        "70% dos dados serão utilizados para o treinamento dos modelos e 30% para a avaliação."
      ]
    },
    {
      "cell_type": "code",
      "execution_count": 71,
      "metadata": {
        "id": "evtRCbNk2GJp"
      },
      "outputs": [],
      "source": [
        "treino, teste = dataset_modelo.randomSplit([0.7, 0.3], seed=101)"
      ]
    },
    {
      "cell_type": "markdown",
      "metadata": {
        "id": "3Ns4EOLG2Des"
      },
      "source": [
        "### Regressão Linear"
      ]
    },
    {
      "cell_type": "code",
      "execution_count": 72,
      "metadata": {
        "id": "_j2lSMxk1eCw"
      },
      "outputs": [],
      "source": [
        "from pyspark.ml.regression import LinearRegression"
      ]
    },
    {
      "cell_type": "code",
      "execution_count": 73,
      "metadata": {
        "id": "JTJj-78n2OFQ"
      },
      "outputs": [],
      "source": [
        "lr = LinearRegression()"
      ]
    },
    {
      "cell_type": "code",
      "execution_count": 74,
      "metadata": {
        "id": "6q2U_ALI2bLY"
      },
      "outputs": [],
      "source": [
        "modelo_lr = lr.fit(treino)"
      ]
    },
    {
      "cell_type": "code",
      "execution_count": 75,
      "metadata": {
        "id": "IB0frdLL2fNw"
      },
      "outputs": [],
      "source": [
        "previsoes_lr_treino = modelo_lr.transform(treino)"
      ]
    },
    {
      "cell_type": "code",
      "execution_count": 76,
      "metadata": {
        "id": "OgBcZ-Hb27rp"
      },
      "outputs": [],
      "source": [
        "previsoes_lr_teste = modelo_lr.transform(teste)"
      ]
    },
    {
      "cell_type": "code",
      "execution_count": 77,
      "metadata": {
        "id": "RfqCQR052jO4"
      },
      "outputs": [],
      "source": [
        "from pyspark.ml.evaluation import RegressionEvaluator"
      ]
    },
    {
      "cell_type": "code",
      "execution_count": 78,
      "metadata": {
        "id": "KOey6naD2q24"
      },
      "outputs": [],
      "source": [
        "evaluator = RegressionEvaluator()"
      ]
    },
    {
      "cell_type": "markdown",
      "source": [
        "Para avaliar os modelos estão sendo usadas duas métriacas:\n",
        "\n",
        "- r2 - coeficiente de determinação - informa o quanto o modelo se \"encaixa\" nos dados ou o quanto da variância dos dados é explicada pelo modelo. Os valores ficam sempre entre zero e um, e quanto mais próximo de um melhor é o modelo. \n",
        "- RMSE - Root Mean Square Error - Erro quadratico médio - informa o valor médio do erro do modelo, portanto, quanto menor o valor, melhor é a performance do modeo"
      ],
      "metadata": {
        "id": "J1Ey13genhmr"
      }
    },
    {
      "cell_type": "code",
      "execution_count": 79,
      "metadata": {
        "colab": {
          "base_uri": "https://localhost:8080/"
        },
        "id": "SVRp9asx2uKA",
        "outputId": "1c462d92-cf29-4bf9-c775-a3ed48459fba"
      },
      "outputs": [
        {
          "output_type": "stream",
          "name": "stdout",
          "text": [
            "Linear Regression\n",
            "==============================\n",
            "Dados de Treino\n",
            "==============================\n",
            "R²: 0.666697\n",
            "RMSE: 853352.183180\n",
            "\n",
            "==============================\n",
            "Dados de Teste\n",
            "==============================\n",
            "R²: 0.662490\n",
            "RMSE: 846439.252798\n"
          ]
        }
      ],
      "source": [
        "print('Linear Regression')\n",
        "print(\"=\"*30)\n",
        "print(\"Dados de Treino\")\n",
        "print(\"=\"*30)\n",
        "print(\"R²: %f\" % evaluator.evaluate(previsoes_lr_treino, {evaluator.metricName: \"r2\"}))\n",
        "print(\"RMSE: %f\" % evaluator.evaluate(previsoes_lr_treino, {evaluator.metricName: \"rmse\"}))\n",
        "print(\"\")\n",
        "print(\"=\"*30)\n",
        "print(\"Dados de Teste\")\n",
        "print(\"=\"*30)\n",
        "print(\"R²: %f\" % evaluator.evaluate(previsoes_lr_teste, {evaluator.metricName: \"r2\"}))\n",
        "print(\"RMSE: %f\" % evaluator.evaluate(previsoes_lr_teste, {evaluator.metricName: \"rmse\"}))"
      ]
    },
    {
      "cell_type": "markdown",
      "metadata": {
        "id": "jkeyq6vC3VFd"
      },
      "source": [
        "### Decision Tree Regressor"
      ]
    },
    {
      "cell_type": "code",
      "execution_count": 80,
      "metadata": {
        "id": "IkXXk0vz3GTJ"
      },
      "outputs": [],
      "source": [
        "from pyspark.ml.regression import DecisionTreeRegressor"
      ]
    },
    {
      "cell_type": "code",
      "execution_count": 81,
      "metadata": {
        "id": "LVsKyQ5P3R5k"
      },
      "outputs": [],
      "source": [
        "dtr = DecisionTreeRegressor(seed=101)"
      ]
    },
    {
      "cell_type": "code",
      "execution_count": 82,
      "metadata": {
        "id": "9QXvetYh8zko"
      },
      "outputs": [],
      "source": [
        "modelo_dtr = dtr.fit(treino)"
      ]
    },
    {
      "cell_type": "code",
      "execution_count": 83,
      "metadata": {
        "id": "4a_pLOIF84f1"
      },
      "outputs": [],
      "source": [
        "previsoes_dtr_treino = modelo_dtr.transform(treino)"
      ]
    },
    {
      "cell_type": "code",
      "execution_count": 84,
      "metadata": {
        "id": "b95uvN9c88ON"
      },
      "outputs": [],
      "source": [
        "previsoes_dtr_teste = modelo_dtr.transform(teste)"
      ]
    },
    {
      "cell_type": "code",
      "execution_count": 85,
      "metadata": {
        "colab": {
          "base_uri": "https://localhost:8080/"
        },
        "id": "Rxe5C_2w9Aw2",
        "outputId": "10203401-2094-4bc4-f53c-44f4af109a66"
      },
      "outputs": [
        {
          "output_type": "stream",
          "name": "stdout",
          "text": [
            "Decision Tree Regression\n",
            "==============================\n",
            "Dados de Treino\n",
            "==============================\n",
            "R²: 0.750262\n",
            "RMSE: 738670.776807\n",
            "\n",
            "==============================\n",
            "Dados de Teste\n",
            "==============================\n",
            "R²: 0.722551\n",
            "RMSE: 767438.558336\n"
          ]
        }
      ],
      "source": [
        "print('Decision Tree Regression')\n",
        "print(\"=\"*30)\n",
        "print(\"Dados de Treino\")\n",
        "print(\"=\"*30)\n",
        "print(\"R²: %f\" % evaluator.evaluate(previsoes_dtr_treino, {evaluator.metricName: \"r2\"}))\n",
        "print(\"RMSE: %f\" % evaluator.evaluate(previsoes_dtr_treino, {evaluator.metricName: \"rmse\"}))\n",
        "print(\"\")\n",
        "print(\"=\"*30)\n",
        "print(\"Dados de Teste\")\n",
        "print(\"=\"*30)\n",
        "print(\"R²: %f\" % evaluator.evaluate(previsoes_dtr_teste, {evaluator.metricName: \"r2\"}))\n",
        "print(\"RMSE: %f\" % evaluator.evaluate(previsoes_dtr_teste, {evaluator.metricName: \"rmse\"}))"
      ]
    },
    {
      "cell_type": "markdown",
      "metadata": {
        "id": "DFSv-arJ9K-Z"
      },
      "source": [
        "### Random Forest Regressor"
      ]
    },
    {
      "cell_type": "code",
      "execution_count": 86,
      "metadata": {
        "id": "LE9hDYl-9GHe"
      },
      "outputs": [],
      "source": [
        "from pyspark.ml.regression import RandomForestRegressor"
      ]
    },
    {
      "cell_type": "code",
      "execution_count": 87,
      "metadata": {
        "id": "cKzKOZ8s9Seu"
      },
      "outputs": [],
      "source": [
        "rfr = RandomForestRegressor(seed=101)"
      ]
    },
    {
      "cell_type": "code",
      "execution_count": 88,
      "metadata": {
        "id": "X3NVSeXg9ZFv"
      },
      "outputs": [],
      "source": [
        "modelo_rfr = rfr.fit(treino)"
      ]
    },
    {
      "cell_type": "code",
      "execution_count": 89,
      "metadata": {
        "id": "XO9emqSM9b7m"
      },
      "outputs": [],
      "source": [
        "previsoes_rfr_treino = modelo_rfr.transform(treino)"
      ]
    },
    {
      "cell_type": "code",
      "execution_count": 90,
      "metadata": {
        "id": "xZIphgn69eiu"
      },
      "outputs": [],
      "source": [
        "previsoes_rfr_teste = modelo_rfr.transform(teste)"
      ]
    },
    {
      "cell_type": "code",
      "execution_count": 91,
      "metadata": {
        "colab": {
          "base_uri": "https://localhost:8080/"
        },
        "id": "ArteTOLm9g_-",
        "outputId": "eefd3525-6405-442b-cfe5-8a823f5199b6"
      },
      "outputs": [
        {
          "output_type": "stream",
          "name": "stdout",
          "text": [
            "Random Forest Regression\n",
            "==============================\n",
            "Dados de Treino\n",
            "==============================\n",
            "R²: 0.771887\n",
            "RMSE: 705965.055447\n",
            "\n",
            "==============================\n",
            "Dados de Teste\n",
            "==============================\n",
            "R²: 0.746801\n",
            "RMSE: 733133.934211\n"
          ]
        }
      ],
      "source": [
        "print('Random Forest Regression')\n",
        "print(\"=\"*30)\n",
        "print(\"Dados de Treino\")\n",
        "print(\"=\"*30)\n",
        "print(\"R²: %f\" % evaluator.evaluate(previsoes_rfr_treino, {evaluator.metricName: \"r2\"}))\n",
        "print(\"RMSE: %f\" % evaluator.evaluate(previsoes_rfr_treino, {evaluator.metricName: \"rmse\"}))\n",
        "print(\"\")\n",
        "print(\"=\"*30)\n",
        "print(\"Dados de Teste\")\n",
        "print(\"=\"*30)\n",
        "print(\"R²: %f\" % evaluator.evaluate(previsoes_rfr_teste, {evaluator.metricName: \"r2\"}))\n",
        "print(\"RMSE: %f\" % evaluator.evaluate(previsoes_rfr_teste, {evaluator.metricName: \"rmse\"}))"
      ]
    },
    {
      "cell_type": "markdown",
      "source": [
        "### Gradient Boost Trees Regressor"
      ],
      "metadata": {
        "id": "G2H08nInb8A3"
      }
    },
    {
      "cell_type": "code",
      "source": [
        "from pyspark.ml.regression import GBTRegressor"
      ],
      "metadata": {
        "id": "LHVGP3oBb7us"
      },
      "execution_count": 92,
      "outputs": []
    },
    {
      "cell_type": "code",
      "source": [
        "gbt = GBTRegressor(seed=101)"
      ],
      "metadata": {
        "id": "lFTX5sPocJKD"
      },
      "execution_count": 93,
      "outputs": []
    },
    {
      "cell_type": "code",
      "source": [
        "modelo_gbt = gbt.fit(treino)"
      ],
      "metadata": {
        "id": "PohxDSK8cI5K"
      },
      "execution_count": 94,
      "outputs": []
    },
    {
      "cell_type": "code",
      "source": [
        "previsoes_gbt_treino = modelo_gbt.transform(treino)"
      ],
      "metadata": {
        "id": "pULTWX6pcI0S"
      },
      "execution_count": 95,
      "outputs": []
    },
    {
      "cell_type": "code",
      "source": [
        "previsoes_gbt_teste = modelo_gbt.transform(teste)"
      ],
      "metadata": {
        "id": "q-4enyNDcIwc"
      },
      "execution_count": 96,
      "outputs": []
    },
    {
      "cell_type": "code",
      "source": [
        "print('Gradient Boost Trees Regression')\n",
        "print(\"=\"*30)\n",
        "print(\"Dados de Treino\")\n",
        "print(\"=\"*30)\n",
        "print(\"R²: %f\" % evaluator.evaluate(previsoes_gbt_treino, {evaluator.metricName: \"r2\"}))\n",
        "print(\"RMSE: %f\" % evaluator.evaluate(previsoes_gbt_treino, {evaluator.metricName: \"rmse\"}))\n",
        "print(\"\")\n",
        "print(\"=\"*30)\n",
        "print(\"Dados de Teste\")\n",
        "print(\"=\"*30)\n",
        "print(\"R²: %f\" % evaluator.evaluate(previsoes_gbt_teste, {evaluator.metricName: \"r2\"}))\n",
        "print(\"RMSE: %f\" % evaluator.evaluate(previsoes_gbt_teste, {evaluator.metricName: \"rmse\"}))"
      ],
      "metadata": {
        "colab": {
          "base_uri": "https://localhost:8080/"
        },
        "id": "qD4oKAVxcIrc",
        "outputId": "fccc7c80-0c41-4a23-dc7a-dcb6af4d6df2"
      },
      "execution_count": 97,
      "outputs": [
        {
          "output_type": "stream",
          "name": "stdout",
          "text": [
            "Gradient Boost Trees Regression\n",
            "==============================\n",
            "Dados de Treino\n",
            "==============================\n",
            "R²: 0.828110\n",
            "RMSE: 612820.658506\n",
            "\n",
            "==============================\n",
            "Dados de Teste\n",
            "==============================\n",
            "R²: 0.785253\n",
            "RMSE: 675174.279123\n"
          ]
        }
      ]
    },
    {
      "cell_type": "markdown",
      "source": [
        "#### Comparando os resultados dos modelos no dataset de teste"
      ],
      "metadata": {
        "id": "AogqXueR9QmN"
      }
    },
    {
      "cell_type": "code",
      "source": [
        "print('-------Modelo-------|---r2---|----rmse----|')\n",
        "print(\"=\"*45)\n",
        "print(' Linear Regression  | ', round(evaluator.evaluate(previsoes_lr_teste, {evaluator.metricName: \"r2\"}),2), ' | ',\n",
        "      round(evaluator.evaluate(previsoes_lr_teste, {evaluator.metricName: \"rmse\"}),2))\n",
        "print(\"=\"*45)\n",
        "print('   Decision Tree    | ', round(evaluator.evaluate(previsoes_dtr_teste, {evaluator.metricName: \"r2\"}),2), ' | ',\n",
        "      round(evaluator.evaluate(previsoes_dtr_teste, {evaluator.metricName: \"rmse\"}),2))\n",
        "print(\"=\"*45)\n",
        "print('   Random Forest    | ', round(evaluator.evaluate(previsoes_rfr_teste, {evaluator.metricName: \"r2\"}),2), ' | ',\n",
        "      round(evaluator.evaluate(previsoes_rfr_teste, {evaluator.metricName: \"rmse\"}),2))\n",
        "print(\"=\"*45)\n",
        "print('GradientBoost Trees | ', round(evaluator.evaluate(previsoes_gbt_teste, {evaluator.metricName: \"r2\"}),2), ' | ',\n",
        "      round(evaluator.evaluate(previsoes_gbt_teste, {evaluator.metricName: \"rmse\"}),2))\n",
        "print(\"=\"*45)\n"
      ],
      "metadata": {
        "colab": {
          "base_uri": "https://localhost:8080/"
        },
        "id": "8j-4Ptue9QN3",
        "outputId": "90d1f44e-c93b-41e8-83fd-511989d7ae2b"
      },
      "execution_count": 99,
      "outputs": [
        {
          "output_type": "stream",
          "name": "stdout",
          "text": [
            "-------Modelo-------|---r2---|----rmse----|\n",
            "=============================================\n",
            " Linear Regression  |  0.66  |  846439.25\n",
            "=============================================\n",
            "   Decision Tree    |  0.72  |  767438.56\n",
            "=============================================\n",
            "   Random Forest    |  0.75  |  733133.93\n",
            "=============================================\n",
            "GradientBoost Trees |  0.79  |  675174.28\n",
            "=============================================\n"
          ]
        }
      ]
    },
    {
      "cell_type": "markdown",
      "metadata": {
        "id": "TVFNiTiMDXkY"
      },
      "source": [
        "### Otimizando os hiperparâmetros - Random Forest"
      ]
    },
    {
      "cell_type": "markdown",
      "source": [
        "Avaliando diferentes valores para alguns hiperparâmetros do modelo Random Forest"
      ],
      "metadata": {
        "id": "5PHKiycWVGhG"
      }
    },
    {
      "cell_type": "code",
      "execution_count": 100,
      "metadata": {
        "id": "2wOqSdE29sE1"
      },
      "outputs": [],
      "source": [
        "from pyspark.ml.tuning import CrossValidator, ParamGridBuilder"
      ]
    },
    {
      "cell_type": "markdown",
      "metadata": {
        "id": "45qfVOqdEIm5"
      },
      "source": [
        "`numTrees` -> número de árvores (default = 20)\n",
        "\n",
        "`masDepth` -> profundidade da árvore. Quantas divisões serão feitas antes de chegar em uma folha (default = 5). \n",
        "\n",
        "`maxBins` -> número máximo de divisões (bins) para a discretização de uma variável continua (default = 32)"
      ]
    },
    {
      "cell_type": "code",
      "execution_count": 101,
      "metadata": {
        "id": "WCdsev8HDl5n"
      },
      "outputs": [],
      "source": [
        "grid = ParamGridBuilder() \\\n",
        "              .addGrid(rfr.numTrees, [10, 20, 30]) \\\n",
        "              .addGrid(rfr.maxDepth, [5, 10]) \\\n",
        "              .addGrid(rfr.maxBins, [10, 32, 45]) \\\n",
        "              .build()"
      ]
    },
    {
      "cell_type": "code",
      "execution_count": 103,
      "metadata": {
        "id": "oyTUiwNhHH_7"
      },
      "outputs": [],
      "source": [
        "rfr_cv = CrossValidator(\n",
        "    estimator=rfr,\n",
        "    estimatorParamMaps=grid,\n",
        "    evaluator=evaluator,\n",
        "    numFolds=3,\n",
        "    seed=101\n",
        ")"
      ]
    },
    {
      "cell_type": "code",
      "execution_count": 104,
      "metadata": {
        "id": "WEyDXLgxHdIj"
      },
      "outputs": [],
      "source": [
        "modelo_rfr_cv = rfr_cv.fit(treino)"
      ]
    },
    {
      "cell_type": "code",
      "source": [
        "best_model = modelo_rfr_cv.bestModel"
      ],
      "metadata": {
        "id": "O0f6OujPoMMR"
      },
      "execution_count": 105,
      "outputs": []
    },
    {
      "cell_type": "code",
      "source": [
        "print('O melhor resultado foi obtido com:\\nnumTrees = ', best_model.getNumTrees, '\\nmaxDepth = ', best_model.getMaxDepth(),'\\nmaxBins = ', best_model.getMaxBins())"
      ],
      "metadata": {
        "id": "cBHMTUcXoQPT",
        "colab": {
          "base_uri": "https://localhost:8080/"
        },
        "outputId": "e60ad3d7-b8cb-47f3-9b1f-ba6540f0005e"
      },
      "execution_count": 106,
      "outputs": [
        {
          "output_type": "stream",
          "name": "stdout",
          "text": [
            "O melhor resultado foi obtido com:\n",
            "numTrees =  30 \n",
            "maxDepth =  10 \n",
            "maxBins =  45\n"
          ]
        }
      ]
    },
    {
      "cell_type": "code",
      "execution_count": 107,
      "metadata": {
        "id": "-Ji_HzG9JsS-"
      },
      "outputs": [],
      "source": [
        "previsoes_rfr_cv_teste = modelo_rfr_cv.transform(teste)"
      ]
    },
    {
      "cell_type": "code",
      "execution_count": 108,
      "metadata": {
        "id": "-6WQHVsaNJZX",
        "colab": {
          "base_uri": "https://localhost:8080/"
        },
        "outputId": "3581388d-957a-472b-ea45-99a776f175f6"
      },
      "outputs": [
        {
          "output_type": "stream",
          "name": "stdout",
          "text": [
            "Random Forest Regression\n",
            "==============================\n",
            "Sem Cross Validation\n",
            "==============================\n",
            "R²: 0.746801\n",
            "RMSE: 733133.934211\n",
            "\n",
            "==============================\n",
            "Com Cross Validation\n",
            "==============================\n",
            "R²: 0.814759\n",
            "RMSE: 627077.260228\n"
          ]
        }
      ],
      "source": [
        "print('Random Forest Regression')\n",
        "print(\"=\"*30)\n",
        "print(\"Sem Cross Validation\")\n",
        "print(\"=\"*30)\n",
        "print(\"R²: %f\" % evaluator.evaluate(previsoes_rfr_teste, {evaluator.metricName: \"r2\"}))\n",
        "print(\"RMSE: %f\" % evaluator.evaluate(previsoes_rfr_teste, {evaluator.metricName: \"rmse\"}))\n",
        "print(\"\")\n",
        "print(\"=\"*30)\n",
        "print(\"Com Cross Validation\")\n",
        "print(\"=\"*30)\n",
        "print(\"R²: %f\" % evaluator.evaluate(previsoes_rfr_cv_teste, {evaluator.metricName: \"r2\"}))\n",
        "print(\"RMSE: %f\" % evaluator.evaluate(previsoes_rfr_cv_teste, {evaluator.metricName: \"rmse\"}))"
      ]
    },
    {
      "cell_type": "markdown",
      "source": [
        "#### Conclusões\n",
        "\n",
        "O modelo com o melhor resultado no dataset de teste foi o GBT Regressor, com um r2 de 0.79. \n",
        "\n",
        "Porém, otimizando os hiperparâmetros do modelo Random Forest, foi possível obter um r2 ainda melhor de 0.82."
      ],
      "metadata": {
        "id": "elDLnx6QsshS"
      }
    },
    {
      "cell_type": "code",
      "source": [],
      "metadata": {
        "id": "7vs8XiijtZMl"
      },
      "execution_count": null,
      "outputs": []
    }
  ],
  "metadata": {
    "colab": {
      "provenance": [],
      "mount_file_id": "15Foar-lJmIw1grSKTWxTUtCUX6h0Gr70",
      "authorship_tag": "ABX9TyP7gFYw1I/zO2lBdj6LLxSK",
      "include_colab_link": true
    },
    "kernelspec": {
      "display_name": "Python 3",
      "name": "python3"
    },
    "language_info": {
      "name": "python"
    }
  },
  "nbformat": 4,
  "nbformat_minor": 0
}