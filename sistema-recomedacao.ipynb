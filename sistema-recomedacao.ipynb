{
  "nbformat": 4,
  "nbformat_minor": 0,
  "metadata": {
    "colab": {
      "provenance": [],
      "mount_file_id": "16yHGxv7X7o_VsOkhBd4XbyOUJjcd28l8",
      "authorship_tag": "ABX9TyOGSEWTTMlCKVcYafzTvFuJ",
      "include_colab_link": true
    },
    "kernelspec": {
      "name": "python3",
      "display_name": "Python 3"
    },
    "language_info": {
      "name": "python"
    }
  },
  "cells": [
    {
      "cell_type": "markdown",
      "metadata": {
        "id": "view-in-github",
        "colab_type": "text"
      },
      "source": [
        "<a href=\"https://colab.research.google.com/github/sarahgruetz/AluraChallenge_DS_2/blob/main/Alura_Challenge_semanas_3_e_4.ipynb\" target=\"_parent\"><img src=\"https://colab.research.google.com/assets/colab-badge.svg\" alt=\"Open In Colab\"/></a>"
      ]
    },
    {
      "cell_type": "code",
      "execution_count": 1,
      "metadata": {
        "colab": {
          "base_uri": "https://localhost:8080/"
        },
        "id": "DoZBXSmVSO2P",
        "outputId": "c6b0e441-1e23-4f84-c8a7-453122a43f52"
      },
      "outputs": [
        {
          "output_type": "stream",
          "name": "stdout",
          "text": [
            "Looking in indexes: https://pypi.org/simple, https://us-python.pkg.dev/colab-wheels/public/simple/\n",
            "Collecting pyspark\n",
            "  Downloading pyspark-3.3.1.tar.gz (281.4 MB)\n",
            "\u001b[K     |████████████████████████████████| 281.4 MB 41 kB/s \n",
            "\u001b[?25hCollecting py4j==0.10.9.5\n",
            "  Downloading py4j-0.10.9.5-py2.py3-none-any.whl (199 kB)\n",
            "\u001b[K     |████████████████████████████████| 199 kB 38.3 MB/s \n",
            "\u001b[?25hBuilding wheels for collected packages: pyspark\n",
            "  Building wheel for pyspark (setup.py) ... \u001b[?25l\u001b[?25hdone\n",
            "  Created wheel for pyspark: filename=pyspark-3.3.1-py2.py3-none-any.whl size=281845512 sha256=3d5d947076dce73f0ddbef2757c3ebd967b7253b7c280f7ab323b100ac664b3b\n",
            "  Stored in directory: /root/.cache/pip/wheels/43/dc/11/ec201cd671da62fa9c5cc77078235e40722170ceba231d7598\n",
            "Successfully built pyspark\n",
            "Installing collected packages: py4j, pyspark\n",
            "Successfully installed py4j-0.10.9.5 pyspark-3.3.1\n"
          ]
        }
      ],
      "source": [
        "!pip install pyspark"
      ]
    },
    {
      "cell_type": "markdown",
      "source": [
        "### Iniciando a SparkSession"
      ],
      "metadata": {
        "id": "NDiMTWR7Syom"
      }
    },
    {
      "cell_type": "code",
      "source": [
        "from pyspark.sql import SparkSession\n",
        "\n",
        "spark = SparkSession.builder \\\n",
        "    .master('local[*]') \\\n",
        "    .appName(\"Alura Challenge\") \\\n",
        "    .getOrCreate()"
      ],
      "metadata": {
        "id": "BjzFuE5pSunn"
      },
      "execution_count": 2,
      "outputs": []
    },
    {
      "cell_type": "code",
      "source": [
        "import zipfile\n",
        "\n",
        "zipfile.ZipFile('/content/drive/MyDrive/curso-spark/ChallengeAlura/semanas-3-e-4.zip','r')\\\n",
        "        .extractall('/content/drive/MyDrive/curso-spark/ChallengeAlura/dados')"
      ],
      "metadata": {
        "id": "XkgaKJPtS5cC"
      },
      "execution_count": 3,
      "outputs": []
    },
    {
      "cell_type": "code",
      "source": [
        "dataset = spark.read.parquet('/content/drive/MyDrive/curso-spark/ChallengeAlura/dados/dataset_ml_parquet')"
      ],
      "metadata": {
        "id": "JSGZyDEuTQC2"
      },
      "execution_count": 21,
      "outputs": []
    },
    {
      "cell_type": "code",
      "source": [
        "print(f'O dataset possui {dataset.count()} registros e {len(dataset.columns)} colunas.')"
      ],
      "metadata": {
        "colab": {
          "base_uri": "https://localhost:8080/"
        },
        "id": "0ooFRthmUaau",
        "outputId": "41a2c781-a671-4066-f983-d277fdc9d962"
      },
      "execution_count": 22,
      "outputs": [
        {
          "output_type": "stream",
          "name": "stdout",
          "text": [
            "O dataset possui 66551 registros e 25 colunas.\n"
          ]
        }
      ]
    },
    {
      "cell_type": "code",
      "source": [
        "dataset.show(5)"
      ],
      "metadata": {
        "colab": {
          "base_uri": "https://localhost:8080/"
        },
        "id": "gCG6VlEOTkM8",
        "outputId": "957d5bfe-9b25-498b-ecd4-0468f269767e"
      },
      "execution_count": 5,
      "outputs": [
        {
          "output_type": "stream",
          "name": "stdout",
          "text": [
            "+--------------------+-----+---------+---------+-------+------+----+------------+----------+-----+--------+------------+----------+----------+--------+--------+------------------+-------------+------------------+--------+-------+----------+------------+-----------------+---------------+\n",
            "|                  id|andar|area_util|banheiros|quartos|suites|vaga|      bairro|condominio| iptu|   valor|Zona Central|Zona Norte|Zona Oeste|Zona Sul|Academia|Animais permitidos|Churrasqueira|Condomínio fechado|Elevador|Piscina|Playground|Portaria 24h|Portão eletrônico|Salão de festas|\n",
            "+--------------------+-----+---------+---------+-------+------+----+------------+----------+-----+--------+------------+----------+----------+--------+--------+------------------+-------------+------------------+--------+-------+----------+------------+-----------------+---------------+\n",
            "|00002dd9-cc74-480...|    2|       35|        1|      1|   0.0| 0.0|Santo Cristo|     100.0|100.0|245000.0|           1|         0|         0|       0|       1|                 1|            1|                 1|       1|      1|         1|           1|                1|              1|\n",
            "|0009ca94-2b37-438...|    1|       84|        2|      2|   0.0| 1.0|      Tijuca|     770.0|105.0|474980.0|           0|         1|         0|       0|       0|                 0|            1|                 0|       1|      0|         1|           1|                0|              1|\n",
            "|000e3d28-e3e5-411...|    0|       85|        2|      2|   0.0| 0.0|Santa Teresa|     460.0|661.0|290000.0|           0|         0|         0|       1|       0|                 1|            0|                 0|       1|      0|         0|           0|                0|              0|\n",
            "|000fb707-6cad-496...|    0|       58|        1|      2|   0.0| 1.0|   Pechincha|     550.0|550.0|249000.0|           0|         0|         1|       0|       0|                 0|            0|                 0|       0|      1|         1|           0|                0|              0|\n",
            "|001b6db0-e88d-4eb...|    0|       64|        2|      2|   1.0| 1.0|      Tijuca|     850.0|  0.0|530000.0|           0|         1|         0|       0|       0|                 0|            0|                 0|       0|      0|         0|           0|                0|              0|\n",
            "+--------------------+-----+---------+---------+-------+------+----+------------+----------+-----+--------+------------+----------+----------+--------+--------+------------------+-------------+------------------+--------+-------+----------+------------+-----------------+---------------+\n",
            "only showing top 5 rows\n",
            "\n"
          ]
        }
      ]
    },
    {
      "cell_type": "code",
      "source": [
        "dataset.printSchema()"
      ],
      "metadata": {
        "colab": {
          "base_uri": "https://localhost:8080/"
        },
        "id": "KzlHFUHrTr0c",
        "outputId": "20123994-7ecb-4c4b-9330-c7dacde61018"
      },
      "execution_count": 6,
      "outputs": [
        {
          "output_type": "stream",
          "name": "stdout",
          "text": [
            "root\n",
            " |-- id: string (nullable = true)\n",
            " |-- andar: integer (nullable = true)\n",
            " |-- area_util: integer (nullable = true)\n",
            " |-- banheiros: integer (nullable = true)\n",
            " |-- quartos: integer (nullable = true)\n",
            " |-- suites: double (nullable = true)\n",
            " |-- vaga: double (nullable = true)\n",
            " |-- bairro: string (nullable = true)\n",
            " |-- condominio: double (nullable = true)\n",
            " |-- iptu: double (nullable = true)\n",
            " |-- valor: double (nullable = true)\n",
            " |-- Zona Central: integer (nullable = true)\n",
            " |-- Zona Norte: integer (nullable = true)\n",
            " |-- Zona Oeste: integer (nullable = true)\n",
            " |-- Zona Sul: integer (nullable = true)\n",
            " |-- Academia: integer (nullable = true)\n",
            " |-- Animais permitidos: integer (nullable = true)\n",
            " |-- Churrasqueira: integer (nullable = true)\n",
            " |-- Condomínio fechado: integer (nullable = true)\n",
            " |-- Elevador: integer (nullable = true)\n",
            " |-- Piscina: integer (nullable = true)\n",
            " |-- Playground: integer (nullable = true)\n",
            " |-- Portaria 24h: integer (nullable = true)\n",
            " |-- Portão eletrônico: integer (nullable = true)\n",
            " |-- Salão de festas: integer (nullable = true)\n",
            "\n"
          ]
        }
      ]
    },
    {
      "cell_type": "code",
      "source": [
        "from pyspark.sql import functions as f"
      ],
      "metadata": {
        "id": "q8At4WVzU16A"
      },
      "execution_count": 12,
      "outputs": []
    },
    {
      "cell_type": "code",
      "source": [
        "dataset\\\n",
        "  .select([f.count(f.when(f.isnan(c) | f.isnull(c), True)).alias(c) for c in dataset.columns])\\\n",
        "  .show(vertical=True)"
      ],
      "metadata": {
        "colab": {
          "base_uri": "https://localhost:8080/"
        },
        "id": "UmBv_6KvUz4N",
        "outputId": "48208c61-1c43-4960-87f9-f2bf0aab7bd2"
      },
      "execution_count": 13,
      "outputs": [
        {
          "output_type": "stream",
          "name": "stdout",
          "text": [
            "-RECORD 0-----------------\n",
            " id                 | 0   \n",
            " andar              | 0   \n",
            " area_util          | 0   \n",
            " banheiros          | 0   \n",
            " quartos            | 0   \n",
            " suites             | 0   \n",
            " vaga               | 0   \n",
            " bairro             | 0   \n",
            " condominio         | 0   \n",
            " iptu               | 0   \n",
            " valor              | 0   \n",
            " Zona Central       | 0   \n",
            " Zona Norte         | 0   \n",
            " Zona Oeste         | 0   \n",
            " Zona Sul           | 0   \n",
            " Academia           | 0   \n",
            " Animais permitidos | 0   \n",
            " Churrasqueira      | 0   \n",
            " Condomínio fechado | 0   \n",
            " Elevador           | 0   \n",
            " Piscina            | 0   \n",
            " Playground         | 0   \n",
            " Portaria 24h       | 0   \n",
            " Portão eletrônico  | 0   \n",
            " Salão de festas    | 0   \n",
            "\n"
          ]
        }
      ]
    },
    {
      "cell_type": "markdown",
      "source": [
        "### Preparando os dados"
      ],
      "metadata": {
        "id": "hsqk0R7uUS6Z"
      }
    },
    {
      "cell_type": "code",
      "source": [
        "from pyspark.ml.feature import VectorAssembler"
      ],
      "metadata": {
        "id": "6MkXI4vZUHj-"
      },
      "execution_count": 7,
      "outputs": []
    },
    {
      "cell_type": "code",
      "source": [
        "dataset.columns"
      ],
      "metadata": {
        "colab": {
          "base_uri": "https://localhost:8080/"
        },
        "id": "DxjAfUbgVCrt",
        "outputId": "78869ea7-5d29-4efa-abd8-7117da3bfa30"
      },
      "execution_count": 23,
      "outputs": [
        {
          "output_type": "execute_result",
          "data": {
            "text/plain": [
              "['id',\n",
              " 'andar',\n",
              " 'area_util',\n",
              " 'banheiros',\n",
              " 'quartos',\n",
              " 'suites',\n",
              " 'vaga',\n",
              " 'bairro',\n",
              " 'condominio',\n",
              " 'iptu',\n",
              " 'valor',\n",
              " 'Zona Central',\n",
              " 'Zona Norte',\n",
              " 'Zona Oeste',\n",
              " 'Zona Sul',\n",
              " 'Academia',\n",
              " 'Animais permitidos',\n",
              " 'Churrasqueira',\n",
              " 'Condomínio fechado',\n",
              " 'Elevador',\n",
              " 'Piscina',\n",
              " 'Playground',\n",
              " 'Portaria 24h',\n",
              " 'Portão eletrônico',\n",
              " 'Salão de festas']"
            ]
          },
          "metadata": {},
          "execution_count": 23
        }
      ]
    },
    {
      "cell_type": "code",
      "source": [
        "X = [\n",
        "    'andar',\n",
        "    'area_util',\n",
        "    'banheiros',\n",
        "    'quartos',\n",
        "    'suites',\n",
        "    'vaga',\n",
        "    'condominio',\n",
        "    'iptu',\n",
        "    'valor',\n",
        "    'Zona Central',\n",
        "    'Zona Norte',\n",
        "    'Zona Oeste',\n",
        "    'Zona Sul',\n",
        "    'Academia',\n",
        "    'Animais permitidos',\n",
        "    'Churrasqueira',\n",
        "    'Condomínio fechado',\n",
        "    'Elevador',\n",
        "    'Piscina',\n",
        "    'Playground',\n",
        "    'Portaria 24h',\n",
        "    'Portão eletrônico',\n",
        "    'Salão de festas'\n",
        "]"
      ],
      "metadata": {
        "id": "hZRzu81fVD29"
      },
      "execution_count": 25,
      "outputs": []
    },
    {
      "cell_type": "code",
      "source": [
        "assembler = VectorAssembler(inputCols=X, outputCol='features')"
      ],
      "metadata": {
        "id": "M5NYggw2VLqU"
      },
      "execution_count": 26,
      "outputs": []
    },
    {
      "cell_type": "code",
      "source": [
        "dataset_modelo = assembler.transform(dataset).select('features','id')"
      ],
      "metadata": {
        "id": "OqbhsyxxVS8E"
      },
      "execution_count": 27,
      "outputs": []
    },
    {
      "cell_type": "code",
      "source": [
        "dataset_modelo.show(5, truncate=False)"
      ],
      "metadata": {
        "colab": {
          "base_uri": "https://localhost:8080/"
        },
        "id": "1nU0dY-SVTj0",
        "outputId": "24406116-94c4-4172-8de0-7f3291566382"
      },
      "execution_count": 28,
      "outputs": [
        {
          "output_type": "stream",
          "name": "stdout",
          "text": [
            "+------------------------------------------------------------------------------------------------------------+------------------------------------+\n",
            "|features                                                                                                    |id                                  |\n",
            "+------------------------------------------------------------------------------------------------------------+------------------------------------+\n",
            "|[2.0,35.0,1.0,1.0,0.0,0.0,100.0,100.0,245000.0,1.0,0.0,0.0,0.0,1.0,1.0,1.0,1.0,1.0,1.0,1.0,1.0,1.0,1.0]     |00002dd9-cc74-4809-b5a5-850adf0e7526|\n",
            "|(23,[0,1,2,3,5,6,7,8,10,15,17,19,20,22],[1.0,84.0,2.0,2.0,1.0,770.0,105.0,474980.0,1.0,1.0,1.0,1.0,1.0,1.0])|0009ca94-2b37-4381-b8b8-773ce0f92444|\n",
            "|(23,[1,2,3,6,7,8,12,14,17],[85.0,2.0,2.0,460.0,661.0,290000.0,1.0,1.0,1.0])                                 |000e3d28-e3e5-4110-b488-69154931140e|\n",
            "|(23,[1,2,3,5,6,7,8,11,18,19],[58.0,1.0,2.0,1.0,550.0,550.0,249000.0,1.0,1.0,1.0])                           |000fb707-6cad-496d-8cb7-d8046cb5ef37|\n",
            "|(23,[1,2,3,4,5,6,8,10],[64.0,2.0,2.0,1.0,1.0,850.0,530000.0,1.0])                                           |001b6db0-e88d-4eba-84e5-0ef94b091a64|\n",
            "+------------------------------------------------------------------------------------------------------------+------------------------------------+\n",
            "only showing top 5 rows\n",
            "\n"
          ]
        }
      ]
    },
    {
      "cell_type": "markdown",
      "source": [
        "### Padronização dos dados\n",
        "\n",
        "Para realizar a clusterização dos dados é preciso que as variáveis tenham valores mais próximos uma das outras. Uma forma de se obter isso é utilizando o StandardScaler que realiza a padronização dos dados subtraindo cada coluna por sua média e dividindo pelo seu desvio padrão. Dessa forma, a distribuição de todas as variáveis terá uma média zero e desvio padrão igual a um."
      ],
      "metadata": {
        "id": "618c4iT_bRgK"
      }
    },
    {
      "cell_type": "code",
      "source": [
        "from pyspark.ml.feature import StandardScaler"
      ],
      "metadata": {
        "id": "2sdvQnLhVWws"
      },
      "execution_count": 29,
      "outputs": []
    },
    {
      "cell_type": "code",
      "source": [
        "scaler = StandardScaler(inputCol='features', outputCol='scaled_features')\n",
        "scaler_model = scaler.fit(dataset_modelo)\n",
        "dataset_modelo_scaler = scaler_model.transform(dataset_modelo)   # fit_transform (?)"
      ],
      "metadata": {
        "id": "OKt1Frc7bT3N"
      },
      "execution_count": 30,
      "outputs": []
    },
    {
      "cell_type": "code",
      "source": [
        "dataset_modelo_scaler.show(5)"
      ],
      "metadata": {
        "colab": {
          "base_uri": "https://localhost:8080/"
        },
        "id": "KIIkOxDAbjXE",
        "outputId": "8f053114-9491-4559-cadb-aa021edb9900"
      },
      "execution_count": 31,
      "outputs": [
        {
          "output_type": "stream",
          "name": "stdout",
          "text": [
            "+--------------------+--------------------+--------------------+\n",
            "|            features|                  id|     scaled_features|\n",
            "+--------------------+--------------------+--------------------+\n",
            "|[2.0,35.0,1.0,1.0...|00002dd9-cc74-480...|[0.13607726247524...|\n",
            "|(23,[0,1,2,3,5,6,...|0009ca94-2b37-438...|(23,[0,1,2,3,5,6,...|\n",
            "|(23,[1,2,3,6,7,8,...|000e3d28-e3e5-411...|(23,[1,2,3,6,7,8,...|\n",
            "|(23,[1,2,3,5,6,7,...|000fb707-6cad-496...|(23,[1,2,3,5,6,7,...|\n",
            "|(23,[1,2,3,4,5,6,...|001b6db0-e88d-4eb...|(23,[1,2,3,4,5,6,...|\n",
            "+--------------------+--------------------+--------------------+\n",
            "only showing top 5 rows\n",
            "\n"
          ]
        }
      ]
    },
    {
      "cell_type": "markdown",
      "source": [
        "### Redução de dimensionalidade\n",
        "\n",
        "Para redução de dimensionalidade foi utilizado o PCA. Essa redução é necessária para permitir a visualização dos dados"
      ],
      "metadata": {
        "id": "WWFXIolnb6jl"
      }
    },
    {
      "cell_type": "code",
      "source": [
        "from pyspark.ml.feature import PCA"
      ],
      "metadata": {
        "id": "tUI0EACsbnm0"
      },
      "execution_count": 32,
      "outputs": []
    },
    {
      "cell_type": "code",
      "source": [
        "pca = PCA(k=2, inputCol='scaled_features', outputCol='pca_features')\n",
        "model_pca = pca.fit(dataset_modelo_scaler)\n",
        "dataset_modelo_pca = model_pca.transform(dataset_modelo_scaler)"
      ],
      "metadata": {
        "id": "Ktpf4gOyd4pu"
      },
      "execution_count": 33,
      "outputs": []
    },
    {
      "cell_type": "code",
      "source": [
        "dataset_modelo_pca.select('pca_features').show(5, False)"
      ],
      "metadata": {
        "colab": {
          "base_uri": "https://localhost:8080/"
        },
        "id": "rAiEsNx4eFRu",
        "outputId": "1bbaba59-daff-4e3c-e065-f46b43a64ff6"
      },
      "execution_count": 36,
      "outputs": [
        {
          "output_type": "stream",
          "name": "stdout",
          "text": [
            "+-----------------------------------------+\n",
            "|pca_features                             |\n",
            "+-----------------------------------------+\n",
            "|[-6.165125049533812,1.3380985269405694]  |\n",
            "|[-3.2529111812184865,-1.1179591836228857]|\n",
            "|[-1.0611769329629537,-1.6685040058694294]|\n",
            "|[-1.995811900783872,-1.7655796610847843] |\n",
            "|[-0.4181406070145923,-2.131040791141693] |\n",
            "+-----------------------------------------+\n",
            "only showing top 5 rows\n",
            "\n"
          ]
        }
      ]
    },
    {
      "cell_type": "markdown",
      "source": [
        "### Criando um pipeline"
      ],
      "metadata": {
        "id": "MuZOYaPUeWru"
      }
    },
    {
      "cell_type": "code",
      "source": [
        "from pyspark.ml import Pipeline"
      ],
      "metadata": {
        "id": "0-DKtrE-em6a"
      },
      "execution_count": 37,
      "outputs": []
    },
    {
      "cell_type": "code",
      "source": [
        "pca_pipeline = Pipeline(stages=[VectorAssembler(inputCols=X, outputCol='features'),\n",
        "                                StandardScaler(inputCol='features', outputCol='scaled_features'),\n",
        "                                PCA(k=2, inputCol='scaled_features', outputCol='pca_features')])"
      ],
      "metadata": {
        "id": "pQH-_ok0eHIf"
      },
      "execution_count": 38,
      "outputs": []
    },
    {
      "cell_type": "code",
      "source": [
        "pca_pipeline_model = pca_pipeline.fit(dataset)"
      ],
      "metadata": {
        "id": "j-WEggv4e40J"
      },
      "execution_count": 39,
      "outputs": []
    },
    {
      "cell_type": "code",
      "source": [
        "dados_pipeline_model = pca_pipeline_model.transform(dataset)"
      ],
      "metadata": {
        "id": "sLy-BEQefCT0"
      },
      "execution_count": 40,
      "outputs": []
    },
    {
      "cell_type": "code",
      "source": [
        "dados_pipeline_model.select('pca_features').show(5, False)"
      ],
      "metadata": {
        "colab": {
          "base_uri": "https://localhost:8080/"
        },
        "id": "LTp29vwLfM-0",
        "outputId": "39afdc1a-5d59-4c28-8689-b7a483465a19"
      },
      "execution_count": 44,
      "outputs": [
        {
          "output_type": "stream",
          "name": "stdout",
          "text": [
            "+-----------------------------------------+\n",
            "|pca_features                             |\n",
            "+-----------------------------------------+\n",
            "|[-6.165125049533812,1.3380985269405694]  |\n",
            "|[-3.2529111812184865,-1.1179591836228857]|\n",
            "|[-1.0611769329629537,-1.6685040058694294]|\n",
            "|[-1.995811900783872,-1.7655796610847843] |\n",
            "|[-0.4181406070145923,-2.131040791141693] |\n",
            "+-----------------------------------------+\n",
            "only showing top 5 rows\n",
            "\n"
          ]
        }
      ]
    },
    {
      "cell_type": "markdown",
      "source": [
        "### Criando os clusters"
      ],
      "metadata": {
        "id": "rB8z_6Liff-1"
      }
    },
    {
      "cell_type": "code",
      "source": [
        "from pyspark.ml.clustering import KMeans"
      ],
      "metadata": {
        "id": "YwGYMy_2fVI1"
      },
      "execution_count": 42,
      "outputs": []
    },
    {
      "cell_type": "code",
      "source": [
        "kmeans = KMeans(featuresCol='pca_features', predictionCol='cluster_pca').setK(5)"
      ],
      "metadata": {
        "id": "hwgRaXMvgf3-"
      },
      "execution_count": 43,
      "outputs": []
    },
    {
      "cell_type": "code",
      "source": [
        "model_kmeans = kmeans.fit(dados_pipeline_model)"
      ],
      "metadata": {
        "id": "r8-ErHiKg3gF"
      },
      "execution_count": 45,
      "outputs": []
    },
    {
      "cell_type": "code",
      "source": [
        "prections_kmeans = model_kmeans.transform(dados_pipeline_model)"
      ],
      "metadata": {
        "id": "pXIu8Hg7hBLu"
      },
      "execution_count": 46,
      "outputs": []
    },
    {
      "cell_type": "code",
      "source": [
        "prections_kmeans.select('id', 'cluster_pca').show(5,False)"
      ],
      "metadata": {
        "colab": {
          "base_uri": "https://localhost:8080/"
        },
        "id": "097Hoop5hHmM",
        "outputId": "05902a16-7ed0-4a02-8989-878213c92861"
      },
      "execution_count": 47,
      "outputs": [
        {
          "output_type": "stream",
          "name": "stdout",
          "text": [
            "+------------------------------------+-----------+\n",
            "|id                                  |cluster_pca|\n",
            "+------------------------------------+-----------+\n",
            "|00002dd9-cc74-4809-b5a5-850adf0e7526|1          |\n",
            "|0009ca94-2b37-4381-b8b8-773ce0f92444|3          |\n",
            "|000e3d28-e3e5-4110-b488-69154931140e|0          |\n",
            "|000fb707-6cad-496d-8cb7-d8046cb5ef37|3          |\n",
            "|001b6db0-e88d-4eba-84e5-0ef94b091a64|0          |\n",
            "+------------------------------------+-----------+\n",
            "only showing top 5 rows\n",
            "\n"
          ]
        }
      ]
    },
    {
      "cell_type": "markdown",
      "source": [
        "### Filtrando imoveis do mesmo cluster"
      ],
      "metadata": {
        "id": "3PGNrECNh7-M"
      }
    },
    {
      "cell_type": "code",
      "source": [
        "cluster_imoveis = prections_kmeans.select('id', 'cluster_pca')"
      ],
      "metadata": {
        "id": "1qljAHyohQGO"
      },
      "execution_count": 48,
      "outputs": []
    },
    {
      "cell_type": "code",
      "source": [
        "dataset = dataset\\\n",
        "              .join(cluster_imoveis,'id', how='inner')"
      ],
      "metadata": {
        "id": "nvgvIAoHiHN9"
      },
      "execution_count": 49,
      "outputs": []
    },
    {
      "cell_type": "code",
      "source": [
        "dataset.show(5)"
      ],
      "metadata": {
        "colab": {
          "base_uri": "https://localhost:8080/"
        },
        "id": "7BZRwZeSigkj",
        "outputId": "95ad209e-3959-4379-82e9-a6ad5e9106d9"
      },
      "execution_count": 50,
      "outputs": [
        {
          "output_type": "stream",
          "name": "stdout",
          "text": [
            "+--------------------+-----+---------+---------+-------+------+----+------------+----------+-----+--------+------------+----------+----------+--------+--------+------------------+-------------+------------------+--------+-------+----------+------------+-----------------+---------------+-----------+\n",
            "|                  id|andar|area_util|banheiros|quartos|suites|vaga|      bairro|condominio| iptu|   valor|Zona Central|Zona Norte|Zona Oeste|Zona Sul|Academia|Animais permitidos|Churrasqueira|Condomínio fechado|Elevador|Piscina|Playground|Portaria 24h|Portão eletrônico|Salão de festas|cluster_pca|\n",
            "+--------------------+-----+---------+---------+-------+------+----+------------+----------+-----+--------+------------+----------+----------+--------+--------+------------------+-------------+------------------+--------+-------+----------+------------+-----------------+---------------+-----------+\n",
            "|00002dd9-cc74-480...|    2|       35|        1|      1|   0.0| 0.0|Santo Cristo|     100.0|100.0|245000.0|           1|         0|         0|       0|       1|                 1|            1|                 1|       1|      1|         1|           1|                1|              1|          1|\n",
            "|0009ca94-2b37-438...|    1|       84|        2|      2|   0.0| 1.0|      Tijuca|     770.0|105.0|474980.0|           0|         1|         0|       0|       0|                 0|            1|                 0|       1|      0|         1|           1|                0|              1|          3|\n",
            "|000e3d28-e3e5-411...|    0|       85|        2|      2|   0.0| 0.0|Santa Teresa|     460.0|661.0|290000.0|           0|         0|         0|       1|       0|                 1|            0|                 0|       1|      0|         0|           0|                0|              0|          0|\n",
            "|000fb707-6cad-496...|    0|       58|        1|      2|   0.0| 1.0|   Pechincha|     550.0|550.0|249000.0|           0|         0|         1|       0|       0|                 0|            0|                 0|       0|      1|         1|           0|                0|              0|          3|\n",
            "|001b6db0-e88d-4eb...|    0|       64|        2|      2|   1.0| 1.0|      Tijuca|     850.0|  0.0|530000.0|           0|         1|         0|       0|       0|                 0|            0|                 0|       0|      0|         0|           0|                0|              0|          0|\n",
            "+--------------------+-----+---------+---------+-------+------+----+------------+----------+-----+--------+------------+----------+----------+--------+--------+------------------+-------------+------------------+--------+-------+----------+------------+-----------------+---------------+-----------+\n",
            "only showing top 5 rows\n",
            "\n"
          ]
        }
      ]
    },
    {
      "cell_type": "code",
      "source": [
        "dataset.groupBy('cluster_pca').count().show()"
      ],
      "metadata": {
        "colab": {
          "base_uri": "https://localhost:8080/"
        },
        "id": "bAnjIu4XjtOG",
        "outputId": "afc8c840-e106-4647-adc1-9ac46ebd0c70"
      },
      "execution_count": 62,
      "outputs": [
        {
          "output_type": "stream",
          "name": "stdout",
          "text": [
            "+-----------+-----+\n",
            "|cluster_pca|count|\n",
            "+-----------+-----+\n",
            "|          1|19298|\n",
            "|          3|15707|\n",
            "|          4| 6983|\n",
            "|          2| 6092|\n",
            "|          0|18471|\n",
            "+-----------+-----+\n",
            "\n"
          ]
        }
      ]
    },
    {
      "cell_type": "code",
      "source": [
        "cluster_means = dataset.groupBy('cluster_pca').mean()\n",
        "cluster_means.show()"
      ],
      "metadata": {
        "colab": {
          "base_uri": "https://localhost:8080/"
        },
        "id": "sulVeNz3idXZ",
        "outputId": "86676742-85a6-499e-a1e1-376b0388c283"
      },
      "execution_count": 60,
      "outputs": [
        {
          "output_type": "stream",
          "name": "stdout",
          "text": [
            "+-----------+------------------+------------------+------------------+------------------+------------------+------------------+------------------+------------------+-----------------+--------------------+-------------------+-------------------+-------------------+--------------------+-----------------------+--------------------+-----------------------+-------------------+-------------------+-------------------+-------------------+----------------------+--------------------+----------------+\n",
            "|cluster_pca|        avg(andar)|    avg(area_util)|    avg(banheiros)|      avg(quartos)|       avg(suites)|         avg(vaga)|   avg(condominio)|         avg(iptu)|       avg(valor)|   avg(Zona Central)|    avg(Zona Norte)|    avg(Zona Oeste)|      avg(Zona Sul)|       avg(Academia)|avg(Animais permitidos)|  avg(Churrasqueira)|avg(Condomínio fechado)|      avg(Elevador)|       avg(Piscina)|    avg(Playground)|  avg(Portaria 24h)|avg(Portão eletrônico)|avg(Salão de festas)|avg(cluster_pca)|\n",
            "+-----------+------------------+------------------+------------------+------------------+------------------+------------------+------------------+------------------+-----------------+--------------------+-------------------+-------------------+-------------------+--------------------+-----------------------+--------------------+-----------------------+-------------------+-------------------+-------------------+-------------------+----------------------+--------------------+----------------+\n",
            "|          1| 3.505285521815732| 85.04601513110167|2.0440978339724323| 2.402995129028915|0.9969426883614882|1.2209555394341383| 4371.720540988704|3344.8696756140534|785557.7773344388| 0.02865581925588144|0.16540574152761944| 0.6892942273810757|0.11664421183542335|  0.9246035858638201|     0.8354751787750025|  0.9296300134728988|     0.9827443258368743| 0.9590112965074101|  0.949994818115867| 0.9223235568452689|  0.895895947766608|    0.8337133381697586|  0.9631568038138667|             1.0|\n",
            "|          3| 2.124021137072643| 84.66371681415929|1.9684853886802063| 2.260966448080474|0.6905201502514803|1.0150888139046286|  3471.05035971223| 2002.848475202139|809706.2081237665|0.018845100910422106| 0.2224485898007258| 0.4261157445724836| 0.3325905647163685|  0.2424396765773222|     0.4715731839307315|  0.4276437257273827|     0.5288088113579933| 0.6938944419685491| 0.4412682243585662| 0.4216591328706946| 0.4240784363659515|    0.4434328643280066|  0.4726555039154517|             3.0|\n",
            "|          4|1.2401546613203493|238.05169697837604| 4.200486896749248|3.6803666046111987| 2.192181011026779|2.3379636259487326| 6145.865100959473|17733.916225118144|3166268.500787627|                 0.0|0.04109981383359588| 0.5086638980380925| 0.4502362881283116| 0.04997851926106258|     0.1918946011742804| 0.15795503365315766|    0.17700128884433625|0.41185736789345556|0.21752828297293428|0.14549620506945438|0.14291851639696407|   0.18387512530431047| 0.15179722182443076|             4.0|\n",
            "|          2|5.0932370321733424| 243.2639527248851| 4.536769533814839|3.8154957321076823|2.9791529875246225|3.0047603414313855|14685.114412344057| 9775.154300722259| 3230195.88328956|                 0.0|0.01149047931713723| 0.8447143795141169| 0.1437951411687459|  0.9108667104399212|     0.7000984898227183|  0.8655613919894944|     0.9075837163493106|  0.935817465528562| 0.9571569271175312| 0.8896913985554826| 0.7252133946158897|    0.6812212738017072|  0.9162836506894287|             2.0|\n",
            "|          0|0.8059119701153159| 89.53169833793514|1.9502463320881382|2.3287315250933895|0.5530832115207622|0.8257268150073087|2073.5534080450434| 2381.759677332034|892250.9705484273| 0.01597098153862812|   0.26279031996102|0.23203941313410212| 0.4891992853662498|0.004980780683233176|    0.08023388013643008|0.038113800010827786|    0.05110714092360998| 0.2728601591684262|0.03362026961182394|0.05392236478804613|0.05381408694710627|  0.045205998592388066|  0.0502950571165611|             0.0|\n",
            "+-----------+------------------+------------------+------------------+------------------+------------------+------------------+------------------+------------------+-----------------+--------------------+-------------------+-------------------+-------------------+--------------------+-----------------------+--------------------+-----------------------+-------------------+-------------------+-------------------+-------------------+----------------------+--------------------+----------------+\n",
            "\n"
          ]
        }
      ]
    },
    {
      "cell_type": "code",
      "source": [],
      "metadata": {
        "id": "NosO3u2ui9Zn"
      },
      "execution_count": null,
      "outputs": []
    }
  ]
}
