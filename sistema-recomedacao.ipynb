{
  "nbformat": 4,
  "nbformat_minor": 0,
  "metadata": {
    "colab": {
      "provenance": [],
      "mount_file_id": "16yHGxv7X7o_VsOkhBd4XbyOUJjcd28l8",
      "authorship_tag": "ABX9TyONvDQA6fOWpurr6g29tdKn",
      "include_colab_link": true
    },
    "kernelspec": {
      "name": "python3",
      "display_name": "Python 3"
    },
    "language_info": {
      "name": "python"
    }
  },
  "cells": [
    {
      "cell_type": "markdown",
      "metadata": {
        "id": "view-in-github",
        "colab_type": "text"
      },
      "source": [
        "<a href=\"https://colab.research.google.com/github/sarahgruetz/AluraChallenge_DS_2/blob/main/sistema-recomedacao.ipynb\" target=\"_parent\"><img src=\"https://colab.research.google.com/assets/colab-badge.svg\" alt=\"Open In Colab\"/></a>"
      ]
    },
    {
      "cell_type": "code",
      "execution_count": 1,
      "metadata": {
        "colab": {
          "base_uri": "https://localhost:8080/"
        },
        "id": "DoZBXSmVSO2P",
        "outputId": "6f1409f2-96c3-4b9a-8e23-df99f6f4a74b"
      },
      "outputs": [
        {
          "output_type": "stream",
          "name": "stdout",
          "text": [
            "Looking in indexes: https://pypi.org/simple, https://us-python.pkg.dev/colab-wheels/public/simple/\n",
            "Requirement already satisfied: pyspark in /usr/local/lib/python3.8/dist-packages (3.3.1)\n",
            "Requirement already satisfied: py4j==0.10.9.5 in /usr/local/lib/python3.8/dist-packages (from pyspark) (0.10.9.5)\n"
          ]
        }
      ],
      "source": [
        "!pip install pyspark"
      ]
    },
    {
      "cell_type": "markdown",
      "source": [
        "### Iniciando a SparkSession"
      ],
      "metadata": {
        "id": "NDiMTWR7Syom"
      }
    },
    {
      "cell_type": "code",
      "source": [
        "from pyspark.sql import SparkSession\n",
        "\n",
        "spark = SparkSession.builder \\\n",
        "    .master('local[*]') \\\n",
        "    .appName(\"Sistema de Recomendação\") \\\n",
        "    .getOrCreate()"
      ],
      "metadata": {
        "id": "BjzFuE5pSunn"
      },
      "execution_count": 2,
      "outputs": []
    },
    {
      "cell_type": "code",
      "source": [
        "import zipfile\n",
        "\n",
        "zipfile.ZipFile('/content/drive/MyDrive/curso-spark/ChallengeAlura/semanas-3-e-4.zip','r')\\\n",
        "        .extractall('/content/drive/MyDrive/curso-spark/ChallengeAlura/dados')"
      ],
      "metadata": {
        "id": "XkgaKJPtS5cC"
      },
      "execution_count": 3,
      "outputs": []
    },
    {
      "cell_type": "code",
      "source": [
        "dataset = spark.read.parquet('/content/drive/MyDrive/curso-spark/ChallengeAlura/dados/dataset_ml_parquet')"
      ],
      "metadata": {
        "id": "JSGZyDEuTQC2"
      },
      "execution_count": 4,
      "outputs": []
    },
    {
      "cell_type": "code",
      "source": [
        "print(f'O dataset possui {dataset.count()} registros e {len(dataset.columns)} colunas.')"
      ],
      "metadata": {
        "colab": {
          "base_uri": "https://localhost:8080/"
        },
        "id": "0ooFRthmUaau",
        "outputId": "96d37c42-c818-415c-810c-cf61a1d91366"
      },
      "execution_count": 5,
      "outputs": [
        {
          "output_type": "stream",
          "name": "stdout",
          "text": [
            "O dataset possui 66551 registros e 25 colunas.\n"
          ]
        }
      ]
    },
    {
      "cell_type": "code",
      "source": [
        "dataset.show(5)"
      ],
      "metadata": {
        "colab": {
          "base_uri": "https://localhost:8080/"
        },
        "id": "gCG6VlEOTkM8",
        "outputId": "4c87376b-de75-4634-b16e-36d369b54be0"
      },
      "execution_count": 6,
      "outputs": [
        {
          "output_type": "stream",
          "name": "stdout",
          "text": [
            "+--------------------+-----+---------+---------+-------+------+----+------------+----------+-----+--------+------------+----------+----------+--------+--------+------------------+-------------+------------------+--------+-------+----------+------------+-----------------+---------------+\n",
            "|                  id|andar|area_util|banheiros|quartos|suites|vaga|      bairro|condominio| iptu|   valor|Zona Central|Zona Norte|Zona Oeste|Zona Sul|Academia|Animais permitidos|Churrasqueira|Condomínio fechado|Elevador|Piscina|Playground|Portaria 24h|Portão eletrônico|Salão de festas|\n",
            "+--------------------+-----+---------+---------+-------+------+----+------------+----------+-----+--------+------------+----------+----------+--------+--------+------------------+-------------+------------------+--------+-------+----------+------------+-----------------+---------------+\n",
            "|00002dd9-cc74-480...|    2|       35|        1|      1|   0.0| 0.0|Santo Cristo|     100.0|100.0|245000.0|           1|         0|         0|       0|       1|                 1|            1|                 1|       1|      1|         1|           1|                1|              1|\n",
            "|0009ca94-2b37-438...|    1|       84|        2|      2|   0.0| 1.0|      Tijuca|     770.0|105.0|474980.0|           0|         1|         0|       0|       0|                 0|            1|                 0|       1|      0|         1|           1|                0|              1|\n",
            "|000e3d28-e3e5-411...|    0|       85|        2|      2|   0.0| 0.0|Santa Teresa|     460.0|661.0|290000.0|           0|         0|         0|       1|       0|                 1|            0|                 0|       1|      0|         0|           0|                0|              0|\n",
            "|000fb707-6cad-496...|    0|       58|        1|      2|   0.0| 1.0|   Pechincha|     550.0|550.0|249000.0|           0|         0|         1|       0|       0|                 0|            0|                 0|       0|      1|         1|           0|                0|              0|\n",
            "|001b6db0-e88d-4eb...|    0|       64|        2|      2|   1.0| 1.0|      Tijuca|     850.0|  0.0|530000.0|           0|         1|         0|       0|       0|                 0|            0|                 0|       0|      0|         0|           0|                0|              0|\n",
            "+--------------------+-----+---------+---------+-------+------+----+------------+----------+-----+--------+------------+----------+----------+--------+--------+------------------+-------------+------------------+--------+-------+----------+------------+-----------------+---------------+\n",
            "only showing top 5 rows\n",
            "\n"
          ]
        }
      ]
    },
    {
      "cell_type": "code",
      "source": [
        "dataset.printSchema()"
      ],
      "metadata": {
        "colab": {
          "base_uri": "https://localhost:8080/"
        },
        "id": "KzlHFUHrTr0c",
        "outputId": "3c30e92c-fcaf-4986-df4e-d384c412422d"
      },
      "execution_count": 7,
      "outputs": [
        {
          "output_type": "stream",
          "name": "stdout",
          "text": [
            "root\n",
            " |-- id: string (nullable = true)\n",
            " |-- andar: integer (nullable = true)\n",
            " |-- area_util: integer (nullable = true)\n",
            " |-- banheiros: integer (nullable = true)\n",
            " |-- quartos: integer (nullable = true)\n",
            " |-- suites: double (nullable = true)\n",
            " |-- vaga: double (nullable = true)\n",
            " |-- bairro: string (nullable = true)\n",
            " |-- condominio: double (nullable = true)\n",
            " |-- iptu: double (nullable = true)\n",
            " |-- valor: double (nullable = true)\n",
            " |-- Zona Central: integer (nullable = true)\n",
            " |-- Zona Norte: integer (nullable = true)\n",
            " |-- Zona Oeste: integer (nullable = true)\n",
            " |-- Zona Sul: integer (nullable = true)\n",
            " |-- Academia: integer (nullable = true)\n",
            " |-- Animais permitidos: integer (nullable = true)\n",
            " |-- Churrasqueira: integer (nullable = true)\n",
            " |-- Condomínio fechado: integer (nullable = true)\n",
            " |-- Elevador: integer (nullable = true)\n",
            " |-- Piscina: integer (nullable = true)\n",
            " |-- Playground: integer (nullable = true)\n",
            " |-- Portaria 24h: integer (nullable = true)\n",
            " |-- Portão eletrônico: integer (nullable = true)\n",
            " |-- Salão de festas: integer (nullable = true)\n",
            "\n"
          ]
        }
      ]
    },
    {
      "cell_type": "code",
      "source": [
        "from pyspark.sql import functions as f"
      ],
      "metadata": {
        "id": "q8At4WVzU16A"
      },
      "execution_count": 8,
      "outputs": []
    },
    {
      "cell_type": "code",
      "source": [
        "dataset\\\n",
        "  .select([f.count(f.when(f.isnan(c) | f.isnull(c), True)).alias(c) for c in dataset.columns])\\\n",
        "  .show(vertical=True)"
      ],
      "metadata": {
        "colab": {
          "base_uri": "https://localhost:8080/"
        },
        "id": "UmBv_6KvUz4N",
        "outputId": "33b4e8ce-358e-42e9-cb79-35289731b03a"
      },
      "execution_count": 9,
      "outputs": [
        {
          "output_type": "stream",
          "name": "stdout",
          "text": [
            "-RECORD 0-----------------\n",
            " id                 | 0   \n",
            " andar              | 0   \n",
            " area_util          | 0   \n",
            " banheiros          | 0   \n",
            " quartos            | 0   \n",
            " suites             | 0   \n",
            " vaga               | 0   \n",
            " bairro             | 0   \n",
            " condominio         | 0   \n",
            " iptu               | 0   \n",
            " valor              | 0   \n",
            " Zona Central       | 0   \n",
            " Zona Norte         | 0   \n",
            " Zona Oeste         | 0   \n",
            " Zona Sul           | 0   \n",
            " Academia           | 0   \n",
            " Animais permitidos | 0   \n",
            " Churrasqueira      | 0   \n",
            " Condomínio fechado | 0   \n",
            " Elevador           | 0   \n",
            " Piscina            | 0   \n",
            " Playground         | 0   \n",
            " Portaria 24h       | 0   \n",
            " Portão eletrônico  | 0   \n",
            " Salão de festas    | 0   \n",
            "\n"
          ]
        }
      ]
    },
    {
      "cell_type": "markdown",
      "source": [
        "### Renomeando colunas"
      ],
      "metadata": {
        "id": "2t5WL5AJus-V"
      }
    },
    {
      "cell_type": "code",
      "source": [
        "novos_nomes = [\n",
        "      'id',\n",
        "      'andar',\n",
        "      'area_util',\n",
        "      'banheiros',\n",
        "      'quartos',\n",
        "      'suites',\n",
        "      'vaga',\n",
        "      'bairro',\n",
        "      'condominio',\n",
        "      'iptu',\n",
        "      'valor',\n",
        "      'zona_central',\n",
        "      'zona_norte',\n",
        "      'zona_oeste',\n",
        "      'zona_sul',\n",
        "      'academia',\n",
        "      'animais_permitidos',\n",
        "      'churrasqueira',\n",
        "      'condominio_fechado',\n",
        "      'elevador',\n",
        "      'piscina',\n",
        "      'playground',\n",
        "      'portaria_24h',\n",
        "      'portao_eletronico',\n",
        "      'salao_festas'\n",
        "      ]"
      ],
      "metadata": {
        "id": "qJtaGjrSusnj"
      },
      "execution_count": 10,
      "outputs": []
    },
    {
      "cell_type": "code",
      "source": [
        "mapa_renomear = zip(dataset.columns,novos_nomes)"
      ],
      "metadata": {
        "id": "8jmVnHp0vVdT"
      },
      "execution_count": 11,
      "outputs": []
    },
    {
      "cell_type": "code",
      "source": [
        "for antigo, novo in mapa_renomear:\n",
        "  dataset = dataset.withColumnRenamed(antigo, novo)\n",
        "\n",
        "dataset.columns"
      ],
      "metadata": {
        "colab": {
          "base_uri": "https://localhost:8080/"
        },
        "id": "yxqfroyPvbXe",
        "outputId": "810b82c1-7a67-4d08-b61d-d6198b136a94"
      },
      "execution_count": 12,
      "outputs": [
        {
          "output_type": "execute_result",
          "data": {
            "text/plain": [
              "['id',\n",
              " 'andar',\n",
              " 'area_util',\n",
              " 'banheiros',\n",
              " 'quartos',\n",
              " 'suites',\n",
              " 'vaga',\n",
              " 'bairro',\n",
              " 'condominio',\n",
              " 'iptu',\n",
              " 'valor',\n",
              " 'zona_central',\n",
              " 'zona_norte',\n",
              " 'zona_oeste',\n",
              " 'zona_sul',\n",
              " 'academia',\n",
              " 'animais_permitidos',\n",
              " 'churrasqueira',\n",
              " 'condominio_fechado',\n",
              " 'elevador',\n",
              " 'piscina',\n",
              " 'playground',\n",
              " 'portaria_24h',\n",
              " 'portao_eletronico',\n",
              " 'salao_festas']"
            ]
          },
          "metadata": {},
          "execution_count": 12
        }
      ]
    },
    {
      "cell_type": "markdown",
      "source": [
        "### Preparando os dados"
      ],
      "metadata": {
        "id": "hsqk0R7uUS6Z"
      }
    },
    {
      "cell_type": "code",
      "source": [
        "from pyspark.ml.feature import VectorAssembler"
      ],
      "metadata": {
        "id": "6MkXI4vZUHj-"
      },
      "execution_count": 13,
      "outputs": []
    },
    {
      "cell_type": "code",
      "source": [
        "dataset.columns"
      ],
      "metadata": {
        "colab": {
          "base_uri": "https://localhost:8080/"
        },
        "id": "DxjAfUbgVCrt",
        "outputId": "8229d76f-19ea-4b71-ae9a-4a2390103fd9"
      },
      "execution_count": 14,
      "outputs": [
        {
          "output_type": "execute_result",
          "data": {
            "text/plain": [
              "['id',\n",
              " 'andar',\n",
              " 'area_util',\n",
              " 'banheiros',\n",
              " 'quartos',\n",
              " 'suites',\n",
              " 'vaga',\n",
              " 'bairro',\n",
              " 'condominio',\n",
              " 'iptu',\n",
              " 'valor',\n",
              " 'zona_central',\n",
              " 'zona_norte',\n",
              " 'zona_oeste',\n",
              " 'zona_sul',\n",
              " 'academia',\n",
              " 'animais_permitidos',\n",
              " 'churrasqueira',\n",
              " 'condominio_fechado',\n",
              " 'elevador',\n",
              " 'piscina',\n",
              " 'playground',\n",
              " 'portaria_24h',\n",
              " 'portao_eletronico',\n",
              " 'salao_festas']"
            ]
          },
          "metadata": {},
          "execution_count": 14
        }
      ]
    },
    {
      "cell_type": "code",
      "source": [
        "X = [\n",
        "    'andar',\n",
        "    'area_util',\n",
        "    'banheiros',\n",
        "    'quartos',\n",
        "    'suites',\n",
        "    'vaga',\n",
        "    'condominio',\n",
        "    'iptu',\n",
        "    'valor',\n",
        "    'zona_central',\n",
        "    'zona_norte',\n",
        "    'zona_oeste',\n",
        "    'zona_sul',\n",
        "    'academia',\n",
        "    'animais_permitidos',\n",
        "    'churrasqueira',\n",
        "    'condominio_fechado',\n",
        "    'elevador',\n",
        "    'piscina',\n",
        "    'playground',\n",
        "    'portaria_24h',\n",
        "    'portao_eletronico',\n",
        "    'salao_festas'\n",
        " ]"
      ],
      "metadata": {
        "id": "hZRzu81fVD29"
      },
      "execution_count": 15,
      "outputs": []
    },
    {
      "cell_type": "code",
      "source": [
        "assembler = VectorAssembler(inputCols=X, outputCol='features')"
      ],
      "metadata": {
        "id": "M5NYggw2VLqU"
      },
      "execution_count": 16,
      "outputs": []
    },
    {
      "cell_type": "code",
      "source": [
        "dataset_modelo = assembler.transform(dataset)"
      ],
      "metadata": {
        "id": "OqbhsyxxVS8E"
      },
      "execution_count": 17,
      "outputs": []
    },
    {
      "cell_type": "code",
      "source": [
        "dataset_modelo.show(5, truncate=False)"
      ],
      "metadata": {
        "colab": {
          "base_uri": "https://localhost:8080/"
        },
        "id": "1nU0dY-SVTj0",
        "outputId": "42de1375-4413-4a24-c18c-eb9001c15d87"
      },
      "execution_count": 18,
      "outputs": [
        {
          "output_type": "stream",
          "name": "stdout",
          "text": [
            "+------------------------------------+-----+---------+---------+-------+------+----+------------+----------+-----+--------+------------+----------+----------+--------+--------+------------------+-------------+------------------+--------+-------+----------+------------+-----------------+------------+------------------------------------------------------------------------------------------------------------+\n",
            "|id                                  |andar|area_util|banheiros|quartos|suites|vaga|bairro      |condominio|iptu |valor   |zona_central|zona_norte|zona_oeste|zona_sul|academia|animais_permitidos|churrasqueira|condominio_fechado|elevador|piscina|playground|portaria_24h|portao_eletronico|salao_festas|features                                                                                                    |\n",
            "+------------------------------------+-----+---------+---------+-------+------+----+------------+----------+-----+--------+------------+----------+----------+--------+--------+------------------+-------------+------------------+--------+-------+----------+------------+-----------------+------------+------------------------------------------------------------------------------------------------------------+\n",
            "|00002dd9-cc74-4809-b5a5-850adf0e7526|2    |35       |1        |1      |0.0   |0.0 |Santo Cristo|100.0     |100.0|245000.0|1           |0         |0         |0       |1       |1                 |1            |1                 |1       |1      |1         |1           |1                |1           |[2.0,35.0,1.0,1.0,0.0,0.0,100.0,100.0,245000.0,1.0,0.0,0.0,0.0,1.0,1.0,1.0,1.0,1.0,1.0,1.0,1.0,1.0,1.0]     |\n",
            "|0009ca94-2b37-4381-b8b8-773ce0f92444|1    |84       |2        |2      |0.0   |1.0 |Tijuca      |770.0     |105.0|474980.0|0           |1         |0         |0       |0       |0                 |1            |0                 |1       |0      |1         |1           |0                |1           |(23,[0,1,2,3,5,6,7,8,10,15,17,19,20,22],[1.0,84.0,2.0,2.0,1.0,770.0,105.0,474980.0,1.0,1.0,1.0,1.0,1.0,1.0])|\n",
            "|000e3d28-e3e5-4110-b488-69154931140e|0    |85       |2        |2      |0.0   |0.0 |Santa Teresa|460.0     |661.0|290000.0|0           |0         |0         |1       |0       |1                 |0            |0                 |1       |0      |0         |0           |0                |0           |(23,[1,2,3,6,7,8,12,14,17],[85.0,2.0,2.0,460.0,661.0,290000.0,1.0,1.0,1.0])                                 |\n",
            "|000fb707-6cad-496d-8cb7-d8046cb5ef37|0    |58       |1        |2      |0.0   |1.0 |Pechincha   |550.0     |550.0|249000.0|0           |0         |1         |0       |0       |0                 |0            |0                 |0       |1      |1         |0           |0                |0           |(23,[1,2,3,5,6,7,8,11,18,19],[58.0,1.0,2.0,1.0,550.0,550.0,249000.0,1.0,1.0,1.0])                           |\n",
            "|001b6db0-e88d-4eba-84e5-0ef94b091a64|0    |64       |2        |2      |1.0   |1.0 |Tijuca      |850.0     |0.0  |530000.0|0           |1         |0         |0       |0       |0                 |0            |0                 |0       |0      |0         |0           |0                |0           |(23,[1,2,3,4,5,6,8,10],[64.0,2.0,2.0,1.0,1.0,850.0,530000.0,1.0])                                           |\n",
            "+------------------------------------+-----+---------+---------+-------+------+----+------------+----------+-----+--------+------------+----------+----------+--------+--------+------------------+-------------+------------------+--------+-------+----------+------------+-----------------+------------+------------------------------------------------------------------------------------------------------------+\n",
            "only showing top 5 rows\n",
            "\n"
          ]
        }
      ]
    },
    {
      "cell_type": "markdown",
      "source": [
        "### Padronização dos dados\n",
        "\n",
        "Para realizar a clusterização dos dados é preciso que as variáveis tenham valores mais próximos uma das outras. Uma forma de se obter isso é utilizando o StandardScaler que realiza a padronização dos dados subtraindo cada coluna por sua média e dividindo pelo seu desvio padrão. Dessa forma, a distribuição de todas as variáveis terá uma média zero e desvio padrão igual a um."
      ],
      "metadata": {
        "id": "618c4iT_bRgK"
      }
    },
    {
      "cell_type": "code",
      "source": [
        "from pyspark.ml.feature import StandardScaler"
      ],
      "metadata": {
        "id": "2sdvQnLhVWws"
      },
      "execution_count": 19,
      "outputs": []
    },
    {
      "cell_type": "code",
      "source": [
        "scaler = StandardScaler(inputCol='features', outputCol='scaled_features')\n",
        "scaler_model = scaler.fit(dataset_modelo)\n",
        "dataset_modelo_scaler = scaler_model.transform(dataset_modelo)   # fit_transform (?)"
      ],
      "metadata": {
        "id": "OKt1Frc7bT3N"
      },
      "execution_count": 20,
      "outputs": []
    },
    {
      "cell_type": "code",
      "source": [
        "dataset_modelo_scaler.show(5)"
      ],
      "metadata": {
        "colab": {
          "base_uri": "https://localhost:8080/"
        },
        "id": "KIIkOxDAbjXE",
        "outputId": "f296a901-5bf0-4bd0-f76f-8c8b55e5d166"
      },
      "execution_count": 21,
      "outputs": [
        {
          "output_type": "stream",
          "name": "stdout",
          "text": [
            "+--------------------+-----+---------+---------+-------+------+----+------------+----------+-----+--------+------------+----------+----------+--------+--------+------------------+-------------+------------------+--------+-------+----------+------------+-----------------+------------+--------------------+--------------------+\n",
            "|                  id|andar|area_util|banheiros|quartos|suites|vaga|      bairro|condominio| iptu|   valor|zona_central|zona_norte|zona_oeste|zona_sul|academia|animais_permitidos|churrasqueira|condominio_fechado|elevador|piscina|playground|portaria_24h|portao_eletronico|salao_festas|            features|     scaled_features|\n",
            "+--------------------+-----+---------+---------+-------+------+----+------------+----------+-----+--------+------------+----------+----------+--------+--------+------------------+-------------+------------------+--------+-------+----------+------------+-----------------+------------+--------------------+--------------------+\n",
            "|00002dd9-cc74-480...|    2|       35|        1|      1|   0.0| 0.0|Santo Cristo|     100.0|100.0|245000.0|           1|         0|         0|       0|       1|                 1|            1|                 1|       1|      1|         1|           1|                1|           1|[2.0,35.0,1.0,1.0...|[0.13607726247524...|\n",
            "|0009ca94-2b37-438...|    1|       84|        2|      2|   0.0| 1.0|      Tijuca|     770.0|105.0|474980.0|           0|         1|         0|       0|       0|                 0|            1|                 0|       1|      0|         1|           1|                0|           1|(23,[0,1,2,3,5,6,...|(23,[0,1,2,3,5,6,...|\n",
            "|000e3d28-e3e5-411...|    0|       85|        2|      2|   0.0| 0.0|Santa Teresa|     460.0|661.0|290000.0|           0|         0|         0|       1|       0|                 1|            0|                 0|       1|      0|         0|           0|                0|           0|(23,[1,2,3,6,7,8,...|(23,[1,2,3,6,7,8,...|\n",
            "|000fb707-6cad-496...|    0|       58|        1|      2|   0.0| 1.0|   Pechincha|     550.0|550.0|249000.0|           0|         0|         1|       0|       0|                 0|            0|                 0|       0|      1|         1|           0|                0|           0|(23,[1,2,3,5,6,7,...|(23,[1,2,3,5,6,7,...|\n",
            "|001b6db0-e88d-4eb...|    0|       64|        2|      2|   1.0| 1.0|      Tijuca|     850.0|  0.0|530000.0|           0|         1|         0|       0|       0|                 0|            0|                 0|       0|      0|         0|           0|                0|           0|(23,[1,2,3,4,5,6,...|(23,[1,2,3,4,5,6,...|\n",
            "+--------------------+-----+---------+---------+-------+------+----+------------+----------+-----+--------+------------+----------+----------+--------+--------+------------------+-------------+------------------+--------+-------+----------+------------+-----------------+------------+--------------------+--------------------+\n",
            "only showing top 5 rows\n",
            "\n"
          ]
        }
      ]
    },
    {
      "cell_type": "markdown",
      "source": [
        "### Redução de dimensionalidade\n",
        "\n",
        "Para redução de dimensionalidade foi utilizado o PCA."
      ],
      "metadata": {
        "id": "WWFXIolnb6jl"
      }
    },
    {
      "cell_type": "code",
      "source": [
        "from pyspark.ml.feature import PCA"
      ],
      "metadata": {
        "id": "tUI0EACsbnm0"
      },
      "execution_count": 22,
      "outputs": []
    },
    {
      "cell_type": "code",
      "source": [
        "k = len(X)\n",
        "k"
      ],
      "metadata": {
        "colab": {
          "base_uri": "https://localhost:8080/"
        },
        "id": "Bg4jtpPV3aMp",
        "outputId": "a5a8c727-5887-4065-af92-5815e1b54f1d"
      },
      "execution_count": 23,
      "outputs": [
        {
          "output_type": "execute_result",
          "data": {
            "text/plain": [
              "23"
            ]
          },
          "metadata": {},
          "execution_count": 23
        }
      ]
    },
    {
      "cell_type": "code",
      "source": [
        "pca = PCA(k=k, inputCol='scaled_features', outputCol='pca_features')\n",
        "model_pca = pca.fit(dataset_modelo_scaler)"
      ],
      "metadata": {
        "id": "Ktpf4gOyd4pu"
      },
      "execution_count": 24,
      "outputs": []
    },
    {
      "cell_type": "code",
      "source": [
        "cumulative_sum = [sum(model_pca.explainedVariance[0:i+1]) for i in range(k)]\n",
        "cumulative_sum"
      ],
      "metadata": {
        "colab": {
          "base_uri": "https://localhost:8080/"
        },
        "id": "Js_eUYCd0Fmh",
        "outputId": "bd6d17ab-3c13-445c-c0a5-5f88638807a7"
      },
      "execution_count": 25,
      "outputs": [
        {
          "output_type": "execute_result",
          "data": {
            "text/plain": [
              "[0.26545749360997034,\n",
              " 0.4375247949776184,\n",
              " 0.5287992767783259,\n",
              " 0.5831729986362391,\n",
              " 0.6354028103524717,\n",
              " 0.682023156221161,\n",
              " 0.7262890569978575,\n",
              " 0.7678911881686676,\n",
              " 0.8025730095613413,\n",
              " 0.8297996535128337,\n",
              " 0.854194399626073,\n",
              " 0.8742987112956476,\n",
              " 0.8935090265260494,\n",
              " 0.9111213166740558,\n",
              " 0.9266283824348652,\n",
              " 0.9405231608927351,\n",
              " 0.9525305733295567,\n",
              " 0.9638657310284791,\n",
              " 0.9739753651565556,\n",
              " 0.983205487506614,\n",
              " 0.9921039340092773,\n",
              " 0.9999999999999953,\n",
              " 1.0]"
            ]
          },
          "metadata": {},
          "execution_count": 25
        }
      ]
    },
    {
      "cell_type": "code",
      "source": [
        "import numpy as np\n",
        "\n",
        "k = sum(np.array(cumulative_sum) <= 0.7)\n",
        "k"
      ],
      "metadata": {
        "colab": {
          "base_uri": "https://localhost:8080/"
        },
        "id": "n-EMX1Mb4LJI",
        "outputId": "f8a135dc-1460-45ed-c938-6947f5b058a5"
      },
      "execution_count": 26,
      "outputs": [
        {
          "output_type": "execute_result",
          "data": {
            "text/plain": [
              "6"
            ]
          },
          "metadata": {},
          "execution_count": 26
        }
      ]
    },
    {
      "cell_type": "code",
      "source": [
        "pca = PCA(k=k, inputCol='scaled_features', outputCol='pca_features')\n",
        "model_pca = pca.fit(dataset_modelo_scaler)\n",
        "dataset_modelo_pca = model_pca.transform(dataset_modelo_scaler)"
      ],
      "metadata": {
        "id": "V-vf6Ium0Sqf"
      },
      "execution_count": 27,
      "outputs": []
    },
    {
      "cell_type": "code",
      "source": [
        "dataset_modelo_pca.select('pca_features').show(5, False)"
      ],
      "metadata": {
        "colab": {
          "base_uri": "https://localhost:8080/"
        },
        "id": "rAiEsNx4eFRu",
        "outputId": "565a33d3-91e3-4637-a74b-db99b5f0aafd"
      },
      "execution_count": 28,
      "outputs": [
        {
          "output_type": "stream",
          "name": "stdout",
          "text": [
            "+--------------------------------------------------------------------------------------------------------------------------+\n",
            "|pca_features                                                                                                              |\n",
            "+--------------------------------------------------------------------------------------------------------------------------+\n",
            "|[-6.165125049533812,1.3380985269405696,-1.7052299823820158,-0.5338289630560162,0.08903815478581815,-0.3134396180129953]   |\n",
            "|[-3.2529111812184865,-1.1179591836228857,-0.2923895841501507,3.195538820020636,0.1528630698219846,1.302893049066197]      |\n",
            "|[-1.0611769329629537,-1.6685040058694294,-2.30759482783911,0.10553124125788461,-0.06914386452866851,0.7187181899556143]   |\n",
            "|[-1.995811900783872,-1.7655796610847843,1.3571962498672347,-0.16336519381168974,-0.021305227846957334,0.12808044918214828]|\n",
            "|[-0.4181406070145923,-2.131040791141693,-0.1026409926497008,2.809916415039177,-0.042956284698168964,-0.09449068767336455] |\n",
            "+--------------------------------------------------------------------------------------------------------------------------+\n",
            "only showing top 5 rows\n",
            "\n"
          ]
        }
      ]
    },
    {
      "cell_type": "markdown",
      "source": [
        "### Criando um pipeline"
      ],
      "metadata": {
        "id": "MuZOYaPUeWru"
      }
    },
    {
      "cell_type": "code",
      "source": [
        "from pyspark.ml import Pipeline"
      ],
      "metadata": {
        "id": "0-DKtrE-em6a"
      },
      "execution_count": 29,
      "outputs": []
    },
    {
      "cell_type": "code",
      "source": [
        "pca_pipeline = Pipeline(stages=[VectorAssembler(inputCols=X, outputCol='features'),\n",
        "                                StandardScaler(inputCol='features', outputCol='scaled_features'),\n",
        "                                PCA(k=6, inputCol='scaled_features', outputCol='pca_features')])"
      ],
      "metadata": {
        "id": "pQH-_ok0eHIf"
      },
      "execution_count": 30,
      "outputs": []
    },
    {
      "cell_type": "code",
      "source": [
        "pca_pipeline_model = pca_pipeline.fit(dataset)"
      ],
      "metadata": {
        "id": "j-WEggv4e40J"
      },
      "execution_count": 31,
      "outputs": []
    },
    {
      "cell_type": "code",
      "source": [
        "dados_pipeline_model = pca_pipeline_model.transform(dataset)"
      ],
      "metadata": {
        "id": "sLy-BEQefCT0"
      },
      "execution_count": 32,
      "outputs": []
    },
    {
      "cell_type": "code",
      "source": [
        "dados_pipeline_model.select('pca_features').show(5, False)"
      ],
      "metadata": {
        "colab": {
          "base_uri": "https://localhost:8080/"
        },
        "id": "LTp29vwLfM-0",
        "outputId": "dfd923d6-a7ce-46ab-f031-2487d8467fb3"
      },
      "execution_count": 33,
      "outputs": [
        {
          "output_type": "stream",
          "name": "stdout",
          "text": [
            "+--------------------------------------------------------------------------------------------------------------------------+\n",
            "|pca_features                                                                                                              |\n",
            "+--------------------------------------------------------------------------------------------------------------------------+\n",
            "|[-6.165125049533812,1.3380985269405696,-1.7052299823820158,-0.5338289630560162,0.08903815478581815,-0.3134396180129953]   |\n",
            "|[-3.2529111812184865,-1.1179591836228857,-0.2923895841501507,3.195538820020636,0.1528630698219846,1.302893049066197]      |\n",
            "|[-1.0611769329629537,-1.6685040058694294,-2.30759482783911,0.10553124125788461,-0.06914386452866851,0.7187181899556143]   |\n",
            "|[-1.995811900783872,-1.7655796610847843,1.3571962498672347,-0.16336519381168974,-0.021305227846957334,0.12808044918214828]|\n",
            "|[-0.4181406070145923,-2.131040791141693,-0.1026409926497008,2.809916415039177,-0.042956284698168964,-0.09449068767336455] |\n",
            "+--------------------------------------------------------------------------------------------------------------------------+\n",
            "only showing top 5 rows\n",
            "\n"
          ]
        }
      ]
    },
    {
      "cell_type": "markdown",
      "source": [
        "### Criando os clusters"
      ],
      "metadata": {
        "id": "rB8z_6Liff-1"
      }
    },
    {
      "cell_type": "code",
      "source": [
        "from pyspark.ml.clustering import KMeans"
      ],
      "metadata": {
        "id": "YwGYMy_2fVI1"
      },
      "execution_count": 34,
      "outputs": []
    },
    {
      "cell_type": "code",
      "source": [
        "kmeans = KMeans(k=50, featuresCol='pca_features', predictionCol='cluster_pca', seed=101)"
      ],
      "metadata": {
        "id": "hwgRaXMvgf3-"
      },
      "execution_count": 35,
      "outputs": []
    },
    {
      "cell_type": "code",
      "source": [
        "model_kmeans = kmeans.fit(dados_pipeline_model)"
      ],
      "metadata": {
        "id": "r8-ErHiKg3gF"
      },
      "execution_count": 36,
      "outputs": []
    },
    {
      "cell_type": "code",
      "source": [
        "prections_kmeans = model_kmeans.transform(dados_pipeline_model)"
      ],
      "metadata": {
        "id": "pXIu8Hg7hBLu"
      },
      "execution_count": 37,
      "outputs": []
    },
    {
      "cell_type": "code",
      "source": [
        "prections_kmeans.select('id', 'cluster_pca').show(5,False)"
      ],
      "metadata": {
        "colab": {
          "base_uri": "https://localhost:8080/"
        },
        "id": "097Hoop5hHmM",
        "outputId": "7e98f644-5790-47ee-c91e-6bd5186a2769"
      },
      "execution_count": 38,
      "outputs": [
        {
          "output_type": "stream",
          "name": "stdout",
          "text": [
            "+------------------------------------+-----------+\n",
            "|id                                  |cluster_pca|\n",
            "+------------------------------------+-----------+\n",
            "|00002dd9-cc74-4809-b5a5-850adf0e7526|45         |\n",
            "|0009ca94-2b37-4381-b8b8-773ce0f92444|33         |\n",
            "|000e3d28-e3e5-4110-b488-69154931140e|2          |\n",
            "|000fb707-6cad-496d-8cb7-d8046cb5ef37|32         |\n",
            "|001b6db0-e88d-4eba-84e5-0ef94b091a64|44         |\n",
            "+------------------------------------+-----------+\n",
            "only showing top 5 rows\n",
            "\n"
          ]
        }
      ]
    },
    {
      "cell_type": "markdown",
      "source": [
        "### Filtrando imoveis do mesmo cluster"
      ],
      "metadata": {
        "id": "3PGNrECNh7-M"
      }
    },
    {
      "cell_type": "code",
      "source": [
        "cluster_imoveis = prections_kmeans.select('id', 'cluster_pca')"
      ],
      "metadata": {
        "id": "1qljAHyohQGO"
      },
      "execution_count": 39,
      "outputs": []
    },
    {
      "cell_type": "code",
      "source": [
        "dataset = dataset\\\n",
        "              .join(cluster_imoveis,'id', how='inner')"
      ],
      "metadata": {
        "id": "nvgvIAoHiHN9"
      },
      "execution_count": 40,
      "outputs": []
    },
    {
      "cell_type": "code",
      "source": [
        "dataset.show(5)"
      ],
      "metadata": {
        "colab": {
          "base_uri": "https://localhost:8080/"
        },
        "id": "7BZRwZeSigkj",
        "outputId": "21cef84f-1955-4d5f-8ad9-01f3aefa5416"
      },
      "execution_count": 41,
      "outputs": [
        {
          "output_type": "stream",
          "name": "stdout",
          "text": [
            "+--------------------+-----+---------+---------+-------+------+----+------------+----------+-----+--------+------------+----------+----------+--------+--------+------------------+-------------+------------------+--------+-------+----------+------------+-----------------+------------+-----------+\n",
            "|                  id|andar|area_util|banheiros|quartos|suites|vaga|      bairro|condominio| iptu|   valor|zona_central|zona_norte|zona_oeste|zona_sul|academia|animais_permitidos|churrasqueira|condominio_fechado|elevador|piscina|playground|portaria_24h|portao_eletronico|salao_festas|cluster_pca|\n",
            "+--------------------+-----+---------+---------+-------+------+----+------------+----------+-----+--------+------------+----------+----------+--------+--------+------------------+-------------+------------------+--------+-------+----------+------------+-----------------+------------+-----------+\n",
            "|00002dd9-cc74-480...|    2|       35|        1|      1|   0.0| 0.0|Santo Cristo|     100.0|100.0|245000.0|           1|         0|         0|       0|       1|                 1|            1|                 1|       1|      1|         1|           1|                1|           1|         45|\n",
            "|0009ca94-2b37-438...|    1|       84|        2|      2|   0.0| 1.0|      Tijuca|     770.0|105.0|474980.0|           0|         1|         0|       0|       0|                 0|            1|                 0|       1|      0|         1|           1|                0|           1|         33|\n",
            "|000e3d28-e3e5-411...|    0|       85|        2|      2|   0.0| 0.0|Santa Teresa|     460.0|661.0|290000.0|           0|         0|         0|       1|       0|                 1|            0|                 0|       1|      0|         0|           0|                0|           0|          2|\n",
            "|000fb707-6cad-496...|    0|       58|        1|      2|   0.0| 1.0|   Pechincha|     550.0|550.0|249000.0|           0|         0|         1|       0|       0|                 0|            0|                 0|       0|      1|         1|           0|                0|           0|         32|\n",
            "|001b6db0-e88d-4eb...|    0|       64|        2|      2|   1.0| 1.0|      Tijuca|     850.0|  0.0|530000.0|           0|         1|         0|       0|       0|                 0|            0|                 0|       0|      0|         0|           0|                0|           0|         44|\n",
            "+--------------------+-----+---------+---------+-------+------+----+------------+----------+-----+--------+------------+----------+----------+--------+--------+------------------+-------------+------------------+--------+-------+----------+------------+-----------------+------------+-----------+\n",
            "only showing top 5 rows\n",
            "\n"
          ]
        }
      ]
    },
    {
      "cell_type": "code",
      "source": [
        "dataset.groupBy('cluster_pca').count().orderBy('cluster_pca').show(50)"
      ],
      "metadata": {
        "colab": {
          "base_uri": "https://localhost:8080/"
        },
        "id": "bAnjIu4XjtOG",
        "outputId": "68eda303-33a5-4de7-bdf0-42b6227dbee4"
      },
      "execution_count": 44,
      "outputs": [
        {
          "output_type": "stream",
          "name": "stdout",
          "text": [
            "+-----------+-----+\n",
            "|cluster_pca|count|\n",
            "+-----------+-----+\n",
            "|          0| 4932|\n",
            "|          1|  191|\n",
            "|          2| 1134|\n",
            "|          3| 4239|\n",
            "|          4| 1415|\n",
            "|          5| 1592|\n",
            "|          6|  615|\n",
            "|          7|    1|\n",
            "|          8| 1234|\n",
            "|          9|  994|\n",
            "|         10| 1504|\n",
            "|         11| 3062|\n",
            "|         12|   34|\n",
            "|         13| 1730|\n",
            "|         14|  480|\n",
            "|         15|  788|\n",
            "|         16| 1090|\n",
            "|         17|  653|\n",
            "|         18| 2213|\n",
            "|         19|  563|\n",
            "|         20| 1042|\n",
            "|         21| 2959|\n",
            "|         22|  747|\n",
            "|         23| 3196|\n",
            "|         24| 1159|\n",
            "|         25|  445|\n",
            "|         26| 1738|\n",
            "|         27|   10|\n",
            "|         28| 1473|\n",
            "|         29|  658|\n",
            "|         30| 2254|\n",
            "|         31|   79|\n",
            "|         32| 1156|\n",
            "|         33| 1198|\n",
            "|         34| 2142|\n",
            "|         35| 2292|\n",
            "|         36|  912|\n",
            "|         37|  479|\n",
            "|         38| 1213|\n",
            "|         39|   16|\n",
            "|         40| 1163|\n",
            "|         41| 1255|\n",
            "|         42| 1801|\n",
            "|         43| 2409|\n",
            "|         44| 2680|\n",
            "|         45|  588|\n",
            "|         46|  937|\n",
            "|         47|  619|\n",
            "|         48|  810|\n",
            "|         49|  657|\n",
            "+-----------+-----+\n",
            "\n"
          ]
        }
      ]
    },
    {
      "cell_type": "code",
      "source": [
        "dataset.where('cluster_pca == 27').show(10)"
      ],
      "metadata": {
        "colab": {
          "base_uri": "https://localhost:8080/"
        },
        "id": "GVfPefak9XuT",
        "outputId": "ab024d22-6ba2-463e-b1ca-a6f33b8240c2"
      },
      "execution_count": 48,
      "outputs": [
        {
          "output_type": "stream",
          "name": "stdout",
          "text": [
            "+--------------------+-----+---------+---------+-------+------+----+---------------+----------+---------+----------+------------+----------+----------+--------+--------+------------------+-------------+------------------+--------+-------+----------+------------+-----------------+------------+-----------+\n",
            "|                  id|andar|area_util|banheiros|quartos|suites|vaga|         bairro|condominio|     iptu|     valor|zona_central|zona_norte|zona_oeste|zona_sul|academia|animais_permitidos|churrasqueira|condominio_fechado|elevador|piscina|playground|portaria_24h|portao_eletronico|salao_festas|cluster_pca|\n",
            "+--------------------+-----+---------+---------+-------+------+----+---------------+----------+---------+----------+------------+----------+----------+--------+--------+------------------+-------------+------------------+--------+-------+----------+------------+-----------------+------------+-----------+\n",
            "|11d27498-f9bc-45e...|    0|      152|        2|      3|   1.0| 1.0|        Ipanema|    1600.0|    2.0E7| 3679640.0|           0|         0|         0|       1|       0|                 0|            0|                 0|       1|      0|         0|           0|                0|           0|         27|\n",
            "|1bccfe3a-ead6-4ec...|    0|      304|        4|      4|   2.0| 3.0|Barra da Tijuca|    4000.0|   1.55E7| 4000000.0|           0|         0|         1|       0|       1|                 0|            0|                 0|       0|      1|         1|           0|                0|           1|         27|\n",
            "|61ffdf25-06f0-436...|    6|      438|        5|      4|   4.0| 5.0|    São Conrado|     1.1E7|  34911.0|     1.1E7|           0|         0|         0|       1|       1|                 1|            0|                 1|       1|      1|         1|           1|                1|           1|         27|\n",
            "|751b9ea2-2cc1-4a0...|    9|      278|        4|      4|   0.0| 1.0|     Copacabana| 3199000.0|9760000.0| 2650000.0|           0|         0|         0|       1|       0|                 1|            0|                 0|       1|      0|         0|           1|                0|           0|         27|\n",
            "|884fe04d-afb9-4b0...|   15|      680|        6|      4|   4.0| 5.0|Barra da Tijuca| 7500000.0|   2120.0| 7500000.0|           0|         0|         1|       0|       1|                 1|            1|                 1|       1|      1|         1|           1|                1|           1|         27|\n",
            "|e1fbc3cc-57e1-4b2...|    0|      247|        5|      3|   3.0| 4.0|Barra da Tijuca|    3600.0|    1.2E7| 2800000.0|           0|         0|         1|       0|       1|                 0|            0|                 0|       0|      1|         1|           0|                0|           0|         27|\n",
            "|3b34810a-9b83-442...|    0|      648|        5|      5|   5.0| 5.0|Barra da Tijuca| 9900000.0|      0.0| 9990000.0|           0|         0|         1|       0|       1|                 0|            1|                 1|       1|      1|         1|           0|                0|           1|         27|\n",
            "|4f461e6e-64b4-4e8...|   14|      648|        7|      5|   5.0| 5.0|Barra da Tijuca| 8500000.0|  22680.0|1.069999E7|           0|         0|         1|       0|       1|                 1|            1|                 1|       1|      1|         1|           1|                1|           1|         27|\n",
            "|ca94f14f-6074-405...|    3|       80|        2|      2|   1.0| 1.0|        Ipanema| 4102080.0|6527660.0| 2400000.0|           0|         0|         0|       1|       1|                 1|            1|                 1|       1|      1|         1|           0|                0|           1|         27|\n",
            "|fe938073-878c-4b4...|    0|      352|        2|      4|   1.0| 1.0|     Copacabana|    4800.0| 1.2625E7| 3799230.0|           0|         0|         0|       1|       0|                 0|            0|                 0|       1|      0|         0|           0|                0|           0|         27|\n",
            "+--------------------+-----+---------+---------+-------+------+----+---------------+----------+---------+----------+------------+----------+----------+--------+--------+------------------+-------------+------------------+--------+-------+----------+------------+-----------------+------------+-----------+\n",
            "\n"
          ]
        }
      ]
    },
    {
      "cell_type": "code",
      "source": [
        "cluster_means = dataset.groupBy('cluster_pca').mean()\n",
        "cluster_means.orderBy('cluster_pca').show()"
      ],
      "metadata": {
        "colab": {
          "base_uri": "https://localhost:8080/"
        },
        "id": "sulVeNz3idXZ",
        "outputId": "5c5eb41a-5589-4c20-9253-4d67346ff63f"
      },
      "execution_count": 43,
      "outputs": [
        {
          "output_type": "stream",
          "name": "stdout",
          "text": [
            "+-----------+-------------------+------------------+------------------+------------------+-------------------+-------------------+------------------+------------------+------------------+--------------------+--------------------+--------------------+-------------------+--------------------+-----------------------+--------------------+-----------------------+-------------------+--------------------+--------------------+--------------------+----------------------+--------------------+----------------+\n",
            "|cluster_pca|         avg(andar)|    avg(area_util)|    avg(banheiros)|      avg(quartos)|        avg(suites)|          avg(vaga)|   avg(condominio)|         avg(iptu)|        avg(valor)|   avg(zona_central)|     avg(zona_norte)|     avg(zona_oeste)|      avg(zona_sul)|       avg(academia)|avg(animais_permitidos)|  avg(churrasqueira)|avg(condominio_fechado)|      avg(elevador)|        avg(piscina)|     avg(playground)|   avg(portaria_24h)|avg(portao_eletronico)|   avg(salao_festas)|avg(cluster_pca)|\n",
            "+-----------+-------------------+------------------+------------------+------------------+-------------------+-------------------+------------------+------------------+------------------+--------------------+--------------------+--------------------+-------------------+--------------------+-----------------------+--------------------+-----------------------+-------------------+--------------------+--------------------+--------------------+----------------------+--------------------+----------------+\n",
            "|          0| 3.2818329278183294| 70.80332522303326|1.8004866180048662|2.2149229521492297| 0.9105839416058394| 1.0411597729115978| 1178.610502838605| 845.1504460665045| 541750.0131792376|0.005068937550689375|                 0.0|  0.9949310624493106|                0.0|  0.9758718572587186|     0.9987834549878345|  0.9746553122465531|     0.9997972424979724| 0.9752635847526359|   0.990470397404704|  0.9598540145985401|  0.9991889699918897|     0.998580697485807|  0.9845904298459043|             0.0|\n",
            "|          1|  3.837696335078534| 696.3350785340314|  7.18848167539267| 4.958115183246074| 4.7643979057591626| 7.9109947643979055| 4828.664921465968|11178.649214659687| 8081481.209424084|                 0.0|0.010471204188481676|  0.8900523560209425|0.09947643979057591|   0.450261780104712|    0.34554973821989526|  0.4973821989528796|    0.46596858638743455|  0.612565445026178|  0.6230366492146597|  0.4816753926701571| 0.31413612565445026|   0.34554973821989526|  0.4869109947643979|             1.0|\n",
            "|          2| 3.2186948853615522| 70.53439153439153|1.5141093474426808|1.8333333333333333| 0.2786596119929453|0.37037037037037035|1480.2407407407406|1094.8800705467372| 886651.7839506173|                 0.0|                 0.0|                 0.0|                1.0| 0.03527336860670194|     0.5052910052910053|0.026455026455026454|     0.4012345679012346| 0.7495590828924162|0.029982363315696647| 0.05202821869488536|  0.5493827160493827|   0.37213403880070545| 0.06790123456790123|             2.0|\n",
            "|          3|0.42745930644019814|123.26492097192734|2.5079028072658645|2.8865298419438545| 0.8384052842651569|  0.940552016985138|1509.0297239915074|1931.3493748525595|1629224.4805378627|                 0.0|                 0.0|2.359046945034206...| 0.9997640953054966|0.001651332861523...|    0.02736494456239679|0.004010379806558151|     0.0217032318943147| 0.2507666902571361| 0.01533380514272234|0.026185421089879687|0.028072658645907054|  0.007313045529606039|0.012502948808681292|             3.0|\n",
            "|          4| 0.5780918727915194|108.54770318021201|2.5335689045936394|2.6812720848056535|  0.992226148409894| 1.2459363957597174| 1460.791519434629|1773.2388692579505| 1703955.334982332|                 0.0|                 0.0|                 0.0|                1.0| 0.13992932862190813|   0.038869257950530034| 0.19929328621908127|   0.058657243816254416| 0.6579505300353357|  0.4318021201413428|  0.7356890459363957| 0.07703180212014134|  0.009893992932862191|  0.6692579505300353|             4.0|\n",
            "|          5| 0.8668341708542714|135.29396984924622|3.0238693467336684|3.0358040201005023| 1.2996231155778895| 1.9905778894472361|1172.6670854271356| 1800.555904522613|1251261.5087939699|                 0.0|                 0.0|                 1.0|                0.0|0.009422110552763818|    0.04522613065326633| 0.02701005025125628|    0.05402010050251256| 0.1457286432160804| 0.04334170854271357| 0.01256281407035176|0.001884422110552...|  0.011306532663316583|0.028266331658291458|             5.0|\n",
            "|          6| 2.6016260162601625| 362.2390243902439| 4.796747967479675| 4.016260162601626| 3.0016260162601625| 2.6422764227642275| 3337.759349593496| 7483.458536585365| 7491175.900813008|                 0.0|                 0.0|0.004878048780487805| 0.9951219512195122|  0.0991869918699187|     0.5252032520325203| 0.08455284552845528|    0.47317073170731705| 0.7398373983739838|   0.191869918699187| 0.15284552845528454|  0.5983739837398374|    0.5788617886178862| 0.15447154471544716|             6.0|\n",
            "|          7|                3.0|             260.0|               5.0|               4.0|                4.0|                4.0|         3870500.0|        1.878786E7|         7000000.0|                 0.0|                 0.0|                 0.0|                1.0|                 1.0|                    1.0|                 1.0|                    1.0|                1.0|                 1.0|                 1.0|                 0.0|                   0.0|                 1.0|             7.0|\n",
            "|          8| 3.3549432739059966| 57.16855753646677| 1.279578606158833|1.8889789303079416| 0.2860615883306321|   0.93354943273906|1665.6750405186385| 446.6547811993517| 341383.1847649919| 0.03808752025931929|                 0.0|  0.9619124797406807|                0.0|   0.419773095623987|     0.8282009724473258|  0.6693679092382496|     0.9692058346839546| 0.6572123176661264|  0.5777957860615883|  0.6166936790923825|  0.8962722852512156|    0.7828200972447326|  0.8095623987034035|             8.0|\n",
            "|          9| 3.3340040241448694|166.12273641851107| 3.728370221327968|  3.39738430583501| 2.5814889336016096| 1.8873239436619718|1434.8712273641852|1800.3289738430583|2951473.1649899394|                 0.0|                 0.0|                 0.0|                1.0|  0.9074446680080482|     0.8682092555331992|  0.7585513078470825|     0.9577464788732394| 0.9708249496981891|  0.9406438631790744|  0.9064386317907445|  0.9567404426559356|    0.9054325955734407|  0.9134808853118712|             9.0|\n",
            "|         10|            0.59375|121.16622340425532|  2.86968085106383|  3.00531914893617| 0.9813829787234043| 1.3257978723404256| 900.1941489361702| 838.1043882978723|  765979.678856383|                 0.0|                 1.0|                 0.0|                0.0|                 0.0|   0.034574468085106384|  0.0398936170212766|   0.024601063829787235|0.35305851063829785| 0.00997340425531915| 0.03523936170212766|0.015957446808510637|  0.016622340425531915| 0.02526595744680851|            10.0|\n",
            "|         11| 0.4363161332462443|  66.2184846505552|1.3612018288700196|1.7446113651208361|0.17537557152188113| 0.3082952318745918|1732.1502286087525|1164.3370346178967| 813828.5460483345|                 0.0|                 0.0|                 0.0|                1.0|0.003592423252775...|   0.022860875244937948|0.016329196603527107|   0.011757021554539516|0.27433050293925537|0.017962116263879817|0.028412802090137166|0.020248203788373612|  0.003919007184846506| 0.02155453951665578|            11.0|\n",
            "|         12|  4.176470588235294|162.73529411764707|               3.0|2.9411764705882355| 1.4411764705882353| 1.8235294117647058| 1795947.794117647| 679785.2647058824|2022150.9411764706|                 0.0|0.058823529411764705|  0.4411764705882353|                0.5|  0.4117647058823529|     0.5588235294117647| 0.35294117647058826|    0.47058823529411764| 0.6176470588235294|  0.4117647058823529|  0.4411764705882353|  0.4117647058823529|    0.4117647058823529|  0.4117647058823529|            12.0|\n",
            "|         13| 0.6364161849710983| 226.1751445086705|3.7739884393063585|3.6502890173410405| 1.7300578034682081| 1.7271676300578034|2503.7982658959536|3877.8277456647397| 3608018.894797688|                 0.0|                 0.0|                 0.0|                1.0|0.015028901734104046|   0.049132947976878616| 0.02601156069364162|    0.05086705202312139|0.35664739884393065| 0.07687861271676301| 0.11791907514450867| 0.04971098265895954|  0.017341040462427744| 0.07803468208092486|            13.0|\n",
            "|         14|  4.339583333333334|137.58333333333334|           2.84375|            3.2375| 1.3604166666666666| 1.9770833333333333| 944.4604166666667|1108.6291666666666|      1011362.0875|                 0.0|                 1.0|                 0.0|                0.0|  0.7270833333333333|     0.8458333333333333|  0.8520833333333333|     0.9291666666666667|             0.9625|  0.8770833333333333|  0.9208333333333333|             0.93125|    0.9083333333333333|             0.93125|            14.0|\n",
            "|         15| 1.4365482233502538| 75.83375634517766| 2.035532994923858|2.3642131979695433| 0.7880710659898477| 1.1269035532994924| 654.8147208121827| 337.0241116751269| 551017.5850253807|                 0.0|                 1.0|                 0.0|                0.0|  0.7195431472081218|     0.1700507614213198|  0.9302030456852792|     0.4022842639593909| 0.9010152284263959|  0.9555837563451777|  0.9225888324873096|  0.1446700507614213|   0.03680203045685279|  0.9137055837563451|            15.0|\n",
            "|         16|  3.322935779816514| 75.13027522935779|1.7862385321100918|2.2009174311926607|0.48073394495412847| 1.0055045871559634| 1862.975229357798| 775.9935779816514|435649.96972477064|                 0.0|                 1.0|                 0.0|                0.0|  0.1559633027522936|     0.8678899082568807|  0.4724770642201835|     0.8614678899082568| 0.8302752293577982| 0.24954128440366974|  0.5981651376146789|  0.7981651376146789|    0.8458715596330275|  0.8174311926605504|            16.0|\n",
            "|         17| 1.5038284839203675|108.47320061255742|2.5696784073506893|2.6814701378254213|  1.321592649310873|  1.346094946401225|1223.8376722817763|1469.6110260336907| 1730295.989280245|                 0.0|                 0.0|                 0.0|                1.0|  0.8667687595712098|    0.23583460949464014|  0.7289433384379785|      0.442572741194487| 0.9065849923430321|  0.9234303215926493|  0.9081163859111792|  0.2082695252679939|  0.033690658499234305|  0.9081163859111792|            17.0|\n",
            "|         18|  4.969724356077722|56.282873926796206|1.2928151830094894| 1.465883416177135|0.15589697243560777|0.22141888838680523|1063.8594667871666|422.01581563488475| 636200.1120650701|  0.0754631721644826|                 0.0|9.037505648441031E-4| 0.9236330772706733|0.042476276547672845|       0.94713059195662|0.016267510167193855|      0.903298689561681| 0.9511974694984184| 0.02937189335743335| 0.01807501129688206|  0.9439674649796657|    0.9489380930863082| 0.05693628558517849|            18.0|\n",
            "|         19| 5.0799289520426285| 420.5772646536412|  5.86323268206039| 4.326820603907637|  4.131438721136767|   4.38721136767318| 4794.886323268206|  5850.50621669627| 6947465.472468916|                 0.0|0.008880994671403197|  0.8383658969804618|  0.152753108348135|  0.9307282415630551|     0.8170515097690941|  0.8241563055062167|     0.9857904085257548| 0.9715808170515098|  0.9733570159857904|  0.9094138543516874|  0.9342806394316163|    0.9058614564831261|  0.9342806394316163|            19.0|\n",
            "+-----------+-------------------+------------------+------------------+------------------+-------------------+-------------------+------------------+------------------+------------------+--------------------+--------------------+--------------------+-------------------+--------------------+-----------------------+--------------------+-----------------------+-------------------+--------------------+--------------------+--------------------+----------------------+--------------------+----------------+\n",
            "only showing top 20 rows\n",
            "\n"
          ]
        }
      ]
    }
  ]
}