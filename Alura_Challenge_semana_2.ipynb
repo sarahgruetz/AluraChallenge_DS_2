{
  "nbformat": 4,
  "nbformat_minor": 0,
  "metadata": {
    "colab": {
      "provenance": [],
      "mount_file_id": "15Foar-lJmIw1grSKTWxTUtCUX6h0Gr70",
      "authorship_tag": "ABX9TyOweukGcJ2lPpU8UTdVmzsN",
      "include_colab_link": true
    },
    "kernelspec": {
      "name": "python3",
      "display_name": "Python 3"
    },
    "language_info": {
      "name": "python"
    }
  },
  "cells": [
    {
      "cell_type": "markdown",
      "metadata": {
        "id": "view-in-github",
        "colab_type": "text"
      },
      "source": [
        "<a href=\"https://colab.research.google.com/github/sarahgruetz/AluraChallenge_DS_2/blob/main/Alura_Challenge_semana_2.ipynb\" target=\"_parent\"><img src=\"https://colab.research.google.com/assets/colab-badge.svg\" alt=\"Open In Colab\"/></a>"
      ]
    },
    {
      "cell_type": "code",
      "execution_count": 1,
      "metadata": {
        "colab": {
          "base_uri": "https://localhost:8080/"
        },
        "id": "rXwu3TSUMiZT",
        "outputId": "2dc3d5cc-d944-4ff0-ed0b-124ef3fe8965"
      },
      "outputs": [
        {
          "output_type": "stream",
          "name": "stdout",
          "text": [
            "Looking in indexes: https://pypi.org/simple, https://us-python.pkg.dev/colab-wheels/public/simple/\n",
            "Collecting pyspark\n",
            "  Downloading pyspark-3.3.1.tar.gz (281.4 MB)\n",
            "\u001b[K     |████████████████████████████████| 281.4 MB 37 kB/s \n",
            "\u001b[?25hCollecting py4j==0.10.9.5\n",
            "  Downloading py4j-0.10.9.5-py2.py3-none-any.whl (199 kB)\n",
            "\u001b[K     |████████████████████████████████| 199 kB 40.4 MB/s \n",
            "\u001b[?25hBuilding wheels for collected packages: pyspark\n",
            "  Building wheel for pyspark (setup.py) ... \u001b[?25l\u001b[?25hdone\n",
            "  Created wheel for pyspark: filename=pyspark-3.3.1-py2.py3-none-any.whl size=281845512 sha256=af0b47b9f82f407a71755201d2791c2a9159e2b6902d21ef5c876a75aaf86adf\n",
            "  Stored in directory: /root/.cache/pip/wheels/42/59/f5/79a5bf931714dcd201b26025347785f087370a10a3329a899c\n",
            "Successfully built pyspark\n",
            "Installing collected packages: py4j, pyspark\n",
            "Successfully installed py4j-0.10.9.5 pyspark-3.3.1\n"
          ]
        }
      ],
      "source": [
        "!pip install pyspark"
      ]
    },
    {
      "cell_type": "code",
      "source": [
        "from pyspark.sql import SparkSession\n",
        "\n",
        "spark = SparkSession.builder \\\n",
        "    .master('local[*]') \\\n",
        "    .appName(\"Alura Challenge\") \\\n",
        "    .getOrCreate()"
      ],
      "metadata": {
        "id": "6YDplAklMmec"
      },
      "execution_count": 2,
      "outputs": []
    },
    {
      "cell_type": "code",
      "source": [
        "import zipfile\n",
        "\n",
        "zipfile.ZipFile('/content/drive/MyDrive/curso-spark/ChallengeAlura/semana-2.zip','r')\\\n",
        "        .extractall('/content/drive/MyDrive/curso-spark/ChallengeAlura/dados')"
      ],
      "metadata": {
        "id": "H-7yZCDBNcNK"
      },
      "execution_count": 3,
      "outputs": []
    },
    {
      "cell_type": "code",
      "source": [
        "dataset = spark.read.parquet('/content/drive/MyDrive/curso-spark/ChallengeAlura/dados/dataset_transformado_parquet')"
      ],
      "metadata": {
        "id": "YkoDFqOgOH5a"
      },
      "execution_count": 14,
      "outputs": []
    },
    {
      "cell_type": "code",
      "source": [
        "dataset.show(truncate=False)"
      ],
      "metadata": {
        "colab": {
          "base_uri": "https://localhost:8080/"
        },
        "id": "wNYeSUcSOVL6",
        "outputId": "818413b3-89c7-46e9-dfa4-cffaa0e53729"
      },
      "execution_count": 8,
      "outputs": [
        {
          "output_type": "stream",
          "name": "stdout",
          "text": [
            "+------------------------------------+-----+----------+---------+---------+-----------------------------------------------------------------------------------------------------------------------------------------+-------+------+------------+------------+-----------+----+-----------------------+------------+----------+----+-----+------+\n",
            "|id                                  |andar|area_total|area_util|banheiros|caracteristicas                                                                                                                          |quartos|suites|tipo_anuncio|tipo_unidade|tipo_uso   |vaga|bairro                 |zona        |condominio|iptu|tipo |valor |\n",
            "+------------------------------------+-----+----------+---------+---------+-----------------------------------------------------------------------------------------------------------------------------------------+-------+------+------------+------------+-----------+----+-----------------------+------------+----------+----+-----+------+\n",
            "|03a386b6-7ab8-4eff-891d-f8a16efc1989|0    |43        |43       |1        |[Churrasqueira, Academia, Playground, Salão de festas, Condomínio fechado, Portão eletrônico, Portaria 24h, Animais permitidos]          |2      |null  |Usado       |Apartamento |Residencial|1   |Realengo               |Zona Oeste  |285       |null|Venda|22999 |\n",
            "|1fe78d41-b8e0-4d21-a1a8-72cb7863f441|0    |44        |44       |1        |[]                                                                                                                                       |2      |0     |Usado       |Apartamento |Residencial|0   |Irajá                  |Zona Norte  |170       |0   |Venda|110000|\n",
            "|1fa1c1e5-e98c-433f-9675-1b43d7d6da01|4    |null      |55       |1        |[]                                                                                                                                       |2      |0     |Usado       |Apartamento |Residencial|1   |Cosmos                 |Zona Oeste  |null      |null|Venda|115000|\n",
            "|a6ab01ae-3d40-40e7-bb6a-f2334e0abbe0|2    |null      |55       |1        |[]                                                                                                                                       |2      |0     |Usado       |Apartamento |Residencial|0   |Tomás Coelho           |Zona Norte  |null      |null|Venda|115000|\n",
            "|1d8ff7a2-16bd-4e3f-a92e-1b85f923ebb0|0    |null      |50       |1        |[]                                                                                                                                       |1      |null  |Usado       |Apartamento |Residencial|0   |Centro                 |Zona Central|1300      |2679|Venda|125000|\n",
            "|40a2cbde-946b-42da-b7f2-b80057c7a47f|2    |47        |47       |1        |[Condomínio fechado, Portaria 24h, Salão de festas, Churrasqueira, Piscina, Animais permitidos]                                          |2      |0     |Usado       |Apartamento |Residencial|1   |Campo Grande           |Zona Oeste  |380       |null|Venda|138000|\n",
            "|be269ddf-a4a3-4a72-bd54-93cdccf512dd|0    |17089     |45       |1        |[Churrasqueira, Condomínio fechado, Piscina]                                                                                             |2      |0     |Usado       |Apartamento |Residencial|1   |Campo Grande           |Zona Oeste  |356       |0   |Venda|140000|\n",
            "|4b7e3d59-34fd-4bac-9232-1015cb3b3a24|3    |48        |48       |1        |[Churrasqueira, Piscina, Playground, Salão de festas, Condomínio fechado, Portão eletrônico, Portaria 24h, Animais permitidos]           |2      |null  |Usado       |Apartamento |Residencial|1   |Campo Grande           |Zona Oeste  |0         |0   |Venda|150000|\n",
            "|a1a0c2ac-4fa8-4b02-a087-f9d76b6bccb7|9    |null      |55       |1        |[Churrasqueira, Elevador, Salão de festas, Condomínio fechado, Portão eletrônico, Portaria 24h, Animais permitidos]                      |2      |null  |Usado       |Apartamento |Residencial|1   |Freguesia (Jacarepaguá)|Zona Oeste  |780       |660 |Venda|160000|\n",
            "|390d2b88-e06d-47e5-ba7f-a680130ac5f0|0    |70        |70       |2        |[Salão de festas]                                                                                                                        |2      |0     |Usado       |Apartamento |Residencial|1   |Praça Seca             |Zona Oeste  |420000    |null|Venda|159000|\n",
            "|07bb07c1-21cc-4daa-99c4-e12b53da67d2|2    |50        |48       |1        |[Condomínio fechado, Animais permitidos]                                                                                                 |1      |0     |Usado       |Apartamento |Residencial|0   |Piedade                |Zona Norte  |10        |10  |Venda|170000|\n",
            "|7d3a1bae-988c-44b9-8e42-99267dda4245|5    |40        |40       |1        |[Playground, Churrasqueira, Salão de festas, Condomínio fechado, Portão eletrônico, Portaria 24h, Animais permitidos]                    |2      |0     |Usado       |Apartamento |Residencial|1   |Braz de Pina           |Zona Norte  |150       |120 |Venda|189000|\n",
            "|47af17f0-1c81-474c-b7ec-fefbe48954d0|0    |65        |65       |1        |[]                                                                                                                                       |2      |0     |Usado       |Apartamento |Residencial|1   |Campinho               |Zona Oeste  |432       |null|Venda|185000|\n",
            "|a9bd1575-e9f2-43d7-850c-c8d1385e6908|2    |50        |50       |1        |[Condomínio fechado, Portão eletrônico, Animais permitidos]                                                                              |1      |0     |Usado       |Apartamento |Residencial|1   |Madureira              |Zona Norte  |650       |1   |Venda|185000|\n",
            "|cfca7253-3d02-4cdc-99de-714ad1b4cc61|5    |45        |45       |1        |[Academia, Churrasqueira, Condomínio fechado, Elevador, Playground, Portão eletrônico, Portaria 24h, Salão de festas, Animais permitidos]|2      |1     |Usado       |Apartamento |Residencial|0   |Taquara                |Zona Oeste  |150       |40  |Venda|199000|\n",
            "|b571ae97-e3d8-4fbf-80b9-2c2c78fb02c1|0    |48        |48       |1        |[Academia, Condomínio fechado, Elevador, Portaria 24h, Salão de festas, Churrasqueira, Portão eletrônico, Animais permitidos]            |2      |null  |Usado       |Apartamento |Residencial|0   |Bonsucesso             |Zona Norte  |0         |0   |Venda|205933|\n",
            "|eb5fdc65-acae-45f8-9075-b5238b19bd9e|0    |44        |44       |1        |[Academia, Condomínio fechado, Elevador, Portaria 24h, Salão de festas, Playground, Portão eletrônico, Animais permitidos]               |2      |null  |Usado       |Apartamento |Residencial|0   |Bonsucesso             |Zona Norte  |0         |0   |Venda|206000|\n",
            "|77cd0388-e3ff-40c3-928c-f4d535049bff|2    |64        |64       |1        |[]                                                                                                                                       |2      |0     |Usado       |Apartamento |Residencial|0   |Jardim América         |Zona Norte  |0         |0   |Venda|220000|\n",
            "|74a91f07-7387-4a8e-bfbe-c8aec0bf645f|0    |55        |55       |2        |[Salão de festas, Elevador]                                                                                                              |1      |0     |Usado       |Apartamento |Residencial|1   |Engenho Novo           |Zona Norte  |600       |652 |Venda|219130|\n",
            "|6aab1165-508d-4554-b122-b61c178109de|3    |60        |60       |1        |[Animais permitidos]                                                                                                                     |3      |0     |Usado       |Apartamento |Residencial|1   |Cascadura              |Zona Norte  |98        |1   |Venda|230000|\n",
            "+------------------------------------+-----+----------+---------+---------+-----------------------------------------------------------------------------------------------------------------------------------------+-------+------+------------+------------+-----------+----+-----------------------+------------+----------+----+-----+------+\n",
            "only showing top 20 rows\n",
            "\n"
          ]
        }
      ]
    },
    {
      "cell_type": "markdown",
      "source": [
        "## Seleção de Features"
      ],
      "metadata": {
        "id": "nxD55-VbOlrO"
      }
    },
    {
      "cell_type": "code",
      "source": [
        "dataset\\\n",
        "  .select('tipo_anuncio')\\\n",
        "  .groupBy('tipo_anuncio')\\\n",
        "  .count()\\\n",
        "  .show()"
      ],
      "metadata": {
        "colab": {
          "base_uri": "https://localhost:8080/"
        },
        "id": "aCCRdbSAOYvI",
        "outputId": "7479964d-a4a8-421d-cdd9-7e4722403b64"
      },
      "execution_count": 15,
      "outputs": [
        {
          "output_type": "stream",
          "name": "stdout",
          "text": [
            "+------------+-----+\n",
            "|tipo_anuncio|count|\n",
            "+------------+-----+\n",
            "|       Usado|66562|\n",
            "+------------+-----+\n",
            "\n"
          ]
        }
      ]
    },
    {
      "cell_type": "code",
      "source": [
        "dataset\\\n",
        "  .select('tipo_unidade')\\\n",
        "  .groupBy('tipo_unidade')\\\n",
        "  .count()\\\n",
        "  .show()"
      ],
      "metadata": {
        "colab": {
          "base_uri": "https://localhost:8080/"
        },
        "id": "tv9FNyk4hA2p",
        "outputId": "3d41016f-fb6e-4002-f57a-666ec574cfeb"
      },
      "execution_count": 16,
      "outputs": [
        {
          "output_type": "stream",
          "name": "stdout",
          "text": [
            "+------------+-----+\n",
            "|tipo_unidade|count|\n",
            "+------------+-----+\n",
            "| Apartamento|66562|\n",
            "+------------+-----+\n",
            "\n"
          ]
        }
      ]
    },
    {
      "cell_type": "code",
      "source": [
        "dataset\\\n",
        "  .select('tipo_uso')\\\n",
        "  .groupBy('tipo_uso')\\\n",
        "  .count()\\\n",
        "  .show()"
      ],
      "metadata": {
        "colab": {
          "base_uri": "https://localhost:8080/"
        },
        "id": "75Wzki0DhAhy",
        "outputId": "7483b807-03e2-47e9-daa2-0a6aafd7a937"
      },
      "execution_count": 17,
      "outputs": [
        {
          "output_type": "stream",
          "name": "stdout",
          "text": [
            "+-----------+-----+\n",
            "|   tipo_uso|count|\n",
            "+-----------+-----+\n",
            "|Residencial|66562|\n",
            "+-----------+-----+\n",
            "\n"
          ]
        }
      ]
    },
    {
      "cell_type": "code",
      "source": [
        "dataset\\\n",
        "  .select('tipo')\\\n",
        "  .groupBy('tipo')\\\n",
        "  .count()\\\n",
        "  .show()"
      ],
      "metadata": {
        "colab": {
          "base_uri": "https://localhost:8080/"
        },
        "id": "yiCkR6ivhAfu",
        "outputId": "433f79db-9e46-4c56-ae2a-39f51360dcf9"
      },
      "execution_count": 18,
      "outputs": [
        {
          "output_type": "stream",
          "name": "stdout",
          "text": [
            "+-----+-----+\n",
            "| tipo|count|\n",
            "+-----+-----+\n",
            "|Venda|66562|\n",
            "+-----+-----+\n",
            "\n"
          ]
        }
      ]
    },
    {
      "cell_type": "markdown",
      "source": [
        "`id` -> código de identificação do anúncio. Não será útil para o modelo.\n",
        "\n",
        "`tipo_anuncio` -> foram selecionados apenas os registros com valor Usado, portanto essa coluna não é relevante para o modelo.\n",
        "\n",
        "`tipo_unidade` -> foram selecionados apenas os registros com valor Apartamento, portanto essa coluna não é relevante para o modelo.\n",
        "\n",
        "`tipo_uso` -> foram selecionados apenas os registros com valor Residencial, portanto essa coluna não é relevante para o modelo.\n",
        "\n",
        "`tipo` -> foram selecionados apenas os registros com valor Venda, portanto essa coluna não é relevante para o modelo."
      ],
      "metadata": {
        "id": "z7ZjrimMgBs0"
      }
    },
    {
      "cell_type": "code",
      "source": [
        "dataset = dataset\\\n",
        "              .select(\n",
        "                  'andar',\n",
        "                  'area_total',\n",
        "                  'area_util',\n",
        "                  'banheiros',\n",
        "                  'caracteristicas',\n",
        "                  'quartos',\n",
        "                  'suites',\n",
        "                  'vaga',\n",
        "                  'bairro',\n",
        "                  'zona',\n",
        "                  'condominio',\n",
        "                  'iptu',\n",
        "                  'valor'\n",
        "              )"
      ],
      "metadata": {
        "id": "zujNZ4rHPICr"
      },
      "execution_count": 19,
      "outputs": []
    },
    {
      "cell_type": "markdown",
      "source": [
        "## Convertendo tipo das colunas"
      ],
      "metadata": {
        "id": "IdrT0DIZh4vB"
      }
    },
    {
      "cell_type": "code",
      "source": [
        "dataset.printSchema()"
      ],
      "metadata": {
        "colab": {
          "base_uri": "https://localhost:8080/"
        },
        "id": "g3_w8pTnfMVZ",
        "outputId": "7136146e-f612-4038-929c-f180fb22567b"
      },
      "execution_count": 20,
      "outputs": [
        {
          "output_type": "stream",
          "name": "stdout",
          "text": [
            "root\n",
            " |-- andar: long (nullable = true)\n",
            " |-- area_total: string (nullable = true)\n",
            " |-- area_util: string (nullable = true)\n",
            " |-- banheiros: long (nullable = true)\n",
            " |-- caracteristicas: array (nullable = true)\n",
            " |    |-- element: string (containsNull = true)\n",
            " |-- quartos: long (nullable = true)\n",
            " |-- suites: long (nullable = true)\n",
            " |-- vaga: long (nullable = true)\n",
            " |-- bairro: string (nullable = true)\n",
            " |-- zona: string (nullable = true)\n",
            " |-- condominio: string (nullable = true)\n",
            " |-- iptu: string (nullable = true)\n",
            " |-- valor: string (nullable = true)\n",
            "\n"
          ]
        }
      ]
    },
    {
      "cell_type": "code",
      "source": [
        "from pyspark.sql.types import FloatType"
      ],
      "metadata": {
        "id": "H3zlThpqh9np"
      },
      "execution_count": 23,
      "outputs": []
    },
    {
      "cell_type": "code",
      "source": [
        "dataset = dataset\\\n",
        "              .withColumn('area_total', dataset.area_total.cast(FloatType()))\\\n",
        "              .withColumn('area_util', dataset.area_util.cast(FloatType()))\\\n",
        "              .withColumn('condominio', dataset.condominio.cast(FloatType()))\\\n",
        "              .withColumn('iptu', dataset.iptu.cast(FloatType()))\\\n",
        "              .withColumn('valor', dataset.valor.cast(FloatType()))\\"
      ],
      "metadata": {
        "id": "cNx0y6ZGiH4C"
      },
      "execution_count": 24,
      "outputs": []
    },
    {
      "cell_type": "code",
      "source": [
        "dataset.printSchema()"
      ],
      "metadata": {
        "colab": {
          "base_uri": "https://localhost:8080/"
        },
        "id": "38E3RyPvivrC",
        "outputId": "58727780-fdf5-4cc1-ecb9-d47eefd60ed3"
      },
      "execution_count": 25,
      "outputs": [
        {
          "output_type": "stream",
          "name": "stdout",
          "text": [
            "root\n",
            " |-- andar: long (nullable = true)\n",
            " |-- area_total: float (nullable = true)\n",
            " |-- area_util: float (nullable = true)\n",
            " |-- banheiros: long (nullable = true)\n",
            " |-- caracteristicas: array (nullable = true)\n",
            " |    |-- element: string (containsNull = true)\n",
            " |-- quartos: long (nullable = true)\n",
            " |-- suites: long (nullable = true)\n",
            " |-- vaga: long (nullable = true)\n",
            " |-- bairro: string (nullable = true)\n",
            " |-- zona: string (nullable = true)\n",
            " |-- condominio: float (nullable = true)\n",
            " |-- iptu: float (nullable = true)\n",
            " |-- valor: float (nullable = true)\n",
            "\n"
          ]
        }
      ]
    },
    {
      "cell_type": "markdown",
      "source": [
        "## Arrumando a coluna `caracteristicas`"
      ],
      "metadata": {
        "id": "bUZ28_PCjXru"
      }
    },
    {
      "cell_type": "code",
      "source": [
        "from pyspark.sql import functions as f"
      ],
      "metadata": {
        "id": "fvqBIGGWixSp"
      },
      "execution_count": 26,
      "outputs": []
    },
    {
      "cell_type": "code",
      "source": [
        "dataset.withColumn('caracteristicas',\n",
        "                   f.when((f.size(f.col('caracteristicas')) == 0), f.lit(None)).otherwise(f.col(\"caracteristicas\")))\\\n",
        "                   .show()"
      ],
      "metadata": {
        "colab": {
          "base_uri": "https://localhost:8080/"
        },
        "id": "fc4f0YKHju2p",
        "outputId": "20d1f838-8295-4e54-ad3f-f82feb6a0768"
      },
      "execution_count": 32,
      "outputs": [
        {
          "output_type": "stream",
          "name": "stdout",
          "text": [
            "+-----+----------+---------+---------+--------------------+-------+------+----+--------------------+------------+----------+------+--------+\n",
            "|andar|area_total|area_util|banheiros|     caracteristicas|quartos|suites|vaga|              bairro|        zona|condominio|  iptu|   valor|\n",
            "+-----+----------+---------+---------+--------------------+-------+------+----+--------------------+------------+----------+------+--------+\n",
            "|    0|      43.0|     43.0|        1|[Churrasqueira, A...|      2|  null|   1|            Realengo|  Zona Oeste|     285.0|  null| 22999.0|\n",
            "|    0|      44.0|     44.0|        1|                null|      2|     0|   0|               Irajá|  Zona Norte|     170.0|   0.0|110000.0|\n",
            "|    4|      null|     55.0|        1|                null|      2|     0|   1|              Cosmos|  Zona Oeste|      null|  null|115000.0|\n",
            "|    2|      null|     55.0|        1|                null|      2|     0|   0|        Tomás Coelho|  Zona Norte|      null|  null|115000.0|\n",
            "|    0|      null|     50.0|        1|                null|      1|  null|   0|              Centro|Zona Central|    1300.0|2679.0|125000.0|\n",
            "|    2|      47.0|     47.0|        1|[Condomínio fecha...|      2|     0|   1|        Campo Grande|  Zona Oeste|     380.0|  null|138000.0|\n",
            "|    0|   17089.0|     45.0|        1|[Churrasqueira, C...|      2|     0|   1|        Campo Grande|  Zona Oeste|     356.0|   0.0|140000.0|\n",
            "|    3|      48.0|     48.0|        1|[Churrasqueira, P...|      2|  null|   1|        Campo Grande|  Zona Oeste|       0.0|   0.0|150000.0|\n",
            "|    9|      null|     55.0|        1|[Churrasqueira, E...|      2|  null|   1|Freguesia (Jacare...|  Zona Oeste|     780.0| 660.0|160000.0|\n",
            "|    0|      70.0|     70.0|        2|   [Salão de festas]|      2|     0|   1|          Praça Seca|  Zona Oeste|  420000.0|  null|159000.0|\n",
            "|    2|      50.0|     48.0|        1|[Condomínio fecha...|      1|     0|   0|             Piedade|  Zona Norte|      10.0|  10.0|170000.0|\n",
            "|    5|      40.0|     40.0|        1|[Playground, Chur...|      2|     0|   1|        Braz de Pina|  Zona Norte|     150.0| 120.0|189000.0|\n",
            "|    0|      65.0|     65.0|        1|                null|      2|     0|   1|            Campinho|  Zona Oeste|     432.0|  null|185000.0|\n",
            "|    2|      50.0|     50.0|        1|[Condomínio fecha...|      1|     0|   1|           Madureira|  Zona Norte|     650.0|   1.0|185000.0|\n",
            "|    5|      45.0|     45.0|        1|[Academia, Churra...|      2|     1|   0|             Taquara|  Zona Oeste|     150.0|  40.0|199000.0|\n",
            "|    0|      48.0|     48.0|        1|[Academia, Condom...|      2|  null|   0|          Bonsucesso|  Zona Norte|       0.0|   0.0|205933.0|\n",
            "|    0|      44.0|     44.0|        1|[Academia, Condom...|      2|  null|   0|          Bonsucesso|  Zona Norte|       0.0|   0.0|206000.0|\n",
            "|    2|      64.0|     64.0|        1|                null|      2|     0|   0|      Jardim América|  Zona Norte|       0.0|   0.0|220000.0|\n",
            "|    0|      55.0|     55.0|        2|[Salão de festas,...|      1|     0|   1|        Engenho Novo|  Zona Norte|     600.0| 652.0|219130.0|\n",
            "|    3|      60.0|     60.0|        1|[Animais permitidos]|      3|     0|   1|           Cascadura|  Zona Norte|      98.0|   1.0|230000.0|\n",
            "+-----+----------+---------+---------+--------------------+-------+------+----+--------------------+------------+----------+------+--------+\n",
            "only showing top 20 rows\n",
            "\n"
          ]
        }
      ]
    },
    {
      "cell_type": "code",
      "source": [
        "dataset = dataset.withColumn('caracteristicas',\n",
        "                   f.when((f.size(f.col('caracteristicas')) == 0), f.lit(None)).otherwise(f.col(\"caracteristicas\")))"
      ],
      "metadata": {
        "id": "S2gaiBXVlcVz"
      },
      "execution_count": 33,
      "outputs": []
    },
    {
      "cell_type": "markdown",
      "source": [
        "## Lidando com os valores nulos"
      ],
      "metadata": {
        "id": "-hJYK1tln2i6"
      }
    },
    {
      "cell_type": "code",
      "source": [],
      "metadata": {
        "id": "QRIgqpFpnoYq"
      },
      "execution_count": null,
      "outputs": []
    }
  ]
}