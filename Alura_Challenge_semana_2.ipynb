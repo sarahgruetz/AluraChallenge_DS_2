{
  "nbformat": 4,
  "nbformat_minor": 0,
  "metadata": {
    "colab": {
      "provenance": [],
      "mount_file_id": "15Foar-lJmIw1grSKTWxTUtCUX6h0Gr70",
      "authorship_tag": "ABX9TyO7Tk2YwstwaJM5YHTTZTC9",
      "include_colab_link": true
    },
    "kernelspec": {
      "name": "python3",
      "display_name": "Python 3"
    },
    "language_info": {
      "name": "python"
    }
  },
  "cells": [
    {
      "cell_type": "markdown",
      "metadata": {
        "id": "view-in-github",
        "colab_type": "text"
      },
      "source": [
        "<a href=\"https://colab.research.google.com/github/sarahgruetz/AluraChallenge_DS_2/blob/main/Alura_Challenge_semana_2.ipynb\" target=\"_parent\"><img src=\"https://colab.research.google.com/assets/colab-badge.svg\" alt=\"Open In Colab\"/></a>"
      ]
    },
    {
      "cell_type": "code",
      "execution_count": 1,
      "metadata": {
        "colab": {
          "base_uri": "https://localhost:8080/"
        },
        "id": "rXwu3TSUMiZT",
        "outputId": "3af561be-fb44-4ed9-fe0c-fa914b7fc855"
      },
      "outputs": [
        {
          "output_type": "stream",
          "name": "stdout",
          "text": [
            "Looking in indexes: https://pypi.org/simple, https://us-python.pkg.dev/colab-wheels/public/simple/\n",
            "Collecting pyspark\n",
            "  Downloading pyspark-3.3.1.tar.gz (281.4 MB)\n",
            "\u001b[K     |████████████████████████████████| 281.4 MB 43 kB/s \n",
            "\u001b[?25hCollecting py4j==0.10.9.5\n",
            "  Downloading py4j-0.10.9.5-py2.py3-none-any.whl (199 kB)\n",
            "\u001b[K     |████████████████████████████████| 199 kB 47.9 MB/s \n",
            "\u001b[?25hBuilding wheels for collected packages: pyspark\n",
            "  Building wheel for pyspark (setup.py) ... \u001b[?25l\u001b[?25hdone\n",
            "  Created wheel for pyspark: filename=pyspark-3.3.1-py2.py3-none-any.whl size=281845512 sha256=635d9eb3011419002b37cc262537d8a389a16917d3d82b5ca863bbd01a91d73c\n",
            "  Stored in directory: /root/.cache/pip/wheels/43/dc/11/ec201cd671da62fa9c5cc77078235e40722170ceba231d7598\n",
            "Successfully built pyspark\n",
            "Installing collected packages: py4j, pyspark\n",
            "Successfully installed py4j-0.10.9.5 pyspark-3.3.1\n"
          ]
        }
      ],
      "source": [
        "!pip install pyspark"
      ]
    },
    {
      "cell_type": "code",
      "source": [
        "from pyspark.sql import SparkSession\n",
        "\n",
        "spark = SparkSession.builder \\\n",
        "    .master('local[*]') \\\n",
        "    .appName(\"Alura Challenge\") \\\n",
        "    .getOrCreate()"
      ],
      "metadata": {
        "id": "6YDplAklMmec"
      },
      "execution_count": 2,
      "outputs": []
    },
    {
      "cell_type": "code",
      "source": [
        "import zipfile\n",
        "\n",
        "zipfile.ZipFile('/content/drive/MyDrive/curso-spark/ChallengeAlura/semana-2.zip','r')\\\n",
        "        .extractall('/content/drive/MyDrive/curso-spark/ChallengeAlura/dados')"
      ],
      "metadata": {
        "id": "H-7yZCDBNcNK"
      },
      "execution_count": 3,
      "outputs": []
    },
    {
      "cell_type": "code",
      "source": [
        "dataset = spark.read.parquet('/content/drive/MyDrive/curso-spark/ChallengeAlura/dados/dataset_transformado_parquet')"
      ],
      "metadata": {
        "id": "YkoDFqOgOH5a"
      },
      "execution_count": 50,
      "outputs": []
    },
    {
      "cell_type": "code",
      "source": [
        "dataset.show(5)"
      ],
      "metadata": {
        "colab": {
          "base_uri": "https://localhost:8080/"
        },
        "id": "wNYeSUcSOVL6",
        "outputId": "e2ec50ae-80c3-411d-ea9b-d46ad8dc0b67"
      },
      "execution_count": 5,
      "outputs": [
        {
          "output_type": "stream",
          "name": "stdout",
          "text": [
            "+--------------------+-----+----------+---------+---------+--------------------+-------+------+------------+------------+-----------+----+------------+------------+----------+----+-----+------+\n",
            "|                  id|andar|area_total|area_util|banheiros|     caracteristicas|quartos|suites|tipo_anuncio|tipo_unidade|   tipo_uso|vaga|      bairro|        zona|condominio|iptu| tipo| valor|\n",
            "+--------------------+-----+----------+---------+---------+--------------------+-------+------+------------+------------+-----------+----+------------+------------+----------+----+-----+------+\n",
            "|03a386b6-7ab8-4ef...|    0|        43|       43|        1|[Churrasqueira, A...|      2|  null|       Usado| Apartamento|Residencial|   1|    Realengo|  Zona Oeste|       285|null|Venda| 22999|\n",
            "|1fe78d41-b8e0-4d2...|    0|        44|       44|        1|                  []|      2|     0|       Usado| Apartamento|Residencial|   0|       Irajá|  Zona Norte|       170|   0|Venda|110000|\n",
            "|1fa1c1e5-e98c-433...|    4|      null|       55|        1|                  []|      2|     0|       Usado| Apartamento|Residencial|   1|      Cosmos|  Zona Oeste|      null|null|Venda|115000|\n",
            "|a6ab01ae-3d40-40e...|    2|      null|       55|        1|                  []|      2|     0|       Usado| Apartamento|Residencial|   0|Tomás Coelho|  Zona Norte|      null|null|Venda|115000|\n",
            "|1d8ff7a2-16bd-4e3...|    0|      null|       50|        1|                  []|      1|  null|       Usado| Apartamento|Residencial|   0|      Centro|Zona Central|      1300|2679|Venda|125000|\n",
            "+--------------------+-----+----------+---------+---------+--------------------+-------+------+------------+------------+-----------+----+------------+------------+----------+----+-----+------+\n",
            "only showing top 5 rows\n",
            "\n"
          ]
        }
      ]
    },
    {
      "cell_type": "markdown",
      "source": [
        "## Seleção de Features"
      ],
      "metadata": {
        "id": "nxD55-VbOlrO"
      }
    },
    {
      "cell_type": "code",
      "source": [
        "dataset\\\n",
        "  .select('tipo_anuncio')\\\n",
        "  .groupBy('tipo_anuncio')\\\n",
        "  .count()\\\n",
        "  .show()"
      ],
      "metadata": {
        "colab": {
          "base_uri": "https://localhost:8080/"
        },
        "id": "aCCRdbSAOYvI",
        "outputId": "21c8efbd-4aa7-4737-def8-e04f99a25c28"
      },
      "execution_count": 6,
      "outputs": [
        {
          "output_type": "stream",
          "name": "stdout",
          "text": [
            "+------------+-----+\n",
            "|tipo_anuncio|count|\n",
            "+------------+-----+\n",
            "|       Usado|66562|\n",
            "+------------+-----+\n",
            "\n"
          ]
        }
      ]
    },
    {
      "cell_type": "code",
      "source": [
        "dataset\\\n",
        "  .select('tipo_unidade')\\\n",
        "  .groupBy('tipo_unidade')\\\n",
        "  .count()\\\n",
        "  .show()"
      ],
      "metadata": {
        "colab": {
          "base_uri": "https://localhost:8080/"
        },
        "id": "tv9FNyk4hA2p",
        "outputId": "05a12cde-9d8f-4d5e-ea82-1731fed4fc79"
      },
      "execution_count": 7,
      "outputs": [
        {
          "output_type": "stream",
          "name": "stdout",
          "text": [
            "+------------+-----+\n",
            "|tipo_unidade|count|\n",
            "+------------+-----+\n",
            "| Apartamento|66562|\n",
            "+------------+-----+\n",
            "\n"
          ]
        }
      ]
    },
    {
      "cell_type": "code",
      "source": [
        "dataset\\\n",
        "  .select('tipo_uso')\\\n",
        "  .groupBy('tipo_uso')\\\n",
        "  .count()\\\n",
        "  .show()"
      ],
      "metadata": {
        "colab": {
          "base_uri": "https://localhost:8080/"
        },
        "id": "75Wzki0DhAhy",
        "outputId": "c3fefb55-deb9-4671-aa22-4ea5ebb8dd9a"
      },
      "execution_count": 8,
      "outputs": [
        {
          "output_type": "stream",
          "name": "stdout",
          "text": [
            "+-----------+-----+\n",
            "|   tipo_uso|count|\n",
            "+-----------+-----+\n",
            "|Residencial|66562|\n",
            "+-----------+-----+\n",
            "\n"
          ]
        }
      ]
    },
    {
      "cell_type": "code",
      "source": [
        "dataset\\\n",
        "  .select('tipo')\\\n",
        "  .groupBy('tipo')\\\n",
        "  .count()\\\n",
        "  .show()"
      ],
      "metadata": {
        "colab": {
          "base_uri": "https://localhost:8080/"
        },
        "id": "yiCkR6ivhAfu",
        "outputId": "c6eb7e14-eddd-40ee-93eb-84713795b86d"
      },
      "execution_count": 9,
      "outputs": [
        {
          "output_type": "stream",
          "name": "stdout",
          "text": [
            "+-----+-----+\n",
            "| tipo|count|\n",
            "+-----+-----+\n",
            "|Venda|66562|\n",
            "+-----+-----+\n",
            "\n"
          ]
        }
      ]
    },
    {
      "cell_type": "code",
      "source": [
        "from pyspark.sql import functions as f"
      ],
      "metadata": {
        "id": "eMgco2zDkMIW"
      },
      "execution_count": 10,
      "outputs": []
    },
    {
      "cell_type": "code",
      "source": [
        "dataset\\\n",
        "  .select(f.count(f.when(dataset.area_total == dataset.area_util, True)).alias('mesmo_valor') )\\\n",
        "  .show()"
      ],
      "metadata": {
        "colab": {
          "base_uri": "https://localhost:8080/"
        },
        "id": "g6q8kYD-kXfC",
        "outputId": "09d5da7e-b06c-4667-e924-b1dbfe8476eb"
      },
      "execution_count": 11,
      "outputs": [
        {
          "output_type": "stream",
          "name": "stdout",
          "text": [
            "+-----------+\n",
            "|mesmo_valor|\n",
            "+-----------+\n",
            "|      55384|\n",
            "+-----------+\n",
            "\n"
          ]
        }
      ]
    },
    {
      "cell_type": "code",
      "source": [
        "dataset\\\n",
        "  .select(f.count(f.when(f.isnan('area_total') | f.isnull('area_total'), True)).alias('area_total') )\\\n",
        "  .show()"
      ],
      "metadata": {
        "colab": {
          "base_uri": "https://localhost:8080/"
        },
        "id": "BJt7uaYXj6Cg",
        "outputId": "0360d66a-00dd-4587-b92a-33be5e905352"
      },
      "execution_count": 12,
      "outputs": [
        {
          "output_type": "stream",
          "name": "stdout",
          "text": [
            "+----------+\n",
            "|area_total|\n",
            "+----------+\n",
            "|      9194|\n",
            "+----------+\n",
            "\n"
          ]
        }
      ]
    },
    {
      "cell_type": "code",
      "source": [
        "dataset\\\n",
        "  .select(f.count(f.when(f.isnan('area_util') | f.isnull('area_util'), True)).alias('area_util') )\\\n",
        "  .show()"
      ],
      "metadata": {
        "colab": {
          "base_uri": "https://localhost:8080/"
        },
        "id": "3Qd7xvNYjly0",
        "outputId": "5f762527-dea0-4c3c-b323-e28803d7eb23"
      },
      "execution_count": 13,
      "outputs": [
        {
          "output_type": "stream",
          "name": "stdout",
          "text": [
            "+---------+\n",
            "|area_util|\n",
            "+---------+\n",
            "|        0|\n",
            "+---------+\n",
            "\n"
          ]
        }
      ]
    },
    {
      "cell_type": "code",
      "source": [
        "dataset\\\n",
        "  .select('bairro')\\\n",
        "  .groupBy('bairro')\\\n",
        "  .count()\\\n",
        "  .show()"
      ],
      "metadata": {
        "colab": {
          "base_uri": "https://localhost:8080/"
        },
        "id": "YDM0pi3Mjlw3",
        "outputId": "7886a5bf-11a8-44c4-863e-55c352961f62"
      },
      "execution_count": 14,
      "outputs": [
        {
          "output_type": "stream",
          "name": "stdout",
          "text": [
            "+-------------------+-----+\n",
            "|             bairro|count|\n",
            "+-------------------+-----+\n",
            "|             Cocotá|   16|\n",
            "|       Tomás Coelho|   38|\n",
            "|              Gávea|  597|\n",
            "|            Ipanema| 2113|\n",
            "|           Realengo|   46|\n",
            "|      Gardênia Azul|    7|\n",
            "|      Bento Ribeiro|   33|\n",
            "|              Rocha|   38|\n",
            "|Vicente de Carvalho|   86|\n",
            "|         Manguinhos|    1|\n",
            "|       Campo Grande|  639|\n",
            "|        Jacarepaguá| 4437|\n",
            "|               Leme|  234|\n",
            "|           Botafogo| 3499|\n",
            "|       Padre Miguel|   15|\n",
            "|       Santo Cristo|  357|\n",
            "|           Flamengo| 1378|\n",
            "|  Engenho da Rainha|   25|\n",
            "| Pedra de Guaratiba|   12|\n",
            "|            Piedade|  104|\n",
            "+-------------------+-----+\n",
            "only showing top 20 rows\n",
            "\n"
          ]
        }
      ]
    },
    {
      "cell_type": "code",
      "source": [
        "dataset\\\n",
        "    .select('bairro')\\\n",
        "    .distinct()\\\n",
        "    .count()"
      ],
      "metadata": {
        "colab": {
          "base_uri": "https://localhost:8080/"
        },
        "id": "dSv1lZ-Sm1WT",
        "outputId": "c7ef94e6-3fa4-45a0-92d4-55ad7f186aa2"
      },
      "execution_count": 15,
      "outputs": [
        {
          "output_type": "execute_result",
          "data": {
            "text/plain": [
              "154"
            ]
          },
          "metadata": {},
          "execution_count": 15
        }
      ]
    },
    {
      "cell_type": "markdown",
      "source": [
        "`id` -> código de identificação do anúncio. Não será utilizada no modelo.\n",
        "\n",
        "`tipo_anuncio`, `tipo_unidade`, `tipo_uso`, `tipo` -> foram filtrados anteriormente e possuem apenas um registro distinto cada, portanto essas colunas também não serão utilizadas no modelo.\n",
        "\n",
        "`area_total` e `area_util` -> as duas colunas quase sempre tem o mesmo valor. Além disso a coluna `area_total` tem diversos valores faltantes. Dessa forma será utilizada apenas a coluna `area_util` no modelo.\n",
        "\n",
        "`bairro`-> possui uma quantidade muito grande de valores distintos, alguns com poucos registros. Não será utilizada no modelo."
      ],
      "metadata": {
        "id": "z7ZjrimMgBs0"
      }
    },
    {
      "cell_type": "code",
      "source": [
        "dataset = dataset.drop('id','tipo_anuncio','tipo_unidade','tipo_uso','tipo','area_total', 'bairro')"
      ],
      "metadata": {
        "id": "zujNZ4rHPICr"
      },
      "execution_count": 51,
      "outputs": []
    },
    {
      "cell_type": "markdown",
      "source": [
        "## Convertendo tipo das colunas"
      ],
      "metadata": {
        "id": "IdrT0DIZh4vB"
      }
    },
    {
      "cell_type": "code",
      "source": [
        "dataset.printSchema()"
      ],
      "metadata": {
        "colab": {
          "base_uri": "https://localhost:8080/"
        },
        "id": "g3_w8pTnfMVZ",
        "outputId": "3851dcc0-9e61-4d7c-f720-92a38e427201"
      },
      "execution_count": 17,
      "outputs": [
        {
          "output_type": "stream",
          "name": "stdout",
          "text": [
            "root\n",
            " |-- andar: long (nullable = true)\n",
            " |-- area_util: string (nullable = true)\n",
            " |-- banheiros: long (nullable = true)\n",
            " |-- caracteristicas: array (nullable = true)\n",
            " |    |-- element: string (containsNull = true)\n",
            " |-- quartos: long (nullable = true)\n",
            " |-- suites: long (nullable = true)\n",
            " |-- vaga: long (nullable = true)\n",
            " |-- zona: string (nullable = true)\n",
            " |-- condominio: string (nullable = true)\n",
            " |-- iptu: string (nullable = true)\n",
            " |-- valor: string (nullable = true)\n",
            "\n"
          ]
        }
      ]
    },
    {
      "cell_type": "code",
      "source": [
        "from pyspark.sql.types import DoubleType"
      ],
      "metadata": {
        "id": "H3zlThpqh9np"
      },
      "execution_count": 18,
      "outputs": []
    },
    {
      "cell_type": "code",
      "source": [
        "dataset = dataset\\\n",
        "              .withColumn('area_util', dataset.area_util.cast(DoubleType()))\\\n",
        "              .withColumn('condominio', dataset.condominio.cast(DoubleType()))\\\n",
        "              .withColumn('iptu', dataset.iptu.cast(DoubleType()))\\\n",
        "              .withColumn('valor', dataset.valor.cast(DoubleType()))"
      ],
      "metadata": {
        "id": "cNx0y6ZGiH4C"
      },
      "execution_count": 52,
      "outputs": []
    },
    {
      "cell_type": "code",
      "source": [
        "dataset.printSchema()"
      ],
      "metadata": {
        "colab": {
          "base_uri": "https://localhost:8080/"
        },
        "id": "38E3RyPvivrC",
        "outputId": "c48efe9a-a0cb-4577-d5d8-90e3ecf91965"
      },
      "execution_count": 21,
      "outputs": [
        {
          "output_type": "stream",
          "name": "stdout",
          "text": [
            "root\n",
            " |-- andar: long (nullable = true)\n",
            " |-- area_util: double (nullable = true)\n",
            " |-- banheiros: long (nullable = true)\n",
            " |-- caracteristicas: array (nullable = true)\n",
            " |    |-- element: string (containsNull = true)\n",
            " |-- quartos: long (nullable = true)\n",
            " |-- suites: long (nullable = true)\n",
            " |-- vaga: long (nullable = true)\n",
            " |-- zona: string (nullable = true)\n",
            " |-- condominio: double (nullable = true)\n",
            " |-- iptu: double (nullable = true)\n",
            " |-- valor: double (nullable = true)\n",
            "\n"
          ]
        }
      ]
    },
    {
      "cell_type": "markdown",
      "source": [
        "## Arrumando a coluna `caracteristicas`"
      ],
      "metadata": {
        "id": "bUZ28_PCjXru"
      }
    },
    {
      "cell_type": "code",
      "source": [
        "from pyspark.sql import functions as f"
      ],
      "metadata": {
        "id": "fvqBIGGWixSp"
      },
      "execution_count": 22,
      "outputs": []
    },
    {
      "cell_type": "code",
      "source": [
        "dataset = dataset.withColumn('caracteristicas',\n",
        "                   f.when((f.size(f.col('caracteristicas')) == 0), f.lit(None)).otherwise(f.col(\"caracteristicas\")))"
      ],
      "metadata": {
        "id": "uazo7-eFuG5J"
      },
      "execution_count": null,
      "outputs": []
    },
    {
      "cell_type": "code",
      "source": [
        "dataset.show(5)"
      ],
      "metadata": {
        "id": "0FAQFPGwuDAJ"
      },
      "execution_count": null,
      "outputs": []
    },
    {
      "cell_type": "code",
      "source": [
        "caracteristicas = dataset.select(f.explode('caracteristicas').alias('caracteristicas')).distinct()\n",
        "caracteristicas.show()"
      ],
      "metadata": {
        "colab": {
          "base_uri": "https://localhost:8080/"
        },
        "id": "IWXsTyWujC62",
        "outputId": "1960bc0d-28e5-44a4-bf62-c07b77538781"
      },
      "execution_count": 53,
      "outputs": [
        {
          "output_type": "stream",
          "name": "stdout",
          "text": [
            "+------------------+\n",
            "|   caracteristicas|\n",
            "+------------------+\n",
            "|Condomínio fechado|\n",
            "|        Playground|\n",
            "| Portão eletrônico|\n",
            "|           Piscina|\n",
            "|Animais permitidos|\n",
            "|      Portaria 24h|\n",
            "|          Elevador|\n",
            "|          Academia|\n",
            "|   Salão de festas|\n",
            "|     Churrasqueira|\n",
            "+------------------+\n",
            "\n"
          ]
        }
      ]
    },
    {
      "cell_type": "code",
      "source": [
        "lista_caracteristicas = list(caracteristicas.toPandas()['caracteristicas'])\n",
        "lista_caracteristicas"
      ],
      "metadata": {
        "colab": {
          "base_uri": "https://localhost:8080/"
        },
        "id": "AEE8S5EJnYhk",
        "outputId": "84aacad1-eb18-4d6a-ac63-943ff126a21d"
      },
      "execution_count": 54,
      "outputs": [
        {
          "output_type": "execute_result",
          "data": {
            "text/plain": [
              "['Condomínio fechado',\n",
              " 'Playground',\n",
              " 'Portão eletrônico',\n",
              " 'Piscina',\n",
              " 'Animais permitidos',\n",
              " 'Portaria 24h',\n",
              " 'Elevador',\n",
              " 'Academia',\n",
              " 'Salão de festas',\n",
              " 'Churrasqueira']"
            ]
          },
          "metadata": {},
          "execution_count": 54
        }
      ]
    },
    {
      "cell_type": "code",
      "source": [
        "for caract in lista_caracteristicas:\n",
        "  dataset = dataset.withColumn(caract, f.when(f.array_contains(dataset['caracteristicas'],caract),f.lit(1)).otherwise(f.lit(0)))"
      ],
      "metadata": {
        "id": "uoFrPwlFj3-J"
      },
      "execution_count": 55,
      "outputs": []
    },
    {
      "cell_type": "code",
      "source": [
        "dataset.show(5)"
      ],
      "metadata": {
        "colab": {
          "base_uri": "https://localhost:8080/"
        },
        "id": "ZNbqeHkPltla",
        "outputId": "5a441027-9ab4-4bb3-983b-89ada8df41f3"
      },
      "execution_count": 56,
      "outputs": [
        {
          "output_type": "stream",
          "name": "stdout",
          "text": [
            "+-----+---------+---------+--------------------+-------+------+----+------------+----------+------+--------+------------------+----------+-----------------+-------+------------------+------------+--------+--------+---------------+-------------+\n",
            "|andar|area_util|banheiros|     caracteristicas|quartos|suites|vaga|        zona|condominio|  iptu|   valor|Condomínio fechado|Playground|Portão eletrônico|Piscina|Animais permitidos|Portaria 24h|Elevador|Academia|Salão de festas|Churrasqueira|\n",
            "+-----+---------+---------+--------------------+-------+------+----+------------+----------+------+--------+------------------+----------+-----------------+-------+------------------+------------+--------+--------+---------------+-------------+\n",
            "|    0|     43.0|        1|[Churrasqueira, A...|      2|  null|   1|  Zona Oeste|     285.0|  null| 22999.0|                 1|         1|                1|      0|                 1|           1|       0|       1|              1|            1|\n",
            "|    0|     44.0|        1|                  []|      2|     0|   0|  Zona Norte|     170.0|   0.0|110000.0|                 0|         0|                0|      0|                 0|           0|       0|       0|              0|            0|\n",
            "|    4|     55.0|        1|                  []|      2|     0|   1|  Zona Oeste|      null|  null|115000.0|                 0|         0|                0|      0|                 0|           0|       0|       0|              0|            0|\n",
            "|    2|     55.0|        1|                  []|      2|     0|   0|  Zona Norte|      null|  null|115000.0|                 0|         0|                0|      0|                 0|           0|       0|       0|              0|            0|\n",
            "|    0|     50.0|        1|                  []|      1|  null|   0|Zona Central|    1300.0|2679.0|125000.0|                 0|         0|                0|      0|                 0|           0|       0|       0|              0|            0|\n",
            "+-----+---------+---------+--------------------+-------+------+----+------------+----------+------+--------+------------------+----------+-----------------+-------+------------------+------------+--------+--------+---------------+-------------+\n",
            "only showing top 5 rows\n",
            "\n"
          ]
        }
      ]
    },
    {
      "cell_type": "code",
      "source": [
        "dataset = dataset.drop('caracteristicas')"
      ],
      "metadata": {
        "id": "LAXgH0hrocIw"
      },
      "execution_count": 57,
      "outputs": []
    },
    {
      "cell_type": "markdown",
      "source": [
        "## Lidando com os valores nulos"
      ],
      "metadata": {
        "id": "-hJYK1tln2i6"
      }
    },
    {
      "cell_type": "code",
      "source": [
        "dataset\\\n",
        "  .select([f.count(f.when(f.isnan(c) | f.isnull(c), True)).alias(c) for c in dataset.columns])\\\n",
        "  .show()"
      ],
      "metadata": {
        "id": "QRIgqpFpnoYq",
        "colab": {
          "base_uri": "https://localhost:8080/"
        },
        "outputId": "35368724-1e56-4146-ce3f-2b5b69741d15"
      },
      "execution_count": 58,
      "outputs": [
        {
          "output_type": "stream",
          "name": "stdout",
          "text": [
            "+-----+---------+---------+-------+------+----+----+----------+----+-----+------------------+----------+-----------------+-------+------------------+------------+--------+--------+---------------+-------------+\n",
            "|andar|area_util|banheiros|quartos|suites|vaga|zona|condominio|iptu|valor|Condomínio fechado|Playground|Portão eletrônico|Piscina|Animais permitidos|Portaria 24h|Elevador|Academia|Salão de festas|Churrasqueira|\n",
            "+-----+---------+---------+-------+------+----+----+----------+----+-----+------------------+----------+-----------------+-------+------------------+------------+--------+--------+---------------+-------------+\n",
            "|    0|        0|        0|      0|  5554|3017|   0|      2371|7199|    0|                 0|         0|                0|      0|                 0|           0|       0|       0|              0|            0|\n",
            "+-----+---------+---------+-------+------+----+----+----------+----+-----+------------------+----------+-----------------+-------+------------------+------------+--------+--------+---------------+-------------+\n",
            "\n"
          ]
        }
      ]
    },
    {
      "cell_type": "code",
      "source": [
        "dataset = dataset\\\n",
        "    .select('*')\\\n",
        "    .na\\\n",
        "    .fill(0)"
      ],
      "metadata": {
        "id": "-vM4_OyDpAGO"
      },
      "execution_count": 59,
      "outputs": []
    },
    {
      "cell_type": "markdown",
      "source": [
        "### Arrumando a coluna `zona`"
      ],
      "metadata": {
        "id": "yIm0bNmOr9Ix"
      }
    },
    {
      "cell_type": "code",
      "source": [
        "dataset\\\n",
        "  .select('zona')\\\n",
        "  .groupBy('zona')\\\n",
        "  .count()\\\n",
        "  .show()"
      ],
      "metadata": {
        "colab": {
          "base_uri": "https://localhost:8080/"
        },
        "id": "qNiDaAFurtGI",
        "outputId": "1ba039c0-de80-4143-bbf6-12a381b28898"
      },
      "execution_count": 61,
      "outputs": [
        {
          "output_type": "stream",
          "name": "stdout",
          "text": [
            "+------------+-----+\n",
            "|        zona|count|\n",
            "+------------+-----+\n",
            "|  Zona Norte|11897|\n",
            "|  Zona Oeste|32979|\n",
            "|Zona Central| 1144|\n",
            "|    Zona Sul|20531|\n",
            "|            |   11|\n",
            "+------------+-----+\n",
            "\n"
          ]
        }
      ]
    },
    {
      "cell_type": "code",
      "source": [
        "dataset = dataset\\\n",
        "              .where(f.col('zona')!='')"
      ],
      "metadata": {
        "id": "WVzzjAG2sG64"
      },
      "execution_count": 62,
      "outputs": []
    },
    {
      "cell_type": "code",
      "source": [
        "dataset\\\n",
        "  .select('zona')\\\n",
        "  .groupBy('zona')\\\n",
        "  .count()\\\n",
        "  .show()"
      ],
      "metadata": {
        "colab": {
          "base_uri": "https://localhost:8080/"
        },
        "id": "IHLfxckSseGY",
        "outputId": "59fca77e-5dca-4260-cbd2-22c3bb488585"
      },
      "execution_count": 63,
      "outputs": [
        {
          "output_type": "stream",
          "name": "stdout",
          "text": [
            "+------------+-----+\n",
            "|        zona|count|\n",
            "+------------+-----+\n",
            "|  Zona Norte|11897|\n",
            "|  Zona Oeste|32979|\n",
            "|Zona Central| 1144|\n",
            "|    Zona Sul|20531|\n",
            "+------------+-----+\n",
            "\n"
          ]
        }
      ]
    },
    {
      "cell_type": "code",
      "source": [
        "dataset = dataset.select(\"*\").withColumn(\"id\", f.monotonically_increasing_id())"
      ],
      "metadata": {
        "id": "0LegxL-ZyaQS"
      },
      "execution_count": 64,
      "outputs": []
    },
    {
      "cell_type": "code",
      "source": [
        "dataset.show(5)"
      ],
      "metadata": {
        "colab": {
          "base_uri": "https://localhost:8080/"
        },
        "id": "SoPBnKN8yopE",
        "outputId": "11c33947-b824-4683-f9a6-deb0a47dc3ee"
      },
      "execution_count": 66,
      "outputs": [
        {
          "output_type": "stream",
          "name": "stdout",
          "text": [
            "+-----+---------+---------+-------+------+----+------------+----------+------+--------+------------------+----------+-----------------+-------+------------------+------------+--------+--------+---------------+-------------+---+\n",
            "|andar|area_util|banheiros|quartos|suites|vaga|        zona|condominio|  iptu|   valor|Condomínio fechado|Playground|Portão eletrônico|Piscina|Animais permitidos|Portaria 24h|Elevador|Academia|Salão de festas|Churrasqueira| id|\n",
            "+-----+---------+---------+-------+------+----+------------+----------+------+--------+------------------+----------+-----------------+-------+------------------+------------+--------+--------+---------------+-------------+---+\n",
            "|    0|     43.0|        1|      2|     0|   1|  Zona Oeste|     285.0|   0.0| 22999.0|                 1|         1|                1|      0|                 1|           1|       0|       1|              1|            1|  0|\n",
            "|    0|     44.0|        1|      2|     0|   0|  Zona Norte|     170.0|   0.0|110000.0|                 0|         0|                0|      0|                 0|           0|       0|       0|              0|            0|  1|\n",
            "|    4|     55.0|        1|      2|     0|   1|  Zona Oeste|       0.0|   0.0|115000.0|                 0|         0|                0|      0|                 0|           0|       0|       0|              0|            0|  2|\n",
            "|    2|     55.0|        1|      2|     0|   0|  Zona Norte|       0.0|   0.0|115000.0|                 0|         0|                0|      0|                 0|           0|       0|       0|              0|            0|  3|\n",
            "|    0|     50.0|        1|      1|     0|   0|Zona Central|    1300.0|2679.0|125000.0|                 0|         0|                0|      0|                 0|           0|       0|       0|              0|            0|  4|\n",
            "+-----+---------+---------+-------+------+----+------------+----------+------+--------+------------------+----------+-----------------+-------+------------------+------------+--------+--------+---------------+-------------+---+\n",
            "only showing top 5 rows\n",
            "\n"
          ]
        }
      ]
    },
    {
      "cell_type": "code",
      "source": [
        "zona = dataset\\\n",
        "          .groupBy('id')\\\n",
        "          .pivot('zona')\\\n",
        "          .agg(f.lit(1))\\\n",
        "          .na\\\n",
        "          .fill(0)\n",
        "zona.show()"
      ],
      "metadata": {
        "colab": {
          "base_uri": "https://localhost:8080/"
        },
        "id": "j8rMVnmQsf5h",
        "outputId": "4f4f6848-fc0b-4d66-a69e-6565c1610b2e"
      },
      "execution_count": 68,
      "outputs": [
        {
          "output_type": "stream",
          "name": "stdout",
          "text": [
            "+-----+------------+----------+----------+--------+\n",
            "|   id|Zona Central|Zona Norte|Zona Oeste|Zona Sul|\n",
            "+-----+------------+----------+----------+--------+\n",
            "|40395|           0|         0|         1|       0|\n",
            "|53509|           0|         0|         1|       0|\n",
            "| 8075|           0|         1|         0|       0|\n",
            "|18628|           0|         0|         1|       0|\n",
            "|29089|           0|         0|         0|       1|\n",
            "| 2927|           0|         0|         0|       1|\n",
            "| 7747|           0|         1|         0|       0|\n",
            "|39598|           0|         1|         0|       0|\n",
            "|64317|           0|         1|         0|       0|\n",
            "|15371|           0|         0|         1|       0|\n",
            "|42969|           0|         0|         1|       0|\n",
            "|15375|           0|         1|         0|       0|\n",
            "|19907|           0|         0|         0|       1|\n",
            "|54039|           0|         0|         1|       0|\n",
            "|37261|           0|         0|         1|       0|\n",
            "| 9233|           0|         0|         1|       0|\n",
            "|45166|           0|         1|         0|       0|\n",
            "| 1677|           0|         0|         1|       0|\n",
            "|13401|           0|         0|         1|       0|\n",
            "|27563|           0|         0|         0|       1|\n",
            "+-----+------------+----------+----------+--------+\n",
            "only showing top 20 rows\n",
            "\n"
          ]
        }
      ]
    },
    {
      "cell_type": "code",
      "source": [
        "dataset = dataset\\\n",
        "              .join(zona,'id', how='inner')"
      ],
      "metadata": {
        "id": "y8KvjtMoylXT"
      },
      "execution_count": 69,
      "outputs": []
    },
    {
      "cell_type": "code",
      "source": [
        "dataset.show(5)"
      ],
      "metadata": {
        "colab": {
          "base_uri": "https://localhost:8080/"
        },
        "id": "wYvCUs99zMKJ",
        "outputId": "48cd9ea1-ee4b-4901-99f3-282f850c003e"
      },
      "execution_count": 70,
      "outputs": [
        {
          "output_type": "stream",
          "name": "stdout",
          "text": [
            "+-----+-----+---------+---------+-------+------+----+----------+----------+------+---------+------------------+----------+-----------------+-------+------------------+------------+--------+--------+---------------+-------------+------------+----------+----------+--------+\n",
            "|   id|andar|area_util|banheiros|quartos|suites|vaga|      zona|condominio|  iptu|    valor|Condomínio fechado|Playground|Portão eletrônico|Piscina|Animais permitidos|Portaria 24h|Elevador|Academia|Salão de festas|Churrasqueira|Zona Central|Zona Norte|Zona Oeste|Zona Sul|\n",
            "+-----+-----+---------+---------+-------+------+----+----------+----------+------+---------+------------------+----------+-----------------+-------+------------------+------------+--------+--------+---------------+-------------+------------+----------+----------+--------+\n",
            "|40395|    1|     74.0|        2|      2|     2|   1|Zona Oeste|       1.0|   1.0|1061791.0|                 1|         1|                1|      1|                 1|           1|       1|       1|              1|            1|           0|         0|         1|       0|\n",
            "|53509|    0|    188.0|        5|      3|     3|   2|Zona Oeste|    1600.0|5390.0|1781000.0|                 1|         1|                0|      1|                 0|           0|       1|       1|              1|            1|           0|         0|         1|       0|\n",
            "| 8075|    4|     80.0|        2|      2|     0|   1|Zona Norte|     830.0|   0.0| 450000.0|                 1|         0|                1|      0|                 1|           0|       0|       0|              0|            0|           0|         1|         0|       0|\n",
            "|18628|    0|     45.0|        1|      1|     0|   0|Zona Oeste|       0.0|   0.0|  65000.0|                 0|         0|                0|      0|                 0|           0|       0|       0|              0|            0|           0|         0|         1|       0|\n",
            "|29089|    0|     94.0|        1|      2|     0|   0|  Zona Sul|    1336.0| 368.0|1130000.0|                 0|         0|                0|      0|                 0|           1|       0|       0|              1|            0|           0|         0|         0|       1|\n",
            "+-----+-----+---------+---------+-------+------+----+----------+----------+------+---------+------------------+----------+-----------------+-------+------------------+------------+--------+--------+---------------+-------------+------------+----------+----------+--------+\n",
            "only showing top 5 rows\n",
            "\n"
          ]
        }
      ]
    },
    {
      "cell_type": "code",
      "source": [
        "dataset = dataset.drop('id','zona')"
      ],
      "metadata": {
        "id": "mR1R3p1CzN-R"
      },
      "execution_count": 71,
      "outputs": []
    },
    {
      "cell_type": "code",
      "source": [
        "dataset.printSchema()"
      ],
      "metadata": {
        "colab": {
          "base_uri": "https://localhost:8080/"
        },
        "id": "vgAcZy4IzW7I",
        "outputId": "846e3dc0-5702-4ec0-df18-2b6be5eec1d8"
      },
      "execution_count": 72,
      "outputs": [
        {
          "output_type": "stream",
          "name": "stdout",
          "text": [
            "root\n",
            " |-- andar: long (nullable = true)\n",
            " |-- area_util: double (nullable = false)\n",
            " |-- banheiros: long (nullable = true)\n",
            " |-- quartos: long (nullable = true)\n",
            " |-- suites: long (nullable = true)\n",
            " |-- vaga: long (nullable = true)\n",
            " |-- condominio: double (nullable = false)\n",
            " |-- iptu: double (nullable = false)\n",
            " |-- valor: double (nullable = false)\n",
            " |-- Condomínio fechado: integer (nullable = false)\n",
            " |-- Playground: integer (nullable = false)\n",
            " |-- Portão eletrônico: integer (nullable = false)\n",
            " |-- Piscina: integer (nullable = false)\n",
            " |-- Animais permitidos: integer (nullable = false)\n",
            " |-- Portaria 24h: integer (nullable = false)\n",
            " |-- Elevador: integer (nullable = false)\n",
            " |-- Academia: integer (nullable = false)\n",
            " |-- Salão de festas: integer (nullable = false)\n",
            " |-- Churrasqueira: integer (nullable = false)\n",
            " |-- Zona Central: integer (nullable = true)\n",
            " |-- Zona Norte: integer (nullable = true)\n",
            " |-- Zona Oeste: integer (nullable = true)\n",
            " |-- Zona Sul: integer (nullable = true)\n",
            "\n"
          ]
        }
      ]
    },
    {
      "cell_type": "markdown",
      "source": [
        "### Salvando dataset em parquet"
      ],
      "metadata": {
        "id": "jHTJG4kZ0F6Q"
      }
    },
    {
      "cell_type": "code",
      "source": [
        "dataset.write.parquet(\n",
        "    path='/content/drive/MyDrive/curso-spark/ChallengeAlura/dados/parquet',\n",
        "    mode='overwrite'\n",
        ")"
      ],
      "metadata": {
        "id": "xBsL5i-Lzi0R"
      },
      "execution_count": 74,
      "outputs": []
    },
    {
      "cell_type": "markdown",
      "source": [
        "### Preparando os dados para os algoritmos do Spark MLib"
      ],
      "metadata": {
        "id": "tHvPRIyG0W7g"
      }
    },
    {
      "cell_type": "code",
      "source": [
        "from pyspark.ml.feature import VectorAssembler"
      ],
      "metadata": {
        "id": "wsRfmGeY0JiB"
      },
      "execution_count": 75,
      "outputs": []
    },
    {
      "cell_type": "code",
      "source": [
        "dataset = dataset.withColumnRenamed('valor','label')"
      ],
      "metadata": {
        "id": "F_nxXoUj0zwO"
      },
      "execution_count": 76,
      "outputs": []
    },
    {
      "cell_type": "code",
      "source": [
        "dataset.columns"
      ],
      "metadata": {
        "colab": {
          "base_uri": "https://localhost:8080/"
        },
        "id": "nuUUyzHZ04Vb",
        "outputId": "37497232-d896-4b43-9d27-d4047da49fc7"
      },
      "execution_count": 77,
      "outputs": [
        {
          "output_type": "execute_result",
          "data": {
            "text/plain": [
              "['andar',\n",
              " 'area_util',\n",
              " 'banheiros',\n",
              " 'quartos',\n",
              " 'suites',\n",
              " 'vaga',\n",
              " 'condominio',\n",
              " 'iptu',\n",
              " 'label',\n",
              " 'Condomínio fechado',\n",
              " 'Playground',\n",
              " 'Portão eletrônico',\n",
              " 'Piscina',\n",
              " 'Animais permitidos',\n",
              " 'Portaria 24h',\n",
              " 'Elevador',\n",
              " 'Academia',\n",
              " 'Salão de festas',\n",
              " 'Churrasqueira',\n",
              " 'Zona Central',\n",
              " 'Zona Norte',\n",
              " 'Zona Oeste',\n",
              " 'Zona Sul']"
            ]
          },
          "metadata": {},
          "execution_count": 77
        }
      ]
    },
    {
      "cell_type": "code",
      "source": [
        "X = [\n",
        "    'andar',\n",
        "    'area_util',\n",
        "    'banheiros',\n",
        "    'quartos',\n",
        "    'suites',\n",
        "    'vaga',\n",
        "    'condominio',\n",
        "    'iptu',\n",
        "    'Condomínio fechado',\n",
        "    'Playground',\n",
        "    'Portão eletrônico',\n",
        "    'Piscina',\n",
        "    'Animais permitidos',\n",
        "    'Portaria 24h',\n",
        "    'Elevador',\n",
        "    'Academia',\n",
        "    'Salão de festas',\n",
        "    'Churrasqueira',\n",
        "    'Zona Central',\n",
        "    'Zona Norte',\n",
        "    'Zona Oeste',\n",
        "    'Zona Sul' \n",
        "]"
      ],
      "metadata": {
        "id": "uXWhrNeJ08kt"
      },
      "execution_count": 78,
      "outputs": []
    },
    {
      "cell_type": "code",
      "source": [
        "assembler = VectorAssembler(inputCols=X,outputCol='features')"
      ],
      "metadata": {
        "id": "0rtqoqMH1L3I"
      },
      "execution_count": 79,
      "outputs": []
    },
    {
      "cell_type": "code",
      "source": [
        "dataset_modelo = assembler.transform(dataset).select('features','label')"
      ],
      "metadata": {
        "id": "_ZJVJ4C91SSR"
      },
      "execution_count": 80,
      "outputs": []
    },
    {
      "cell_type": "code",
      "source": [
        "dataset_modelo.show(10, truncate=False)"
      ],
      "metadata": {
        "colab": {
          "base_uri": "https://localhost:8080/"
        },
        "id": "lB8t6x-o1ZWA",
        "outputId": "d69d23cf-6906-480d-87c8-17cdbe0a712d"
      },
      "execution_count": 81,
      "outputs": [
        {
          "output_type": "stream",
          "name": "stdout",
          "text": [
            "+-------------------------------------------------------------------------------------------------+---------+\n",
            "|features                                                                                         |label    |\n",
            "+-------------------------------------------------------------------------------------------------+---------+\n",
            "|[1.0,74.0,2.0,2.0,2.0,1.0,1.0,1.0,1.0,1.0,1.0,1.0,1.0,1.0,1.0,1.0,1.0,1.0,0.0,0.0,1.0,0.0]       |1061791.0|\n",
            "|[0.0,188.0,5.0,3.0,3.0,2.0,1600.0,5390.0,1.0,1.0,0.0,1.0,0.0,0.0,1.0,1.0,1.0,1.0,0.0,0.0,1.0,0.0]|1781000.0|\n",
            "|(22,[0,1,2,3,5,6,8,10,12,19],[4.0,80.0,2.0,2.0,1.0,830.0,1.0,1.0,1.0,1.0])                       |450000.0 |\n",
            "|(22,[1,2,3,20],[45.0,1.0,1.0,1.0])                                                               |65000.0  |\n",
            "|(22,[1,2,3,6,7,13,16,21],[94.0,1.0,2.0,1336.0,368.0,1.0,1.0,1.0])                                |1130000.0|\n",
            "|(22,[1,2,3,4,5,6,7,9,14,16,21],[150.0,3.0,3.0,1.0,2.0,2104.0,393.0,1.0,1.0,1.0,1.0])             |1700000.0|\n",
            "|(22,[1,2,3,4,5,6,19],[70.0,4.0,3.0,2.0,2.0,798.0,1.0])                                           |505000.0 |\n",
            "|(22,[1,2,3,5,6,7,14,19],[70.0,2.0,2.0,1.0,700.0,1.0,1.0,1.0])                                    |349998.0 |\n",
            "|(22,[0,1,2,3,6,8,10,12,13,14,19],[3.0,32.0,1.0,1.0,668.0,1.0,1.0,1.0,1.0,1.0,1.0])               |260000.0 |\n",
            "|[0.0,76.0,2.0,3.0,1.0,1.0,650.0,1295.0,1.0,1.0,0.0,1.0,0.0,0.0,1.0,1.0,1.0,1.0,0.0,0.0,1.0,0.0]  |336000.0 |\n",
            "+-------------------------------------------------------------------------------------------------+---------+\n",
            "only showing top 10 rows\n",
            "\n"
          ]
        }
      ]
    },
    {
      "cell_type": "markdown",
      "source": [
        "### Separando dataset de treino e de teste"
      ],
      "metadata": {
        "id": "W6vHk4G12XEE"
      }
    },
    {
      "cell_type": "code",
      "source": [
        "treino, teste = dataset_modelo.randomSplit([0.7, 0.3], seed=101)"
      ],
      "metadata": {
        "id": "evtRCbNk2GJp"
      },
      "execution_count": 83,
      "outputs": []
    },
    {
      "cell_type": "markdown",
      "source": [
        "### Regressão Linear"
      ],
      "metadata": {
        "id": "3Ns4EOLG2Des"
      }
    },
    {
      "cell_type": "code",
      "source": [
        "from pyspark.ml.regression import LinearRegression"
      ],
      "metadata": {
        "id": "_j2lSMxk1eCw"
      },
      "execution_count": 82,
      "outputs": []
    },
    {
      "cell_type": "code",
      "source": [
        "lr = LinearRegression()"
      ],
      "metadata": {
        "id": "JTJj-78n2OFQ"
      },
      "execution_count": 84,
      "outputs": []
    },
    {
      "cell_type": "code",
      "source": [
        "modelo_lr = lr.fit(treino)"
      ],
      "metadata": {
        "id": "6q2U_ALI2bLY"
      },
      "execution_count": 85,
      "outputs": []
    },
    {
      "cell_type": "code",
      "source": [
        "previsoes_lr_treino = modelo_lr.transform(treino)"
      ],
      "metadata": {
        "id": "IB0frdLL2fNw"
      },
      "execution_count": 86,
      "outputs": []
    },
    {
      "cell_type": "code",
      "source": [
        "previsoes_lr_teste = modelo_lr.transform(teste)"
      ],
      "metadata": {
        "id": "OgBcZ-Hb27rp"
      },
      "execution_count": 89,
      "outputs": []
    },
    {
      "cell_type": "code",
      "source": [
        "from pyspark.ml.evaluation import RegressionEvaluator"
      ],
      "metadata": {
        "id": "RfqCQR052jO4"
      },
      "execution_count": 87,
      "outputs": []
    },
    {
      "cell_type": "code",
      "source": [
        "evaluator = RegressionEvaluator()"
      ],
      "metadata": {
        "id": "KOey6naD2q24"
      },
      "execution_count": 88,
      "outputs": []
    },
    {
      "cell_type": "code",
      "source": [
        "print('Linear Regression')\n",
        "print(\"=\"*30)\n",
        "print(\"Dados de Treino\")\n",
        "print(\"=\"*30)\n",
        "print(\"R²: %f\" % evaluator.evaluate(previsoes_lr_treino, {evaluator.metricName: \"r2\"}))\n",
        "print(\"RMSE: %f\" % evaluator.evaluate(previsoes_lr_treino, {evaluator.metricName: \"rmse\"}))\n",
        "print(\"\")\n",
        "print(\"=\"*30)\n",
        "print(\"Dados de Teste\")\n",
        "print(\"=\"*30)\n",
        "print(\"R²: %f\" % evaluator.evaluate(previsoes_lr_teste, {evaluator.metricName: \"r2\"}))\n",
        "print(\"RMSE: %f\" % evaluator.evaluate(previsoes_lr_teste, {evaluator.metricName: \"rmse\"}))"
      ],
      "metadata": {
        "colab": {
          "base_uri": "https://localhost:8080/"
        },
        "id": "SVRp9asx2uKA",
        "outputId": "a674ac5a-7d26-4b12-c946-857c3b7950b5"
      },
      "execution_count": 90,
      "outputs": [
        {
          "output_type": "stream",
          "name": "stdout",
          "text": [
            "Linear Regression\n",
            "==============================\n",
            "Dados de Treino\n",
            "==============================\n",
            "R²: 0.666697\n",
            "RMSE: 853352.183180\n",
            "\n",
            "==============================\n",
            "Dados de Teste\n",
            "==============================\n",
            "R²: 0.662490\n",
            "RMSE: 846439.252651\n"
          ]
        }
      ]
    },
    {
      "cell_type": "markdown",
      "source": [
        "### Decision Tree"
      ],
      "metadata": {
        "id": "jkeyq6vC3VFd"
      }
    },
    {
      "cell_type": "code",
      "source": [],
      "metadata": {
        "id": "IkXXk0vz3GTJ"
      },
      "execution_count": null,
      "outputs": []
    },
    {
      "cell_type": "code",
      "source": [],
      "metadata": {
        "id": "LVsKyQ5P3R5k"
      },
      "execution_count": null,
      "outputs": []
    }
  ]
}