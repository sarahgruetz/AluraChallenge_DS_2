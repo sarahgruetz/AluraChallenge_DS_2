{
  "nbformat": 4,
  "nbformat_minor": 0,
  "metadata": {
    "colab": {
      "provenance": [],
      "mount_file_id": "16yHGxv7X7o_VsOkhBd4XbyOUJjcd28l8",
      "authorship_tag": "ABX9TyODY2Ndeb8GXSERg3xQ3cdV",
      "include_colab_link": true
    },
    "kernelspec": {
      "name": "python3",
      "display_name": "Python 3"
    },
    "language_info": {
      "name": "python"
    }
  },
  "cells": [
    {
      "cell_type": "markdown",
      "metadata": {
        "id": "view-in-github",
        "colab_type": "text"
      },
      "source": [
        "<a href=\"https://colab.research.google.com/github/sarahgruetz/AluraChallenge_DS_2/blob/main/sistema-recomendacao.ipynb\" target=\"_parent\"><img src=\"https://colab.research.google.com/assets/colab-badge.svg\" alt=\"Open In Colab\"/></a>"
      ]
    },
    {
      "cell_type": "code",
      "execution_count": null,
      "metadata": {
        "colab": {
          "base_uri": "https://localhost:8080/"
        },
        "id": "DoZBXSmVSO2P",
        "outputId": "e0e6841b-2685-4415-e9f7-1cc8ff1f05ba"
      },
      "outputs": [
        {
          "output_type": "stream",
          "name": "stdout",
          "text": [
            "Looking in indexes: https://pypi.org/simple, https://us-python.pkg.dev/colab-wheels/public/simple/\n",
            "Collecting pyspark\n",
            "  Downloading pyspark-3.3.1.tar.gz (281.4 MB)\n",
            "\u001b[K     |████████████████████████████████| 281.4 MB 41 kB/s \n",
            "\u001b[?25hCollecting py4j==0.10.9.5\n",
            "  Downloading py4j-0.10.9.5-py2.py3-none-any.whl (199 kB)\n",
            "\u001b[K     |████████████████████████████████| 199 kB 49.9 MB/s \n",
            "\u001b[?25hBuilding wheels for collected packages: pyspark\n",
            "  Building wheel for pyspark (setup.py) ... \u001b[?25l\u001b[?25hdone\n",
            "  Created wheel for pyspark: filename=pyspark-3.3.1-py2.py3-none-any.whl size=281845512 sha256=50f55d367020e165813afa45b682c0101ad31810d3b6da2b3ab0f25adc7a774e\n",
            "  Stored in directory: /root/.cache/pip/wheels/43/dc/11/ec201cd671da62fa9c5cc77078235e40722170ceba231d7598\n",
            "Successfully built pyspark\n",
            "Installing collected packages: py4j, pyspark\n",
            "Successfully installed py4j-0.10.9.5 pyspark-3.3.1\n"
          ]
        }
      ],
      "source": [
        "!pip install pyspark"
      ]
    },
    {
      "cell_type": "markdown",
      "source": [
        "### Iniciando a SparkSession"
      ],
      "metadata": {
        "id": "NDiMTWR7Syom"
      }
    },
    {
      "cell_type": "code",
      "source": [
        "from pyspark.sql import SparkSession\n",
        "\n",
        "spark = SparkSession.builder \\\n",
        "    .master('local[*]') \\\n",
        "    .appName(\"Sistema de Recomendação\") \\\n",
        "    .getOrCreate()"
      ],
      "metadata": {
        "id": "BjzFuE5pSunn"
      },
      "execution_count": null,
      "outputs": []
    },
    {
      "cell_type": "markdown",
      "source": [
        "### Carregando dataset a partir do arquivo no drive"
      ],
      "metadata": {
        "id": "B7pYBB4z77CL"
      }
    },
    {
      "cell_type": "code",
      "source": [
        "import zipfile\n",
        "\n",
        "zipfile.ZipFile('/content/drive/MyDrive/curso-spark/ChallengeAlura/semanas-3-e-4.zip','r')\\\n",
        "        .extractall('/content/drive/MyDrive/curso-spark/ChallengeAlura/dados')"
      ],
      "metadata": {
        "id": "XkgaKJPtS5cC"
      },
      "execution_count": null,
      "outputs": []
    },
    {
      "cell_type": "code",
      "source": [
        "dataset = spark.read.parquet('/content/drive/MyDrive/curso-spark/ChallengeAlura/dados/dataset_ml_parquet')"
      ],
      "metadata": {
        "id": "JSGZyDEuTQC2"
      },
      "execution_count": null,
      "outputs": []
    },
    {
      "cell_type": "code",
      "source": [
        "print(f'O dataset possui {dataset.count()} registros e {len(dataset.columns)} colunas.')"
      ],
      "metadata": {
        "colab": {
          "base_uri": "https://localhost:8080/"
        },
        "id": "0ooFRthmUaau",
        "outputId": "a2c8dff2-fcd6-4775-948d-8ae5f5198cc1"
      },
      "execution_count": null,
      "outputs": [
        {
          "output_type": "stream",
          "name": "stdout",
          "text": [
            "O dataset possui 66551 registros e 25 colunas.\n"
          ]
        }
      ]
    },
    {
      "cell_type": "code",
      "source": [
        "dataset.show(5)"
      ],
      "metadata": {
        "colab": {
          "base_uri": "https://localhost:8080/"
        },
        "id": "gCG6VlEOTkM8",
        "outputId": "3013e2e3-8acc-4b80-90e3-03a0f2286906"
      },
      "execution_count": null,
      "outputs": [
        {
          "output_type": "stream",
          "name": "stdout",
          "text": [
            "+--------------------+-----+---------+---------+-------+------+----+------------+----------+-----+--------+------------+----------+----------+--------+--------+------------------+-------------+------------------+--------+-------+----------+------------+-----------------+---------------+\n",
            "|                  id|andar|area_util|banheiros|quartos|suites|vaga|      bairro|condominio| iptu|   valor|Zona Central|Zona Norte|Zona Oeste|Zona Sul|Academia|Animais permitidos|Churrasqueira|Condomínio fechado|Elevador|Piscina|Playground|Portaria 24h|Portão eletrônico|Salão de festas|\n",
            "+--------------------+-----+---------+---------+-------+------+----+------------+----------+-----+--------+------------+----------+----------+--------+--------+------------------+-------------+------------------+--------+-------+----------+------------+-----------------+---------------+\n",
            "|00002dd9-cc74-480...|    2|       35|        1|      1|   0.0| 0.0|Santo Cristo|     100.0|100.0|245000.0|           1|         0|         0|       0|       1|                 1|            1|                 1|       1|      1|         1|           1|                1|              1|\n",
            "|0009ca94-2b37-438...|    1|       84|        2|      2|   0.0| 1.0|      Tijuca|     770.0|105.0|474980.0|           0|         1|         0|       0|       0|                 0|            1|                 0|       1|      0|         1|           1|                0|              1|\n",
            "|000e3d28-e3e5-411...|    0|       85|        2|      2|   0.0| 0.0|Santa Teresa|     460.0|661.0|290000.0|           0|         0|         0|       1|       0|                 1|            0|                 0|       1|      0|         0|           0|                0|              0|\n",
            "|000fb707-6cad-496...|    0|       58|        1|      2|   0.0| 1.0|   Pechincha|     550.0|550.0|249000.0|           0|         0|         1|       0|       0|                 0|            0|                 0|       0|      1|         1|           0|                0|              0|\n",
            "|001b6db0-e88d-4eb...|    0|       64|        2|      2|   1.0| 1.0|      Tijuca|     850.0|  0.0|530000.0|           0|         1|         0|       0|       0|                 0|            0|                 0|       0|      0|         0|           0|                0|              0|\n",
            "+--------------------+-----+---------+---------+-------+------+----+------------+----------+-----+--------+------------+----------+----------+--------+--------+------------------+-------------+------------------+--------+-------+----------+------------+-----------------+---------------+\n",
            "only showing top 5 rows\n",
            "\n"
          ]
        }
      ]
    },
    {
      "cell_type": "markdown",
      "source": [
        "### Conferindo o tipos das variáveis"
      ],
      "metadata": {
        "id": "ZwKppuG58P_z"
      }
    },
    {
      "cell_type": "code",
      "source": [
        "dataset.printSchema()"
      ],
      "metadata": {
        "colab": {
          "base_uri": "https://localhost:8080/"
        },
        "id": "KzlHFUHrTr0c",
        "outputId": "f762571c-3b86-4f56-b03e-6ef8e550140c"
      },
      "execution_count": null,
      "outputs": [
        {
          "output_type": "stream",
          "name": "stdout",
          "text": [
            "root\n",
            " |-- id: string (nullable = true)\n",
            " |-- andar: integer (nullable = true)\n",
            " |-- area_util: integer (nullable = true)\n",
            " |-- banheiros: integer (nullable = true)\n",
            " |-- quartos: integer (nullable = true)\n",
            " |-- suites: double (nullable = true)\n",
            " |-- vaga: double (nullable = true)\n",
            " |-- bairro: string (nullable = true)\n",
            " |-- condominio: double (nullable = true)\n",
            " |-- iptu: double (nullable = true)\n",
            " |-- valor: double (nullable = true)\n",
            " |-- Zona Central: integer (nullable = true)\n",
            " |-- Zona Norte: integer (nullable = true)\n",
            " |-- Zona Oeste: integer (nullable = true)\n",
            " |-- Zona Sul: integer (nullable = true)\n",
            " |-- Academia: integer (nullable = true)\n",
            " |-- Animais permitidos: integer (nullable = true)\n",
            " |-- Churrasqueira: integer (nullable = true)\n",
            " |-- Condomínio fechado: integer (nullable = true)\n",
            " |-- Elevador: integer (nullable = true)\n",
            " |-- Piscina: integer (nullable = true)\n",
            " |-- Playground: integer (nullable = true)\n",
            " |-- Portaria 24h: integer (nullable = true)\n",
            " |-- Portão eletrônico: integer (nullable = true)\n",
            " |-- Salão de festas: integer (nullable = true)\n",
            "\n"
          ]
        }
      ]
    },
    {
      "cell_type": "markdown",
      "source": [
        "### Conferindo se existem valores faltantes"
      ],
      "metadata": {
        "id": "_5e0Ribh8c9H"
      }
    },
    {
      "cell_type": "code",
      "source": [
        "from pyspark.sql import functions as f"
      ],
      "metadata": {
        "id": "q8At4WVzU16A"
      },
      "execution_count": null,
      "outputs": []
    },
    {
      "cell_type": "code",
      "source": [
        "dataset\\\n",
        "  .select([f.count(f.when(f.isnan(c) | f.isnull(c), True)).alias(c) for c in dataset.columns])\\\n",
        "  .show(vertical=True)"
      ],
      "metadata": {
        "colab": {
          "base_uri": "https://localhost:8080/"
        },
        "id": "UmBv_6KvUz4N",
        "outputId": "cd9daacd-41c3-443a-ad57-ef169809c6fd"
      },
      "execution_count": null,
      "outputs": [
        {
          "output_type": "stream",
          "name": "stdout",
          "text": [
            "-RECORD 0-----------------\n",
            " id                 | 0   \n",
            " andar              | 0   \n",
            " area_util          | 0   \n",
            " banheiros          | 0   \n",
            " quartos            | 0   \n",
            " suites             | 0   \n",
            " vaga               | 0   \n",
            " bairro             | 0   \n",
            " condominio         | 0   \n",
            " iptu               | 0   \n",
            " valor              | 0   \n",
            " Zona Central       | 0   \n",
            " Zona Norte         | 0   \n",
            " Zona Oeste         | 0   \n",
            " Zona Sul           | 0   \n",
            " Academia           | 0   \n",
            " Animais permitidos | 0   \n",
            " Churrasqueira      | 0   \n",
            " Condomínio fechado | 0   \n",
            " Elevador           | 0   \n",
            " Piscina            | 0   \n",
            " Playground         | 0   \n",
            " Portaria 24h       | 0   \n",
            " Portão eletrônico  | 0   \n",
            " Salão de festas    | 0   \n",
            "\n"
          ]
        }
      ]
    },
    {
      "cell_type": "markdown",
      "source": [
        "### Renomeando colunas\n",
        "Removendo espaços e acentos"
      ],
      "metadata": {
        "id": "2t5WL5AJus-V"
      }
    },
    {
      "cell_type": "code",
      "source": [
        "novos_nomes = [\n",
        "      'id',\n",
        "      'andar',\n",
        "      'area_util',\n",
        "      'banheiros',\n",
        "      'quartos',\n",
        "      'suites',\n",
        "      'vaga',\n",
        "      'bairro',\n",
        "      'condominio',\n",
        "      'iptu',\n",
        "      'valor',\n",
        "      'zona_central',\n",
        "      'zona_norte',\n",
        "      'zona_oeste',\n",
        "      'zona_sul',\n",
        "      'academia',\n",
        "      'animais_permitidos',\n",
        "      'churrasqueira',\n",
        "      'condominio_fechado',\n",
        "      'elevador',\n",
        "      'piscina',\n",
        "      'playground',\n",
        "      'portaria_24h',\n",
        "      'portao_eletronico',\n",
        "      'salao_festas'\n",
        "      ]"
      ],
      "metadata": {
        "id": "qJtaGjrSusnj"
      },
      "execution_count": null,
      "outputs": []
    },
    {
      "cell_type": "code",
      "source": [
        "mapa_renomear = zip(dataset.columns,novos_nomes)"
      ],
      "metadata": {
        "id": "8jmVnHp0vVdT"
      },
      "execution_count": null,
      "outputs": []
    },
    {
      "cell_type": "code",
      "source": [
        "for antigo, novo in mapa_renomear:\n",
        "  dataset = dataset.withColumnRenamed(antigo, novo)\n",
        "\n",
        "dataset.columns"
      ],
      "metadata": {
        "colab": {
          "base_uri": "https://localhost:8080/"
        },
        "id": "yxqfroyPvbXe",
        "outputId": "76aecbf0-88a6-474f-d6b3-22d63a14f392"
      },
      "execution_count": null,
      "outputs": [
        {
          "output_type": "execute_result",
          "data": {
            "text/plain": [
              "['id',\n",
              " 'andar',\n",
              " 'area_util',\n",
              " 'banheiros',\n",
              " 'quartos',\n",
              " 'suites',\n",
              " 'vaga',\n",
              " 'bairro',\n",
              " 'condominio',\n",
              " 'iptu',\n",
              " 'valor',\n",
              " 'zona_central',\n",
              " 'zona_norte',\n",
              " 'zona_oeste',\n",
              " 'zona_sul',\n",
              " 'academia',\n",
              " 'animais_permitidos',\n",
              " 'churrasqueira',\n",
              " 'condominio_fechado',\n",
              " 'elevador',\n",
              " 'piscina',\n",
              " 'playground',\n",
              " 'portaria_24h',\n",
              " 'portao_eletronico',\n",
              " 'salao_festas']"
            ]
          },
          "metadata": {},
          "execution_count": 12
        }
      ]
    },
    {
      "cell_type": "markdown",
      "source": [
        "### Preparando os dados\n",
        "Para utilização dos dados no modelo de clusterização é preciso fazer a seleção das variáveis que vão ser utilizadas pelo modelo e a transformação desse dataset para o formato adequado para os modelos do `pyspark.ml`"
      ],
      "metadata": {
        "id": "hsqk0R7uUS6Z"
      }
    },
    {
      "cell_type": "code",
      "source": [
        "from pyspark.ml.feature import VectorAssembler"
      ],
      "metadata": {
        "id": "6MkXI4vZUHj-"
      },
      "execution_count": null,
      "outputs": []
    },
    {
      "cell_type": "code",
      "source": [
        "dataset.columns"
      ],
      "metadata": {
        "colab": {
          "base_uri": "https://localhost:8080/"
        },
        "id": "DxjAfUbgVCrt",
        "outputId": "5aa8b392-4fed-401c-a9a3-a51a90d926d1"
      },
      "execution_count": null,
      "outputs": [
        {
          "output_type": "execute_result",
          "data": {
            "text/plain": [
              "['id',\n",
              " 'andar',\n",
              " 'area_util',\n",
              " 'banheiros',\n",
              " 'quartos',\n",
              " 'suites',\n",
              " 'vaga',\n",
              " 'bairro',\n",
              " 'condominio',\n",
              " 'iptu',\n",
              " 'valor',\n",
              " 'zona_central',\n",
              " 'zona_norte',\n",
              " 'zona_oeste',\n",
              " 'zona_sul',\n",
              " 'academia',\n",
              " 'animais_permitidos',\n",
              " 'churrasqueira',\n",
              " 'condominio_fechado',\n",
              " 'elevador',\n",
              " 'piscina',\n",
              " 'playground',\n",
              " 'portaria_24h',\n",
              " 'portao_eletronico',\n",
              " 'salao_festas']"
            ]
          },
          "metadata": {},
          "execution_count": 14
        }
      ]
    },
    {
      "cell_type": "markdown",
      "source": [
        "#### Selecionando as variáveis que vão ser utilizados no modelo\n",
        "As variáveis `id` e `bairro`, por estarem em formato de string, não serão utilizadas"
      ],
      "metadata": {
        "id": "ibS44z408uOQ"
      }
    },
    {
      "cell_type": "code",
      "source": [
        "X = dataset.drop('id','bairro').columns"
      ],
      "metadata": {
        "id": "hZRzu81fVD29"
      },
      "execution_count": null,
      "outputs": []
    },
    {
      "cell_type": "markdown",
      "source": [
        "#### Transformando o dataset"
      ],
      "metadata": {
        "id": "tPzc1Llv93pl"
      }
    },
    {
      "cell_type": "code",
      "source": [
        "assembler = VectorAssembler(inputCols=X, outputCol='features')"
      ],
      "metadata": {
        "id": "M5NYggw2VLqU"
      },
      "execution_count": null,
      "outputs": []
    },
    {
      "cell_type": "code",
      "source": [
        "dataset_modelo = assembler.transform(dataset).select('features')"
      ],
      "metadata": {
        "id": "OqbhsyxxVS8E"
      },
      "execution_count": null,
      "outputs": []
    },
    {
      "cell_type": "code",
      "source": [
        "dataset_modelo.show(5, False)"
      ],
      "metadata": {
        "colab": {
          "base_uri": "https://localhost:8080/"
        },
        "id": "1nU0dY-SVTj0",
        "outputId": "95018a26-be17-4d06-a49e-39be8c5304b3"
      },
      "execution_count": null,
      "outputs": [
        {
          "output_type": "stream",
          "name": "stdout",
          "text": [
            "+------------------------------------------------------------------------------------------------------------+\n",
            "|features                                                                                                    |\n",
            "+------------------------------------------------------------------------------------------------------------+\n",
            "|[2.0,35.0,1.0,1.0,0.0,0.0,100.0,100.0,245000.0,1.0,0.0,0.0,0.0,1.0,1.0,1.0,1.0,1.0,1.0,1.0,1.0,1.0,1.0]     |\n",
            "|(23,[0,1,2,3,5,6,7,8,10,15,17,19,20,22],[1.0,84.0,2.0,2.0,1.0,770.0,105.0,474980.0,1.0,1.0,1.0,1.0,1.0,1.0])|\n",
            "|(23,[1,2,3,6,7,8,12,14,17],[85.0,2.0,2.0,460.0,661.0,290000.0,1.0,1.0,1.0])                                 |\n",
            "|(23,[1,2,3,5,6,7,8,11,18,19],[58.0,1.0,2.0,1.0,550.0,550.0,249000.0,1.0,1.0,1.0])                           |\n",
            "|(23,[1,2,3,4,5,6,8,10],[64.0,2.0,2.0,1.0,1.0,850.0,530000.0,1.0])                                           |\n",
            "+------------------------------------------------------------------------------------------------------------+\n",
            "only showing top 5 rows\n",
            "\n"
          ]
        }
      ]
    },
    {
      "cell_type": "markdown",
      "source": [
        "### Padronização dos dados\n",
        "\n",
        "Para realizar a clusterização dos dados é preciso que as variáveis tenham valores mais próximos uma das outras. Uma forma de se obter isso é utilizando o StandardScaler que realiza a padronização dos dados subtraindo cada coluna por sua média e dividindo pelo seu desvio padrão. Dessa forma, a distribuição de todas as variáveis terá uma média zero e desvio padrão igual a um."
      ],
      "metadata": {
        "id": "618c4iT_bRgK"
      }
    },
    {
      "cell_type": "code",
      "source": [
        "from pyspark.ml.feature import StandardScaler"
      ],
      "metadata": {
        "id": "2sdvQnLhVWws"
      },
      "execution_count": null,
      "outputs": []
    },
    {
      "cell_type": "code",
      "source": [
        "scaler = StandardScaler(inputCol='features', outputCol='scaled_features')\n",
        "scaler_model = scaler.fit(dataset_modelo)\n",
        "dataset_modelo_scaler = scaler_model.transform(dataset_modelo)   # fit_transform (?)"
      ],
      "metadata": {
        "id": "OKt1Frc7bT3N"
      },
      "execution_count": null,
      "outputs": []
    },
    {
      "cell_type": "code",
      "source": [
        "dataset_modelo_scaler.select('scaled_features').show(5,False)"
      ],
      "metadata": {
        "colab": {
          "base_uri": "https://localhost:8080/"
        },
        "id": "KIIkOxDAbjXE",
        "outputId": "261fa836-7e51-43b8-8449-3702591a65db"
      },
      "execution_count": null,
      "outputs": [
        {
          "output_type": "stream",
          "name": "stdout",
          "text": [
            "+--------------------------------------------------------------------------------------------------------------------------------------------------------------------------------------------------------------------------------------------------------------------------------------------------------------------------------------------------------------------------+\n",
            "|scaled_features                                                                                                                                                                                                                                                                                                                                                           |\n",
            "+--------------------------------------------------------------------------------------------------------------------------------------------------------------------------------------------------------------------------------------------------------------------------------------------------------------------------------------------------------------------------+\n",
            "|[0.13607726247524105,0.3928347118586362,0.7362338819363583,1.1008202436753782,0.0,0.0,9.600966052923233E-4,5.843293750925928E-4,0.16646329338847035,7.693539635100576,0.0,0.0,0.0,2.029288675697721,2.0063986358410992,2.00212608660304,2.0026140142259217,2.0917437099198977,1.9999864552247013,2.001812384720792,2.007706141209056,2.0142448870054395,2.000069820806827]|\n",
            "|(23,[0,1,2,3,5,6,7,8,10,15,17,19,20,22],[0.06803863123762052,0.9428033084607269,1.4724677638727166,2.2016404873507565,0.7446700458431611,0.00739274386075089,6.135458438472224E-4,0.3227213677292067,2.6098864683972236,2.00212608660304,2.0917437099198977,2.001812384720792,2.007706141209056,2.000069820806827])                                                       |\n",
            "|(23,[1,2,3,6,7,8,12,14,17],[0.9540271573709737,1.4724677638727166,2.2016404873507565,0.004416444384344687,0.0038624171693620386,0.19703818401084244,2.165075093568037,2.0063986358410992,2.0917437099198977])                                                                                                                                                             |\n",
            "|(23,[1,2,3,5,6,7,8,11,18,19],[0.6509832367943115,0.7362338819363583,2.2016404873507565,0.7446700458431611,0.005280531329107779,0.0032138115630092603,0.1691810614437923,2.0000643742960476,1.9999864552247013,2.001812384720792])                                                                                                                                         |\n",
            "|(23,[1,2,3,4,5,6,8,10],[0.718326330255792,1.4724677638727166,2.2016404873507565,0.9384708241783732,0.7446700458431611,0.008160821144984749,0.3601042673301603,2.6098864683972236])                                                                                                                                                                                        |\n",
            "+--------------------------------------------------------------------------------------------------------------------------------------------------------------------------------------------------------------------------------------------------------------------------------------------------------------------------------------------------------------------------+\n",
            "only showing top 5 rows\n",
            "\n"
          ]
        }
      ]
    },
    {
      "cell_type": "markdown",
      "source": [
        "### Redução de dimensionalidade\n",
        "\n",
        "O objetivo da redução de dimensionalidade é manter a maior representatividade dos dados com a menor quantide possível de variáveis. Para fazer isso foi utilizado o PCA.\n",
        "\n",
        "Primeiro encontramos a quantidade ideal de componentes."
      ],
      "metadata": {
        "id": "WWFXIolnb6jl"
      }
    },
    {
      "cell_type": "code",
      "source": [
        "from pyspark.ml.feature import PCA"
      ],
      "metadata": {
        "id": "tUI0EACsbnm0"
      },
      "execution_count": null,
      "outputs": []
    },
    {
      "cell_type": "markdown",
      "source": [
        "Total de variáveis no dataset"
      ],
      "metadata": {
        "id": "jaAw1WdH-qk7"
      }
    },
    {
      "cell_type": "code",
      "source": [
        "k = len(X)\n",
        "k"
      ],
      "metadata": {
        "colab": {
          "base_uri": "https://localhost:8080/"
        },
        "id": "Bg4jtpPV3aMp",
        "outputId": "34e484ae-01b6-4738-c2a0-bef26be411b9"
      },
      "execution_count": null,
      "outputs": [
        {
          "output_type": "execute_result",
          "data": {
            "text/plain": [
              "23"
            ]
          },
          "metadata": {},
          "execution_count": 30
        }
      ]
    },
    {
      "cell_type": "markdown",
      "source": [
        "Transformando os dados usando 23 componentes"
      ],
      "metadata": {
        "id": "UdOnWc23AJyU"
      }
    },
    {
      "cell_type": "code",
      "source": [
        "pca = PCA(k=k, inputCol='scaled_features', outputCol='pca_features')\n",
        "model_pca = pca.fit(dataset_modelo_scaler)"
      ],
      "metadata": {
        "id": "Ktpf4gOyd4pu"
      },
      "execution_count": null,
      "outputs": []
    },
    {
      "cell_type": "markdown",
      "source": [
        "Os valores a seguir mostram quanto da variância dos dados é explicada com uma quantidade k de componentes.\n",
        "\n",
        "Por exemplo, com 10 componentes mais de 85% da variância nos dados já é explicada."
      ],
      "metadata": {
        "id": "zqG4nLug_FiO"
      }
    },
    {
      "cell_type": "code",
      "source": [
        "[(i,sum(model_pca.explainedVariance[0:i+1])) for i in range(k)]"
      ],
      "metadata": {
        "colab": {
          "base_uri": "https://localhost:8080/"
        },
        "id": "5nDJKbIjr4M3",
        "outputId": "a3f156c6-46b4-4f80-ff36-cb1988604dd4"
      },
      "execution_count": null,
      "outputs": [
        {
          "output_type": "execute_result",
          "data": {
            "text/plain": [
              "[(0, 0.26545749360997034),\n",
              " (1, 0.4375247949776184),\n",
              " (2, 0.5287992767783259),\n",
              " (3, 0.5831729986362391),\n",
              " (4, 0.6354028103524717),\n",
              " (5, 0.682023156221161),\n",
              " (6, 0.7262890569978575),\n",
              " (7, 0.7678911881686676),\n",
              " (8, 0.8025730095613413),\n",
              " (9, 0.8297996535128337),\n",
              " (10, 0.854194399626073),\n",
              " (11, 0.8742987112956476),\n",
              " (12, 0.8935090265260494),\n",
              " (13, 0.9111213166740558),\n",
              " (14, 0.9266283824348652),\n",
              " (15, 0.9405231608927351),\n",
              " (16, 0.9525305733295567),\n",
              " (17, 0.9638657310284791),\n",
              " (18, 0.9739753651565556),\n",
              " (19, 0.983205487506614),\n",
              " (20, 0.9921039340092773),\n",
              " (21, 0.9999999999999953),\n",
              " (22, 1.0)]"
            ]
          },
          "metadata": {},
          "execution_count": 31
        }
      ]
    },
    {
      "cell_type": "markdown",
      "source": [
        "Obtendo a quantidade mínima de componentes para se ter em torno de 70% da variância explicada. Ou seja, a melhor troca entre a redução de dimensionalidade sem grandes perdas na representatividade."
      ],
      "metadata": {
        "id": "me02VpFX_jB7"
      }
    },
    {
      "cell_type": "code",
      "source": [
        "import numpy as np\n",
        "\n",
        "cumulative_sum = [sum(model_pca.explainedVariance[0:i+1]) for i in range(k)]\n",
        "k = sum(np.array(cumulative_sum) <= 0.7)\n",
        "k"
      ],
      "metadata": {
        "colab": {
          "base_uri": "https://localhost:8080/"
        },
        "id": "n-EMX1Mb4LJI",
        "outputId": "b1d068c5-34d2-4ae1-c071-467ea00bba36"
      },
      "execution_count": null,
      "outputs": [
        {
          "output_type": "execute_result",
          "data": {
            "text/plain": [
              "6"
            ]
          },
          "metadata": {},
          "execution_count": 36
        }
      ]
    },
    {
      "cell_type": "markdown",
      "source": [
        "Transformando novamente os dados, agora usando apenas 6 componentes."
      ],
      "metadata": {
        "id": "AInoBBKw_-n4"
      }
    },
    {
      "cell_type": "code",
      "source": [
        "pca = PCA(k=k, inputCol='scaled_features', outputCol='pca_features')\n",
        "model_pca = pca.fit(dataset_modelo_scaler)\n",
        "dataset_modelo_pca = model_pca.transform(dataset_modelo_scaler)"
      ],
      "metadata": {
        "id": "V-vf6Ium0Sqf"
      },
      "execution_count": null,
      "outputs": []
    },
    {
      "cell_type": "code",
      "source": [
        "dataset_modelo_pca.select('pca_features').show(5, False)"
      ],
      "metadata": {
        "colab": {
          "base_uri": "https://localhost:8080/"
        },
        "id": "rAiEsNx4eFRu",
        "outputId": "747436fb-9a77-4046-e25d-614cff212d1e"
      },
      "execution_count": null,
      "outputs": [
        {
          "output_type": "stream",
          "name": "stdout",
          "text": [
            "+--------------------------------------------------------------------------------------------------------------------------+\n",
            "|pca_features                                                                                                              |\n",
            "+--------------------------------------------------------------------------------------------------------------------------+\n",
            "|[-6.165125049533812,1.3380985269405696,-1.7052299823820158,-0.5338289630560162,0.08903815478581815,-0.3134396180129953]   |\n",
            "|[-3.2529111812184865,-1.1179591836228857,-0.2923895841501507,3.195538820020636,0.1528630698219846,1.302893049066197]      |\n",
            "|[-1.0611769329629537,-1.6685040058694294,-2.30759482783911,0.10553124125788461,-0.06914386452866851,0.7187181899556143]   |\n",
            "|[-1.995811900783872,-1.7655796610847843,1.3571962498672347,-0.16336519381168974,-0.021305227846957334,0.12808044918214828]|\n",
            "|[-0.4181406070145923,-2.131040791141693,-0.1026409926497008,2.809916415039177,-0.042956284698168964,-0.09449068767336455] |\n",
            "+--------------------------------------------------------------------------------------------------------------------------+\n",
            "only showing top 5 rows\n",
            "\n"
          ]
        }
      ]
    },
    {
      "cell_type": "markdown",
      "source": [
        "### Criando um pipeline\n",
        "\n",
        "Para estruturar melhor todas as transformações feitas nos dados até aqui, é possível criar um pipeline desse processo. O pipeline facilita a aplicação das transformações, já que organiza elas para aplicação de forma sequencial."
      ],
      "metadata": {
        "id": "MuZOYaPUeWru"
      }
    },
    {
      "cell_type": "code",
      "source": [
        "from pyspark.ml import Pipeline"
      ],
      "metadata": {
        "id": "0-DKtrE-em6a"
      },
      "execution_count": null,
      "outputs": []
    },
    {
      "cell_type": "code",
      "source": [
        "pca_pipeline = Pipeline(stages=[VectorAssembler(inputCols=X, outputCol='features'),\n",
        "                                StandardScaler(inputCol='features', outputCol='scaled_features'),\n",
        "                                PCA(k=6, inputCol='scaled_features', outputCol='pca_features')])"
      ],
      "metadata": {
        "id": "pQH-_ok0eHIf"
      },
      "execution_count": null,
      "outputs": []
    },
    {
      "cell_type": "markdown",
      "source": [
        "Transformando novamente os dados, agora usando o pipeline"
      ],
      "metadata": {
        "id": "J6_4QAxHA4h3"
      }
    },
    {
      "cell_type": "code",
      "source": [
        "pca_pipeline_model = pca_pipeline.fit(dataset)"
      ],
      "metadata": {
        "id": "j-WEggv4e40J"
      },
      "execution_count": null,
      "outputs": []
    },
    {
      "cell_type": "code",
      "source": [
        "dados_pipeline_model = pca_pipeline_model.transform(dataset)"
      ],
      "metadata": {
        "id": "sLy-BEQefCT0"
      },
      "execution_count": null,
      "outputs": []
    },
    {
      "cell_type": "markdown",
      "source": [
        "Teremos o mesmo resultado obtido anteriormente, mas agora de forma mais concisa."
      ],
      "metadata": {
        "id": "MVAQV5HoA_IR"
      }
    },
    {
      "cell_type": "code",
      "source": [
        "dados_pipeline_model.select('pca_features').show(5, False)"
      ],
      "metadata": {
        "colab": {
          "base_uri": "https://localhost:8080/"
        },
        "id": "LTp29vwLfM-0",
        "outputId": "16ec05e9-4968-49bd-860f-438ba39b28f9"
      },
      "execution_count": null,
      "outputs": [
        {
          "output_type": "stream",
          "name": "stdout",
          "text": [
            "+--------------------------------------------------------------------------------------------------------------------------+\n",
            "|pca_features                                                                                                              |\n",
            "+--------------------------------------------------------------------------------------------------------------------------+\n",
            "|[-6.165125049533812,1.3380985269405696,-1.7052299823820158,-0.5338289630560162,0.08903815478581815,-0.3134396180129953]   |\n",
            "|[-3.2529111812184865,-1.1179591836228857,-0.2923895841501507,3.195538820020636,0.1528630698219846,1.302893049066197]      |\n",
            "|[-1.0611769329629537,-1.6685040058694294,-2.30759482783911,0.10553124125788461,-0.06914386452866851,0.7187181899556143]   |\n",
            "|[-1.995811900783872,-1.7655796610847843,1.3571962498672347,-0.16336519381168974,-0.021305227846957334,0.12808044918214828]|\n",
            "|[-0.4181406070145923,-2.131040791141693,-0.1026409926497008,2.809916415039177,-0.042956284698168964,-0.09449068767336455] |\n",
            "+--------------------------------------------------------------------------------------------------------------------------+\n",
            "only showing top 5 rows\n",
            "\n"
          ]
        }
      ]
    },
    {
      "cell_type": "markdown",
      "source": [
        "### Criando os clusters\n",
        "\n",
        "Para criação dos clusters será utilizado o KMeans, um algoritmo não supervisionado que separa os dados em um número k de clusters informado previamente, agrupando dados com características semelhantes. "
      ],
      "metadata": {
        "id": "rB8z_6Liff-1"
      }
    },
    {
      "cell_type": "code",
      "source": [
        "from pyspark.ml.clustering import KMeans"
      ],
      "metadata": {
        "id": "YwGYMy_2fVI1"
      },
      "execution_count": null,
      "outputs": []
    },
    {
      "cell_type": "markdown",
      "source": [
        "Primeiro vamos calcular utilizar o custo para calcular a quantidade mais adequada de clusters para esse dataset, analisando valores entre 2 e 40."
      ],
      "metadata": {
        "id": "fq15ksJhB_e5"
      }
    },
    {
      "cell_type": "code",
      "source": [
        "costs = {}\n",
        "for k in range(2, 40):\n",
        "    k_means = KMeans(featuresCol='pca_features', k=k, seed=101)\n",
        "    model = k_means.fit(dados_pipeline_model)\n",
        "    costs[k] = model.summary.trainingCost"
      ],
      "metadata": {
        "id": "MnLaB9BOx2nt"
      },
      "execution_count": null,
      "outputs": []
    },
    {
      "cell_type": "code",
      "source": [
        "import matplotlib.pyplot as plt\n",
        "\n",
        "fig, ax = plt.subplots(1, 1, figsize =(20, 8))\n",
        "\n",
        "ax.plot(list(costs.keys()), list(costs.values()),**{'color': 'lightsteelblue', 'marker': 'o'})\n",
        "ax.set_xlabel('k')\n",
        "ax.set_ylabel('cost')\n",
        "plt.show()"
      ],
      "metadata": {
        "colab": {
          "base_uri": "https://localhost:8080/",
          "height": 497
        },
        "id": "NN52g0XoyG9d",
        "outputId": "1223c00e-e5ec-4911-d042-0e9035316657"
      },
      "execution_count": null,
      "outputs": [
        {
          "output_type": "display_data",
          "data": {
            "text/plain": [
              "<Figure size 1440x576 with 1 Axes>"
            ],
            "image/png": "[encoded data removed]"
          },
          "metadata": {
            "needs_background": "light"
          }
        }
      ]
    },
    {
      "cell_type": "markdown",
      "source": [
        "Analisando o gráfico, 13 clusters parece ser um número adequado pare esse dataset. Esse valor aparece antes de um pequeno pico no gráfico, que logo depois quase se estabiliza."
      ],
      "metadata": {
        "id": "puxSoj3bCcyo"
      }
    },
    {
      "cell_type": "code",
      "source": [
        "kmeans = KMeans(k=13, featuresCol='pca_features', predictionCol='cluster_pca', seed=101)"
      ],
      "metadata": {
        "id": "hwgRaXMvgf3-"
      },
      "execution_count": null,
      "outputs": []
    },
    {
      "cell_type": "code",
      "source": [
        "model_kmeans = kmeans.fit(dados_pipeline_model)"
      ],
      "metadata": {
        "id": "r8-ErHiKg3gF"
      },
      "execution_count": null,
      "outputs": []
    },
    {
      "cell_type": "code",
      "source": [
        "predictions_kmeans = model_kmeans.transform(dados_pipeline_model)"
      ],
      "metadata": {
        "id": "pXIu8Hg7hBLu"
      },
      "execution_count": null,
      "outputs": []
    },
    {
      "cell_type": "code",
      "source": [
        "predictions_kmeans.select('id', 'cluster_pca').show(5,False)"
      ],
      "metadata": {
        "colab": {
          "base_uri": "https://localhost:8080/"
        },
        "id": "097Hoop5hHmM",
        "outputId": "9512b575-7bd5-42d0-bc50-b7d61656d976"
      },
      "execution_count": null,
      "outputs": [
        {
          "output_type": "stream",
          "name": "stdout",
          "text": [
            "+------------------------------------+-----------+\n",
            "|id                                  |cluster_pca|\n",
            "+------------------------------------+-----------+\n",
            "|00002dd9-cc74-4809-b5a5-850adf0e7526|8          |\n",
            "|0009ca94-2b37-4381-b8b8-773ce0f92444|10         |\n",
            "|000e3d28-e3e5-4110-b488-69154931140e|6          |\n",
            "|000fb707-6cad-496d-8cb7-d8046cb5ef37|1          |\n",
            "|001b6db0-e88d-4eba-84e5-0ef94b091a64|10         |\n",
            "+------------------------------------+-----------+\n",
            "only showing top 5 rows\n",
            "\n"
          ]
        }
      ]
    },
    {
      "cell_type": "markdown",
      "source": [
        "### Avaliando as informações de cada cluster"
      ],
      "metadata": {
        "id": "s4bmyzkj-3Od"
      }
    },
    {
      "cell_type": "markdown",
      "source": [
        "#### Quantidade de dados em cada cluster\n",
        "\n",
        "A quantidade varia bastante com alguns clusters tendo 13 dados e outros mais de 10 mil."
      ],
      "metadata": {
        "id": "P3JctZCgDcn5"
      }
    },
    {
      "cell_type": "code",
      "source": [
        "predictions_kmeans.groupBy('cluster_pca').count().orderBy('cluster_pca').show(13)"
      ],
      "metadata": {
        "colab": {
          "base_uri": "https://localhost:8080/"
        },
        "id": "bAnjIu4XjtOG",
        "outputId": "bd7232d4-c361-4be6-cb68-d2ef3378974e"
      },
      "execution_count": null,
      "outputs": [
        {
          "output_type": "stream",
          "name": "stdout",
          "text": [
            "+-----------+-----+\n",
            "|cluster_pca|count|\n",
            "+-----------+-----+\n",
            "|          0| 3834|\n",
            "|          1| 7417|\n",
            "|          2| 5650|\n",
            "|          3| 6616|\n",
            "|          4|   87|\n",
            "|          5| 3366|\n",
            "|          6|10079|\n",
            "|          7| 2449|\n",
            "|          8|14808|\n",
            "|          9| 4389|\n",
            "|         10| 5897|\n",
            "|         11|   13|\n",
            "|         12| 1946|\n",
            "+-----------+-----+\n",
            "\n"
          ]
        }
      ]
    },
    {
      "cell_type": "markdown",
      "source": [
        "#### Analisando a média dos clusters para algumas variáveis"
      ],
      "metadata": {
        "id": "a3yRbO1it1Zq"
      }
    },
    {
      "cell_type": "code",
      "source": [
        "cluster_means = predictions_kmeans\\\n",
        "                              .groupBy('cluster_pca')\\\n",
        "                              .mean()"
      ],
      "metadata": {
        "id": "Bgk_DYPQHJLK"
      },
      "execution_count": null,
      "outputs": []
    },
    {
      "cell_type": "markdown",
      "source": [
        "#### Area Útil\n",
        "Os clusters 11 e 5 possuem as maiores médias de área útil (mais que 300 m2).\n",
        "\n",
        "Já os clusters 0 e 2 têm as menores médias de área útil (menos que 80 m2)."
      ],
      "metadata": {
        "id": "KBcJubUbD0uc"
      }
    },
    {
      "cell_type": "code",
      "source": [
        "cluster_means\\\n",
        "          .orderBy('avg(area_util)')\\\n",
        "          .withColumn('Area Útil', f.round(cluster_means['avg(area_util)'],2))\\\n",
        "          .select('cluster_pca','Area Útil')\\\n",
        "          .show()"
      ],
      "metadata": {
        "colab": {
          "base_uri": "https://localhost:8080/"
        },
        "id": "sulVeNz3idXZ",
        "outputId": "2c242893-96c5-447e-d81c-8f03659cbd2d"
      },
      "execution_count": null,
      "outputs": [
        {
          "output_type": "stream",
          "name": "stdout",
          "text": [
            "+-----------+---------+\n",
            "|cluster_pca|Area Útil|\n",
            "+-----------+---------+\n",
            "|          0|    73.05|\n",
            "|          2|    79.81|\n",
            "|         12|     82.0|\n",
            "|         10|    87.56|\n",
            "|          8|    88.24|\n",
            "|          3|    94.22|\n",
            "|          1|    95.67|\n",
            "|          6|   108.76|\n",
            "|          4|   142.59|\n",
            "|          7|   187.53|\n",
            "|          9|   247.66|\n",
            "|          5|   315.91|\n",
            "|         11|   330.77|\n",
            "+-----------+---------+\n",
            "\n"
          ]
        }
      ]
    },
    {
      "cell_type": "markdown",
      "source": [
        "### Valor\n",
        "\n",
        "Os clusters 11 e 5, que possuem as maiores médias de área útil, também são os clusters que possuem os imóveis com os maiores valores de venda. Porém os clusters 0 e 2, que possuem as menores médias de área, não são os mais baratos. Os clusters com as menores médias de preço de venda são os clusters 12 e 10. "
      ],
      "metadata": {
        "id": "6TzXIHuTFOzN"
      }
    },
    {
      "cell_type": "code",
      "source": [
        "cluster_means\\\n",
        "          .orderBy('avg(valor)')\\\n",
        "          .withColumn('Valor', f.round(cluster_means['avg(valor)'],2))\\\n",
        "          .select('cluster_pca','Valor')\\\n",
        "          .show()"
      ],
      "metadata": {
        "colab": {
          "base_uri": "https://localhost:8080/"
        },
        "id": "HujCFcrRFObU",
        "outputId": "594ca42e-9957-40e8-bd8d-5b9fc7aeaf35"
      },
      "execution_count": null,
      "outputs": [
        {
          "output_type": "stream",
          "name": "stdout",
          "text": [
            "+-----------+----------+\n",
            "|cluster_pca|     Valor|\n",
            "+-----------+----------+\n",
            "|         12|  447808.3|\n",
            "|         10| 511368.32|\n",
            "|          0| 516034.35|\n",
            "|          2| 688634.65|\n",
            "|          1| 778950.67|\n",
            "|          8| 843393.71|\n",
            "|          3|1177206.71|\n",
            "|          6|1489519.18|\n",
            "|          4|1797019.28|\n",
            "|          7|2239334.39|\n",
            "|          9|3371214.55|\n",
            "|          5|4401872.65|\n",
            "|         11|5349143.08|\n",
            "+-----------+----------+\n",
            "\n"
          ]
        }
      ]
    },
    {
      "cell_type": "markdown",
      "source": [
        "#### Quartos\n",
        "Nenhum cluster tem uma média menor que 2 quartos. A maior média de número de quartos pertence ao cluster 5, que também é um dos clusters com as maiores médias de área útil e valor."
      ],
      "metadata": {
        "id": "Blpx2hGBGJAG"
      }
    },
    {
      "cell_type": "code",
      "source": [
        "cluster_means\\\n",
        "          .orderBy('avg(quartos)')\\\n",
        "          .withColumn('Quartos', f.round(cluster_means['avg(quartos)'],2))\\\n",
        "          .select('cluster_pca','Quartos')\\\n",
        "          .show()"
      ],
      "metadata": {
        "colab": {
          "base_uri": "https://localhost:8080/"
        },
        "id": "zDkjN3veGHzG",
        "outputId": "002a5b2e-a4a6-4961-b313-943e4c830c89"
      },
      "execution_count": null,
      "outputs": [
        {
          "output_type": "stream",
          "name": "stdout",
          "text": [
            "+-----------+-------+\n",
            "|cluster_pca|Quartos|\n",
            "+-----------+-------+\n",
            "|          3|   2.19|\n",
            "|         12|   2.27|\n",
            "|          2|    2.3|\n",
            "|          0|    2.3|\n",
            "|         10|   2.41|\n",
            "|          8|   2.43|\n",
            "|          1|   2.45|\n",
            "|          6|   2.52|\n",
            "|          4|   2.86|\n",
            "|         11|   3.54|\n",
            "|          7|   3.65|\n",
            "|          9|   3.83|\n",
            "|          5|   3.94|\n",
            "+-----------+-------+\n",
            "\n"
          ]
        }
      ]
    },
    {
      "cell_type": "markdown",
      "source": [
        "#### Banheiros\n",
        "Na média de quantidade de banheiros, novamente o cluster 5 aparece com o maior valor. O cluster 12, que possui a menor média de valor de venda, também tem uma das menores médias de quantidade de quartos e quantidade de banheiros."
      ],
      "metadata": {
        "id": "FG9tG2wdGT0S"
      }
    },
    {
      "cell_type": "code",
      "source": [
        "cluster_means\\\n",
        "          .orderBy('avg(banheiros)')\\\n",
        "          .withColumn('Banheiros', f.round(cluster_means['avg(banheiros)'],2))\\\n",
        "          .select('cluster_pca','Banheiros')\\\n",
        "          .show()"
      ],
      "metadata": {
        "colab": {
          "base_uri": "https://localhost:8080/"
        },
        "id": "-fkL9XymGHh5",
        "outputId": "34fe99c0-5659-4fca-c41f-fc26d3ba9d1f"
      },
      "execution_count": null,
      "outputs": [
        {
          "output_type": "stream",
          "name": "stdout",
          "text": [
            "+-----------+---------+\n",
            "|cluster_pca|Banheiros|\n",
            "+-----------+---------+\n",
            "|          0|     1.81|\n",
            "|         12|     1.84|\n",
            "|          3|     1.94|\n",
            "|          2|      2.0|\n",
            "|         10|     2.05|\n",
            "|          8|     2.11|\n",
            "|          1|     2.17|\n",
            "|          6|      2.2|\n",
            "|          4|     2.86|\n",
            "|         11|     3.92|\n",
            "|          7|     4.11|\n",
            "|          9|     4.55|\n",
            "|          5|      5.0|\n",
            "+-----------+---------+\n",
            "\n"
          ]
        }
      ]
    },
    {
      "cell_type": "markdown",
      "source": [
        "### Filtrando imoveis do mesmo cluster\n",
        "Para criar um sistema de recomendação o primeiro passo é selecionar todos os imóveis que pertencem ao mesmo cluster que o imóvel que escolhemos de referência."
      ],
      "metadata": {
        "id": "3PGNrECNh7-M"
      }
    },
    {
      "cell_type": "code",
      "source": [
        "id_imovel = '026d4cd2-7843-4420-b078-a81c384724e1'"
      ],
      "metadata": {
        "id": "1G3gvpJ49RL1"
      },
      "execution_count": null,
      "outputs": []
    },
    {
      "cell_type": "markdown",
      "source": [
        "Esse imóvel pertence ao cluster 6."
      ],
      "metadata": {
        "id": "8SnranSU22nP"
      }
    },
    {
      "cell_type": "code",
      "source": [
        "cluster = predictions_kmeans.filter(predictions_kmeans.id == id_imovel).select('cluster_pca').collect()[0][0]\n",
        "cluster"
      ],
      "metadata": {
        "colab": {
          "base_uri": "https://localhost:8080/"
        },
        "id": "dpF4hXCP9Vzb",
        "outputId": "3632cb3e-9be9-4e37-9c0c-6457f4671713"
      },
      "execution_count": null,
      "outputs": [
        {
          "output_type": "execute_result",
          "data": {
            "text/plain": [
              "6"
            ]
          },
          "metadata": {},
          "execution_count": 59
        }
      ]
    },
    {
      "cell_type": "markdown",
      "source": [
        "Outros 10 mil imóveis também foram agrupados no cluster 6."
      ],
      "metadata": {
        "id": "5YP94i8a27nK"
      }
    },
    {
      "cell_type": "code",
      "source": [
        "imoveis_cluster = predictions_kmeans.filter(predictions_kmeans.cluster_pca == cluster)\n",
        "print(imoveis_cluster.count())\n",
        "imoveis_cluster.show(5)"
      ],
      "metadata": {
        "colab": {
          "base_uri": "https://localhost:8080/"
        },
        "id": "OnUWDq41-MT0",
        "outputId": "01e229c5-8bdc-4f9a-bf53-9fe8be7a81d0"
      },
      "execution_count": null,
      "outputs": [
        {
          "output_type": "stream",
          "name": "stdout",
          "text": [
            "10079\n",
            "+--------------------+-----+---------+---------+-------+------+----+------------+----------+-----+---------+------------+----------+----------+--------+--------+------------------+-------------+------------------+--------+-------+----------+------------+-----------------+------------+--------------------+--------------------+--------------------+-----------+\n",
            "|                  id|andar|area_util|banheiros|quartos|suites|vaga|      bairro|condominio| iptu|    valor|zona_central|zona_norte|zona_oeste|zona_sul|academia|animais_permitidos|churrasqueira|condominio_fechado|elevador|piscina|playground|portaria_24h|portao_eletronico|salao_festas|            features|     scaled_features|        pca_features|cluster_pca|\n",
            "+--------------------+-----+---------+---------+-------+------+----+------------+----------+-----+---------+------------+----------+----------+--------+--------+------------------+-------------+------------------+--------+-------+----------+------------+-----------------+------------+--------------------+--------------------+--------------------+-----------+\n",
            "|000e3d28-e3e5-411...|    0|       85|        2|      2|   0.0| 0.0|Santa Teresa|     460.0|661.0| 290000.0|           0|         0|         0|       1|       0|                 1|            0|                 0|       1|      0|         0|           0|                0|           0|(23,[1,2,3,6,7,8,...|(23,[1,2,3,6,7,8,...|[-1.0611769329629...|          6|\n",
            "|005c608c-5afc-459...|    0|      133|        3|      3|   0.0| 1.0|  Copacabana|    1770.0|535.0|2175000.0|           0|         0|         0|       1|       0|                 0|            0|                 0|       0|      0|         0|           0|                0|           0|(23,[1,2,3,5,6,7,...|(23,[1,2,3,5,6,7,...|[-0.3509034891482...|          6|\n",
            "|0092be3c-1736-42a...|    0|      230|        2|      4|   1.0| 2.0|  Copacabana|    2700.0|  0.0|4500000.0|           0|         0|         0|       1|       0|                 0|            0|                 0|       0|      0|         0|           0|                0|           0|(23,[1,2,3,4,5,6,...|(23,[1,2,3,4,5,6,...|[-0.7360532905146...|          6|\n",
            "|00cd6c5d-592d-429...|    0|       25|        1|      1|   0.0| 0.0|  Copacabana|     381.0|  0.0| 450000.0|           0|         0|         0|       1|       0|                 0|            0|                 0|       0|      0|         0|           0|                0|           0|(23,[1,2,3,6,8,12...|(23,[1,2,3,6,8,12...|[0.15191543222081...|          6|\n",
            "|00d01937-9bca-45a...|    0|      116|        4|      2|   2.0| 1.0|    Botafogo|       0.0|  0.0|1900000.0|           0|         0|         0|       1|       0|                 0|            0|                 0|       0|      0|         0|           0|                0|           0|(23,[1,2,3,4,5,8,...|(23,[1,2,3,4,5,8,...|[-0.5941204791041...|          6|\n",
            "+--------------------+-----+---------+---------+-------+------+----+------------+----------+-----+---------+------------+----------+----------+--------+--------+------------------+-------------+------------------+--------+-------+----------+------------+-----------------+------------+--------------------+--------------------+--------------------+-----------+\n",
            "only showing top 5 rows\n",
            "\n"
          ]
        }
      ]
    },
    {
      "cell_type": "markdown",
      "source": [
        "### Calculando a distância euclidiana\n",
        "Para escolher os imóveis dentro desse cluster que são mais parecidos com nosso imóvel de referência, vamos utilizar as componentes do PCA para calcular a distância desse imóvel em relação a todos os outros do mesmo cluster."
      ],
      "metadata": {
        "id": "jk_FAgvWa_SG"
      }
    },
    {
      "cell_type": "code",
      "source": [
        "from scipy.spatial.distance import euclidean\n",
        "from pyspark.sql.types import FloatType"
      ],
      "metadata": {
        "id": "4jeu9MubYAN_"
      },
      "execution_count": null,
      "outputs": []
    },
    {
      "cell_type": "markdown",
      "source": [
        "Vetor com as componentes do nosso imóvel de referência"
      ],
      "metadata": {
        "id": "SkaE2FbR8bdP"
      }
    },
    {
      "cell_type": "code",
      "source": [
        "componentes_imovel = predictions_kmeans.filter(predictions_kmeans.id == id_imovel).collect()[0]['pca_features']\n",
        "componentes_imovel"
      ],
      "metadata": {
        "colab": {
          "base_uri": "https://localhost:8080/"
        },
        "id": "xjVSUqWGb1lL",
        "outputId": "7d9318f0-48ef-4e93-eb31-83a8a7c3f2dc"
      },
      "execution_count": null,
      "outputs": [
        {
          "output_type": "execute_result",
          "data": {
            "text/plain": [
              "DenseVector([-1.3808, -2.7878, -2.5876, 0.1884, -0.0829, 0.7213])"
            ]
          },
          "metadata": {},
          "execution_count": 62
        }
      ]
    },
    {
      "cell_type": "markdown",
      "source": [
        "Criando uma função para facilitar o cálculo para todos os registros do dataframe.\n",
        "\n",
        "udf = user defined function (função python, returnType)"
      ],
      "metadata": {
        "id": "afVAM_K69cVk"
      }
    },
    {
      "cell_type": "code",
      "source": [
        "def calcula_distance(value):\n",
        "  # função que recebe as componentes PCA de um imóvel e retorna a distância euclidiana entre esse imóvel e o imóvel de referência\n",
        "  return euclidean(componentes_imovel, value)\n",
        "\n",
        "udf_calcula_distance = f.udf(calcula_distance, FloatType())"
      ],
      "metadata": {
        "id": "zIRIlHbAbg6m"
      },
      "execution_count": null,
      "outputs": []
    },
    {
      "cell_type": "code",
      "source": [
        "imoveis_recomendados_dist = imoveis_cluster.withColumn('distancia', udf_calcula_distance('pca_features'))"
      ],
      "metadata": {
        "id": "nj0PRycucikO"
      },
      "execution_count": null,
      "outputs": []
    },
    {
      "cell_type": "code",
      "source": [
        "imoveis_recomendados_dist.select('id','distancia').show(10)"
      ],
      "metadata": {
        "colab": {
          "base_uri": "https://localhost:8080/"
        },
        "id": "6qQF_0Nzd2UX",
        "outputId": "a000a80b-e210-4c9f-ef73-fb658338c7ac"
      },
      "execution_count": null,
      "outputs": [
        {
          "output_type": "stream",
          "name": "stdout",
          "text": [
            "+--------------------+---------+\n",
            "|                  id|distancia|\n",
            "+--------------------+---------+\n",
            "|000e3d28-e3e5-411...|1.2001938|\n",
            "|005c608c-5afc-459...|1.7537957|\n",
            "|0092be3c-1736-42a...|2.8968287|\n",
            "|00cd6c5d-592d-429...|2.8072562|\n",
            "|00d01937-9bca-45a...|1.9423105|\n",
            "|00fafb28-3930-4b6...|3.0215576|\n",
            "|00fcb5fb-c01b-44b...| 1.761932|\n",
            "|00ff8cc4-306e-48a...|2.0713084|\n",
            "|01228c26-3a13-480...|2.2284024|\n",
            "|01259581-b96b-4ce...|1.7095782|\n",
            "+--------------------+---------+\n",
            "only showing top 10 rows\n",
            "\n"
          ]
        }
      ]
    },
    {
      "cell_type": "markdown",
      "source": [
        "Selecionando os 10 imóveis com a menor distância.\n",
        "\n",
        "O primeiro imóvel, com distância zero, é nosso imóvel de referência."
      ],
      "metadata": {
        "id": "jmZc5FzF-cAy"
      }
    },
    {
      "cell_type": "code",
      "source": [
        "recomendados = spark.createDataFrame(imoveis_recomendados_dist.sort('distancia').take(10)).select(['id', 'distancia'])\n",
        "recomendados.show()"
      ],
      "metadata": {
        "colab": {
          "base_uri": "https://localhost:8080/"
        },
        "id": "_q7K76gQcS9G",
        "outputId": "4785862a-7627-43d8-ef34-68d4c2ce5c7b"
      },
      "execution_count": null,
      "outputs": [
        {
          "output_type": "stream",
          "name": "stdout",
          "text": [
            "+--------------------+-------------------+\n",
            "|                  id|          distancia|\n",
            "+--------------------+-------------------+\n",
            "|026d4cd2-7843-442...|                0.0|\n",
            "|f1b69b17-4fcc-450...|0.13514484465122223|\n",
            "|fa87df41-f2d5-472...|0.15378379821777344|\n",
            "|8113c794-4899-4aa...|0.16914920508861542|\n",
            "|f2f232ae-3840-487...|0.17055851221084595|\n",
            "|32c63c10-f039-4c2...| 0.1714104413986206|\n",
            "|a0ee0a7c-6093-42e...|0.17479223012924194|\n",
            "|43435809-13dd-4a7...|0.17544682323932648|\n",
            "|1448ad72-6d37-420...|0.17663204669952393|\n",
            "|9ffb5f7d-807d-411...|0.18794573843479156|\n",
            "+--------------------+-------------------+\n",
            "\n"
          ]
        }
      ]
    },
    {
      "cell_type": "markdown",
      "source": [
        "### Criando uma função recomendadora\n",
        "\n",
        "Para facilitar a recomendação de imóveis para qualquer id, criamos uma função aplicando o mesmo processo mostrado anteriormente."
      ],
      "metadata": {
        "id": "87lzeaG9h2mP"
      }
    },
    {
      "cell_type": "code",
      "source": [
        "def recomendador(id_imovel:str):\n",
        "  # função que recebe o id de um imóvel e retorna os 10 imóveis mais semelhantes\n",
        "  cluster = predictions_kmeans.filter(predictions_kmeans.id == id_imovel).collect()[0]['cluster_pca']\n",
        "  print('Esse imóvel pertence ao cluster', cluster)\n",
        "  imoveis_mesmo_cluster = predictions_kmeans.where(predictions_kmeans.cluster_pca == cluster)\n",
        "  imoveis_recomendados_dist = imoveis_mesmo_cluster.withColumn('distancia', udf_calcula_distance('pca_features'))\n",
        "  recomendados = spark.createDataFrame(imoveis_recomendados_dist.sort('distancia').take(10))\n",
        "  recomendados.drop('features','scaled_features','pca_features','distancia','cluster_pca').show()"
      ],
      "metadata": {
        "id": "uM1F7drceVDb"
      },
      "execution_count": null,
      "outputs": []
    },
    {
      "cell_type": "code",
      "source": [
        "recomendador('026d4cd2-7843-4420-b078-a81c384724e1')"
      ],
      "metadata": {
        "colab": {
          "base_uri": "https://localhost:8080/"
        },
        "id": "1Se0qq-Gim5c",
        "outputId": "6d1422fc-d927-4d29-c69a-2168ff39efdd"
      },
      "execution_count": null,
      "outputs": [
        {
          "output_type": "stream",
          "name": "stdout",
          "text": [
            "Esse imóvel pertence ao cluster  6\n",
            "+--------------------+-----+---------+---------+-------+------+----+----------+----------+------+---------+------------+----------+----------+--------+--------+------------------+-------------+------------------+--------+-------+----------+------------+-----------------+------------+\n",
            "|                  id|andar|area_util|banheiros|quartos|suites|vaga|    bairro|condominio|  iptu|    valor|zona_central|zona_norte|zona_oeste|zona_sul|academia|animais_permitidos|churrasqueira|condominio_fechado|elevador|piscina|playground|portaria_24h|portao_eletronico|salao_festas|\n",
            "+--------------------+-----+---------+---------+-------+------+----+----------+----------+------+---------+------------+----------+----------+--------+--------+------------------+-------------+------------------+--------+-------+----------+------------+-----------------+------------+\n",
            "|026d4cd2-7843-442...|    1|      110|        2|      2|   1.0| 1.0|    Leblon|    1850.0|5064.0|1850000.0|           0|         0|         0|       1|       0|                 0|            0|                 0|       1|      0|         0|           0|                1|           0|\n",
            "|f1b69b17-4fcc-450...|    7|      137|        2|      3|   0.0| 1.0|Copacabana|    2058.0| 527.0|1470000.0|           0|         0|         0|       1|       0|                 0|            0|                 0|       1|      0|         0|           1|                0|           0|\n",
            "|fa87df41-f2d5-472...|    4|      100|        2|      3|   0.0| 1.0|    Leblon|    1900.0|3400.0|1840000.0|           0|         0|         0|       1|       0|                 0|            0|                 0|       1|      0|         0|           0|                1|           0|\n",
            "|8113c794-4899-4aa...|    4|      120|        2|      3|   1.0| 0.0|Copacabana|    1020.0|   0.0|1350000.0|           0|         0|         0|       1|       0|                 1|            0|                 0|       1|      0|         0|           0|                0|           0|\n",
            "|f2f232ae-3840-487...|    5|      168|        2|      3|   0.0| 1.0|Copacabana|    1450.0| 320.0| 990000.0|           0|         0|         0|       1|       0|                 0|            0|                 0|       1|      0|         0|           1|                0|           0|\n",
            "|32c63c10-f039-4c2...|    7|       96|        3|      2|   1.0| 1.0|Copacabana|    1056.0| 322.0| 900000.0|           0|         0|         0|       1|       0|                 0|            0|                 0|       1|      0|         0|           1|                0|           0|\n",
            "|a0ee0a7c-6093-42e...|    3|      106|        2|      3|   0.0| 1.0|    Leblon|    1340.0|5655.0|1999000.0|           0|         0|         0|       1|       0|                 0|            0|                 0|       1|      0|         0|           0|                1|           0|\n",
            "|43435809-13dd-4a7...|    4|      116|        1|      3|   1.0| 1.0|   Ipanema|    1650.0| 444.0|1495000.0|           0|         0|         0|       1|       0|                 0|            0|                 0|       1|      0|         0|           1|                0|           0|\n",
            "|1448ad72-6d37-420...|    0|      120|        2|      3|   1.0| 0.0|Copacabana|    1837.0| 468.0|1200000.0|           0|         0|         0|       1|       0|                 1|            0|                 0|       1|      0|         0|           0|                0|           0|\n",
            "|9ffb5f7d-807d-411...|    9|      105|        1|      3|   1.0| 1.0|  Botafogo|       0.0| 253.0|1050000.0|           0|         0|         0|       1|       0|                 0|            0|                 0|       1|      0|         0|           1|                0|           0|\n",
            "+--------------------+-----+---------+---------+-------+------+----+----------+----------+------+---------+------------+----------+----------+--------+--------+------------------+-------------+------------------+--------+-------+----------+------------+-----------------+------------+\n",
            "\n"
          ]
        }
      ]
    },
    {
      "cell_type": "code",
      "source": [],
      "metadata": {
        "id": "R06mW5Xh_MOr"
      },
      "execution_count": null,
      "outputs": []
    }
  ]
}