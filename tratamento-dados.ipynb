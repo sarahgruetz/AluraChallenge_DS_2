{
  "nbformat": 4,
  "nbformat_minor": 0,
  "metadata": {
    "colab": {
      "provenance": [],
      "collapsed_sections": [
        "p7REGhnxraka",
        "UYAIU76erq9E",
        "Wivy_KGQvPOj",
        "xgpasjAuwmmo"
      ],
      "mount_file_id": "1pXRh2DrFxkxRyLk9Wf9WUCo0aBWnnV_o",
      "authorship_tag": "ABX9TyNSeFJP9FvyS5cys4va0ToV",
      "include_colab_link": true
    },
    "kernelspec": {
      "name": "python3",
      "display_name": "Python 3"
    },
    "language_info": {
      "name": "python"
    }
  },
  "cells": [
    {
      "cell_type": "markdown",
      "metadata": {
        "id": "view-in-github",
        "colab_type": "text"
      },
      "source": [
        "<a href=\"https://colab.research.google.com/github/sarahgruetz/AluraChallenge_DS_2/blob/main/Alura_Challenge_semana_1.ipynb\" target=\"_parent\"><img src=\"https://colab.research.google.com/assets/colab-badge.svg\" alt=\"Open In Colab\"/></a>"
      ]
    },
    {
      "cell_type": "code",
      "execution_count": 1,
      "metadata": {
        "colab": {
          "base_uri": "https://localhost:8080/"
        },
        "id": "aY7-jDDoZTgq",
        "outputId": "a27cc5b5-b0d0-4dde-c730-9de6b0394795"
      },
      "outputs": [
        {
          "output_type": "stream",
          "name": "stdout",
          "text": [
            "Looking in indexes: https://pypi.org/simple, https://us-python.pkg.dev/colab-wheels/public/simple/\n",
            "Requirement already satisfied: pyspark in /usr/local/lib/python3.7/dist-packages (3.3.1)\n",
            "Requirement already satisfied: py4j==0.10.9.5 in /usr/local/lib/python3.7/dist-packages (from pyspark) (0.10.9.5)\n"
          ]
        }
      ],
      "source": [
        "!pip install pyspark"
      ]
    },
    {
      "cell_type": "markdown",
      "source": [
        "## Iniciando a SparkSession "
      ],
      "metadata": {
        "id": "G-U5E3-Aacn8"
      }
    },
    {
      "cell_type": "code",
      "source": [
        "from pyspark.sql import SparkSession\n",
        "\n",
        "spark = SparkSession.builder \\\n",
        "    .master('local[*]') \\\n",
        "    .appName(\"Alura Challenge\") \\\n",
        "    .getOrCreate()"
      ],
      "metadata": {
        "id": "p2eFAZmPaFpt"
      },
      "execution_count": 2,
      "outputs": []
    },
    {
      "cell_type": "markdown",
      "source": [
        "## Carregando os dados do Drive"
      ],
      "metadata": {
        "id": "3ObYwUi5au26"
      }
    },
    {
      "cell_type": "code",
      "source": [
        "import zipfile\n",
        "\n",
        "zipfile.ZipFile('/content/drive/MyDrive/curso-spark/ChallengeAlura/semana-1.zip','r')\\\n",
        "        .extractall('/content/drive/MyDrive/curso-spark/ChallengeAlura/dados')"
      ],
      "metadata": {
        "id": "F0fJ7pQSasZW"
      },
      "execution_count": 3,
      "outputs": []
    },
    {
      "cell_type": "code",
      "source": [
        "dados = spark.read.json('/content/drive/MyDrive/curso-spark/ChallengeAlura/dados/dataset_bruto.json')"
      ],
      "metadata": {
        "id": "bv9KDmFTbkH9"
      },
      "execution_count": 4,
      "outputs": []
    },
    {
      "cell_type": "code",
      "source": [
        "dados.count()"
      ],
      "metadata": {
        "colab": {
          "base_uri": "https://localhost:8080/"
        },
        "id": "axlERVm-cwNi",
        "outputId": "ae9a683e-8930-4ca4-89dd-1e6fed7cb77c"
      },
      "execution_count": 5,
      "outputs": [
        {
          "output_type": "execute_result",
          "data": {
            "text/plain": [
              "89083"
            ]
          },
          "metadata": {},
          "execution_count": 5
        }
      ]
    },
    {
      "cell_type": "code",
      "source": [
        "dados.printSchema()"
      ],
      "metadata": {
        "colab": {
          "base_uri": "https://localhost:8080/"
        },
        "id": "C9Klc8lwcDGU",
        "outputId": "b81c0d09-c8b5-437e-f053-4573ff81440c"
      },
      "execution_count": 6,
      "outputs": [
        {
          "output_type": "stream",
          "name": "stdout",
          "text": [
            "root\n",
            " |-- anuncio: struct (nullable = true)\n",
            " |    |-- andar: long (nullable = true)\n",
            " |    |-- area_total: array (nullable = true)\n",
            " |    |    |-- element: string (containsNull = true)\n",
            " |    |-- area_util: array (nullable = true)\n",
            " |    |    |-- element: string (containsNull = true)\n",
            " |    |-- banheiros: array (nullable = true)\n",
            " |    |    |-- element: long (containsNull = true)\n",
            " |    |-- caracteristicas: array (nullable = true)\n",
            " |    |    |-- element: string (containsNull = true)\n",
            " |    |-- endereco: struct (nullable = true)\n",
            " |    |    |-- bairro: string (nullable = true)\n",
            " |    |    |-- cep: string (nullable = true)\n",
            " |    |    |-- cidade: string (nullable = true)\n",
            " |    |    |-- estado: string (nullable = true)\n",
            " |    |    |-- latitude: double (nullable = true)\n",
            " |    |    |-- longitude: double (nullable = true)\n",
            " |    |    |-- pais: string (nullable = true)\n",
            " |    |    |-- rua: string (nullable = true)\n",
            " |    |    |-- zona: string (nullable = true)\n",
            " |    |-- id: string (nullable = true)\n",
            " |    |-- quartos: array (nullable = true)\n",
            " |    |    |-- element: long (containsNull = true)\n",
            " |    |-- suites: array (nullable = true)\n",
            " |    |    |-- element: long (containsNull = true)\n",
            " |    |-- tipo_anuncio: string (nullable = true)\n",
            " |    |-- tipo_unidade: string (nullable = true)\n",
            " |    |-- tipo_uso: string (nullable = true)\n",
            " |    |-- vaga: array (nullable = true)\n",
            " |    |    |-- element: long (containsNull = true)\n",
            " |    |-- valores: array (nullable = true)\n",
            " |    |    |-- element: struct (containsNull = true)\n",
            " |    |    |    |-- condominio: string (nullable = true)\n",
            " |    |    |    |-- iptu: string (nullable = true)\n",
            " |    |    |    |-- tipo: string (nullable = true)\n",
            " |    |    |    |-- valor: string (nullable = true)\n",
            " |-- imagens: array (nullable = true)\n",
            " |    |-- element: struct (containsNull = true)\n",
            " |    |    |-- id: string (nullable = true)\n",
            " |    |    |-- url: string (nullable = true)\n",
            " |-- usuario: struct (nullable = true)\n",
            " |    |-- id: string (nullable = true)\n",
            " |    |-- nome: string (nullable = true)\n",
            "\n"
          ]
        }
      ]
    },
    {
      "cell_type": "markdown",
      "source": [
        "## Selecionando a coluna `anuncio`"
      ],
      "metadata": {
        "id": "MFFDF1sFeF-f"
      }
    },
    {
      "cell_type": "markdown",
      "source": [
        "As colunas imagens e usuarios não são relevantes para a análise"
      ],
      "metadata": {
        "id": "gYXgdbPl0ADt"
      }
    },
    {
      "cell_type": "code",
      "source": [
        "dataset = dados.select('anuncio.*')"
      ],
      "metadata": {
        "id": "YGfyuwHOcJl0"
      },
      "execution_count": 42,
      "outputs": []
    },
    {
      "cell_type": "code",
      "source": [
        "dataset.show()"
      ],
      "metadata": {
        "colab": {
          "base_uri": "https://localhost:8080/"
        },
        "id": "994ejj9HeBXR",
        "outputId": "66e77a02-7b8e-4104-eaa3-7b1dcc08004a"
      },
      "execution_count": 10,
      "outputs": [
        {
          "output_type": "stream",
          "name": "stdout",
          "text": [
            "+-----+----------+---------+---------+--------------------+--------------------+--------------------+-------+------+------------+------------+-----------+----+--------------------+\n",
            "|andar|area_total|area_util|banheiros|     caracteristicas|            endereco|                  id|quartos|suites|tipo_anuncio|tipo_unidade|   tipo_uso|vaga|             valores|\n",
            "+-----+----------+---------+---------+--------------------+--------------------+--------------------+-------+------+------------+------------+-----------+----+--------------------+\n",
            "|    0|        []|     [16]|      [0]|                  []|{Centro, 20061003...|47d553e0-79f2-4a4...|    [0]|   [0]|       Usado|      Outros|  Comercial| [1]|[{260, 107, Venda...|\n",
            "|    0|        []|     [14]|      [0]|                  []|{Centro, 20051040...|b6ffbae1-17f6-487...|    [0]|    []|       Usado|      Outros|  Comercial| [0]|[{260, 107, Venda...|\n",
            "|    0|    [1026]|   [1026]|      [0]|                  []|{Maria da Graça, ...|1fb030a5-9e3e-4a1...|    [0]|    []|       Usado|      Outros|  Comercial| [0]|[{null, 1613, Ven...|\n",
            "|    0|     [120]|    [120]|      [0]|[Portão eletrônic...|{Campo Grande, 23...|ac6cb348-69d6-45a...|    [0]|    []|       Usado|      Outros|Residencial|  []|[{80, null, Venda...|\n",
            "|    0|       [3]|      [3]|      [0]|                  []|{São Cristóvão, 2...|e032b908-ef42-4d4...|    [0]|    []|       Usado|      Outros|Residencial|  []|[{0, 0, Venda, 50...|\n",
            "|    0|      [20]|     [15]|      [1]|                  []|{Centro, 20231047...|df9cf0b8-b972-433...|    [0]|    []|       Usado|      Outros|  Comercial| [1]|[{223, 87, Venda,...|\n",
            "|    3|      [43]|     [43]|      [1]|[Academia, Churra...|{Paciência, 23585...|d2e3a3aa-09b5-45a...|    [2]|    []|       Usado| Apartamento|Residencial| [1]|[{245, null, Vend...|\n",
            "|    2|      [42]|     [42]|      [1]|[Churrasqueira, P...|{Paciência, 23585...|085bab2c-87ad-452...|    [2]|    []|       Usado| Apartamento|Residencial| [1]|[{0, 0, Venda, 15...|\n",
            "|    0|        []|     [12]|      [0]|[Portaria 24h, El...|{Centro, 20231047...|096ad966-dc36-47b...|    [0]|    []|       Usado|      Outros|  Comercial| [1]|[{250, null, Vend...|\n",
            "|    1|      [41]|     [41]|      [1]|[Portaria 24h, Co...|{Guaratiba, 23036...|18d22cbe-1b86-476...|    [2]|    []|       Usado| Apartamento|Residencial| [1]|[{0, 0, Venda, 20...|\n",
            "|    3|      [43]|     [43]|      [1]|[Churrasqueira, P...|{Cosmos, 23066271...|bed8a354-9317-442...|    [2]|    []|       Usado| Apartamento|Residencial| [0]|[{285, null, Vend...|\n",
            "|    0|      [10]|      [4]|      [0]|[Elevador, Portar...|{Centro, 20080021...|b7d0fbd3-0b28-420...|    [0]|    []|       Usado|      Outros|  Comercial| [0]|[{200, 86, Venda,...|\n",
            "|    0|      [12]|     [12]|      [1]|      [Portaria 24h]|{Copacabana, 2202...|c6571c11-166e-4a4...|    [0]|    []|       Usado|      Outros|  Comercial|  []|[{470, null, Vend...|\n",
            "|    0|      [17]|     [17]|      [0]|          [Elevador]|{Centro, 20070021...|46d5b560-205f-45f...|    [0]|    []|       Usado|      Outros|  Comercial| [1]|[{294, 98, Venda,...|\n",
            "|    1|      [32]|     [32]|       []|[Elevador, Condom...|{Centro, 20090020...|db197997-00e6-4d6...|     []|    []|       Usado|      Outros|  Comercial| [1]|[{684, null, Vend...|\n",
            "|    0|        []|     [10]|      [0]|[Elevador, Condom...|{Saúde, 20080040,...|835d4338-4aa9-4e4...|    [0]|    []|       Usado|      Outros|  Comercial|  []|[{0, 120, Venda, ...|\n",
            "|    2|      [43]|     [43]|      [1]|[Academia, Churra...|{Guaratiba, 23036...|12a13315-d67f-48f...|    [2]|    []|       Usado| Apartamento|Residencial| [1]|[{245, null, Vend...|\n",
            "|    3|      [43]|     [43]|      [1]|[Churrasqueira, P...|{Cosmos, 23066271...|a2e6d7a5-0ff0-484...|    [2]|   [0]|       Usado| Apartamento|Residencial| [0]|[{285, null, Vend...|\n",
            "|    3|      [43]|     [43]|      [1]|[Churrasqueira, P...|{Paciência, 23585...|a6e3173b-c950-4db...|    [2]|    []|       Usado| Apartamento|Residencial| [1]|[{250, null, Vend...|\n",
            "|    3|      [43]|     [43]|      [1]|[Churrasqueira, P...|{Guaratiba, 23036...|2e6e5dfb-206c-496...|    [2]|   [0]|       Usado| Apartamento|Residencial| [1]|[{245, null, Vend...|\n",
            "+-----+----------+---------+---------+--------------------+--------------------+--------------------+-------+------+------------+------------+-----------+----+--------------------+\n",
            "only showing top 20 rows\n",
            "\n"
          ]
        }
      ]
    },
    {
      "cell_type": "markdown",
      "source": [
        "## Filtrando `tipo_uso`, `tipo_unidade` e `tipo_anuncio`"
      ],
      "metadata": {
        "id": "aweXJfvSjsI3"
      }
    },
    {
      "cell_type": "markdown",
      "source": [
        "Só serão analisados os anúncios de apartamentos residenciais usados "
      ],
      "metadata": {
        "id": "33KziDel0OD5"
      }
    },
    {
      "cell_type": "code",
      "source": [
        "dataset\\\n",
        "  .select('tipo_uso')\\\n",
        "  .groupBy('tipo_uso')\\\n",
        "  .count()\\\n",
        "  .show()"
      ],
      "metadata": {
        "colab": {
          "base_uri": "https://localhost:8080/"
        },
        "id": "VpX8Tisdjq38",
        "outputId": "d3a9a001-8587-4591-8e2d-a28a538f0ec0"
      },
      "execution_count": 16,
      "outputs": [
        {
          "output_type": "stream",
          "name": "stdout",
          "text": [
            "+-----------+-----+\n",
            "|   tipo_uso|count|\n",
            "+-----------+-----+\n",
            "|  Comercial| 4542|\n",
            "|Residencial|84541|\n",
            "+-----------+-----+\n",
            "\n"
          ]
        }
      ]
    },
    {
      "cell_type": "code",
      "source": [
        "dataset\\\n",
        "  .select('tipo_unidade')\\\n",
        "  .groupBy('tipo_unidade')\\\n",
        "  .count()\\\n",
        "  .show()"
      ],
      "metadata": {
        "colab": {
          "base_uri": "https://localhost:8080/"
        },
        "id": "lOWkr5SxjamR",
        "outputId": "e5a02185-1ec4-49eb-f7b3-bd7dfbb06c88"
      },
      "execution_count": 17,
      "outputs": [
        {
          "output_type": "stream",
          "name": "stdout",
          "text": [
            "+------------+-----+\n",
            "|tipo_unidade|count|\n",
            "+------------+-----+\n",
            "|      Outros|11963|\n",
            "| Apartamento|66801|\n",
            "|        Casa|10319|\n",
            "+------------+-----+\n",
            "\n"
          ]
        }
      ]
    },
    {
      "cell_type": "code",
      "source": [
        "dataset\\\n",
        "  .select('tipo_anuncio')\\\n",
        "  .groupBy('tipo_anuncio')\\\n",
        "  .count()\\\n",
        "  .show()"
      ],
      "metadata": {
        "colab": {
          "base_uri": "https://localhost:8080/"
        },
        "id": "XgURMQnHkDdA",
        "outputId": "a3af233f-f2d6-4efe-8ea9-d548f9de1522"
      },
      "execution_count": 13,
      "outputs": [
        {
          "output_type": "stream",
          "name": "stdout",
          "text": [
            "+------------+-----+\n",
            "|tipo_anuncio|count|\n",
            "+------------+-----+\n",
            "|       Usado|88827|\n",
            "|  Lançamento|  256|\n",
            "+------------+-----+\n",
            "\n"
          ]
        }
      ]
    },
    {
      "cell_type": "code",
      "source": [
        "dataset = dataset\\\n",
        "  .select('*')\\\n",
        "  .where('(tipo_uso==\"Residencial\")')\\\n",
        "  .where('tipo_unidade==\"Apartamento\"')\\\n",
        "  .where('tipo_anuncio==\"Usado\"')"
      ],
      "metadata": {
        "id": "2TDOCcqMkJLd"
      },
      "execution_count": 43,
      "outputs": []
    },
    {
      "cell_type": "code",
      "source": [
        "dataset.count()"
      ],
      "metadata": {
        "colab": {
          "base_uri": "https://localhost:8080/"
        },
        "id": "zV5Fr0kkqrzj",
        "outputId": "200e4220-5980-40de-abc7-6364078b93e0"
      },
      "execution_count": 20,
      "outputs": [
        {
          "output_type": "execute_result",
          "data": {
            "text/plain": [
              "66562"
            ]
          },
          "metadata": {},
          "execution_count": 20
        }
      ]
    },
    {
      "cell_type": "markdown",
      "source": [
        "### Selecionando só as informações úteis da coluna `endereco`"
      ],
      "metadata": {
        "id": "M_fD7ZLic8Zz"
      }
    },
    {
      "cell_type": "markdown",
      "source": [
        "Apenas as informações sobre o bairro e a zona são relevantes para essa análise"
      ],
      "metadata": {
        "id": "3JeyPe5x0qqv"
      }
    },
    {
      "cell_type": "code",
      "source": [
        "dataset.printSchema()"
      ],
      "metadata": {
        "colab": {
          "base_uri": "https://localhost:8080/"
        },
        "id": "ANJiI3wbebec",
        "outputId": "41a911cf-5150-4adc-e39f-49d8e8fb7dd2"
      },
      "execution_count": 21,
      "outputs": [
        {
          "output_type": "stream",
          "name": "stdout",
          "text": [
            "root\n",
            " |-- andar: long (nullable = true)\n",
            " |-- area_total: array (nullable = true)\n",
            " |    |-- element: string (containsNull = true)\n",
            " |-- area_util: array (nullable = true)\n",
            " |    |-- element: string (containsNull = true)\n",
            " |-- banheiros: array (nullable = true)\n",
            " |    |-- element: long (containsNull = true)\n",
            " |-- caracteristicas: array (nullable = true)\n",
            " |    |-- element: string (containsNull = true)\n",
            " |-- endereco: struct (nullable = true)\n",
            " |    |-- bairro: string (nullable = true)\n",
            " |    |-- cep: string (nullable = true)\n",
            " |    |-- cidade: string (nullable = true)\n",
            " |    |-- estado: string (nullable = true)\n",
            " |    |-- latitude: double (nullable = true)\n",
            " |    |-- longitude: double (nullable = true)\n",
            " |    |-- pais: string (nullable = true)\n",
            " |    |-- rua: string (nullable = true)\n",
            " |    |-- zona: string (nullable = true)\n",
            " |-- id: string (nullable = true)\n",
            " |-- quartos: array (nullable = true)\n",
            " |    |-- element: long (containsNull = true)\n",
            " |-- suites: array (nullable = true)\n",
            " |    |-- element: long (containsNull = true)\n",
            " |-- tipo_anuncio: string (nullable = true)\n",
            " |-- tipo_unidade: string (nullable = true)\n",
            " |-- tipo_uso: string (nullable = true)\n",
            " |-- vaga: array (nullable = true)\n",
            " |    |-- element: long (containsNull = true)\n",
            " |-- valores: array (nullable = true)\n",
            " |    |-- element: struct (containsNull = true)\n",
            " |    |    |-- condominio: string (nullable = true)\n",
            " |    |    |-- iptu: string (nullable = true)\n",
            " |    |    |-- tipo: string (nullable = true)\n",
            " |    |    |-- valor: string (nullable = true)\n",
            "\n"
          ]
        }
      ]
    },
    {
      "cell_type": "code",
      "source": [
        "dataset = dataset\\\n",
        "              .withColumn('bairro', dataset.endereco.bairro)\\\n",
        "              .withColumn('zona', dataset.endereco.zona)\\\n",
        "              .drop(dataset.endereco)"
      ],
      "metadata": {
        "id": "V9P93T4p6vN4"
      },
      "execution_count": 44,
      "outputs": []
    },
    {
      "cell_type": "code",
      "source": [
        "dataset.show(truncate=False)"
      ],
      "metadata": {
        "colab": {
          "base_uri": "https://localhost:8080/"
        },
        "id": "AFBlwtfXgJ28",
        "outputId": "e615c5a1-0c8f-4873-e0d1-c41a0d208fb5"
      },
      "execution_count": 35,
      "outputs": [
        {
          "output_type": "stream",
          "name": "stdout",
          "text": [
            "+-----+----------+---------+---------+--------------------------------------------------------------------------------------------------------------------------------------------------+------------------------------------+-------+------+------------+------------+-----------+----+----------------------------+------------------------+----------+\n",
            "|andar|area_total|area_util|banheiros|caracteristicas                                                                                                                                   |id                                  |quartos|suites|tipo_anuncio|tipo_unidade|tipo_uso   |vaga|valores                     |bairro                  |zona      |\n",
            "+-----+----------+---------+---------+--------------------------------------------------------------------------------------------------------------------------------------------------+------------------------------------+-------+------+------------+------------+-----------+----+----------------------------+------------------------+----------+\n",
            "|3    |[43]      |[43]     |[1]      |[Academia, Churrasqueira, Playground, Salão de festas, Condomínio fechado, Portão eletrônico, Portaria 24h, Animais permitidos]                   |d2e3a3aa-09b5-45a0-9dcd-918847cd3ca3|[2]    |[]    |Usado       |Apartamento |Residencial|[1] |[{245, null, Venda, 15000}] |Paciência               |Zona Oeste|\n",
            "|2    |[42]      |[42]     |[1]      |[Churrasqueira, Playground, Salão de festas, Condomínio fechado, Portão eletrônico, Portaria 24h, Animais permitidos]                             |085bab2c-87ad-452a-bd0f-8b1451509f84|[2]    |[]    |Usado       |Apartamento |Residencial|[1] |[{0, 0, Venda, 15000}]      |Paciência               |Zona Oeste|\n",
            "|1    |[41]      |[41]     |[1]      |[Portaria 24h, Condomínio fechado, Playground, Salão de festas, Churrasqueira, Portão eletrônico]                                                 |18d22cbe-1b86-4764-8def-70c615f15a61|[2]    |[]    |Usado       |Apartamento |Residencial|[1] |[{0, 0, Venda, 20000}]      |Guaratiba               |Zona Oeste|\n",
            "|3    |[43]      |[43]     |[1]      |[Churrasqueira, Piscina, Playground, Salão de festas, Condomínio fechado, Portão eletrônico, Portaria 24h, Animais permitidos]                    |bed8a354-9317-4426-b27e-1c798f864271|[2]    |[]    |Usado       |Apartamento |Residencial|[0] |[{285, null, Venda, 20000}] |Cosmos                  |Zona Oeste|\n",
            "|2    |[43]      |[43]     |[1]      |[Academia, Churrasqueira, Playground, Salão de festas, Condomínio fechado, Portão eletrônico, Portaria 24h, Animais permitidos]                   |12a13315-d67f-48f0-9497-017b83252781|[2]    |[]    |Usado       |Apartamento |Residencial|[1] |[{245, null, Venda, 15000}] |Guaratiba               |Zona Oeste|\n",
            "|3    |[43]      |[43]     |[1]      |[Churrasqueira, Piscina, Playground, Salão de festas, Condomínio fechado, Portaria 24h, Portão eletrônico, Animais permitidos]                    |a2e6d7a5-0ff0-484d-b3d8-3a8f15e2d80e|[2]    |[0]   |Usado       |Apartamento |Residencial|[0] |[{285, null, Venda, 20000}] |Cosmos                  |Zona Oeste|\n",
            "|3    |[43]      |[43]     |[1]      |[Churrasqueira, Playground, Salão de festas, Condomínio fechado, Portão eletrônico, Portaria 24h, Animais permitidos]                             |a6e3173b-c950-4db4-9b7b-80c44bd75e90|[2]    |[]    |Usado       |Apartamento |Residencial|[1] |[{250, null, Venda, 15000}] |Paciência               |Zona Oeste|\n",
            "|3    |[43]      |[43]     |[1]      |[Churrasqueira, Playground, Salão de festas, Condomínio fechado, Portão eletrônico, Animais permitidos]                                           |2e6e5dfb-206c-4968-944b-ea4c3918b50d|[2]    |[0]   |Usado       |Apartamento |Residencial|[1] |[{245, null, Venda, 15000}] |Guaratiba               |Zona Oeste|\n",
            "|3    |[43]      |[43]     |[1]      |[Churrasqueira, Playground, Salão de festas, Condomínio fechado, Portão eletrônico, Portaria 24h, Animais permitidos]                             |99f8d0f9-95a4-4613-a55d-c949e7a73e90|[2]    |[0]   |Usado       |Apartamento |Residencial|[1] |[{245, null, Venda, 15000}] |Paciência               |Zona Oeste|\n",
            "|4    |[43]      |[43]     |[1]      |[Churrasqueira, Playground, Salão de festas, Condomínio fechado, Portão eletrônico, Portaria 24h, Animais permitidos]                             |b3f44c1a-2d50-4d56-b1fb-a94d59b55ab8|[2]    |[]    |Usado       |Apartamento |Residencial|[1] |[{240, null, Venda, 17999}] |Guaratiba               |Zona Oeste|\n",
            "|0    |[60]      |[60]     |[1]      |[Condomínio fechado]                                                                                                                              |dc99d9e1-4c63-41f7-a53d-678b2b3ccb52|[2]    |[]    |Usado       |Apartamento |Residencial|[1] |[{0, 0, Venda, 15000}]      |Pedra de Guaratiba      |Zona Oeste|\n",
            "|1    |[43]      |[43]     |[1]      |[Churrasqueira, Playground, Salão de festas, Condomínio fechado, Portão eletrônico, Portaria 24h]                                                 |aa3606d8-8bcd-45ec-a609-d68a58a12014|[2]    |[]    |Usado       |Apartamento |Residencial|[1] |[{240, 0, Venda, 19999}]    |Cosmos                  |Zona Oeste|\n",
            "|0    |[43]      |[43]     |[1]      |[Churrasqueira, Playground, Salão de festas, Condomínio fechado, Portão eletrônico, Portaria 24h, Animais permitidos]                             |df80b0d5-677c-4be7-93c4-ddef578125ac|[2]    |[0]   |Usado       |Apartamento |Residencial|[0] |[{245, null, Venda, 19999}] |Campo Grande            |Zona Oeste|\n",
            "|2    |[43]      |[43]     |[1]      |[Academia, Churrasqueira, Piscina, Playground, Salão de festas, Condomínio fechado, Portão eletrônico, Portaria 24h, Animais permitidos]          |3d6c0218-9b7d-474b-9a44-cd3e005375f9|[2]    |[]    |Usado       |Apartamento |Residencial|[2] |[{290, null, Venda, 25000}] |Santa Cruz              |Zona Oeste|\n",
            "|3    |[43]      |[43]     |[1]      |[Salão de festas, Playground, Condomínio fechado, Portão eletrônico, Portaria 24h, Animais permitidos]                                            |304266cc-62d1-4ce7-909b-21198c306839|[2]    |[]    |Usado       |Apartamento |Residencial|[]  |[{285, null, Venda, 29999}] |Guaratiba               |Zona Oeste|\n",
            "|4    |[55]      |[55]     |[2]      |[Academia, Churrasqueira, Piscina, Playground, Salão de festas, Elevador, Condomínio fechado, Portão eletrônico, Portaria 24h, Animais permitidos]|111472a2-afa1-4a73-a8b3-3588ffba362c|[2]    |[1]   |Usado       |Apartamento |Residencial|[1] |[{0, 0, Venda, 30000}]      |Recreio dos Bandeirantes|Zona Oeste|\n",
            "|0    |[45]      |[45]     |[1]      |[Playground, Piscina, Churrasqueira, Salão de festas, Condomínio fechado]                                                                         |275c1589-6537-4bf7-9504-74410dbf01fc|[2]    |[0]   |Usado       |Apartamento |Residencial|[1] |[{null, null, Venda, 30000}]|Cosmos                  |Zona Oeste|\n",
            "|5    |[42]      |[42]     |[1]      |[Condomínio fechado, Portaria 24h, Salão de festas, Portão eletrônico, Animais permitidos]                                                        |ab8f367f-7509-45c7-ad9a-f51f84584376|[2]    |[0]   |Usado       |Apartamento |Residencial|[0] |[{280, 0, Venda, 25000}]    |Realengo                |Zona Oeste|\n",
            "|1    |[43]      |[43]     |[1]      |[Churrasqueira, Playground, Salão de festas, Condomínio fechado, Portão eletrônico, Portaria 24h, Animais permitidos]                             |e0a3d370-66dd-4f50-a3d9-cf09c8212318|[2]    |[]    |Usado       |Apartamento |Residencial|[1] |[{280, null, Venda, 27999}] |Cosmos                  |Zona Oeste|\n",
            "|3    |[]        |[55]     |[1]      |[Academia, Churrasqueira, Piscina, Playground, Salão de festas, Elevador, Condomínio fechado, Portão eletrônico, Portaria 24h, Animais permitidos]|09c8ba2d-dbf1-4879-ba5b-1345355dc415|[2]    |[1]   |Usado       |Apartamento |Residencial|[1] |[{0, 0, Venda, 26000}]      |Todos os Santos         |Zona Norte|\n",
            "+-----+----------+---------+---------+--------------------------------------------------------------------------------------------------------------------------------------------------+------------------------------------+-------+------+------------+------------+-----------+----+----------------------------+------------------------+----------+\n",
            "only showing top 20 rows\n",
            "\n"
          ]
        }
      ]
    },
    {
      "cell_type": "markdown",
      "source": [
        "## Convertendo arrays para inteiros"
      ],
      "metadata": {
        "id": "pe6PfD7diU31"
      }
    },
    {
      "cell_type": "markdown",
      "source": [
        "Diversas colunas tem seus registros apresentados como arrays, mas parecem possuir apenas um elemento. Essas colunas serão convertidas para inteiros."
      ],
      "metadata": {
        "id": "0gyCq6Ut1Jqj"
      }
    },
    {
      "cell_type": "code",
      "source": [
        "dataset.printSchema()"
      ],
      "metadata": {
        "colab": {
          "base_uri": "https://localhost:8080/"
        },
        "id": "PXD_oqlljsRn",
        "outputId": "9ffbdd55-6369-4b13-ff6c-3b8012349c0c"
      },
      "execution_count": 24,
      "outputs": [
        {
          "output_type": "stream",
          "name": "stdout",
          "text": [
            "root\n",
            " |-- andar: long (nullable = true)\n",
            " |-- area_total: array (nullable = true)\n",
            " |    |-- element: string (containsNull = true)\n",
            " |-- area_util: array (nullable = true)\n",
            " |    |-- element: string (containsNull = true)\n",
            " |-- banheiros: array (nullable = true)\n",
            " |    |-- element: long (containsNull = true)\n",
            " |-- caracteristicas: array (nullable = true)\n",
            " |    |-- element: string (containsNull = true)\n",
            " |-- id: string (nullable = true)\n",
            " |-- quartos: array (nullable = true)\n",
            " |    |-- element: long (containsNull = true)\n",
            " |-- suites: array (nullable = true)\n",
            " |    |-- element: long (containsNull = true)\n",
            " |-- tipo_anuncio: string (nullable = true)\n",
            " |-- tipo_unidade: string (nullable = true)\n",
            " |-- tipo_uso: string (nullable = true)\n",
            " |-- vaga: array (nullable = true)\n",
            " |    |-- element: long (containsNull = true)\n",
            " |-- valores: array (nullable = true)\n",
            " |    |-- element: struct (containsNull = true)\n",
            " |    |    |-- condominio: string (nullable = true)\n",
            " |    |    |-- iptu: string (nullable = true)\n",
            " |    |    |-- tipo: string (nullable = true)\n",
            " |    |    |-- valor: string (nullable = true)\n",
            " |-- bairro: string (nullable = true)\n",
            " |-- zona: string (nullable = true)\n",
            "\n"
          ]
        }
      ]
    },
    {
      "cell_type": "code",
      "source": [
        "array_to_int = ['area_total','area_util','banheiros','quartos','suites','vaga']"
      ],
      "metadata": {
        "id": "V7fWGi-TjmEF"
      },
      "execution_count": 25,
      "outputs": []
    },
    {
      "cell_type": "code",
      "source": [
        "from pyspark.sql import functions as f"
      ],
      "metadata": {
        "id": "8Io_QL5WoFZq"
      },
      "execution_count": 37,
      "outputs": []
    },
    {
      "cell_type": "markdown",
      "source": [
        "### Conferindo quantos elementos tem dentro de cada lista"
      ],
      "metadata": {
        "id": "p7REGhnxraka"
      }
    },
    {
      "cell_type": "code",
      "source": [
        "for c in array_to_int:\n",
        "  dataset\\\n",
        "      .select(f.size(f.col(c)).alias(c))\\\n",
        "      .groupBy(c)\\\n",
        "      .count()\\\n",
        "      .show()"
      ],
      "metadata": {
        "colab": {
          "base_uri": "https://localhost:8080/"
        },
        "id": "DkDWLlQIpt8q",
        "outputId": "7b00556c-86f3-47e9-f98d-aa7c2c79c977"
      },
      "execution_count": 38,
      "outputs": [
        {
          "output_type": "stream",
          "name": "stdout",
          "text": [
            "+----------+-----+\n",
            "|area_total|count|\n",
            "+----------+-----+\n",
            "|         1|57368|\n",
            "|         0| 9194|\n",
            "+----------+-----+\n",
            "\n",
            "+---------+-----+\n",
            "|area_util|count|\n",
            "+---------+-----+\n",
            "|        1|66562|\n",
            "+---------+-----+\n",
            "\n",
            "+---------+-----+\n",
            "|banheiros|count|\n",
            "+---------+-----+\n",
            "|        1|66562|\n",
            "+---------+-----+\n",
            "\n",
            "+-------+-----+\n",
            "|quartos|count|\n",
            "+-------+-----+\n",
            "|      1|66562|\n",
            "+-------+-----+\n",
            "\n",
            "+------+-----+\n",
            "|suites|count|\n",
            "+------+-----+\n",
            "|     1|61008|\n",
            "|     0| 5554|\n",
            "+------+-----+\n",
            "\n",
            "+----+-----+\n",
            "|vaga|count|\n",
            "+----+-----+\n",
            "|   1|63545|\n",
            "|   0| 3017|\n",
            "+----+-----+\n",
            "\n"
          ]
        }
      ]
    },
    {
      "cell_type": "markdown",
      "source": [
        "#### Selecionando o elemento único das listas"
      ],
      "metadata": {
        "id": "UYAIU76erq9E"
      }
    },
    {
      "cell_type": "code",
      "source": [
        "from pyspark.sql.types import IntegerType"
      ],
      "metadata": {
        "id": "TAq_F1Rzb1Ti"
      },
      "execution_count": 29,
      "outputs": []
    },
    {
      "cell_type": "code",
      "source": [
        "for c in array_to_int:\n",
        "  dataset = dataset\\\n",
        "                .withColumn(c,dataset[c][0])           "
      ],
      "metadata": {
        "id": "3ipuXZWZb4ON"
      },
      "execution_count": 45,
      "outputs": []
    },
    {
      "cell_type": "code",
      "source": [
        "dataset.show()"
      ],
      "metadata": {
        "colab": {
          "base_uri": "https://localhost:8080/"
        },
        "id": "NhhEKKwzcCIo",
        "outputId": "905d47c4-2476-4c5f-eb4a-94966d03d354"
      },
      "execution_count": 46,
      "outputs": [
        {
          "output_type": "stream",
          "name": "stdout",
          "text": [
            "+-----+----------+---------+---------+--------------------+--------------------+-------+------+------------+------------+-----------+----+--------------------+--------------------+----------+\n",
            "|andar|area_total|area_util|banheiros|     caracteristicas|                  id|quartos|suites|tipo_anuncio|tipo_unidade|   tipo_uso|vaga|             valores|              bairro|      zona|\n",
            "+-----+----------+---------+---------+--------------------+--------------------+-------+------+------------+------------+-----------+----+--------------------+--------------------+----------+\n",
            "|    3|        43|       43|        1|[Academia, Churra...|d2e3a3aa-09b5-45a...|      2|  null|       Usado| Apartamento|Residencial|   1|[{245, null, Vend...|           Paciência|Zona Oeste|\n",
            "|    2|        42|       42|        1|[Churrasqueira, P...|085bab2c-87ad-452...|      2|  null|       Usado| Apartamento|Residencial|   1|[{0, 0, Venda, 15...|           Paciência|Zona Oeste|\n",
            "|    1|        41|       41|        1|[Portaria 24h, Co...|18d22cbe-1b86-476...|      2|  null|       Usado| Apartamento|Residencial|   1|[{0, 0, Venda, 20...|           Guaratiba|Zona Oeste|\n",
            "|    3|        43|       43|        1|[Churrasqueira, P...|bed8a354-9317-442...|      2|  null|       Usado| Apartamento|Residencial|   0|[{285, null, Vend...|              Cosmos|Zona Oeste|\n",
            "|    2|        43|       43|        1|[Academia, Churra...|12a13315-d67f-48f...|      2|  null|       Usado| Apartamento|Residencial|   1|[{245, null, Vend...|           Guaratiba|Zona Oeste|\n",
            "|    3|        43|       43|        1|[Churrasqueira, P...|a2e6d7a5-0ff0-484...|      2|     0|       Usado| Apartamento|Residencial|   0|[{285, null, Vend...|              Cosmos|Zona Oeste|\n",
            "|    3|        43|       43|        1|[Churrasqueira, P...|a6e3173b-c950-4db...|      2|  null|       Usado| Apartamento|Residencial|   1|[{250, null, Vend...|           Paciência|Zona Oeste|\n",
            "|    3|        43|       43|        1|[Churrasqueira, P...|2e6e5dfb-206c-496...|      2|     0|       Usado| Apartamento|Residencial|   1|[{245, null, Vend...|           Guaratiba|Zona Oeste|\n",
            "|    3|        43|       43|        1|[Churrasqueira, P...|99f8d0f9-95a4-461...|      2|     0|       Usado| Apartamento|Residencial|   1|[{245, null, Vend...|           Paciência|Zona Oeste|\n",
            "|    4|        43|       43|        1|[Churrasqueira, P...|b3f44c1a-2d50-4d5...|      2|  null|       Usado| Apartamento|Residencial|   1|[{240, null, Vend...|           Guaratiba|Zona Oeste|\n",
            "|    0|        60|       60|        1|[Condomínio fechado]|dc99d9e1-4c63-41f...|      2|  null|       Usado| Apartamento|Residencial|   1|[{0, 0, Venda, 15...|  Pedra de Guaratiba|Zona Oeste|\n",
            "|    1|        43|       43|        1|[Churrasqueira, P...|aa3606d8-8bcd-45e...|      2|  null|       Usado| Apartamento|Residencial|   1|[{240, 0, Venda, ...|              Cosmos|Zona Oeste|\n",
            "|    0|        43|       43|        1|[Churrasqueira, P...|df80b0d5-677c-4be...|      2|     0|       Usado| Apartamento|Residencial|   0|[{245, null, Vend...|        Campo Grande|Zona Oeste|\n",
            "|    2|        43|       43|        1|[Academia, Churra...|3d6c0218-9b7d-474...|      2|  null|       Usado| Apartamento|Residencial|   2|[{290, null, Vend...|          Santa Cruz|Zona Oeste|\n",
            "|    3|        43|       43|        1|[Salão de festas,...|304266cc-62d1-4ce...|      2|  null|       Usado| Apartamento|Residencial|null|[{285, null, Vend...|           Guaratiba|Zona Oeste|\n",
            "|    4|        55|       55|        2|[Academia, Churra...|111472a2-afa1-4a7...|      2|     1|       Usado| Apartamento|Residencial|   1|[{0, 0, Venda, 30...|Recreio dos Bande...|Zona Oeste|\n",
            "|    0|        45|       45|        1|[Playground, Pisc...|275c1589-6537-4bf...|      2|     0|       Usado| Apartamento|Residencial|   1|[{null, null, Ven...|              Cosmos|Zona Oeste|\n",
            "|    5|        42|       42|        1|[Condomínio fecha...|ab8f367f-7509-45c...|      2|     0|       Usado| Apartamento|Residencial|   0|[{280, 0, Venda, ...|            Realengo|Zona Oeste|\n",
            "|    1|        43|       43|        1|[Churrasqueira, P...|e0a3d370-66dd-4f5...|      2|  null|       Usado| Apartamento|Residencial|   1|[{280, null, Vend...|              Cosmos|Zona Oeste|\n",
            "|    3|      null|       55|        1|[Academia, Churra...|09c8ba2d-dbf1-487...|      2|     1|       Usado| Apartamento|Residencial|   1|[{0, 0, Venda, 26...|     Todos os Santos|Zona Norte|\n",
            "+-----+----------+---------+---------+--------------------+--------------------+-------+------+------------+------------+-----------+----+--------------------+--------------------+----------+\n",
            "only showing top 20 rows\n",
            "\n"
          ]
        }
      ]
    },
    {
      "cell_type": "markdown",
      "source": [
        "## Organizando dados da coluna `valores`"
      ],
      "metadata": {
        "id": "67imTKx5rlCD"
      }
    },
    {
      "cell_type": "code",
      "source": [
        "dataset.printSchema()"
      ],
      "metadata": {
        "colab": {
          "base_uri": "https://localhost:8080/"
        },
        "id": "C62s908Yrve0",
        "outputId": "9bf6b8be-938d-4ec2-ed6b-7f580a49e5d6"
      },
      "execution_count": 48,
      "outputs": [
        {
          "output_type": "stream",
          "name": "stdout",
          "text": [
            "root\n",
            " |-- andar: long (nullable = true)\n",
            " |-- area_total: string (nullable = true)\n",
            " |-- area_util: string (nullable = true)\n",
            " |-- banheiros: long (nullable = true)\n",
            " |-- caracteristicas: array (nullable = true)\n",
            " |    |-- element: string (containsNull = true)\n",
            " |-- id: string (nullable = true)\n",
            " |-- quartos: long (nullable = true)\n",
            " |-- suites: long (nullable = true)\n",
            " |-- tipo_anuncio: string (nullable = true)\n",
            " |-- tipo_unidade: string (nullable = true)\n",
            " |-- tipo_uso: string (nullable = true)\n",
            " |-- vaga: long (nullable = true)\n",
            " |-- valores: array (nullable = true)\n",
            " |    |-- element: struct (containsNull = true)\n",
            " |    |    |-- condominio: string (nullable = true)\n",
            " |    |    |-- iptu: string (nullable = true)\n",
            " |    |    |-- tipo: string (nullable = true)\n",
            " |    |    |-- valor: string (nullable = true)\n",
            " |-- bairro: string (nullable = true)\n",
            " |-- zona: string (nullable = true)\n",
            "\n"
          ]
        }
      ]
    },
    {
      "cell_type": "code",
      "source": [
        "dataset = dataset\\\n",
        "              .withColumn('condominio', dataset.valores.condominio[0])\\\n",
        "              .withColumn('iptu', dataset.valores.iptu[0])\\\n",
        "              .withColumn('tipo', dataset.valores.tipo[0])\\\n",
        "              .withColumn('valor', dataset.valores.valor[0])\\\n",
        "              .drop(dataset.valores)"
      ],
      "metadata": {
        "id": "mrqtkSpVpI77"
      },
      "execution_count": 49,
      "outputs": []
    },
    {
      "cell_type": "code",
      "source": [
        "dataset.printSchema()"
      ],
      "metadata": {
        "colab": {
          "base_uri": "https://localhost:8080/"
        },
        "id": "7H5kuGwbsCN-",
        "outputId": "a082f7b4-3999-4bd6-db24-0c2254dc94c2"
      },
      "execution_count": 50,
      "outputs": [
        {
          "output_type": "stream",
          "name": "stdout",
          "text": [
            "root\n",
            " |-- andar: long (nullable = true)\n",
            " |-- area_total: string (nullable = true)\n",
            " |-- area_util: string (nullable = true)\n",
            " |-- banheiros: long (nullable = true)\n",
            " |-- caracteristicas: array (nullable = true)\n",
            " |    |-- element: string (containsNull = true)\n",
            " |-- id: string (nullable = true)\n",
            " |-- quartos: long (nullable = true)\n",
            " |-- suites: long (nullable = true)\n",
            " |-- tipo_anuncio: string (nullable = true)\n",
            " |-- tipo_unidade: string (nullable = true)\n",
            " |-- tipo_uso: string (nullable = true)\n",
            " |-- vaga: long (nullable = true)\n",
            " |-- bairro: string (nullable = true)\n",
            " |-- zona: string (nullable = true)\n",
            " |-- condominio: string (nullable = true)\n",
            " |-- iptu: string (nullable = true)\n",
            " |-- tipo: string (nullable = true)\n",
            " |-- valor: string (nullable = true)\n",
            "\n"
          ]
        }
      ]
    },
    {
      "cell_type": "code",
      "source": [
        "dataset.show()"
      ],
      "metadata": {
        "id": "JvkhMstWsz6H",
        "colab": {
          "base_uri": "https://localhost:8080/"
        },
        "outputId": "903cc3a7-d320-438d-e380-78e1532c5af1"
      },
      "execution_count": 51,
      "outputs": [
        {
          "output_type": "stream",
          "name": "stdout",
          "text": [
            "+-----+----------+---------+---------+--------------------+--------------------+-------+------+------------+------------+-----------+----+--------------------+----------+----------+----+-----+-----+\n",
            "|andar|area_total|area_util|banheiros|     caracteristicas|                  id|quartos|suites|tipo_anuncio|tipo_unidade|   tipo_uso|vaga|              bairro|      zona|condominio|iptu| tipo|valor|\n",
            "+-----+----------+---------+---------+--------------------+--------------------+-------+------+------------+------------+-----------+----+--------------------+----------+----------+----+-----+-----+\n",
            "|    3|        43|       43|        1|[Academia, Churra...|d2e3a3aa-09b5-45a...|      2|  null|       Usado| Apartamento|Residencial|   1|           Paciência|Zona Oeste|       245|null|Venda|15000|\n",
            "|    2|        42|       42|        1|[Churrasqueira, P...|085bab2c-87ad-452...|      2|  null|       Usado| Apartamento|Residencial|   1|           Paciência|Zona Oeste|         0|   0|Venda|15000|\n",
            "|    1|        41|       41|        1|[Portaria 24h, Co...|18d22cbe-1b86-476...|      2|  null|       Usado| Apartamento|Residencial|   1|           Guaratiba|Zona Oeste|         0|   0|Venda|20000|\n",
            "|    3|        43|       43|        1|[Churrasqueira, P...|bed8a354-9317-442...|      2|  null|       Usado| Apartamento|Residencial|   0|              Cosmos|Zona Oeste|       285|null|Venda|20000|\n",
            "|    2|        43|       43|        1|[Academia, Churra...|12a13315-d67f-48f...|      2|  null|       Usado| Apartamento|Residencial|   1|           Guaratiba|Zona Oeste|       245|null|Venda|15000|\n",
            "|    3|        43|       43|        1|[Churrasqueira, P...|a2e6d7a5-0ff0-484...|      2|     0|       Usado| Apartamento|Residencial|   0|              Cosmos|Zona Oeste|       285|null|Venda|20000|\n",
            "|    3|        43|       43|        1|[Churrasqueira, P...|a6e3173b-c950-4db...|      2|  null|       Usado| Apartamento|Residencial|   1|           Paciência|Zona Oeste|       250|null|Venda|15000|\n",
            "|    3|        43|       43|        1|[Churrasqueira, P...|2e6e5dfb-206c-496...|      2|     0|       Usado| Apartamento|Residencial|   1|           Guaratiba|Zona Oeste|       245|null|Venda|15000|\n",
            "|    3|        43|       43|        1|[Churrasqueira, P...|99f8d0f9-95a4-461...|      2|     0|       Usado| Apartamento|Residencial|   1|           Paciência|Zona Oeste|       245|null|Venda|15000|\n",
            "|    4|        43|       43|        1|[Churrasqueira, P...|b3f44c1a-2d50-4d5...|      2|  null|       Usado| Apartamento|Residencial|   1|           Guaratiba|Zona Oeste|       240|null|Venda|17999|\n",
            "|    0|        60|       60|        1|[Condomínio fechado]|dc99d9e1-4c63-41f...|      2|  null|       Usado| Apartamento|Residencial|   1|  Pedra de Guaratiba|Zona Oeste|         0|   0|Venda|15000|\n",
            "|    1|        43|       43|        1|[Churrasqueira, P...|aa3606d8-8bcd-45e...|      2|  null|       Usado| Apartamento|Residencial|   1|              Cosmos|Zona Oeste|       240|   0|Venda|19999|\n",
            "|    0|        43|       43|        1|[Churrasqueira, P...|df80b0d5-677c-4be...|      2|     0|       Usado| Apartamento|Residencial|   0|        Campo Grande|Zona Oeste|       245|null|Venda|19999|\n",
            "|    2|        43|       43|        1|[Academia, Churra...|3d6c0218-9b7d-474...|      2|  null|       Usado| Apartamento|Residencial|   2|          Santa Cruz|Zona Oeste|       290|null|Venda|25000|\n",
            "|    3|        43|       43|        1|[Salão de festas,...|304266cc-62d1-4ce...|      2|  null|       Usado| Apartamento|Residencial|null|           Guaratiba|Zona Oeste|       285|null|Venda|29999|\n",
            "|    4|        55|       55|        2|[Academia, Churra...|111472a2-afa1-4a7...|      2|     1|       Usado| Apartamento|Residencial|   1|Recreio dos Bande...|Zona Oeste|         0|   0|Venda|30000|\n",
            "|    0|        45|       45|        1|[Playground, Pisc...|275c1589-6537-4bf...|      2|     0|       Usado| Apartamento|Residencial|   1|              Cosmos|Zona Oeste|      null|null|Venda|30000|\n",
            "|    5|        42|       42|        1|[Condomínio fecha...|ab8f367f-7509-45c...|      2|     0|       Usado| Apartamento|Residencial|   0|            Realengo|Zona Oeste|       280|   0|Venda|25000|\n",
            "|    1|        43|       43|        1|[Churrasqueira, P...|e0a3d370-66dd-4f5...|      2|  null|       Usado| Apartamento|Residencial|   1|              Cosmos|Zona Oeste|       280|null|Venda|27999|\n",
            "|    3|      null|       55|        1|[Academia, Churra...|09c8ba2d-dbf1-487...|      2|     1|       Usado| Apartamento|Residencial|   1|     Todos os Santos|Zona Norte|         0|   0|Venda|26000|\n",
            "+-----+----------+---------+---------+--------------------+--------------------+-------+------+------------+------------+-----------+----+--------------------+----------+----------+----+-----+-----+\n",
            "only showing top 20 rows\n",
            "\n"
          ]
        }
      ]
    },
    {
      "cell_type": "markdown",
      "source": [
        "## Selecionando só os imóveis para venda"
      ],
      "metadata": {
        "id": "r9q5HlEot6dE"
      }
    },
    {
      "cell_type": "markdown",
      "source": [
        "Nessa análise serão avaliados apenas os preços de venda dos imóveis"
      ],
      "metadata": {
        "id": "rPn3KD3T2RTa"
      }
    },
    {
      "cell_type": "code",
      "source": [
        "dataset = dataset\\\n",
        "              .select('*')\\\n",
        "              .where('tipo==\"Venda\"')"
      ],
      "metadata": {
        "id": "ERZVFHzEsfPT"
      },
      "execution_count": 52,
      "outputs": []
    },
    {
      "cell_type": "markdown",
      "source": [
        "### Salvando os resultados em parquet e csv"
      ],
      "metadata": {
        "id": "Wivy_KGQvPOj"
      }
    },
    {
      "cell_type": "code",
      "source": [
        "dataset.printSchema()"
      ],
      "metadata": {
        "colab": {
          "base_uri": "https://localhost:8080/"
        },
        "id": "w0jNXc9_wa_M",
        "outputId": "9f645ec3-5901-4717-cfa4-640160fb7d7a"
      },
      "execution_count": 53,
      "outputs": [
        {
          "output_type": "stream",
          "name": "stdout",
          "text": [
            "root\n",
            " |-- andar: long (nullable = true)\n",
            " |-- area_total: string (nullable = true)\n",
            " |-- area_util: string (nullable = true)\n",
            " |-- banheiros: long (nullable = true)\n",
            " |-- caracteristicas: array (nullable = true)\n",
            " |    |-- element: string (containsNull = true)\n",
            " |-- id: string (nullable = true)\n",
            " |-- quartos: long (nullable = true)\n",
            " |-- suites: long (nullable = true)\n",
            " |-- tipo_anuncio: string (nullable = true)\n",
            " |-- tipo_unidade: string (nullable = true)\n",
            " |-- tipo_uso: string (nullable = true)\n",
            " |-- vaga: long (nullable = true)\n",
            " |-- bairro: string (nullable = true)\n",
            " |-- zona: string (nullable = true)\n",
            " |-- condominio: string (nullable = true)\n",
            " |-- iptu: string (nullable = true)\n",
            " |-- tipo: string (nullable = true)\n",
            " |-- valor: string (nullable = true)\n",
            "\n"
          ]
        }
      ]
    },
    {
      "cell_type": "code",
      "source": [
        "dataset.write.parquet(\n",
        "    path='/content/drive/MyDrive/curso-spark/ChallengeAlura/dados/parquet',\n",
        "    mode='overwrite'\n",
        ")"
      ],
      "metadata": {
        "id": "_TQHLJ_YuL0M"
      },
      "execution_count": 54,
      "outputs": []
    },
    {
      "cell_type": "markdown",
      "source": [
        "Para salvar em csv é preciso transformar a coluna `caracteristicas` de array para string"
      ],
      "metadata": {
        "id": "Xz3ZhblRBjgy"
      }
    },
    {
      "cell_type": "code",
      "source": [
        "from pyspark.sql.types import StringType"
      ],
      "metadata": {
        "id": "S4RJSotCBvP7"
      },
      "execution_count": 55,
      "outputs": []
    },
    {
      "cell_type": "code",
      "source": [
        "dataset = dataset\\\n",
        "              .withColumn('caracteristicas', dataset.caracteristicas.cast(StringType()))"
      ],
      "metadata": {
        "id": "0NT7hW7oBwsp"
      },
      "execution_count": 56,
      "outputs": []
    },
    {
      "cell_type": "code",
      "source": [
        "dataset.write.csv(\n",
        "    path='/content/drive/MyDrive/curso-spark/ChallengeAlura/dados/csv',\n",
        "    mode='overwrite',\n",
        "    sep=';',\n",
        "    header=True,\n",
        ")"
      ],
      "metadata": {
        "id": "-A9cOviYvBrG"
      },
      "execution_count": 57,
      "outputs": []
    },
    {
      "cell_type": "markdown",
      "source": [
        "### Comparando o desempenho da leitura"
      ],
      "metadata": {
        "id": "xgpasjAuwmmo"
      }
    },
    {
      "cell_type": "code",
      "source": [
        "%%time\n",
        "dataset_csv = spark.read.csv(\n",
        "    '/content/drive/MyDrive/curso-spark/ChallengeAlura/dados/csv',\n",
        "    sep=';',\n",
        "    inferSchema=True,\n",
        "    header=True)"
      ],
      "metadata": {
        "colab": {
          "base_uri": "https://localhost:8080/"
        },
        "id": "eoGXydwbvv5b",
        "outputId": "09860145-2dd2-4fb2-c389-38410a69bee8"
      },
      "execution_count": 58,
      "outputs": [
        {
          "output_type": "stream",
          "name": "stdout",
          "text": [
            "CPU times: user 18.4 ms, sys: 4.11 ms, total: 22.5 ms\n",
            "Wall time: 1.77 s\n"
          ]
        }
      ]
    },
    {
      "cell_type": "code",
      "source": [
        "%%time\n",
        "dataset_parquet = spark.read.parquet(\n",
        "    '/content/drive/MyDrive/curso-spark/ChallengeAlura/dados/parquet'\n",
        "    )"
      ],
      "metadata": {
        "colab": {
          "base_uri": "https://localhost:8080/"
        },
        "id": "2PMl7pC3w-lC",
        "outputId": "40763998-fd5c-4726-968c-3f6c4f34dc62"
      },
      "execution_count": 59,
      "outputs": [
        {
          "output_type": "stream",
          "name": "stdout",
          "text": [
            "CPU times: user 6.87 ms, sys: 714 µs, total: 7.58 ms\n",
            "Wall time: 302 ms\n"
          ]
        }
      ]
    },
    {
      "cell_type": "code",
      "source": [],
      "metadata": {
        "id": "KVpOPFaOxfKD"
      },
      "execution_count": null,
      "outputs": []
    }
  ]
}
