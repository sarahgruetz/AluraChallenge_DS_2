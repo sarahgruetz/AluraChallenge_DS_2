{
  "cells": [
    {
      "cell_type": "markdown",
      "metadata": {
        "id": "view-in-github",
        "colab_type": "text"
      },
      "source": [
        "<a href=\"https://colab.research.google.com/github/sarahgruetz/AluraChallenge_DS_2/blob/main/Alura_Challenge_semana_2.ipynb\" target=\"_parent\"><img src=\"https://colab.research.google.com/assets/colab-badge.svg\" alt=\"Open In Colab\"/></a>"
      ]
    },
    {
      "cell_type": "markdown",
      "source": [
        "### Setup do Spark"
      ],
      "metadata": {
        "id": "yIdPyvGRpsqK"
      }
    },
    {
      "cell_type": "code",
      "execution_count": 1,
      "metadata": {
        "id": "rXwu3TSUMiZT"
      },
      "outputs": [],
      "source": [
        "# instalar as dependências\n",
        "!apt-get update -qq \n",
        "!apt-get install openjdk-8-jdk-headless -qq > /dev/null # instalando java \n",
        "!wget -q https://archive.apache.org/dist/spark/spark-3.1.2/spark-3.1.2-bin-hadoop2.7.tgz # baixando spark\n",
        "!tar xf spark-3.1.2-bin-hadoop2.7.tgz # descompactando\n",
        "!pip install -q findspark # instalando"
      ]
    },
    {
      "cell_type": "code",
      "source": [
        "import os\n",
        "os.environ[\"JAVA_HOME\"] = \"/usr/lib/jvm/java-8-openjdk-amd64\"\n",
        "os.environ[\"SPARK_HOME\"] = \"/content/spark-3.1.2-bin-hadoop2.7\""
      ],
      "metadata": {
        "id": "Mse5jsP4paf8"
      },
      "execution_count": 2,
      "outputs": []
    },
    {
      "cell_type": "code",
      "source": [
        "import findspark\n",
        "findspark.init()"
      ],
      "metadata": {
        "id": "GzM-rBbppfMl"
      },
      "execution_count": 3,
      "outputs": []
    },
    {
      "cell_type": "markdown",
      "source": [
        "### Criando a SparkSession"
      ],
      "metadata": {
        "id": "T-5NGMsMph6v"
      }
    },
    {
      "cell_type": "code",
      "execution_count": 4,
      "metadata": {
        "id": "6YDplAklMmec"
      },
      "outputs": [],
      "source": [
        "from pyspark.sql import SparkSession\n",
        "\n",
        "spark = SparkSession.builder \\\n",
        "    .master('local[*]') \\\n",
        "    .appName(\"Alura Challenge\") \\\n",
        "    .getOrCreate()"
      ]
    },
    {
      "cell_type": "markdown",
      "source": [
        "### Carregando e visualizando o dataset\n",
        "\n",
        "Datset já com as transformações e filtros realizados na semana 1."
      ],
      "metadata": {
        "id": "GaxzkIiUp1F4"
      }
    },
    {
      "cell_type": "code",
      "execution_count": 5,
      "metadata": {
        "id": "H-7yZCDBNcNK"
      },
      "outputs": [],
      "source": [
        "import zipfile\n",
        "\n",
        "zipfile.ZipFile('/content/drive/MyDrive/curso-spark/ChallengeAlura/semana-2.zip','r')\\\n",
        "        .extractall('/content/drive/MyDrive/curso-spark/ChallengeAlura/dados')"
      ]
    },
    {
      "cell_type": "code",
      "execution_count": 6,
      "metadata": {
        "id": "YkoDFqOgOH5a"
      },
      "outputs": [],
      "source": [
        "dataset = spark.read.parquet('/content/drive/MyDrive/curso-spark/ChallengeAlura/dados/dataset_transformado_parquet')"
      ]
    },
    {
      "cell_type": "code",
      "execution_count": 7,
      "metadata": {
        "colab": {
          "base_uri": "https://localhost:8080/"
        },
        "id": "wNYeSUcSOVL6",
        "outputId": "d60969d7-15c5-47b2-d8f5-787511a6b285"
      },
      "outputs": [
        {
          "output_type": "stream",
          "name": "stdout",
          "text": [
            "+--------------------+-----+----------+---------+---------+--------------------+-------+------+------------+------------+-----------+----+------------+------------+----------+----+-----+------+\n",
            "|                  id|andar|area_total|area_util|banheiros|     caracteristicas|quartos|suites|tipo_anuncio|tipo_unidade|   tipo_uso|vaga|      bairro|        zona|condominio|iptu| tipo| valor|\n",
            "+--------------------+-----+----------+---------+---------+--------------------+-------+------+------------+------------+-----------+----+------------+------------+----------+----+-----+------+\n",
            "|03a386b6-7ab8-4ef...|    0|        43|       43|        1|[Churrasqueira, A...|      2|  null|       Usado| Apartamento|Residencial|   1|    Realengo|  Zona Oeste|       285|null|Venda| 22999|\n",
            "|1fe78d41-b8e0-4d2...|    0|        44|       44|        1|                  []|      2|     0|       Usado| Apartamento|Residencial|   0|       Irajá|  Zona Norte|       170|   0|Venda|110000|\n",
            "|1fa1c1e5-e98c-433...|    4|      null|       55|        1|                  []|      2|     0|       Usado| Apartamento|Residencial|   1|      Cosmos|  Zona Oeste|      null|null|Venda|115000|\n",
            "|a6ab01ae-3d40-40e...|    2|      null|       55|        1|                  []|      2|     0|       Usado| Apartamento|Residencial|   0|Tomás Coelho|  Zona Norte|      null|null|Venda|115000|\n",
            "|1d8ff7a2-16bd-4e3...|    0|      null|       50|        1|                  []|      1|  null|       Usado| Apartamento|Residencial|   0|      Centro|Zona Central|      1300|2679|Venda|125000|\n",
            "+--------------------+-----+----------+---------+---------+--------------------+-------+------+------------+------------+-----------+----+------------+------------+----------+----+-----+------+\n",
            "only showing top 5 rows\n",
            "\n"
          ]
        }
      ],
      "source": [
        "dataset.show(5)"
      ]
    },
    {
      "cell_type": "code",
      "source": [
        "dataset.count()"
      ],
      "metadata": {
        "colab": {
          "base_uri": "https://localhost:8080/"
        },
        "id": "7mGooZGjp-EX",
        "outputId": "c62304b5-6edf-4c59-d7f0-9f0eecd09aa7"
      },
      "execution_count": 8,
      "outputs": [
        {
          "output_type": "execute_result",
          "data": {
            "text/plain": [
              "66562"
            ]
          },
          "metadata": {},
          "execution_count": 8
        }
      ]
    },
    {
      "cell_type": "markdown",
      "metadata": {
        "id": "nxD55-VbOlrO"
      },
      "source": [
        "### Seleção de Features\n",
        "\n",
        "Selecionando as variáveis que serão utilizadas no modelo. Importante para redução da complexidade."
      ]
    },
    {
      "cell_type": "markdown",
      "source": [
        "As colunas `tipo_anuncio`, `tipo_unidade`, `tipo_uso` e `tipo` foram filtradas na semana 1 e devem conter apenas um valor. Confirmando isso:"
      ],
      "metadata": {
        "id": "5yX3fQmrqtdv"
      }
    },
    {
      "cell_type": "code",
      "execution_count": 9,
      "metadata": {
        "colab": {
          "base_uri": "https://localhost:8080/"
        },
        "id": "aCCRdbSAOYvI",
        "outputId": "d4a3a66d-d9ea-4df3-83d5-69d59ce883e3"
      },
      "outputs": [
        {
          "output_type": "stream",
          "name": "stdout",
          "text": [
            "+------------+-----+\n",
            "|tipo_anuncio|count|\n",
            "+------------+-----+\n",
            "|       Usado|66562|\n",
            "+------------+-----+\n",
            "\n"
          ]
        }
      ],
      "source": [
        "dataset\\\n",
        "  .select('tipo_anuncio')\\\n",
        "  .groupBy('tipo_anuncio')\\\n",
        "  .count()\\\n",
        "  .show()"
      ]
    },
    {
      "cell_type": "code",
      "execution_count": 10,
      "metadata": {
        "colab": {
          "base_uri": "https://localhost:8080/"
        },
        "id": "tv9FNyk4hA2p",
        "outputId": "39a3570f-fe21-41e8-ff7b-fba8144a0eb3"
      },
      "outputs": [
        {
          "output_type": "stream",
          "name": "stdout",
          "text": [
            "+------------+-----+\n",
            "|tipo_unidade|count|\n",
            "+------------+-----+\n",
            "| Apartamento|66562|\n",
            "+------------+-----+\n",
            "\n"
          ]
        }
      ],
      "source": [
        "dataset\\\n",
        "  .select('tipo_unidade')\\\n",
        "  .groupBy('tipo_unidade')\\\n",
        "  .count()\\\n",
        "  .show()"
      ]
    },
    {
      "cell_type": "code",
      "execution_count": 11,
      "metadata": {
        "colab": {
          "base_uri": "https://localhost:8080/"
        },
        "id": "75Wzki0DhAhy",
        "outputId": "50232b7c-d6eb-460b-cfd3-80e5c608963f"
      },
      "outputs": [
        {
          "output_type": "stream",
          "name": "stdout",
          "text": [
            "+-----------+-----+\n",
            "|   tipo_uso|count|\n",
            "+-----------+-----+\n",
            "|Residencial|66562|\n",
            "+-----------+-----+\n",
            "\n"
          ]
        }
      ],
      "source": [
        "dataset\\\n",
        "  .select('tipo_uso')\\\n",
        "  .groupBy('tipo_uso')\\\n",
        "  .count()\\\n",
        "  .show()"
      ]
    },
    {
      "cell_type": "code",
      "execution_count": 12,
      "metadata": {
        "colab": {
          "base_uri": "https://localhost:8080/"
        },
        "id": "yiCkR6ivhAfu",
        "outputId": "31b9678e-6d52-4a12-989a-e7eb709eeb6e"
      },
      "outputs": [
        {
          "output_type": "stream",
          "name": "stdout",
          "text": [
            "+-----+-----+\n",
            "| tipo|count|\n",
            "+-----+-----+\n",
            "|Venda|66562|\n",
            "+-----+-----+\n",
            "\n"
          ]
        }
      ],
      "source": [
        "dataset\\\n",
        "  .select('tipo')\\\n",
        "  .groupBy('tipo')\\\n",
        "  .count()\\\n",
        "  .show()"
      ]
    },
    {
      "cell_type": "markdown",
      "source": [
        "As variáveis `area_total` e `area_util` parecem ter muitos valores iguais."
      ],
      "metadata": {
        "id": "-m_39y1tq8Tn"
      }
    },
    {
      "cell_type": "code",
      "execution_count": 13,
      "metadata": {
        "id": "eMgco2zDkMIW"
      },
      "outputs": [],
      "source": [
        "from pyspark.sql import functions as f"
      ]
    },
    {
      "cell_type": "markdown",
      "source": [
        "Analisando quantos registros dos 66562 são iguais nas duas colunas."
      ],
      "metadata": {
        "id": "RoN-7STsrXdC"
      }
    },
    {
      "cell_type": "code",
      "execution_count": 14,
      "metadata": {
        "colab": {
          "base_uri": "https://localhost:8080/"
        },
        "id": "g6q8kYD-kXfC",
        "outputId": "f91bef17-46c5-49f6-ec06-feb288be115c"
      },
      "outputs": [
        {
          "output_type": "stream",
          "name": "stdout",
          "text": [
            "+-----------+\n",
            "|mesmo_valor|\n",
            "+-----------+\n",
            "|      55384|\n",
            "+-----------+\n",
            "\n"
          ]
        }
      ],
      "source": [
        "dataset\\\n",
        "  .select(f.count(f.when(dataset.area_total == dataset.area_util, True)).alias('mesmo_valor') )\\\n",
        "  .show()"
      ]
    },
    {
      "cell_type": "code",
      "source": [
        "55384/66562"
      ],
      "metadata": {
        "colab": {
          "base_uri": "https://localhost:8080/"
        },
        "id": "myf4FBfCzZGM",
        "outputId": "a11777b9-f2b7-40ce-dc3c-084dfbb1934e"
      },
      "execution_count": 15,
      "outputs": [
        {
          "output_type": "execute_result",
          "data": {
            "text/plain": [
              "0.8320663441603318"
            ]
          },
          "metadata": {},
          "execution_count": 15
        }
      ]
    },
    {
      "cell_type": "markdown",
      "source": [
        "55384 dos 66562 registros são iguais nas duas colunas (mais de 83%).\n",
        "\n",
        "Verificando quantos dados faltantes cada coluna possui."
      ],
      "metadata": {
        "id": "SOHDv1_qy4Xq"
      }
    },
    {
      "cell_type": "code",
      "execution_count": 16,
      "metadata": {
        "colab": {
          "base_uri": "https://localhost:8080/"
        },
        "id": "BJt7uaYXj6Cg",
        "outputId": "c85da2e3-4e18-4dee-c82f-6c9d029c8e07"
      },
      "outputs": [
        {
          "output_type": "stream",
          "name": "stdout",
          "text": [
            "+----------+\n",
            "|area_total|\n",
            "+----------+\n",
            "|      9194|\n",
            "+----------+\n",
            "\n"
          ]
        }
      ],
      "source": [
        "dataset\\\n",
        "  .select(f.count(f.when(f.isnan('area_total') | f.isnull('area_total'), True)).alias('area_total') )\\\n",
        "  .show()"
      ]
    },
    {
      "cell_type": "code",
      "execution_count": 17,
      "metadata": {
        "colab": {
          "base_uri": "https://localhost:8080/"
        },
        "id": "3Qd7xvNYjly0",
        "outputId": "f21bedb7-386a-4a80-9fbc-8ab25261356c"
      },
      "outputs": [
        {
          "output_type": "stream",
          "name": "stdout",
          "text": [
            "+---------+\n",
            "|area_util|\n",
            "+---------+\n",
            "|        0|\n",
            "+---------+\n",
            "\n"
          ]
        }
      ],
      "source": [
        "dataset\\\n",
        "  .select(f.count(f.when(f.isnan('area_util') | f.isnull('area_util'), True)).alias('area_util') )\\\n",
        "  .show()"
      ]
    },
    {
      "cell_type": "markdown",
      "source": [
        "A coluna `area_total` tem mais de 9 mil dados faltantes, enquanto a coluna `area_util` não tem nenhum."
      ],
      "metadata": {
        "id": "W46Fo7z0ztXl"
      }
    },
    {
      "cell_type": "code",
      "source": [
        "print(f'Apenas {66562 - 55384 - 9194} registros são diferentes entre as duas colunas.') # total registros - registros iguais - registros nulos"
      ],
      "metadata": {
        "colab": {
          "base_uri": "https://localhost:8080/"
        },
        "id": "7Z1MG0edz-fG",
        "outputId": "6757c11b-9e8f-432d-e877-33488427e288"
      },
      "execution_count": 18,
      "outputs": [
        {
          "output_type": "stream",
          "name": "stdout",
          "text": [
            "Apenas 1984 registros são diferentes entre as duas colunas.\n"
          ]
        }
      ]
    },
    {
      "cell_type": "markdown",
      "source": [
        "Analisando a quantidade de valores distintos na coluna `bairro` e a quantidade de registros para cada um dos valores"
      ],
      "metadata": {
        "id": "2q2YXjbK0uR-"
      }
    },
    {
      "cell_type": "code",
      "execution_count": 19,
      "metadata": {
        "colab": {
          "base_uri": "https://localhost:8080/"
        },
        "id": "dSv1lZ-Sm1WT",
        "outputId": "1a8a7448-5daf-4a00-fa4f-d7c4914948f8"
      },
      "outputs": [
        {
          "output_type": "execute_result",
          "data": {
            "text/plain": [
              "154"
            ]
          },
          "metadata": {},
          "execution_count": 19
        }
      ],
      "source": [
        "dataset\\\n",
        "    .select('bairro')\\\n",
        "    .distinct()\\\n",
        "    .count()"
      ]
    },
    {
      "cell_type": "code",
      "execution_count": 20,
      "metadata": {
        "colab": {
          "base_uri": "https://localhost:8080/"
        },
        "id": "YDM0pi3Mjlw3",
        "outputId": "8273be1a-a3b0-4e2d-8b07-5cdbbc9cd5e6"
      },
      "outputs": [
        {
          "output_type": "stream",
          "name": "stdout",
          "text": [
            "+--------------------+-----+\n",
            "|              bairro|count|\n",
            "+--------------------+-----+\n",
            "|     Barra da Tijuca|12788|\n",
            "|Recreio dos Bande...| 7793|\n",
            "|          Copacabana| 6784|\n",
            "|         Jacarepaguá| 4437|\n",
            "|              Tijuca| 3638|\n",
            "+--------------------+-----+\n",
            "only showing top 5 rows\n",
            "\n"
          ]
        }
      ],
      "source": [
        "# Top 5 com mais registros\n",
        "dataset\\\n",
        "  .select('bairro')\\\n",
        "  .groupBy('bairro')\\\n",
        "  .count()\\\n",
        "  .orderBy('count', ascending=False)\\\n",
        "  .show(5)"
      ]
    },
    {
      "cell_type": "code",
      "source": [
        "# Top 5 com menos registros\n",
        "dataset\\\n",
        "  .select('bairro')\\\n",
        "  .groupBy('bairro')\\\n",
        "  .count()\\\n",
        "  .orderBy('count')\\\n",
        "  .show(10)"
      ],
      "metadata": {
        "colab": {
          "base_uri": "https://localhost:8080/"
        },
        "id": "613oNDKY1hvC",
        "outputId": "43656628-bf95-458a-dbd0-7f32d5f17bb8"
      },
      "execution_count": 21,
      "outputs": [
        {
          "output_type": "stream",
          "name": "stdout",
          "text": [
            "+----------------+-----+\n",
            "|          bairro|count|\n",
            "+----------------+-----+\n",
            "|            Caju|    1|\n",
            "|   Vasco da Gama|    1|\n",
            "|         Deodoro|    1|\n",
            "|Engenho do Porto|    1|\n",
            "|    Barros Filho|    1|\n",
            "|Parque da Matriz|    1|\n",
            "|      Grande Rio|    1|\n",
            "|      Manguinhos|    1|\n",
            "|          Galeão|    1|\n",
            "| Parque Anchieta|    2|\n",
            "+----------------+-----+\n",
            "only showing top 10 rows\n",
            "\n"
          ]
        }
      ]
    },
    {
      "cell_type": "markdown",
      "metadata": {
        "id": "z7ZjrimMgBs0"
      },
      "source": [
        "#### Conclusões\n",
        "\n",
        "Colunas que serão removidas:\n",
        "\n",
        "`id` -> código de identificação do anúncio.\n",
        "\n",
        "`tipo_anuncio`, `tipo_unidade`, `tipo_uso`, `tipo` -> colunas que foram filtradas anteriormente e possuem apenas um registro distinto cada.\n",
        "\n",
        "`area_total` -> as colunas `area_total` e `area_util` quase sempre tem o mesmo valor, porém a coluna `area_total` tem diversos valores faltantes e a coluna `area_util` não tem nenhum.\n",
        "\n",
        "`bairro`-> a coluna possui uma quantidade muito grande de valores distintos, muitos deles com poucos registros."
      ]
    },
    {
      "cell_type": "code",
      "execution_count": 22,
      "metadata": {
        "id": "zujNZ4rHPICr"
      },
      "outputs": [],
      "source": [
        "dataset = dataset.drop('id','tipo_anuncio','tipo_unidade','tipo_uso','tipo','area_total', 'bairro')"
      ]
    },
    {
      "cell_type": "markdown",
      "metadata": {
        "id": "IdrT0DIZh4vB"
      },
      "source": [
        "## Convertendo tipo das colunas"
      ]
    },
    {
      "cell_type": "code",
      "execution_count": 23,
      "metadata": {
        "colab": {
          "base_uri": "https://localhost:8080/"
        },
        "id": "g3_w8pTnfMVZ",
        "outputId": "8a7fbd78-c28a-4863-b21d-c4b432f1cd0e"
      },
      "outputs": [
        {
          "output_type": "stream",
          "name": "stdout",
          "text": [
            "root\n",
            " |-- andar: long (nullable = true)\n",
            " |-- area_util: string (nullable = true)\n",
            " |-- banheiros: long (nullable = true)\n",
            " |-- caracteristicas: array (nullable = true)\n",
            " |    |-- element: string (containsNull = true)\n",
            " |-- quartos: long (nullable = true)\n",
            " |-- suites: long (nullable = true)\n",
            " |-- vaga: long (nullable = true)\n",
            " |-- zona: string (nullable = true)\n",
            " |-- condominio: string (nullable = true)\n",
            " |-- iptu: string (nullable = true)\n",
            " |-- valor: string (nullable = true)\n",
            "\n"
          ]
        }
      ],
      "source": [
        "dataset.printSchema()"
      ]
    },
    {
      "cell_type": "markdown",
      "source": [
        "As colunas `andar`,`banheiros`,`quartos`, `suites` e `vaga` são do tipo `Long` e podem ser convertidadas para tipo `Integer`.\n",
        "\n",
        "Já as colunas `area_util`,`condominio`,`iptu` e `valor` são do tipo `String` e devem ser convertidadas para tipo `Double`."
      ],
      "metadata": {
        "id": "_RiHa4r63Rrt"
      }
    },
    {
      "cell_type": "code",
      "execution_count": 24,
      "metadata": {
        "id": "H3zlThpqh9np"
      },
      "outputs": [],
      "source": [
        "from pyspark.sql.types import IntegerType,DoubleType"
      ]
    },
    {
      "cell_type": "code",
      "execution_count": 25,
      "metadata": {
        "id": "cNx0y6ZGiH4C"
      },
      "outputs": [],
      "source": [
        "dataset = dataset\\\n",
        "              .withColumn('andar', dataset.andar.cast(IntegerType()))\\\n",
        "              .withColumn('banheiros', dataset.banheiros.cast(IntegerType()))\\\n",
        "              .withColumn('quartos', dataset.quartos.cast(IntegerType()))\\\n",
        "              .withColumn('suites', dataset.suites.cast(IntegerType()))\\\n",
        "              .withColumn('vaga', dataset.vaga.cast(IntegerType()))\\\n",
        "              .withColumn('area_util', dataset.area_util.cast(DoubleType()))\\\n",
        "              .withColumn('condominio', dataset.condominio.cast(DoubleType()))\\\n",
        "              .withColumn('iptu', dataset.iptu.cast(DoubleType()))\\\n",
        "              .withColumn('valor', dataset.valor.cast(DoubleType()))"
      ]
    },
    {
      "cell_type": "code",
      "execution_count": 26,
      "metadata": {
        "colab": {
          "base_uri": "https://localhost:8080/"
        },
        "id": "38E3RyPvivrC",
        "outputId": "de2ee7fa-0800-4559-b37f-40530fcac548"
      },
      "outputs": [
        {
          "output_type": "stream",
          "name": "stdout",
          "text": [
            "root\n",
            " |-- andar: integer (nullable = true)\n",
            " |-- area_util: double (nullable = true)\n",
            " |-- banheiros: integer (nullable = true)\n",
            " |-- caracteristicas: array (nullable = true)\n",
            " |    |-- element: string (containsNull = true)\n",
            " |-- quartos: integer (nullable = true)\n",
            " |-- suites: integer (nullable = true)\n",
            " |-- vaga: integer (nullable = true)\n",
            " |-- zona: string (nullable = true)\n",
            " |-- condominio: double (nullable = true)\n",
            " |-- iptu: double (nullable = true)\n",
            " |-- valor: double (nullable = true)\n",
            "\n"
          ]
        }
      ],
      "source": [
        "dataset.printSchema()"
      ]
    },
    {
      "cell_type": "markdown",
      "metadata": {
        "id": "bUZ28_PCjXru"
      },
      "source": [
        "### Arrumando a coluna `caracteristicas`\n",
        "\n",
        "Essa coluna é composta por `arrays` de `Strings` que da forma como estão apresentadas não vão poder ser utilizadas no modelo.\n",
        "\n",
        "Primeiro passo: substituir os `arrays` sem elementos por valores nulos. "
      ]
    },
    {
      "cell_type": "code",
      "execution_count": 27,
      "metadata": {
        "id": "fvqBIGGWixSp"
      },
      "outputs": [],
      "source": [
        "from pyspark.sql import functions as f"
      ]
    },
    {
      "cell_type": "code",
      "execution_count": 28,
      "metadata": {
        "id": "uazo7-eFuG5J"
      },
      "outputs": [],
      "source": [
        "dataset = dataset.withColumn('caracteristicas',\n",
        "                   f.when((f.size(f.col('caracteristicas')) == 0), f.lit(None)).otherwise(f.col(\"caracteristicas\")))"
      ]
    },
    {
      "cell_type": "code",
      "execution_count": 29,
      "metadata": {
        "colab": {
          "base_uri": "https://localhost:8080/"
        },
        "id": "0FAQFPGwuDAJ",
        "outputId": "3800a4e9-fc4e-4c9d-e04c-282bdaeb2386"
      },
      "outputs": [
        {
          "output_type": "stream",
          "name": "stdout",
          "text": [
            "+--------------------+\n",
            "|     caracteristicas|\n",
            "+--------------------+\n",
            "|[Churrasqueira, A...|\n",
            "|                null|\n",
            "|                null|\n",
            "|                null|\n",
            "|                null|\n",
            "+--------------------+\n",
            "only showing top 5 rows\n",
            "\n"
          ]
        }
      ],
      "source": [
        "dataset.select('caracteristicas').show(5)"
      ]
    },
    {
      "cell_type": "markdown",
      "source": [
        "Analisando quantos valores distintos existem dentro dos `arrays` dessa coluna."
      ],
      "metadata": {
        "id": "HSgB0ACy6PN0"
      }
    },
    {
      "cell_type": "code",
      "execution_count": 30,
      "metadata": {
        "colab": {
          "base_uri": "https://localhost:8080/"
        },
        "id": "IWXsTyWujC62",
        "outputId": "1aaf46c1-c277-404f-b946-9603de5e3833"
      },
      "outputs": [
        {
          "output_type": "stream",
          "name": "stdout",
          "text": [
            "+------------------+\n",
            "|   caracteristicas|\n",
            "+------------------+\n",
            "|Condomínio fechado|\n",
            "|        Playground|\n",
            "| Portão eletrônico|\n",
            "|           Piscina|\n",
            "|Animais permitidos|\n",
            "|      Portaria 24h|\n",
            "|          Elevador|\n",
            "|          Academia|\n",
            "|   Salão de festas|\n",
            "|     Churrasqueira|\n",
            "+------------------+\n",
            "\n"
          ]
        }
      ],
      "source": [
        "caracteristicas = dataset.select(f.explode('caracteristicas').alias('caracteristicas')).distinct()\n",
        "caracteristicas.show()"
      ]
    },
    {
      "cell_type": "markdown",
      "source": [
        "Iterando por cada uma dessas caracteristicas para criar uma nova coluna para cada com valores `booleanos`. "
      ],
      "metadata": {
        "id": "XRwW5YXr6agO"
      }
    },
    {
      "cell_type": "code",
      "execution_count": 31,
      "metadata": {
        "colab": {
          "base_uri": "https://localhost:8080/"
        },
        "id": "AEE8S5EJnYhk",
        "outputId": "5acd793b-95c3-4013-c74e-8ca7c09277e2"
      },
      "outputs": [
        {
          "output_type": "execute_result",
          "data": {
            "text/plain": [
              "['Condomínio fechado',\n",
              " 'Playground',\n",
              " 'Portão eletrônico',\n",
              " 'Piscina',\n",
              " 'Animais permitidos',\n",
              " 'Portaria 24h',\n",
              " 'Elevador',\n",
              " 'Academia',\n",
              " 'Salão de festas',\n",
              " 'Churrasqueira']"
            ]
          },
          "metadata": {},
          "execution_count": 31
        }
      ],
      "source": [
        "lista_caracteristicas = list(caracteristicas.toPandas()['caracteristicas'])\n",
        "lista_caracteristicas"
      ]
    },
    {
      "cell_type": "code",
      "execution_count": 32,
      "metadata": {
        "id": "uoFrPwlFj3-J"
      },
      "outputs": [],
      "source": [
        "for caract in lista_caracteristicas:\n",
        "  dataset = dataset.withColumn(caract, f.when(f.array_contains(dataset['caracteristicas'],caract),f.lit(1)).otherwise(f.lit(0)))"
      ]
    },
    {
      "cell_type": "code",
      "execution_count": 33,
      "metadata": {
        "colab": {
          "base_uri": "https://localhost:8080/"
        },
        "id": "ZNbqeHkPltla",
        "outputId": "982913a9-e3d5-4bfd-fa9b-1eef7e87d034"
      },
      "outputs": [
        {
          "output_type": "stream",
          "name": "stdout",
          "text": [
            "+------------------+----------+-----------------+-------+------------------+------------+--------+--------+---------------+-------------+\n",
            "|Condomínio fechado|Playground|Portão eletrônico|Piscina|Animais permitidos|Portaria 24h|Elevador|Academia|Salão de festas|Churrasqueira|\n",
            "+------------------+----------+-----------------+-------+------------------+------------+--------+--------+---------------+-------------+\n",
            "|                 1|         1|                1|      0|                 1|           1|       0|       1|              1|            1|\n",
            "|                 0|         0|                0|      0|                 0|           0|       0|       0|              0|            0|\n",
            "|                 0|         0|                0|      0|                 0|           0|       0|       0|              0|            0|\n",
            "|                 0|         0|                0|      0|                 0|           0|       0|       0|              0|            0|\n",
            "|                 0|         0|                0|      0|                 0|           0|       0|       0|              0|            0|\n",
            "+------------------+----------+-----------------+-------+------------------+------------+--------+--------+---------------+-------------+\n",
            "only showing top 5 rows\n",
            "\n"
          ]
        }
      ],
      "source": [
        "dataset.select(lista_caracteristicas).show(5)"
      ]
    },
    {
      "cell_type": "code",
      "execution_count": 34,
      "metadata": {
        "id": "LAXgH0hrocIw"
      },
      "outputs": [],
      "source": [
        "dataset = dataset.drop('caracteristicas')"
      ]
    },
    {
      "cell_type": "markdown",
      "metadata": {
        "id": "-hJYK1tln2i6"
      },
      "source": [
        "## Lidando com os valores faltantes"
      ]
    },
    {
      "cell_type": "code",
      "execution_count": 35,
      "metadata": {
        "colab": {
          "base_uri": "https://localhost:8080/"
        },
        "id": "QRIgqpFpnoYq",
        "outputId": "7b01f6d2-02d4-47ee-f5d2-c2c040abfb99"
      },
      "outputs": [
        {
          "output_type": "stream",
          "name": "stdout",
          "text": [
            "-RECORD 0------------------\n",
            " andar              | 0    \n",
            " area_util          | 0    \n",
            " banheiros          | 0    \n",
            " quartos            | 0    \n",
            " suites             | 5554 \n",
            " vaga               | 3017 \n",
            " zona               | 0    \n",
            " condominio         | 2371 \n",
            " iptu               | 7199 \n",
            " valor              | 0    \n",
            " Condomínio fechado | 0    \n",
            " Playground         | 0    \n",
            " Portão eletrônico  | 0    \n",
            " Piscina            | 0    \n",
            " Animais permitidos | 0    \n",
            " Portaria 24h       | 0    \n",
            " Elevador           | 0    \n",
            " Academia           | 0    \n",
            " Salão de festas    | 0    \n",
            " Churrasqueira      | 0    \n",
            "\n"
          ]
        }
      ],
      "source": [
        "dataset\\\n",
        "  .select([f.count(f.when(f.isnan(c) | f.isnull(c), True)).alias(c) for c in dataset.columns])\\\n",
        "  .show(vertical=True)"
      ]
    },
    {
      "cell_type": "markdown",
      "source": [
        "As colunas `suites`,`vaga`,`condominio` e `iptu` possuem valores faltantes. \n",
        "\n",
        "Preenchendo com zero:"
      ],
      "metadata": {
        "id": "xc_TRYgz7HyV"
      }
    },
    {
      "cell_type": "code",
      "execution_count": 36,
      "metadata": {
        "id": "-vM4_OyDpAGO"
      },
      "outputs": [],
      "source": [
        "dataset = dataset\\\n",
        "    .select('*')\\\n",
        "    .na\\\n",
        "    .fill(0)"
      ]
    },
    {
      "cell_type": "markdown",
      "metadata": {
        "id": "yIm0bNmOr9Ix"
      },
      "source": [
        "### Arrumando a coluna `zona`\n",
        "\n"
      ]
    },
    {
      "cell_type": "code",
      "execution_count": 37,
      "metadata": {
        "colab": {
          "base_uri": "https://localhost:8080/"
        },
        "id": "qNiDaAFurtGI",
        "outputId": "326761e9-7025-4ee1-93eb-c6a119845a8f"
      },
      "outputs": [
        {
          "output_type": "stream",
          "name": "stdout",
          "text": [
            "+------------+-----+\n",
            "|        zona|count|\n",
            "+------------+-----+\n",
            "|  Zona Norte|11897|\n",
            "|  Zona Oeste|32979|\n",
            "|Zona Central| 1144|\n",
            "|    Zona Sul|20531|\n",
            "|            |   11|\n",
            "+------------+-----+\n",
            "\n"
          ]
        }
      ],
      "source": [
        "dataset\\\n",
        "  .select('zona')\\\n",
        "  .groupBy('zona')\\\n",
        "  .count()\\\n",
        "  .show()"
      ]
    },
    {
      "cell_type": "markdown",
      "source": [
        "A coluna `zona` possui valores vazios. Vamos remover eles."
      ],
      "metadata": {
        "id": "S1r1VjMr8EFM"
      }
    },
    {
      "cell_type": "code",
      "execution_count": 38,
      "metadata": {
        "id": "WVzzjAG2sG64"
      },
      "outputs": [],
      "source": [
        "dataset = dataset\\\n",
        "              .where(f.col('zona')!='')"
      ]
    },
    {
      "cell_type": "code",
      "execution_count": 39,
      "metadata": {
        "colab": {
          "base_uri": "https://localhost:8080/"
        },
        "id": "IHLfxckSseGY",
        "outputId": "75e1d609-9522-4998-e85d-3a8c80b0ea07"
      },
      "outputs": [
        {
          "output_type": "stream",
          "name": "stdout",
          "text": [
            "+------------+-----+\n",
            "|        zona|count|\n",
            "+------------+-----+\n",
            "|  Zona Norte|11897|\n",
            "|  Zona Oeste|32979|\n",
            "|Zona Central| 1144|\n",
            "|    Zona Sul|20531|\n",
            "+------------+-----+\n",
            "\n"
          ]
        }
      ],
      "source": [
        "dataset\\\n",
        "  .select('zona')\\\n",
        "  .groupBy('zona')\\\n",
        "  .count()\\\n",
        "  .show()"
      ]
    },
    {
      "cell_type": "markdown",
      "source": [
        "A coluna `zona` é uma variável categorica do tipo `String`.\n",
        "\n",
        "Vamos criar variáveis dummy para cada uma das categorias.\n",
        "\n",
        "Primeiro precisamos criar uma coluna de index:"
      ],
      "metadata": {
        "id": "GrpDyAnr8Bhm"
      }
    },
    {
      "cell_type": "code",
      "execution_count": 40,
      "metadata": {
        "id": "0LegxL-ZyaQS"
      },
      "outputs": [],
      "source": [
        "dataset = dataset.select(\"*\").withColumn(\"id\", f.monotonically_increasing_id())"
      ]
    },
    {
      "cell_type": "markdown",
      "source": [
        "Em seguida usamos ela (`id`) para realizar o processo das variáveis dummy."
      ],
      "metadata": {
        "id": "W2BKv8Lu8fgp"
      }
    },
    {
      "cell_type": "code",
      "execution_count": 41,
      "metadata": {
        "colab": {
          "base_uri": "https://localhost:8080/"
        },
        "id": "j8rMVnmQsf5h",
        "outputId": "19c60ea7-d900-4864-e092-5d3b8139e246"
      },
      "outputs": [
        {
          "output_type": "stream",
          "name": "stdout",
          "text": [
            "+-----+------------+----------+----------+--------+\n",
            "|   id|Zona Central|Zona Norte|Zona Oeste|Zona Sul|\n",
            "+-----+------------+----------+----------+--------+\n",
            "|40395|           0|         0|         1|       0|\n",
            "|53509|           0|         0|         1|       0|\n",
            "| 8075|           0|         1|         0|       0|\n",
            "|18628|           0|         0|         1|       0|\n",
            "|29089|           0|         0|         0|       1|\n",
            "| 2927|           0|         0|         0|       1|\n",
            "| 7747|           0|         1|         0|       0|\n",
            "|39598|           0|         1|         0|       0|\n",
            "|64317|           0|         1|         0|       0|\n",
            "|15371|           0|         0|         1|       0|\n",
            "|42969|           0|         0|         1|       0|\n",
            "|15375|           0|         1|         0|       0|\n",
            "|19907|           0|         0|         0|       1|\n",
            "|54039|           0|         0|         1|       0|\n",
            "|37261|           0|         0|         1|       0|\n",
            "| 9233|           0|         0|         1|       0|\n",
            "|45166|           0|         1|         0|       0|\n",
            "| 1677|           0|         0|         1|       0|\n",
            "|13401|           0|         0|         1|       0|\n",
            "|27563|           0|         0|         0|       1|\n",
            "+-----+------------+----------+----------+--------+\n",
            "only showing top 20 rows\n",
            "\n"
          ]
        }
      ],
      "source": [
        "zona = dataset\\\n",
        "          .groupBy('id')\\\n",
        "          .pivot('zona')\\\n",
        "          .agg(f.lit(1))\\\n",
        "          .na\\\n",
        "          .fill(0)\n",
        "zona.show()"
      ]
    },
    {
      "cell_type": "markdown",
      "source": [
        "Por fim, juntamos essas novas variáveis ao dataset original e removemos as colunas `zona` e `id`"
      ],
      "metadata": {
        "id": "LRiyyGyi8u7T"
      }
    },
    {
      "cell_type": "code",
      "execution_count": 42,
      "metadata": {
        "id": "y8KvjtMoylXT"
      },
      "outputs": [],
      "source": [
        "dataset = dataset\\\n",
        "              .join(zona,'id', how='inner')"
      ]
    },
    {
      "cell_type": "code",
      "execution_count": 43,
      "metadata": {
        "colab": {
          "base_uri": "https://localhost:8080/"
        },
        "id": "wYvCUs99zMKJ",
        "outputId": "8cab4296-587f-4ba7-99f4-4d3755008e90"
      },
      "outputs": [
        {
          "output_type": "stream",
          "name": "stdout",
          "text": [
            "+---+-----+---------+---------+-------+------+----+------------+----------+------+--------+------------------+----------+-----------------+-------+------------------+------------+--------+--------+---------------+-------------+------------+----------+----------+--------+\n",
            "| id|andar|area_util|banheiros|quartos|suites|vaga|        zona|condominio|  iptu|   valor|Condomínio fechado|Playground|Portão eletrônico|Piscina|Animais permitidos|Portaria 24h|Elevador|Academia|Salão de festas|Churrasqueira|Zona Central|Zona Norte|Zona Oeste|Zona Sul|\n",
            "+---+-----+---------+---------+-------+------+----+------------+----------+------+--------+------------------+----------+-----------------+-------+------------------+------------+--------+--------+---------------+-------------+------------+----------+----------+--------+\n",
            "|  0|    0|     43.0|        1|      2|     0|   1|  Zona Oeste|     285.0|   0.0| 22999.0|                 1|         1|                1|      0|                 1|           1|       0|       1|              1|            1|           0|         0|         1|       0|\n",
            "|  1|    0|     44.0|        1|      2|     0|   0|  Zona Norte|     170.0|   0.0|110000.0|                 0|         0|                0|      0|                 0|           0|       0|       0|              0|            0|           0|         1|         0|       0|\n",
            "|  2|    4|     55.0|        1|      2|     0|   1|  Zona Oeste|       0.0|   0.0|115000.0|                 0|         0|                0|      0|                 0|           0|       0|       0|              0|            0|           0|         0|         1|       0|\n",
            "|  3|    2|     55.0|        1|      2|     0|   0|  Zona Norte|       0.0|   0.0|115000.0|                 0|         0|                0|      0|                 0|           0|       0|       0|              0|            0|           0|         1|         0|       0|\n",
            "|  4|    0|     50.0|        1|      1|     0|   0|Zona Central|    1300.0|2679.0|125000.0|                 0|         0|                0|      0|                 0|           0|       0|       0|              0|            0|           1|         0|         0|       0|\n",
            "+---+-----+---------+---------+-------+------+----+------------+----------+------+--------+------------------+----------+-----------------+-------+------------------+------------+--------+--------+---------------+-------------+------------+----------+----------+--------+\n",
            "only showing top 5 rows\n",
            "\n"
          ]
        }
      ],
      "source": [
        "dataset.show(5)"
      ]
    },
    {
      "cell_type": "code",
      "execution_count": 44,
      "metadata": {
        "id": "mR1R3p1CzN-R"
      },
      "outputs": [],
      "source": [
        "dataset = dataset.drop('id','zona')"
      ]
    },
    {
      "cell_type": "markdown",
      "source": [
        "Verificando se todas as colunas são do tipo numérico."
      ],
      "metadata": {
        "id": "8qGjxzF39Ap8"
      }
    },
    {
      "cell_type": "code",
      "execution_count": 45,
      "metadata": {
        "colab": {
          "base_uri": "https://localhost:8080/"
        },
        "id": "vgAcZy4IzW7I",
        "outputId": "7d7f49dc-4d96-43d9-ff8f-d52c2bf10343"
      },
      "outputs": [
        {
          "output_type": "stream",
          "name": "stdout",
          "text": [
            "root\n",
            " |-- andar: integer (nullable = true)\n",
            " |-- area_util: double (nullable = false)\n",
            " |-- banheiros: integer (nullable = true)\n",
            " |-- quartos: integer (nullable = true)\n",
            " |-- suites: integer (nullable = true)\n",
            " |-- vaga: integer (nullable = true)\n",
            " |-- condominio: double (nullable = false)\n",
            " |-- iptu: double (nullable = false)\n",
            " |-- valor: double (nullable = false)\n",
            " |-- Condomínio fechado: integer (nullable = false)\n",
            " |-- Playground: integer (nullable = false)\n",
            " |-- Portão eletrônico: integer (nullable = false)\n",
            " |-- Piscina: integer (nullable = false)\n",
            " |-- Animais permitidos: integer (nullable = false)\n",
            " |-- Portaria 24h: integer (nullable = false)\n",
            " |-- Elevador: integer (nullable = false)\n",
            " |-- Academia: integer (nullable = false)\n",
            " |-- Salão de festas: integer (nullable = false)\n",
            " |-- Churrasqueira: integer (nullable = false)\n",
            " |-- Zona Central: integer (nullable = true)\n",
            " |-- Zona Norte: integer (nullable = true)\n",
            " |-- Zona Oeste: integer (nullable = true)\n",
            " |-- Zona Sul: integer (nullable = true)\n",
            "\n"
          ]
        }
      ],
      "source": [
        "dataset.printSchema()"
      ]
    },
    {
      "cell_type": "markdown",
      "metadata": {
        "id": "jHTJG4kZ0F6Q"
      },
      "source": [
        "### Salvando dataset em parquet"
      ]
    },
    {
      "cell_type": "markdown",
      "source": [
        "Renomeando colunas com acentos e espaços"
      ],
      "metadata": {
        "id": "ryWnLTE7WsEG"
      }
    },
    {
      "cell_type": "code",
      "source": [
        "dataset.columns"
      ],
      "metadata": {
        "colab": {
          "base_uri": "https://localhost:8080/"
        },
        "id": "B-6gSWolZr3G",
        "outputId": "ce9e8f93-c6ab-43a4-f3aa-ffc26da2f7f7"
      },
      "execution_count": 57,
      "outputs": [
        {
          "output_type": "execute_result",
          "data": {
            "text/plain": [
              "['andar',\n",
              " 'area_util',\n",
              " 'banheiros',\n",
              " 'quartos',\n",
              " 'suites',\n",
              " 'vaga',\n",
              " 'condominio',\n",
              " 'iptu',\n",
              " 'valor',\n",
              " 'condominio_fechado',\n",
              " 'Playground',\n",
              " 'Portao eletronico',\n",
              " 'Piscina',\n",
              " 'Animais permitidos',\n",
              " 'Portaria 24h',\n",
              " 'Elevador',\n",
              " 'Academia',\n",
              " 'Salao de festas',\n",
              " 'Churrasqueira',\n",
              " 'Zona Central',\n",
              " 'Zona Norte',\n",
              " 'Zona Oeste',\n",
              " 'Zona Sul']"
            ]
          },
          "metadata": {},
          "execution_count": 57
        }
      ]
    },
    {
      "cell_type": "code",
      "source": [
        "nomes_colunas = [\n",
        "      'andar',\n",
        "      'area_util',\n",
        "      'banheiros',\n",
        "      'quartos',\n",
        "      'suites',\n",
        "      'vaga',\n",
        "      'condominio',\n",
        "      'iptu',\n",
        "      'valor',\n",
        "      'condominio_fechado',\n",
        "      'playground',\n",
        "      'portao_eletronico',\n",
        "      'piscina',\n",
        "      'animais_permitidos',\n",
        "      'portaria_24h',\n",
        "      'elevador',\n",
        "      'academia',\n",
        "      'salao_festas',\n",
        "      'churrasqueira',\n",
        "      'zona_central',\n",
        "      'zona_norte',\n",
        "      'zona_oeste',\n",
        "      'zona_sul'\n",
        "      ]"
      ],
      "metadata": {
        "id": "KxE1_hu6Wrpr"
      },
      "execution_count": 59,
      "outputs": []
    },
    {
      "cell_type": "code",
      "source": [
        "novos_nomes = zip(dataset.columns,nomes_colunas)"
      ],
      "metadata": {
        "id": "Yiw5Scj3amhm"
      },
      "execution_count": 61,
      "outputs": []
    },
    {
      "cell_type": "code",
      "source": [
        "for antigo, novo in novos_nomes:\n",
        "  dataset = dataset.withColumnRenamed(antigo, novo)\n",
        "\n",
        "dataset.columns"
      ],
      "metadata": {
        "colab": {
          "base_uri": "https://localhost:8080/"
        },
        "id": "JqOLpd9oaYJd",
        "outputId": "ca4a3e7d-c973-4a52-a77d-3fb15be0f7ad"
      },
      "execution_count": 62,
      "outputs": [
        {
          "output_type": "execute_result",
          "data": {
            "text/plain": [
              "['andar',\n",
              " 'area_util',\n",
              " 'banheiros',\n",
              " 'quartos',\n",
              " 'suites',\n",
              " 'vaga',\n",
              " 'condominio',\n",
              " 'iptu',\n",
              " 'valor',\n",
              " 'condominio_fechado',\n",
              " 'playground',\n",
              " 'portao_eletronico',\n",
              " 'piscina',\n",
              " 'animais_permitidos',\n",
              " 'portaria_24h',\n",
              " 'elevador',\n",
              " 'academia',\n",
              " 'salao_festas',\n",
              " 'churrasqueira',\n",
              " 'zona_central',\n",
              " 'zona_norte',\n",
              " 'zona_oeste',\n",
              " 'zona_sul']"
            ]
          },
          "metadata": {},
          "execution_count": 62
        }
      ]
    },
    {
      "cell_type": "code",
      "execution_count": 63,
      "metadata": {
        "id": "xBsL5i-Lzi0R"
      },
      "outputs": [],
      "source": [
        "dataset.write.parquet(\n",
        "    path='/content/drive/MyDrive/curso-spark/ChallengeAlura/dados/parquet',\n",
        "    mode='overwrite'\n",
        ")"
      ]
    },
    {
      "cell_type": "markdown",
      "metadata": {
        "id": "tHvPRIyG0W7g"
      },
      "source": [
        "### Preparando os dados para os algoritmos do Spark MLib"
      ]
    },
    {
      "cell_type": "code",
      "execution_count": 64,
      "metadata": {
        "id": "wsRfmGeY0JiB"
      },
      "outputs": [],
      "source": [
        "from pyspark.ml.feature import VectorAssembler"
      ]
    },
    {
      "cell_type": "markdown",
      "source": [
        "Renomeando a coluna `valor` que é a variável target que queremos estimar."
      ],
      "metadata": {
        "id": "VHXGpAczNdQn"
      }
    },
    {
      "cell_type": "code",
      "execution_count": 65,
      "metadata": {
        "id": "F_nxXoUj0zwO"
      },
      "outputs": [],
      "source": [
        "dataset = dataset.withColumnRenamed('valor','label')"
      ]
    },
    {
      "cell_type": "markdown",
      "source": [
        "Selecionando as colunas que serão usadas pelo modelo para fazer essas estimativas."
      ],
      "metadata": {
        "id": "uZeMyXtPNpla"
      }
    },
    {
      "cell_type": "code",
      "execution_count": 66,
      "metadata": {
        "colab": {
          "base_uri": "https://localhost:8080/"
        },
        "id": "nuUUyzHZ04Vb",
        "outputId": "ea18e294-dd2b-49b8-a6ec-8ece7184d752"
      },
      "outputs": [
        {
          "output_type": "execute_result",
          "data": {
            "text/plain": [
              "['andar',\n",
              " 'area_util',\n",
              " 'banheiros',\n",
              " 'quartos',\n",
              " 'suites',\n",
              " 'vaga',\n",
              " 'condominio',\n",
              " 'iptu',\n",
              " 'label',\n",
              " 'condominio_fechado',\n",
              " 'playground',\n",
              " 'portao_eletronico',\n",
              " 'piscina',\n",
              " 'animais_permitidos',\n",
              " 'portaria_24h',\n",
              " 'elevador',\n",
              " 'academia',\n",
              " 'salao_festas',\n",
              " 'churrasqueira',\n",
              " 'zona_central',\n",
              " 'zona_norte',\n",
              " 'zona_oeste',\n",
              " 'zona_sul']"
            ]
          },
          "metadata": {},
          "execution_count": 66
        }
      ],
      "source": [
        "dataset.columns"
      ]
    },
    {
      "cell_type": "code",
      "execution_count": 88,
      "metadata": {
        "id": "uXWhrNeJ08kt"
      },
      "outputs": [],
      "source": [
        "X = [\n",
        "    'andar',\n",
        "    'area_util',\n",
        "    'banheiros',\n",
        "    'quartos',\n",
        "    'suites',\n",
        "    'vaga',\n",
        "    'condominio',\n",
        "    'iptu',\n",
        "    'condominio_fechado',\n",
        "    'playground',\n",
        "    'portao_eletronico',\n",
        "    'piscina',\n",
        "    'animais_permitidos',\n",
        "    'portaria_24h',\n",
        "    'elevador',\n",
        "    'academia',\n",
        "    'salao_festas',\n",
        "    'churrasqueira',\n",
        "    'zona_central',\n",
        "    'zona_norte',\n",
        "    'zona_oeste',\n",
        "    'zona_sul'\n",
        "    ]"
      ]
    },
    {
      "cell_type": "markdown",
      "source": [
        "Fazendo a vetorização dos dados"
      ],
      "metadata": {
        "id": "TjhTVRyqSCVk"
      }
    },
    {
      "cell_type": "code",
      "execution_count": 89,
      "metadata": {
        "id": "0rtqoqMH1L3I"
      },
      "outputs": [],
      "source": [
        "assembler = VectorAssembler(inputCols=X, outputCol='features')"
      ]
    },
    {
      "cell_type": "code",
      "execution_count": 90,
      "metadata": {
        "id": "_ZJVJ4C91SSR"
      },
      "outputs": [],
      "source": [
        "dataset_modelo = assembler.transform(dataset).select('features','label')"
      ]
    },
    {
      "cell_type": "markdown",
      "source": [
        "Matriz esparsa"
      ],
      "metadata": {
        "id": "GqR2WnaiN8V1"
      }
    },
    {
      "cell_type": "code",
      "execution_count": 91,
      "metadata": {
        "colab": {
          "base_uri": "https://localhost:8080/"
        },
        "id": "lB8t6x-o1ZWA",
        "outputId": "36e3361b-568e-43f2-e86e-06c843a8f3a0"
      },
      "outputs": [
        {
          "output_type": "stream",
          "name": "stdout",
          "text": [
            "+-----------------------------------------------------------------------------------------------+--------+\n",
            "|features                                                                                       |label   |\n",
            "+-----------------------------------------------------------------------------------------------+--------+\n",
            "|[0.0,43.0,1.0,2.0,0.0,1.0,285.0,0.0,1.0,1.0,1.0,0.0,1.0,1.0,0.0,1.0,1.0,1.0,0.0,0.0,1.0,0.0]   |22999.0 |\n",
            "|(22,[1,2,3,6,19],[44.0,1.0,2.0,170.0,1.0])                                                     |110000.0|\n",
            "|(22,[0,1,2,3,5,20],[4.0,55.0,1.0,2.0,1.0,1.0])                                                 |115000.0|\n",
            "|(22,[0,1,2,3,19],[2.0,55.0,1.0,2.0,1.0])                                                       |115000.0|\n",
            "|(22,[1,2,3,6,7,18],[50.0,1.0,1.0,1300.0,2679.0,1.0])                                           |125000.0|\n",
            "|(22,[0,1,2,3,5,6,8,11,12,13,16,17,20],[2.0,47.0,1.0,2.0,1.0,380.0,1.0,1.0,1.0,1.0,1.0,1.0,1.0])|138000.0|\n",
            "|(22,[1,2,3,5,6,8,11,17,20],[45.0,1.0,2.0,1.0,356.0,1.0,1.0,1.0,1.0])                           |140000.0|\n",
            "|[3.0,48.0,1.0,2.0,0.0,1.0,0.0,0.0,1.0,1.0,1.0,1.0,1.0,1.0,0.0,0.0,1.0,1.0,0.0,0.0,1.0,0.0]     |150000.0|\n",
            "|[9.0,55.0,1.0,2.0,0.0,1.0,780.0,660.0,1.0,0.0,1.0,0.0,1.0,1.0,1.0,0.0,1.0,1.0,0.0,0.0,1.0,0.0] |160000.0|\n",
            "|(22,[1,2,3,5,6,16,20],[70.0,2.0,2.0,1.0,420000.0,1.0,1.0])                                     |159000.0|\n",
            "+-----------------------------------------------------------------------------------------------+--------+\n",
            "only showing top 10 rows\n",
            "\n"
          ]
        }
      ],
      "source": [
        "dataset_modelo.show(10, truncate=False)"
      ]
    },
    {
      "cell_type": "markdown",
      "source": [
        "### Análise das correlações"
      ],
      "metadata": {
        "id": "1VNCXYxCWGYk"
      }
    },
    {
      "cell_type": "code",
      "source": [
        "from pyspark.ml.stat import Correlation\n",
        "import pandas as pd"
      ],
      "metadata": {
        "id": "vbvU6T3TWFS1"
      },
      "execution_count": 92,
      "outputs": []
    },
    {
      "cell_type": "code",
      "source": [
        "corr = Correlation.corr(dataset_modelo,'features').collect()[0][0]"
      ],
      "metadata": {
        "id": "vyjx_yiJWLEA"
      },
      "execution_count": 93,
      "outputs": []
    },
    {
      "cell_type": "code",
      "source": [
        "df_corr = pd.DataFrame(corr.toArray(),columns=X,index=X)"
      ],
      "metadata": {
        "id": "kBN1Oo0iWK2P"
      },
      "execution_count": 94,
      "outputs": []
    },
    {
      "cell_type": "code",
      "source": [
        "import matplotlib.pyplot as plt\n",
        "import seaborn as sns"
      ],
      "metadata": {
        "id": "NkrRT38hWKzU"
      },
      "execution_count": 95,
      "outputs": []
    },
    {
      "cell_type": "code",
      "source": [
        "plt.figure(figsize=(12,10))\n",
        "paleta = sns.color_palette(\"coolwarm\", as_cmap=True)\n",
        "sns.heatmap(df_corr.round(1),annot=True,cmap=paleta,vmin=-1,vmax=1)\n",
        "plt.show()"
      ],
      "metadata": {
        "colab": {
          "base_uri": "https://localhost:8080/",
          "height": 689
        },
        "id": "ewPNXGOyWKp3",
        "outputId": "1b9f95b2-a9e9-4289-cb20-da3e9145700d"
      },
      "execution_count": 96,
      "outputs": [
        {
          "output_type": "display_data",
          "data": {
            "text/plain": [
              "<Figure size 864x720 with 2 Axes>"
            ],
            "image/png": "[encoded data removed]"
          },
          "metadata": {
            "needs_background": "light"
          }
        }
      ]
    },
    {
      "cell_type": "markdown",
      "source": [
        "Maiores correlações positivas (0.8):\n",
        "\n",
        "- `Portão eletrônico` e `Portaria 24h`\n",
        "\n",
        "- `Piscina` e `Churrasqueira`\n",
        "\n",
        "Maior correlação negativas (0.7):\n",
        "\n",
        "- `Zona Oeste` e `Zona Sul`\n",
        "\n",
        "Aparecem mais correlações entre as variáveis das quantidades de cômodos (`banheiros`,`quartos`,`suites`,`vaga`) e `area_util`, e também entre as variáveis que originaram da coluna `caracteristicas`."
      ],
      "metadata": {
        "id": "UWSME2Q7Xsjs"
      }
    },
    {
      "cell_type": "markdown",
      "metadata": {
        "id": "W6vHk4G12XEE"
      },
      "source": [
        "### Separando dataset de treino e de teste"
      ]
    },
    {
      "cell_type": "code",
      "execution_count": 97,
      "metadata": {
        "id": "evtRCbNk2GJp"
      },
      "outputs": [],
      "source": [
        "treino, teste = dataset_modelo.randomSplit([0.7, 0.3], seed=101)"
      ]
    },
    {
      "cell_type": "markdown",
      "metadata": {
        "id": "3Ns4EOLG2Des"
      },
      "source": [
        "### Regressão Linear"
      ]
    },
    {
      "cell_type": "code",
      "execution_count": 98,
      "metadata": {
        "id": "_j2lSMxk1eCw"
      },
      "outputs": [],
      "source": [
        "from pyspark.ml.regression import LinearRegression"
      ]
    },
    {
      "cell_type": "code",
      "execution_count": 99,
      "metadata": {
        "id": "JTJj-78n2OFQ"
      },
      "outputs": [],
      "source": [
        "lr = LinearRegression()"
      ]
    },
    {
      "cell_type": "code",
      "execution_count": 100,
      "metadata": {
        "id": "6q2U_ALI2bLY"
      },
      "outputs": [],
      "source": [
        "modelo_lr = lr.fit(treino)"
      ]
    },
    {
      "cell_type": "code",
      "execution_count": 101,
      "metadata": {
        "id": "IB0frdLL2fNw"
      },
      "outputs": [],
      "source": [
        "previsoes_lr_treino = modelo_lr.transform(treino)"
      ]
    },
    {
      "cell_type": "code",
      "execution_count": 102,
      "metadata": {
        "id": "OgBcZ-Hb27rp"
      },
      "outputs": [],
      "source": [
        "previsoes_lr_teste = modelo_lr.transform(teste)"
      ]
    },
    {
      "cell_type": "code",
      "execution_count": 103,
      "metadata": {
        "id": "RfqCQR052jO4"
      },
      "outputs": [],
      "source": [
        "from pyspark.ml.evaluation import RegressionEvaluator"
      ]
    },
    {
      "cell_type": "code",
      "execution_count": 104,
      "metadata": {
        "id": "KOey6naD2q24"
      },
      "outputs": [],
      "source": [
        "evaluator = RegressionEvaluator()"
      ]
    },
    {
      "cell_type": "code",
      "execution_count": 105,
      "metadata": {
        "colab": {
          "base_uri": "https://localhost:8080/"
        },
        "id": "SVRp9asx2uKA",
        "outputId": "7e8cbea3-d332-42cd-a22b-ce8be2c56a01"
      },
      "outputs": [
        {
          "output_type": "stream",
          "name": "stdout",
          "text": [
            "Linear Regression\n",
            "==============================\n",
            "Dados de Treino\n",
            "==============================\n",
            "R²: 0.666697\n",
            "RMSE: 853352.183180\n",
            "\n",
            "==============================\n",
            "Dados de Teste\n",
            "==============================\n",
            "R²: 0.662490\n",
            "RMSE: 846439.252798\n"
          ]
        }
      ],
      "source": [
        "print('Linear Regression')\n",
        "print(\"=\"*30)\n",
        "print(\"Dados de Treino\")\n",
        "print(\"=\"*30)\n",
        "print(\"R²: %f\" % evaluator.evaluate(previsoes_lr_treino, {evaluator.metricName: \"r2\"}))\n",
        "print(\"RMSE: %f\" % evaluator.evaluate(previsoes_lr_treino, {evaluator.metricName: \"rmse\"}))\n",
        "print(\"\")\n",
        "print(\"=\"*30)\n",
        "print(\"Dados de Teste\")\n",
        "print(\"=\"*30)\n",
        "print(\"R²: %f\" % evaluator.evaluate(previsoes_lr_teste, {evaluator.metricName: \"r2\"}))\n",
        "print(\"RMSE: %f\" % evaluator.evaluate(previsoes_lr_teste, {evaluator.metricName: \"rmse\"}))"
      ]
    },
    {
      "cell_type": "markdown",
      "metadata": {
        "id": "jkeyq6vC3VFd"
      },
      "source": [
        "### Decision Tree Regressor"
      ]
    },
    {
      "cell_type": "code",
      "execution_count": 106,
      "metadata": {
        "id": "IkXXk0vz3GTJ"
      },
      "outputs": [],
      "source": [
        "from pyspark.ml.regression import DecisionTreeRegressor"
      ]
    },
    {
      "cell_type": "code",
      "execution_count": 107,
      "metadata": {
        "id": "LVsKyQ5P3R5k"
      },
      "outputs": [],
      "source": [
        "dtr = DecisionTreeRegressor(seed=101)"
      ]
    },
    {
      "cell_type": "code",
      "execution_count": 108,
      "metadata": {
        "id": "9QXvetYh8zko"
      },
      "outputs": [],
      "source": [
        "modelo_dtr = dtr.fit(treino)"
      ]
    },
    {
      "cell_type": "code",
      "execution_count": 109,
      "metadata": {
        "id": "4a_pLOIF84f1"
      },
      "outputs": [],
      "source": [
        "previsoes_dtr_treino = modelo_dtr.transform(treino)"
      ]
    },
    {
      "cell_type": "code",
      "execution_count": 110,
      "metadata": {
        "id": "b95uvN9c88ON"
      },
      "outputs": [],
      "source": [
        "previsoes_dtr_teste = modelo_dtr.transform(teste)"
      ]
    },
    {
      "cell_type": "code",
      "execution_count": 111,
      "metadata": {
        "colab": {
          "base_uri": "https://localhost:8080/"
        },
        "id": "Rxe5C_2w9Aw2",
        "outputId": "74caa2aa-804e-468d-dec5-e89c7f90ed4d"
      },
      "outputs": [
        {
          "output_type": "stream",
          "name": "stdout",
          "text": [
            "Decision Tree Regression\n",
            "==============================\n",
            "Dados de Treino\n",
            "==============================\n",
            "R²: 0.750262\n",
            "RMSE: 738670.776807\n",
            "\n",
            "==============================\n",
            "Dados de Teste\n",
            "==============================\n",
            "R²: 0.722551\n",
            "RMSE: 767438.558336\n"
          ]
        }
      ],
      "source": [
        "print('Decision Tree Regression')\n",
        "print(\"=\"*30)\n",
        "print(\"Dados de Treino\")\n",
        "print(\"=\"*30)\n",
        "print(\"R²: %f\" % evaluator.evaluate(previsoes_dtr_treino, {evaluator.metricName: \"r2\"}))\n",
        "print(\"RMSE: %f\" % evaluator.evaluate(previsoes_dtr_treino, {evaluator.metricName: \"rmse\"}))\n",
        "print(\"\")\n",
        "print(\"=\"*30)\n",
        "print(\"Dados de Teste\")\n",
        "print(\"=\"*30)\n",
        "print(\"R²: %f\" % evaluator.evaluate(previsoes_dtr_teste, {evaluator.metricName: \"r2\"}))\n",
        "print(\"RMSE: %f\" % evaluator.evaluate(previsoes_dtr_teste, {evaluator.metricName: \"rmse\"}))"
      ]
    },
    {
      "cell_type": "markdown",
      "metadata": {
        "id": "DFSv-arJ9K-Z"
      },
      "source": [
        "### Random Forest Regressor"
      ]
    },
    {
      "cell_type": "code",
      "execution_count": 112,
      "metadata": {
        "id": "LE9hDYl-9GHe"
      },
      "outputs": [],
      "source": [
        "from pyspark.ml.regression import RandomForestRegressor"
      ]
    },
    {
      "cell_type": "code",
      "execution_count": 113,
      "metadata": {
        "id": "cKzKOZ8s9Seu"
      },
      "outputs": [],
      "source": [
        "rfr = RandomForestRegressor(seed=101)"
      ]
    },
    {
      "cell_type": "code",
      "execution_count": 114,
      "metadata": {
        "id": "X3NVSeXg9ZFv"
      },
      "outputs": [],
      "source": [
        "modelo_rfr = rfr.fit(treino)"
      ]
    },
    {
      "cell_type": "code",
      "execution_count": 115,
      "metadata": {
        "id": "XO9emqSM9b7m"
      },
      "outputs": [],
      "source": [
        "previsoes_rfr_treino = modelo_rfr.transform(treino)"
      ]
    },
    {
      "cell_type": "code",
      "execution_count": 116,
      "metadata": {
        "id": "xZIphgn69eiu"
      },
      "outputs": [],
      "source": [
        "previsoes_rfr_teste = modelo_rfr.transform(teste)"
      ]
    },
    {
      "cell_type": "code",
      "execution_count": 117,
      "metadata": {
        "colab": {
          "base_uri": "https://localhost:8080/"
        },
        "id": "ArteTOLm9g_-",
        "outputId": "bc15e16e-61cb-4dcf-f0df-07dbd3fd6fb3"
      },
      "outputs": [
        {
          "output_type": "stream",
          "name": "stdout",
          "text": [
            "Random Forest Regression\n",
            "==============================\n",
            "Dados de Treino\n",
            "==============================\n",
            "R²: 0.771887\n",
            "RMSE: 705965.055447\n",
            "\n",
            "==============================\n",
            "Dados de Teste\n",
            "==============================\n",
            "R²: 0.746801\n",
            "RMSE: 733133.934211\n"
          ]
        }
      ],
      "source": [
        "print('Random Forest Regression')\n",
        "print(\"=\"*30)\n",
        "print(\"Dados de Treino\")\n",
        "print(\"=\"*30)\n",
        "print(\"R²: %f\" % evaluator.evaluate(previsoes_rfr_treino, {evaluator.metricName: \"r2\"}))\n",
        "print(\"RMSE: %f\" % evaluator.evaluate(previsoes_rfr_treino, {evaluator.metricName: \"rmse\"}))\n",
        "print(\"\")\n",
        "print(\"=\"*30)\n",
        "print(\"Dados de Teste\")\n",
        "print(\"=\"*30)\n",
        "print(\"R²: %f\" % evaluator.evaluate(previsoes_rfr_teste, {evaluator.metricName: \"r2\"}))\n",
        "print(\"RMSE: %f\" % evaluator.evaluate(previsoes_rfr_teste, {evaluator.metricName: \"rmse\"}))"
      ]
    },
    {
      "cell_type": "markdown",
      "source": [
        "### Gradient Boost Trees Regressor"
      ],
      "metadata": {
        "id": "G2H08nInb8A3"
      }
    },
    {
      "cell_type": "code",
      "source": [
        "from pyspark.ml.regression import GBTRegressor"
      ],
      "metadata": {
        "id": "LHVGP3oBb7us"
      },
      "execution_count": 118,
      "outputs": []
    },
    {
      "cell_type": "code",
      "source": [
        "gbt = GBTRegressor(seed=101)"
      ],
      "metadata": {
        "id": "lFTX5sPocJKD"
      },
      "execution_count": 119,
      "outputs": []
    },
    {
      "cell_type": "code",
      "source": [
        "modelo_gbt = gbt.fit(treino)"
      ],
      "metadata": {
        "id": "PohxDSK8cI5K"
      },
      "execution_count": 120,
      "outputs": []
    },
    {
      "cell_type": "code",
      "source": [
        "previsoes_gbt_treino = modelo_gbt.transform(treino)"
      ],
      "metadata": {
        "id": "pULTWX6pcI0S"
      },
      "execution_count": 121,
      "outputs": []
    },
    {
      "cell_type": "code",
      "source": [
        "previsoes_gbt_teste = modelo_gbt.transform(teste)"
      ],
      "metadata": {
        "id": "q-4enyNDcIwc"
      },
      "execution_count": 122,
      "outputs": []
    },
    {
      "cell_type": "code",
      "source": [
        "print('Gradient Boost Trees Regression')\n",
        "print(\"=\"*30)\n",
        "print(\"Dados de Treino\")\n",
        "print(\"=\"*30)\n",
        "print(\"R²: %f\" % evaluator.evaluate(previsoes_gbt_treino, {evaluator.metricName: \"r2\"}))\n",
        "print(\"RMSE: %f\" % evaluator.evaluate(previsoes_gbt_treino, {evaluator.metricName: \"rmse\"}))\n",
        "print(\"\")\n",
        "print(\"=\"*30)\n",
        "print(\"Dados de Teste\")\n",
        "print(\"=\"*30)\n",
        "print(\"R²: %f\" % evaluator.evaluate(previsoes_gbt_teste, {evaluator.metricName: \"r2\"}))\n",
        "print(\"RMSE: %f\" % evaluator.evaluate(previsoes_gbt_teste, {evaluator.metricName: \"rmse\"}))"
      ],
      "metadata": {
        "colab": {
          "base_uri": "https://localhost:8080/"
        },
        "id": "qD4oKAVxcIrc",
        "outputId": "c6767642-5c29-494b-f148-41d3ecf2d15c"
      },
      "execution_count": 123,
      "outputs": [
        {
          "output_type": "stream",
          "name": "stdout",
          "text": [
            "Gradient Boost Trees Regression\n",
            "==============================\n",
            "Dados de Treino\n",
            "==============================\n",
            "R²: 0.828110\n",
            "RMSE: 612820.658506\n",
            "\n",
            "==============================\n",
            "Dados de Teste\n",
            "==============================\n",
            "R²: 0.785253\n",
            "RMSE: 675174.279123\n"
          ]
        }
      ]
    },
    {
      "cell_type": "markdown",
      "metadata": {
        "id": "TVFNiTiMDXkY"
      },
      "source": [
        "### Otimizando os hiperparâmetros"
      ]
    },
    {
      "cell_type": "markdown",
      "source": [
        "Avaliando diferentes valores para alguns hiperparâmetros do modelo Random Forest"
      ],
      "metadata": {
        "id": "5PHKiycWVGhG"
      }
    },
    {
      "cell_type": "code",
      "execution_count": 128,
      "metadata": {
        "id": "2wOqSdE29sE1"
      },
      "outputs": [],
      "source": [
        "from pyspark.ml.tuning import CrossValidator, ParamGridBuilder"
      ]
    },
    {
      "cell_type": "markdown",
      "metadata": {
        "id": "45qfVOqdEIm5"
      },
      "source": [
        "`numTrees` -> número de árvores (default = 20)\n",
        "\n",
        "`masDepth` -> profundidade da árvore. Quantas divisões serão feitas antes de chegar em uma folha (default = 5). \n",
        "\n",
        "`maxBins` -> número máximo de divisões (bins) para a discretização de uma variável continua (default = 32)"
      ]
    },
    {
      "cell_type": "code",
      "execution_count": 129,
      "metadata": {
        "id": "WCdsev8HDl5n"
      },
      "outputs": [],
      "source": [
        "grid = ParamGridBuilder() \\\n",
        "              .addGrid(rfr.numTrees, [10, 20, 30]) \\\n",
        "              .addGrid(rfr.maxDepth, [5, 10]) \\\n",
        "              .addGrid(rfr.maxBins, [10, 32, 45]) \\\n",
        "              .build()"
      ]
    },
    {
      "cell_type": "code",
      "execution_count": 130,
      "metadata": {
        "id": "oyTUiwNhHH_7"
      },
      "outputs": [],
      "source": [
        "rfr_cv = CrossValidator(\n",
        "    estimator=rfr,\n",
        "    estimatorParamMaps=grid,\n",
        "    evaluator=evaluator,\n",
        "    numFolds=3\n",
        ")"
      ]
    },
    {
      "cell_type": "code",
      "execution_count": 131,
      "metadata": {
        "id": "WEyDXLgxHdIj"
      },
      "outputs": [],
      "source": [
        "modelo_rfr_cv = rfr_cv.fit(treino)"
      ]
    },
    {
      "cell_type": "code",
      "source": [
        "best_model = modelo_rfr_cv.bestModel"
      ],
      "metadata": {
        "id": "O0f6OujPoMMR"
      },
      "execution_count": 132,
      "outputs": []
    },
    {
      "cell_type": "code",
      "source": [
        "print('O melhor resultado foi obtido com:\\nnumTrees = ', best_model.getNumTrees, '\\nmaxDepth = ', best_model.getMaxDepth(),'\\nmaxBins = ', best_model.getMaxBins())"
      ],
      "metadata": {
        "id": "cBHMTUcXoQPT",
        "colab": {
          "base_uri": "https://localhost:8080/"
        },
        "outputId": "09e59465-ece5-402a-bb1a-8f98df7add9b"
      },
      "execution_count": 134,
      "outputs": [
        {
          "output_type": "stream",
          "name": "stdout",
          "text": [
            "O melhor resultado foi obtido com:\n",
            "numTrees =  30 \n",
            "maxDepth =  10 \n",
            "maxBins =  45\n"
          ]
        }
      ]
    },
    {
      "cell_type": "code",
      "execution_count": 135,
      "metadata": {
        "id": "-Ji_HzG9JsS-"
      },
      "outputs": [],
      "source": [
        "previsoes_rfr_cv_teste = modelo_rfr_cv.transform(teste)"
      ]
    },
    {
      "cell_type": "code",
      "execution_count": 136,
      "metadata": {
        "id": "-6WQHVsaNJZX",
        "colab": {
          "base_uri": "https://localhost:8080/"
        },
        "outputId": "91d938f1-c0eb-4ba3-d285-fdbfac0075ef"
      },
      "outputs": [
        {
          "output_type": "stream",
          "name": "stdout",
          "text": [
            "Random Forest Regression\n",
            "==============================\n",
            "Sem Cross Validation\n",
            "==============================\n",
            "R²: 0.746801\n",
            "RMSE: 733133.934211\n",
            "\n",
            "==============================\n",
            "Com Cross Validation\n",
            "==============================\n",
            "R²: 0.814759\n",
            "RMSE: 627077.260228\n"
          ]
        }
      ],
      "source": [
        "print('Random Forest Regression')\n",
        "print(\"=\"*30)\n",
        "print(\"Sem Cross Validation\")\n",
        "print(\"=\"*30)\n",
        "print(\"R²: %f\" % evaluator.evaluate(previsoes_rfr_teste, {evaluator.metricName: \"r2\"}))\n",
        "print(\"RMSE: %f\" % evaluator.evaluate(previsoes_rfr_teste, {evaluator.metricName: \"rmse\"}))\n",
        "print(\"\")\n",
        "print(\"=\"*30)\n",
        "print(\"Com Cross Validation\")\n",
        "print(\"=\"*30)\n",
        "print(\"R²: %f\" % evaluator.evaluate(previsoes_rfr_cv_teste, {evaluator.metricName: \"r2\"}))\n",
        "print(\"RMSE: %f\" % evaluator.evaluate(previsoes_rfr_cv_teste, {evaluator.metricName: \"rmse\"}))"
      ]
    },
    {
      "cell_type": "code",
      "source": [],
      "metadata": {
        "id": "auDt8DfGe6bq"
      },
      "execution_count": null,
      "outputs": []
    }
  ],
  "metadata": {
    "colab": {
      "provenance": [],
      "mount_file_id": "15Foar-lJmIw1grSKTWxTUtCUX6h0Gr70",
      "authorship_tag": "ABX9TyOenuEwblCOMze5DAjAeASZ",
      "include_colab_link": true
    },
    "kernelspec": {
      "display_name": "Python 3",
      "name": "python3"
    },
    "language_info": {
      "name": "python"
    }
  },
  "nbformat": 4,
  "nbformat_minor": 0
}
