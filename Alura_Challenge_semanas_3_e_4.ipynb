{
  "nbformat": 4,
  "nbformat_minor": 0,
  "metadata": {
    "colab": {
      "provenance": [],
      "mount_file_id": "16yHGxv7X7o_VsOkhBd4XbyOUJjcd28l8",
      "authorship_tag": "ABX9TyPZd5YcvIfnEO8VyqH5qzFL",
      "include_colab_link": true
    },
    "kernelspec": {
      "name": "python3",
      "display_name": "Python 3"
    },
    "language_info": {
      "name": "python"
    }
  },
  "cells": [
    {
      "cell_type": "markdown",
      "metadata": {
        "id": "view-in-github",
        "colab_type": "text"
      },
      "source": [
        "<a href=\"https://colab.research.google.com/github/sarahgruetz/AluraChallenge_DS_2/blob/main/Alura_Challenge_semanas_3_e_4.ipynb\" target=\"_parent\"><img src=\"https://colab.research.google.com/assets/colab-badge.svg\" alt=\"Open In Colab\"/></a>"
      ]
    },
    {
      "cell_type": "code",
      "execution_count": 1,
      "metadata": {
        "colab": {
          "base_uri": "https://localhost:8080/"
        },
        "id": "DoZBXSmVSO2P",
        "outputId": "c6b0e441-1e23-4f84-c8a7-453122a43f52"
      },
      "outputs": [
        {
          "output_type": "stream",
          "name": "stdout",
          "text": [
            "Looking in indexes: https://pypi.org/simple, https://us-python.pkg.dev/colab-wheels/public/simple/\n",
            "Collecting pyspark\n",
            "  Downloading pyspark-3.3.1.tar.gz (281.4 MB)\n",
            "\u001b[K     |████████████████████████████████| 281.4 MB 41 kB/s \n",
            "\u001b[?25hCollecting py4j==0.10.9.5\n",
            "  Downloading py4j-0.10.9.5-py2.py3-none-any.whl (199 kB)\n",
            "\u001b[K     |████████████████████████████████| 199 kB 38.3 MB/s \n",
            "\u001b[?25hBuilding wheels for collected packages: pyspark\n",
            "  Building wheel for pyspark (setup.py) ... \u001b[?25l\u001b[?25hdone\n",
            "  Created wheel for pyspark: filename=pyspark-3.3.1-py2.py3-none-any.whl size=281845512 sha256=3d5d947076dce73f0ddbef2757c3ebd967b7253b7c280f7ab323b100ac664b3b\n",
            "  Stored in directory: /root/.cache/pip/wheels/43/dc/11/ec201cd671da62fa9c5cc77078235e40722170ceba231d7598\n",
            "Successfully built pyspark\n",
            "Installing collected packages: py4j, pyspark\n",
            "Successfully installed py4j-0.10.9.5 pyspark-3.3.1\n"
          ]
        }
      ],
      "source": [
        "!pip install pyspark"
      ]
    },
    {
      "cell_type": "markdown",
      "source": [
        "### Iniciando a SparkSession"
      ],
      "metadata": {
        "id": "NDiMTWR7Syom"
      }
    },
    {
      "cell_type": "code",
      "source": [
        "from pyspark.sql import SparkSession\n",
        "\n",
        "spark = SparkSession.builder \\\n",
        "    .master('local[*]') \\\n",
        "    .appName(\"Alura Challenge\") \\\n",
        "    .getOrCreate()"
      ],
      "metadata": {
        "id": "BjzFuE5pSunn"
      },
      "execution_count": 2,
      "outputs": []
    },
    {
      "cell_type": "code",
      "source": [
        "import zipfile\n",
        "\n",
        "zipfile.ZipFile('/content/drive/MyDrive/curso-spark/ChallengeAlura/semanas-3-e-4.zip','r')\\\n",
        "        .extractall('/content/drive/MyDrive/curso-spark/ChallengeAlura/dados')"
      ],
      "metadata": {
        "id": "XkgaKJPtS5cC"
      },
      "execution_count": 3,
      "outputs": []
    },
    {
      "cell_type": "code",
      "source": [
        "dataset = spark.read.parquet('/content/drive/MyDrive/curso-spark/ChallengeAlura/dados/dataset_ml_parquet')"
      ],
      "metadata": {
        "id": "JSGZyDEuTQC2"
      },
      "execution_count": 4,
      "outputs": []
    },
    {
      "cell_type": "code",
      "source": [
        "print(f'O dataset possui {dataset.count()} registros e {len(dataset.columns)} colunas.')"
      ],
      "metadata": {
        "colab": {
          "base_uri": "https://localhost:8080/"
        },
        "id": "0ooFRthmUaau",
        "outputId": "e981e7ea-dbf8-453c-9a60-698f12456ad8"
      },
      "execution_count": 10,
      "outputs": [
        {
          "output_type": "stream",
          "name": "stdout",
          "text": [
            "O dataset possui 66551 registros e 25 colunas.\n"
          ]
        }
      ]
    },
    {
      "cell_type": "code",
      "source": [
        "dataset.show(5)"
      ],
      "metadata": {
        "colab": {
          "base_uri": "https://localhost:8080/"
        },
        "id": "gCG6VlEOTkM8",
        "outputId": "957d5bfe-9b25-498b-ecd4-0468f269767e"
      },
      "execution_count": 5,
      "outputs": [
        {
          "output_type": "stream",
          "name": "stdout",
          "text": [
            "+--------------------+-----+---------+---------+-------+------+----+------------+----------+-----+--------+------------+----------+----------+--------+--------+------------------+-------------+------------------+--------+-------+----------+------------+-----------------+---------------+\n",
            "|                  id|andar|area_util|banheiros|quartos|suites|vaga|      bairro|condominio| iptu|   valor|Zona Central|Zona Norte|Zona Oeste|Zona Sul|Academia|Animais permitidos|Churrasqueira|Condomínio fechado|Elevador|Piscina|Playground|Portaria 24h|Portão eletrônico|Salão de festas|\n",
            "+--------------------+-----+---------+---------+-------+------+----+------------+----------+-----+--------+------------+----------+----------+--------+--------+------------------+-------------+------------------+--------+-------+----------+------------+-----------------+---------------+\n",
            "|00002dd9-cc74-480...|    2|       35|        1|      1|   0.0| 0.0|Santo Cristo|     100.0|100.0|245000.0|           1|         0|         0|       0|       1|                 1|            1|                 1|       1|      1|         1|           1|                1|              1|\n",
            "|0009ca94-2b37-438...|    1|       84|        2|      2|   0.0| 1.0|      Tijuca|     770.0|105.0|474980.0|           0|         1|         0|       0|       0|                 0|            1|                 0|       1|      0|         1|           1|                0|              1|\n",
            "|000e3d28-e3e5-411...|    0|       85|        2|      2|   0.0| 0.0|Santa Teresa|     460.0|661.0|290000.0|           0|         0|         0|       1|       0|                 1|            0|                 0|       1|      0|         0|           0|                0|              0|\n",
            "|000fb707-6cad-496...|    0|       58|        1|      2|   0.0| 1.0|   Pechincha|     550.0|550.0|249000.0|           0|         0|         1|       0|       0|                 0|            0|                 0|       0|      1|         1|           0|                0|              0|\n",
            "|001b6db0-e88d-4eb...|    0|       64|        2|      2|   1.0| 1.0|      Tijuca|     850.0|  0.0|530000.0|           0|         1|         0|       0|       0|                 0|            0|                 0|       0|      0|         0|           0|                0|              0|\n",
            "+--------------------+-----+---------+---------+-------+------+----+------------+----------+-----+--------+------------+----------+----------+--------+--------+------------------+-------------+------------------+--------+-------+----------+------------+-----------------+---------------+\n",
            "only showing top 5 rows\n",
            "\n"
          ]
        }
      ]
    },
    {
      "cell_type": "code",
      "source": [
        "dataset.printSchema()"
      ],
      "metadata": {
        "colab": {
          "base_uri": "https://localhost:8080/"
        },
        "id": "KzlHFUHrTr0c",
        "outputId": "20123994-7ecb-4c4b-9330-c7dacde61018"
      },
      "execution_count": 6,
      "outputs": [
        {
          "output_type": "stream",
          "name": "stdout",
          "text": [
            "root\n",
            " |-- id: string (nullable = true)\n",
            " |-- andar: integer (nullable = true)\n",
            " |-- area_util: integer (nullable = true)\n",
            " |-- banheiros: integer (nullable = true)\n",
            " |-- quartos: integer (nullable = true)\n",
            " |-- suites: double (nullable = true)\n",
            " |-- vaga: double (nullable = true)\n",
            " |-- bairro: string (nullable = true)\n",
            " |-- condominio: double (nullable = true)\n",
            " |-- iptu: double (nullable = true)\n",
            " |-- valor: double (nullable = true)\n",
            " |-- Zona Central: integer (nullable = true)\n",
            " |-- Zona Norte: integer (nullable = true)\n",
            " |-- Zona Oeste: integer (nullable = true)\n",
            " |-- Zona Sul: integer (nullable = true)\n",
            " |-- Academia: integer (nullable = true)\n",
            " |-- Animais permitidos: integer (nullable = true)\n",
            " |-- Churrasqueira: integer (nullable = true)\n",
            " |-- Condomínio fechado: integer (nullable = true)\n",
            " |-- Elevador: integer (nullable = true)\n",
            " |-- Piscina: integer (nullable = true)\n",
            " |-- Playground: integer (nullable = true)\n",
            " |-- Portaria 24h: integer (nullable = true)\n",
            " |-- Portão eletrônico: integer (nullable = true)\n",
            " |-- Salão de festas: integer (nullable = true)\n",
            "\n"
          ]
        }
      ]
    },
    {
      "cell_type": "code",
      "source": [
        "from pyspark.sql import functions as f"
      ],
      "metadata": {
        "id": "q8At4WVzU16A"
      },
      "execution_count": 12,
      "outputs": []
    },
    {
      "cell_type": "code",
      "source": [
        "dataset\\\n",
        "  .select([f.count(f.when(f.isnan(c) | f.isnull(c), True)).alias(c) for c in dataset.columns])\\\n",
        "  .show(vertical=True)"
      ],
      "metadata": {
        "colab": {
          "base_uri": "https://localhost:8080/"
        },
        "id": "UmBv_6KvUz4N",
        "outputId": "48208c61-1c43-4960-87f9-f2bf0aab7bd2"
      },
      "execution_count": 13,
      "outputs": [
        {
          "output_type": "stream",
          "name": "stdout",
          "text": [
            "-RECORD 0-----------------\n",
            " id                 | 0   \n",
            " andar              | 0   \n",
            " area_util          | 0   \n",
            " banheiros          | 0   \n",
            " quartos            | 0   \n",
            " suites             | 0   \n",
            " vaga               | 0   \n",
            " bairro             | 0   \n",
            " condominio         | 0   \n",
            " iptu               | 0   \n",
            " valor              | 0   \n",
            " Zona Central       | 0   \n",
            " Zona Norte         | 0   \n",
            " Zona Oeste         | 0   \n",
            " Zona Sul           | 0   \n",
            " Academia           | 0   \n",
            " Animais permitidos | 0   \n",
            " Churrasqueira      | 0   \n",
            " Condomínio fechado | 0   \n",
            " Elevador           | 0   \n",
            " Piscina            | 0   \n",
            " Playground         | 0   \n",
            " Portaria 24h       | 0   \n",
            " Portão eletrônico  | 0   \n",
            " Salão de festas    | 0   \n",
            "\n"
          ]
        }
      ]
    },
    {
      "cell_type": "markdown",
      "source": [
        "### Preparando os dados"
      ],
      "metadata": {
        "id": "hsqk0R7uUS6Z"
      }
    },
    {
      "cell_type": "code",
      "source": [
        "from pyspark.ml.feature import VectorAssembler"
      ],
      "metadata": {
        "id": "6MkXI4vZUHj-"
      },
      "execution_count": 7,
      "outputs": []
    },
    {
      "cell_type": "code",
      "source": [
        "dataset = dataset.withColumnRenamed('valor','label')"
      ],
      "metadata": {
        "id": "rmtEHja4UWK0"
      },
      "execution_count": 14,
      "outputs": []
    },
    {
      "cell_type": "code",
      "source": [
        "dataset.columns"
      ],
      "metadata": {
        "colab": {
          "base_uri": "https://localhost:8080/"
        },
        "id": "DxjAfUbgVCrt",
        "outputId": "b39723b0-ed00-41d9-bc86-5980af7a268e"
      },
      "execution_count": 15,
      "outputs": [
        {
          "output_type": "execute_result",
          "data": {
            "text/plain": [
              "['id',\n",
              " 'andar',\n",
              " 'area_util',\n",
              " 'banheiros',\n",
              " 'quartos',\n",
              " 'suites',\n",
              " 'vaga',\n",
              " 'bairro',\n",
              " 'condominio',\n",
              " 'iptu',\n",
              " 'label',\n",
              " 'Zona Central',\n",
              " 'Zona Norte',\n",
              " 'Zona Oeste',\n",
              " 'Zona Sul',\n",
              " 'Academia',\n",
              " 'Animais permitidos',\n",
              " 'Churrasqueira',\n",
              " 'Condomínio fechado',\n",
              " 'Elevador',\n",
              " 'Piscina',\n",
              " 'Playground',\n",
              " 'Portaria 24h',\n",
              " 'Portão eletrônico',\n",
              " 'Salão de festas']"
            ]
          },
          "metadata": {},
          "execution_count": 15
        }
      ]
    },
    {
      "cell_type": "code",
      "source": [
        "X = [\n",
        "    'andar',\n",
        "    'area_util',\n",
        "    'banheiros',\n",
        "    'quartos',\n",
        "    'suites',\n",
        "    'vaga',\n",
        "    'condominio',\n",
        "    'iptu',\n",
        "    'Zona Central',\n",
        "    'Zona Norte',\n",
        "    'Zona Oeste',\n",
        "    'Zona Sul',\n",
        "    'Academia',\n",
        "    'Animais permitidos',\n",
        "    'Churrasqueira',\n",
        "    'Condomínio fechado',\n",
        "    'Elevador',\n",
        "    'Piscina',\n",
        "    'Playground',\n",
        "    'Portaria 24h',\n",
        "    'Portão eletrônico',\n",
        "    'Salão de festas'\n",
        "]"
      ],
      "metadata": {
        "id": "hZRzu81fVD29"
      },
      "execution_count": 16,
      "outputs": []
    },
    {
      "cell_type": "code",
      "source": [
        "assembler = VectorAssembler(inputCols=X, outputCol='features')"
      ],
      "metadata": {
        "id": "M5NYggw2VLqU"
      },
      "execution_count": 17,
      "outputs": []
    },
    {
      "cell_type": "code",
      "source": [
        "dataset_modelo = assembler.transform(dataset).select('features','label')"
      ],
      "metadata": {
        "id": "OqbhsyxxVS8E"
      },
      "execution_count": 18,
      "outputs": []
    },
    {
      "cell_type": "code",
      "source": [
        "dataset_modelo.show(5, truncate=False)"
      ],
      "metadata": {
        "colab": {
          "base_uri": "https://localhost:8080/"
        },
        "id": "1nU0dY-SVTj0",
        "outputId": "b97b6f2f-7422-47b6-e644-e60e645e456e"
      },
      "execution_count": 20,
      "outputs": [
        {
          "output_type": "stream",
          "name": "stdout",
          "text": [
            "+------------------------------------------------------------------------------------------------+--------+\n",
            "|features                                                                                        |label   |\n",
            "+------------------------------------------------------------------------------------------------+--------+\n",
            "|[2.0,35.0,1.0,1.0,0.0,0.0,100.0,100.0,1.0,0.0,0.0,0.0,1.0,1.0,1.0,1.0,1.0,1.0,1.0,1.0,1.0,1.0]  |245000.0|\n",
            "|(22,[0,1,2,3,5,6,7,9,14,16,18,19,21],[1.0,84.0,2.0,2.0,1.0,770.0,105.0,1.0,1.0,1.0,1.0,1.0,1.0])|474980.0|\n",
            "|(22,[1,2,3,6,7,11,13,16],[85.0,2.0,2.0,460.0,661.0,1.0,1.0,1.0])                                |290000.0|\n",
            "|(22,[1,2,3,5,6,7,10,17,18],[58.0,1.0,2.0,1.0,550.0,550.0,1.0,1.0,1.0])                          |249000.0|\n",
            "|(22,[1,2,3,4,5,6,9],[64.0,2.0,2.0,1.0,1.0,850.0,1.0])                                           |530000.0|\n",
            "+------------------------------------------------------------------------------------------------+--------+\n",
            "only showing top 5 rows\n",
            "\n"
          ]
        }
      ]
    },
    {
      "cell_type": "code",
      "source": [],
      "metadata": {
        "id": "2sdvQnLhVWws"
      },
      "execution_count": null,
      "outputs": []
    }
  ]
}